{
  "nbformat": 4,
  "nbformat_minor": 0,
  "metadata": {
    "colab": {
      "name": "Numpy Bakery",
      "provenance": [],
      "collapsed_sections": [
        "uIUAfF9c2jJ1"
      ],
      "include_colab_link": true
    },
    "kernelspec": {
      "name": "python3",
      "display_name": "Python 3"
    },
    "language_info": {
      "name": "python"
    }
  },
  "cells": [
    {
      "cell_type": "markdown",
      "metadata": {
        "id": "view-in-github",
        "colab_type": "text"
      },
      "source": [
        "<a href=\"https://colab.research.google.com/github/aliceechen1206/sales-predictions/blob/main/Numpy_Bakery.ipynb\" target=\"_parent\"><img src=\"https://colab.research.google.com/assets/colab-badge.svg\" alt=\"Open In Colab\"/></a>"
      ]
    },
    {
      "cell_type": "code",
      "metadata": {
        "colab": {
          "base_uri": "https://localhost:8080/"
        },
        "id": "ev4sAErNUgAi",
        "outputId": "92971cd2-8c96-44e6-f972-5e352c4652d1"
      },
      "source": [
        "price = [2, 1, 10]\n",
        "type(price)"
      ],
      "execution_count": 58,
      "outputs": [
        {
          "output_type": "execute_result",
          "data": {
            "text/plain": [
              "list"
            ]
          },
          "metadata": {},
          "execution_count": 58
        }
      ]
    },
    {
      "cell_type": "code",
      "metadata": {
        "colab": {
          "base_uri": "https://localhost:8080/"
        },
        "id": "TkA8x3t5UzQX",
        "outputId": "5a007bfa-25b0-4714-e468-b6dbba9c9a54"
      },
      "source": [
        "quantity = [17, 40, 1]\n",
        "type(quantity)"
      ],
      "execution_count": 59,
      "outputs": [
        {
          "output_type": "execute_result",
          "data": {
            "text/plain": [
              "list"
            ]
          },
          "metadata": {},
          "execution_count": 59
        }
      ]
    },
    {
      "cell_type": "code",
      "metadata": {
        "id": "tGWEfasRU4J4"
      },
      "source": [
        "# price * quantity"
      ],
      "execution_count": 60,
      "outputs": []
    },
    {
      "cell_type": "code",
      "metadata": {
        "id": "7Pdo44osU7Qr"
      },
      "source": [
        "import numpy as np"
      ],
      "execution_count": 61,
      "outputs": []
    },
    {
      "cell_type": "code",
      "metadata": {
        "colab": {
          "base_uri": "https://localhost:8080/"
        },
        "id": "Y_FoXPDuU9X7",
        "outputId": "7ad7b067-2814-40c1-ff13-a7952dcd8edf"
      },
      "source": [
        "price_array = np.array(price)\n",
        "quantity_array = np.array(quantity)\n",
        "type(price_array)"
      ],
      "execution_count": 62,
      "outputs": [
        {
          "output_type": "execute_result",
          "data": {
            "text/plain": [
              "numpy.ndarray"
            ]
          },
          "metadata": {},
          "execution_count": 62
        }
      ]
    },
    {
      "cell_type": "code",
      "metadata": {
        "colab": {
          "base_uri": "https://localhost:8080/"
        },
        "id": "RHeZ10KPVElu",
        "outputId": "a7c9e25f-3170-44b5-f802-2040e51b6f64"
      },
      "source": [
        "price_array * quantity_array"
      ],
      "execution_count": 63,
      "outputs": [
        {
          "output_type": "execute_result",
          "data": {
            "text/plain": [
              "array([34, 40, 10])"
            ]
          },
          "metadata": {},
          "execution_count": 63
        }
      ]
    },
    {
      "cell_type": "code",
      "metadata": {
        "id": "2VCgaG5kVIsi"
      },
      "source": [
        "cost_array = np.array([0.25, 0.50, 5.00])"
      ],
      "execution_count": 64,
      "outputs": []
    },
    {
      "cell_type": "code",
      "metadata": {
        "colab": {
          "base_uri": "https://localhost:8080/"
        },
        "id": "Kqz1QjPmVNjc",
        "outputId": "ca297b50-7fbe-43d2-a161-01163039e977"
      },
      "source": [
        "profit_array = price_array - cost_array\n",
        "print(profit_array)\n"
      ],
      "execution_count": 65,
      "outputs": [
        {
          "output_type": "stream",
          "name": "stdout",
          "text": [
            "[1.75 0.5  5.  ]\n"
          ]
        }
      ]
    },
    {
      "cell_type": "code",
      "metadata": {
        "colab": {
          "base_uri": "https://localhost:8080/"
        },
        "id": "ypULDNmRVRAY",
        "outputId": "f74f36c0-7f3a-4f54-9cea-e9f0cca9e23e"
      },
      "source": [
        "profit_array > 2.00\n"
      ],
      "execution_count": 66,
      "outputs": [
        {
          "output_type": "execute_result",
          "data": {
            "text/plain": [
              "array([False, False,  True])"
            ]
          },
          "metadata": {},
          "execution_count": 66
        }
      ]
    },
    {
      "cell_type": "code",
      "metadata": {
        "colab": {
          "base_uri": "https://localhost:8080/"
        },
        "id": "_vm50VzDVTed",
        "outputId": "4aff34ba-e109-477e-e80d-b228ba38fe7d"
      },
      "source": [
        "price_array = price_array + [7]\n",
        "print(price_array)\n"
      ],
      "execution_count": 67,
      "outputs": [
        {
          "output_type": "stream",
          "name": "stdout",
          "text": [
            "[ 9  8 17]\n"
          ]
        }
      ]
    },
    {
      "cell_type": "code",
      "metadata": {
        "colab": {
          "base_uri": "https://localhost:8080/"
        },
        "id": "q-YAOQgWVXGw",
        "outputId": "2c3d8ce6-d4c3-4613-97a1-f11f8c8e7a3a"
      },
      "source": [
        "# Just fixing the mistake\n",
        "price_array = price_array - [7]\n",
        "# The proper way to append an element to an array\n",
        "price_array = np.append(price_array, 7)\n",
        "print(price_array)\n"
      ],
      "execution_count": 68,
      "outputs": [
        {
          "output_type": "stream",
          "name": "stdout",
          "text": [
            "[ 2  1 10  7]\n"
          ]
        }
      ]
    },
    {
      "cell_type": "code",
      "metadata": {
        "colab": {
          "base_uri": "https://localhost:8080/"
        },
        "id": "SO786-UWVZMi",
        "outputId": "969a8101-7b5b-4ce4-d21e-5a4aec00e91c"
      },
      "source": [
        "price_array = np.append(price_array, [4.50, 3, 4, 9])\n",
        "print(price_array)\n",
        "\n"
      ],
      "execution_count": 69,
      "outputs": [
        {
          "output_type": "stream",
          "name": "stdout",
          "text": [
            "[ 2.   1.  10.   7.   4.5  3.   4.   9. ]\n"
          ]
        }
      ]
    },
    {
      "cell_type": "code",
      "metadata": {
        "colab": {
          "base_uri": "https://localhost:8080/"
        },
        "id": "-4vXAPEcVdcU",
        "outputId": "df5fbab1-ab61-42ed-f424-517010d7077d"
      },
      "source": [
        "print(price_array.dtype)\n"
      ],
      "execution_count": 70,
      "outputs": [
        {
          "output_type": "stream",
          "name": "stdout",
          "text": [
            "float64\n"
          ]
        }
      ]
    },
    {
      "cell_type": "code",
      "metadata": {
        "colab": {
          "base_uri": "https://localhost:8080/"
        },
        "id": "y8-tYZcHVgon",
        "outputId": "669a2f5c-7ff0-479e-986b-b6404ee23394"
      },
      "source": [
        "price_array = np.delete(price_array, -1)\n",
        "print(price_array)\n"
      ],
      "execution_count": 71,
      "outputs": [
        {
          "output_type": "stream",
          "name": "stdout",
          "text": [
            "[ 2.   1.  10.   7.   4.5  3.   4. ]\n"
          ]
        }
      ]
    },
    {
      "cell_type": "code",
      "metadata": {
        "colab": {
          "base_uri": "https://localhost:8080/"
        },
        "id": "LR2xG2_FVjLr",
        "outputId": "94aed929-588f-44f9-e681-488cb69747c9"
      },
      "source": [
        "price_array[2] = 12\n",
        "print(price_array)\n"
      ],
      "execution_count": 72,
      "outputs": [
        {
          "output_type": "stream",
          "name": "stdout",
          "text": [
            "[ 2.   1.  12.   7.   4.5  3.   4. ]\n"
          ]
        }
      ]
    },
    {
      "cell_type": "markdown",
      "source": [
        "1) OPEN THE NOTEBOOK YOU CREATED DURING THE PREVIOUS LESSON: INTRO TO NUMPY ARRAYS!\n",
        "\n",
        "If you did not start this notebook, please go back to the INTRO TO NUMPY ARRAYS lesson and follow along with the code before starting this task!\n",
        "\n",
        "You will start this task where the demonstration code left off.  "
      ],
      "metadata": {
        "id": "l8IAB9J92gND"
      }
    },
    {
      "cell_type": "markdown",
      "source": [
        "# The Assignment Starts Here"
      ],
      "metadata": {
        "id": "uIUAfF9c2jJ1"
      }
    },
    {
      "cell_type": "markdown",
      "metadata": {
        "id": "1xunhHPaWCi-"
      },
      "source": [
        "2) Update the  quantity_sold_array to include the sale of 2 pies,  3 trays of fudge, 16 cupcakes, and 5 loaves of banana bread.  You also realize that one of the cookies you thought was sold had actually fallen on the ground, so edit the quantity_sold_array from 40 to 39."
      ]
    },
    {
      "cell_type": "code",
      "metadata": {
        "id": "k8a4SXVKVpDa",
        "colab": {
          "base_uri": "https://localhost:8080/"
        },
        "outputId": "5a768fe2-d3cb-45c2-f43f-1a2e4e9dfec8"
      },
      "source": [
        "quantity_sold = [17, 40, 1]\n",
        "type(quantity_sold)\n",
        "quantity_sold_array = np.array(quantity_sold)\n",
        "quantity_sold_array = np.append(quantity_sold_array, [2,3,16,5])\n",
        "print(quantity_sold_array)"
      ],
      "execution_count": 73,
      "outputs": [
        {
          "output_type": "stream",
          "name": "stdout",
          "text": [
            "[17 40  1  2  3 16  5]\n"
          ]
        }
      ]
    },
    {
      "cell_type": "code",
      "metadata": {
        "id": "O_enU-46V0YT",
        "colab": {
          "base_uri": "https://localhost:8080/"
        },
        "outputId": "5e1e0659-26ad-4ef3-ec0f-fdae3ab26d39"
      },
      "source": [
        "quantity_sold = [17, 40, 1]\n",
        "type(quantity_sold)\n",
        "quantity_sold_array = np.array(quantity_sold)\n",
        "quantity_sold_array = np.append(quantity_sold_array, [2,3,16,5])\n",
        "quantity_sold_array [1] = 39\n",
        "print (quantity_sold_array)"
      ],
      "execution_count": 74,
      "outputs": [
        {
          "output_type": "stream",
          "name": "stdout",
          "text": [
            "[17 39  1  2  3 16  5]\n"
          ]
        }
      ]
    },
    {
      "cell_type": "markdown",
      "metadata": {
        "id": "vfIgDaikWFdw"
      },
      "source": [
        "3) Determine the amount of money collected from the sale of each item at the bake sale.  "
      ]
    },
    {
      "cell_type": "code",
      "metadata": {
        "id": "ikN8urc4WH86",
        "colab": {
          "base_uri": "https://localhost:8080/"
        },
        "outputId": "52559f28-baf5-4f09-f706-d3221872c36a"
      },
      "source": [
        "price = [2, 1, 12]\n",
        "type(price)\n",
        "quantity_sold = [17, 40, 1]\n",
        "type(quantity_sold)\n",
        "price_array = np.array(price)\n",
        "quantity_sold_array = np.array(quantity_sold)\n",
        "type(price_array)\n",
        "price_array = np.append(price_array, [7, 4.50, 3, 4])\n",
        "quantity_sold_array = np.append(quantity_sold_array, [2, 3, 16, 5])\n",
        "quantity_sold_array [1] = 39\n",
        "price_array * quantity_sold_array"
      ],
      "execution_count": 75,
      "outputs": [
        {
          "output_type": "execute_result",
          "data": {
            "text/plain": [
              "array([34. , 39. , 12. , 14. , 13.5, 48. , 20. ])"
            ]
          },
          "metadata": {},
          "execution_count": 75
        }
      ]
    },
    {
      "cell_type": "markdown",
      "metadata": {
        "id": "v8xG8a77WyTV"
      },
      "source": [
        "4) Create a NumPy array \"quantity_leftover\" that includes the quantity of each item remaining at the end of the sale: 2 cakes, 1 pie, 6 trays of fudge, 2 loaves of banana bread.  Hint: Make sure to include \"0\" for any item that was sold out. Why is this important when creating the array?"
      ]
    },
    {
      "cell_type": "code",
      "metadata": {
        "id": "_OSmjj-mWNE2"
      },
      "source": [
        "quantity_leftover = [0, 0, 2, 1, 6, 0, 2]\n",
        "quantity_leftover_array = np.array (quantity_leftover)"
      ],
      "execution_count": 76,
      "outputs": []
    },
    {
      "cell_type": "markdown",
      "metadata": {
        "id": "Pny1zRYZW1AF"
      },
      "source": [
        "5) The club decides to sell the leftover items at half price and everything quickly sells out!  Determine how much money was collected from the clearance sale. "
      ]
    },
    {
      "cell_type": "code",
      "metadata": {
        "id": "VPymUS0wW39q",
        "colab": {
          "base_uri": "https://localhost:8080/"
        },
        "outputId": "b38bbc92-9c6f-46c8-9c5c-3261ee3dac70"
      },
      "source": [
        "discounts = np.array([0,0,.50,.50,.50,0,.50])\n",
        "price_array\n",
        "discounted_prices = price_array - price_array*discounts\n",
        "discounted_prices\n",
        "np.sum(discounted_prices * quantity_leftover_array).round(2)"
      ],
      "execution_count": 77,
      "outputs": [
        {
          "output_type": "execute_result",
          "data": {
            "text/plain": [
              "33.0"
            ]
          },
          "metadata": {},
          "execution_count": 77
        }
      ]
    },
    {
      "cell_type": "markdown",
      "metadata": {
        "id": "dDqAKj9jXLz4"
      },
      "source": [
        "6) How much total money was collected from the bake sale (including the sale of full price and clearance items)?\n",
        "\n",
        "Hint: Your final answer should be $213.50, but you must make sure you get this answer with your NumPy coding skills!!"
      ]
    },
    {
      "cell_type": "code",
      "metadata": {
        "id": "CmqGXhMHXOFD",
        "colab": {
          "base_uri": "https://localhost:8080/"
        },
        "outputId": "7042a6ad-2d5e-409e-c435-4247336bc9e8"
      },
      "source": [
        "np.sum ((price_array * quantity_sold_array) + (discounted_prices * quantity_leftover_array)).round (2)"
      ],
      "execution_count": 83,
      "outputs": [
        {
          "output_type": "execute_result",
          "data": {
            "text/plain": [
              "213.5"
            ]
          },
          "metadata": {},
          "execution_count": 83
        }
      ]
    }
  ]
}