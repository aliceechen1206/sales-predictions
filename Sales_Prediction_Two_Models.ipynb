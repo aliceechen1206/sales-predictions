{
  "nbformat": 4,
  "nbformat_minor": 0,
  "metadata": {
    "colab": {
      "provenance": [],
      "authorship_tag": "ABX9TyNWqznQZygDN5/EW+TuaZq7",
      "include_colab_link": true
    },
    "kernelspec": {
      "name": "python3",
      "display_name": "Python 3"
    },
    "language_info": {
      "name": "python"
    }
  },
  "cells": [
    {
      "cell_type": "markdown",
      "metadata": {
        "id": "view-in-github",
        "colab_type": "text"
      },
      "source": [
        "<a href=\"https://colab.research.google.com/github/aliceechen1206/sales-predictions/blob/main/Sales_Prediction.ipynb\" target=\"_parent\"><img src=\"https://colab.research.google.com/assets/colab-badge.svg\" alt=\"Open In Colab\"/></a>"
      ]
    },
    {
      "cell_type": "code",
      "execution_count": 127,
      "metadata": {
        "id": "5KVlDuVjuUqD"
      },
      "outputs": [],
      "source": [
        "import pandas as pd\n",
        "import numpy as np\n",
        "from sklearn.model_selection import train_test_split\n",
        "from sklearn.compose import make_column_selector, make_column_transformer\n",
        "from sklearn.impute import SimpleImputer\n",
        "from sklearn.preprocessing import OneHotEncoder, StandardScaler\n",
        "from sklearn.linear_model import LinearRegression\n",
        "from sklearn.pipeline import make_pipeline\n",
        "from sklearn import set_config\n",
        "import matplotlib.pyplot as plt\n",
        "from sklearn.metrics import mean_absolute_error, mean_squared_error, r2_score\n",
        "set_config(display='diagram')"
      ]
    },
    {
      "cell_type": "code",
      "source": [
        "from google.colab import drive\n",
        "drive.mount (\"/content/drive\")"
      ],
      "metadata": {
        "colab": {
          "base_uri": "https://localhost:8080/"
        },
        "id": "YaizCGNdvQq-",
        "outputId": "2a0b1777-d458-413a-f752-b5c92cfd20ac"
      },
      "execution_count": 79,
      "outputs": [
        {
          "output_type": "stream",
          "name": "stdout",
          "text": [
            "Drive already mounted at /content/drive; to attempt to forcibly remount, call drive.mount(\"/content/drive\", force_remount=True).\n"
          ]
        }
      ]
    },
    {
      "cell_type": "code",
      "source": [
        "df = pd.read_csv ('/content/drive/MyDrive/Coding Dojo/Week 1/sales_predictions.csv')\n",
        "df.head()"
      ],
      "metadata": {
        "colab": {
          "base_uri": "https://localhost:8080/",
          "height": 357
        },
        "id": "WtOLBQH2unDc",
        "outputId": "40f72cbb-d33e-4e77-a8a1-f5fc88024e36"
      },
      "execution_count": 80,
      "outputs": [
        {
          "output_type": "execute_result",
          "data": {
            "text/plain": [
              "  Item_Identifier  Item_Weight Item_Fat_Content  Item_Visibility  \\\n",
              "0           FDA15         9.30          Low Fat         0.016047   \n",
              "1           DRC01         5.92          Regular         0.019278   \n",
              "2           FDN15        17.50          Low Fat         0.016760   \n",
              "3           FDX07        19.20          Regular         0.000000   \n",
              "4           NCD19         8.93          Low Fat         0.000000   \n",
              "\n",
              "               Item_Type  Item_MRP Outlet_Identifier  \\\n",
              "0                  Dairy  249.8092            OUT049   \n",
              "1            Soft Drinks   48.2692            OUT018   \n",
              "2                   Meat  141.6180            OUT049   \n",
              "3  Fruits and Vegetables  182.0950            OUT010   \n",
              "4              Household   53.8614            OUT013   \n",
              "\n",
              "   Outlet_Establishment_Year Outlet_Size Outlet_Location_Type  \\\n",
              "0                       1999      Medium               Tier 1   \n",
              "1                       2009      Medium               Tier 3   \n",
              "2                       1999      Medium               Tier 1   \n",
              "3                       1998         NaN               Tier 3   \n",
              "4                       1987        High               Tier 3   \n",
              "\n",
              "         Outlet_Type  Item_Outlet_Sales  \n",
              "0  Supermarket Type1          3735.1380  \n",
              "1  Supermarket Type2           443.4228  \n",
              "2  Supermarket Type1          2097.2700  \n",
              "3      Grocery Store           732.3800  \n",
              "4  Supermarket Type1           994.7052  "
            ],
            "text/html": [
              "\n",
              "  <div id=\"df-e6340a67-7788-4a8e-b1c5-c60eb6718e7f\">\n",
              "    <div class=\"colab-df-container\">\n",
              "      <div>\n",
              "<style scoped>\n",
              "    .dataframe tbody tr th:only-of-type {\n",
              "        vertical-align: middle;\n",
              "    }\n",
              "\n",
              "    .dataframe tbody tr th {\n",
              "        vertical-align: top;\n",
              "    }\n",
              "\n",
              "    .dataframe thead th {\n",
              "        text-align: right;\n",
              "    }\n",
              "</style>\n",
              "<table border=\"1\" class=\"dataframe\">\n",
              "  <thead>\n",
              "    <tr style=\"text-align: right;\">\n",
              "      <th></th>\n",
              "      <th>Item_Identifier</th>\n",
              "      <th>Item_Weight</th>\n",
              "      <th>Item_Fat_Content</th>\n",
              "      <th>Item_Visibility</th>\n",
              "      <th>Item_Type</th>\n",
              "      <th>Item_MRP</th>\n",
              "      <th>Outlet_Identifier</th>\n",
              "      <th>Outlet_Establishment_Year</th>\n",
              "      <th>Outlet_Size</th>\n",
              "      <th>Outlet_Location_Type</th>\n",
              "      <th>Outlet_Type</th>\n",
              "      <th>Item_Outlet_Sales</th>\n",
              "    </tr>\n",
              "  </thead>\n",
              "  <tbody>\n",
              "    <tr>\n",
              "      <th>0</th>\n",
              "      <td>FDA15</td>\n",
              "      <td>9.30</td>\n",
              "      <td>Low Fat</td>\n",
              "      <td>0.016047</td>\n",
              "      <td>Dairy</td>\n",
              "      <td>249.8092</td>\n",
              "      <td>OUT049</td>\n",
              "      <td>1999</td>\n",
              "      <td>Medium</td>\n",
              "      <td>Tier 1</td>\n",
              "      <td>Supermarket Type1</td>\n",
              "      <td>3735.1380</td>\n",
              "    </tr>\n",
              "    <tr>\n",
              "      <th>1</th>\n",
              "      <td>DRC01</td>\n",
              "      <td>5.92</td>\n",
              "      <td>Regular</td>\n",
              "      <td>0.019278</td>\n",
              "      <td>Soft Drinks</td>\n",
              "      <td>48.2692</td>\n",
              "      <td>OUT018</td>\n",
              "      <td>2009</td>\n",
              "      <td>Medium</td>\n",
              "      <td>Tier 3</td>\n",
              "      <td>Supermarket Type2</td>\n",
              "      <td>443.4228</td>\n",
              "    </tr>\n",
              "    <tr>\n",
              "      <th>2</th>\n",
              "      <td>FDN15</td>\n",
              "      <td>17.50</td>\n",
              "      <td>Low Fat</td>\n",
              "      <td>0.016760</td>\n",
              "      <td>Meat</td>\n",
              "      <td>141.6180</td>\n",
              "      <td>OUT049</td>\n",
              "      <td>1999</td>\n",
              "      <td>Medium</td>\n",
              "      <td>Tier 1</td>\n",
              "      <td>Supermarket Type1</td>\n",
              "      <td>2097.2700</td>\n",
              "    </tr>\n",
              "    <tr>\n",
              "      <th>3</th>\n",
              "      <td>FDX07</td>\n",
              "      <td>19.20</td>\n",
              "      <td>Regular</td>\n",
              "      <td>0.000000</td>\n",
              "      <td>Fruits and Vegetables</td>\n",
              "      <td>182.0950</td>\n",
              "      <td>OUT010</td>\n",
              "      <td>1998</td>\n",
              "      <td>NaN</td>\n",
              "      <td>Tier 3</td>\n",
              "      <td>Grocery Store</td>\n",
              "      <td>732.3800</td>\n",
              "    </tr>\n",
              "    <tr>\n",
              "      <th>4</th>\n",
              "      <td>NCD19</td>\n",
              "      <td>8.93</td>\n",
              "      <td>Low Fat</td>\n",
              "      <td>0.000000</td>\n",
              "      <td>Household</td>\n",
              "      <td>53.8614</td>\n",
              "      <td>OUT013</td>\n",
              "      <td>1987</td>\n",
              "      <td>High</td>\n",
              "      <td>Tier 3</td>\n",
              "      <td>Supermarket Type1</td>\n",
              "      <td>994.7052</td>\n",
              "    </tr>\n",
              "  </tbody>\n",
              "</table>\n",
              "</div>\n",
              "      <button class=\"colab-df-convert\" onclick=\"convertToInteractive('df-e6340a67-7788-4a8e-b1c5-c60eb6718e7f')\"\n",
              "              title=\"Convert this dataframe to an interactive table.\"\n",
              "              style=\"display:none;\">\n",
              "        \n",
              "  <svg xmlns=\"http://www.w3.org/2000/svg\" height=\"24px\"viewBox=\"0 0 24 24\"\n",
              "       width=\"24px\">\n",
              "    <path d=\"M0 0h24v24H0V0z\" fill=\"none\"/>\n",
              "    <path d=\"M18.56 5.44l.94 2.06.94-2.06 2.06-.94-2.06-.94-.94-2.06-.94 2.06-2.06.94zm-11 1L8.5 8.5l.94-2.06 2.06-.94-2.06-.94L8.5 2.5l-.94 2.06-2.06.94zm10 10l.94 2.06.94-2.06 2.06-.94-2.06-.94-.94-2.06-.94 2.06-2.06.94z\"/><path d=\"M17.41 7.96l-1.37-1.37c-.4-.4-.92-.59-1.43-.59-.52 0-1.04.2-1.43.59L10.3 9.45l-7.72 7.72c-.78.78-.78 2.05 0 2.83L4 21.41c.39.39.9.59 1.41.59.51 0 1.02-.2 1.41-.59l7.78-7.78 2.81-2.81c.8-.78.8-2.07 0-2.86zM5.41 20L4 18.59l7.72-7.72 1.47 1.35L5.41 20z\"/>\n",
              "  </svg>\n",
              "      </button>\n",
              "      \n",
              "  <style>\n",
              "    .colab-df-container {\n",
              "      display:flex;\n",
              "      flex-wrap:wrap;\n",
              "      gap: 12px;\n",
              "    }\n",
              "\n",
              "    .colab-df-convert {\n",
              "      background-color: #E8F0FE;\n",
              "      border: none;\n",
              "      border-radius: 50%;\n",
              "      cursor: pointer;\n",
              "      display: none;\n",
              "      fill: #1967D2;\n",
              "      height: 32px;\n",
              "      padding: 0 0 0 0;\n",
              "      width: 32px;\n",
              "    }\n",
              "\n",
              "    .colab-df-convert:hover {\n",
              "      background-color: #E2EBFA;\n",
              "      box-shadow: 0px 1px 2px rgba(60, 64, 67, 0.3), 0px 1px 3px 1px rgba(60, 64, 67, 0.15);\n",
              "      fill: #174EA6;\n",
              "    }\n",
              "\n",
              "    [theme=dark] .colab-df-convert {\n",
              "      background-color: #3B4455;\n",
              "      fill: #D2E3FC;\n",
              "    }\n",
              "\n",
              "    [theme=dark] .colab-df-convert:hover {\n",
              "      background-color: #434B5C;\n",
              "      box-shadow: 0px 1px 3px 1px rgba(0, 0, 0, 0.15);\n",
              "      filter: drop-shadow(0px 1px 2px rgba(0, 0, 0, 0.3));\n",
              "      fill: #FFFFFF;\n",
              "    }\n",
              "  </style>\n",
              "\n",
              "      <script>\n",
              "        const buttonEl =\n",
              "          document.querySelector('#df-e6340a67-7788-4a8e-b1c5-c60eb6718e7f button.colab-df-convert');\n",
              "        buttonEl.style.display =\n",
              "          google.colab.kernel.accessAllowed ? 'block' : 'none';\n",
              "\n",
              "        async function convertToInteractive(key) {\n",
              "          const element = document.querySelector('#df-e6340a67-7788-4a8e-b1c5-c60eb6718e7f');\n",
              "          const dataTable =\n",
              "            await google.colab.kernel.invokeFunction('convertToInteractive',\n",
              "                                                     [key], {});\n",
              "          if (!dataTable) return;\n",
              "\n",
              "          const docLinkHtml = 'Like what you see? Visit the ' +\n",
              "            '<a target=\"_blank\" href=https://colab.research.google.com/notebooks/data_table.ipynb>data table notebook</a>'\n",
              "            + ' to learn more about interactive tables.';\n",
              "          element.innerHTML = '';\n",
              "          dataTable['output_type'] = 'display_data';\n",
              "          await google.colab.output.renderOutput(dataTable, element);\n",
              "          const docLink = document.createElement('div');\n",
              "          docLink.innerHTML = docLinkHtml;\n",
              "          element.appendChild(docLink);\n",
              "        }\n",
              "      </script>\n",
              "    </div>\n",
              "  </div>\n",
              "  "
            ]
          },
          "metadata": {},
          "execution_count": 80
        }
      ]
    },
    {
      "cell_type": "code",
      "source": [
        "df.duplicated().sum()"
      ],
      "metadata": {
        "colab": {
          "base_uri": "https://localhost:8080/"
        },
        "id": "tNpm4TX6v2FW",
        "outputId": "2b7643cc-43dd-42f5-a51d-fc9df5977fe1"
      },
      "execution_count": 81,
      "outputs": [
        {
          "output_type": "execute_result",
          "data": {
            "text/plain": [
              "0"
            ]
          },
          "metadata": {},
          "execution_count": 81
        }
      ]
    },
    {
      "cell_type": "code",
      "source": [
        "df.isna().sum()"
      ],
      "metadata": {
        "colab": {
          "base_uri": "https://localhost:8080/"
        },
        "id": "KP4RAr1YneZ3",
        "outputId": "dcd15b5f-3e5e-499a-9b57-e99c1de76ed9"
      },
      "execution_count": 82,
      "outputs": [
        {
          "output_type": "execute_result",
          "data": {
            "text/plain": [
              "Item_Identifier                 0\n",
              "Item_Weight                  1463\n",
              "Item_Fat_Content                0\n",
              "Item_Visibility                 0\n",
              "Item_Type                       0\n",
              "Item_MRP                        0\n",
              "Outlet_Identifier               0\n",
              "Outlet_Establishment_Year       0\n",
              "Outlet_Size                  2410\n",
              "Outlet_Location_Type            0\n",
              "Outlet_Type                     0\n",
              "Item_Outlet_Sales               0\n",
              "dtype: int64"
            ]
          },
          "metadata": {},
          "execution_count": 82
        }
      ]
    },
    {
      "cell_type": "code",
      "source": [
        "df['Item_Fat_Content'].value_counts()"
      ],
      "metadata": {
        "colab": {
          "base_uri": "https://localhost:8080/"
        },
        "id": "iKeYplTTvrle",
        "outputId": "e3d1fc76-b5ca-46ce-e199-cd0d720a807d"
      },
      "execution_count": 83,
      "outputs": [
        {
          "output_type": "execute_result",
          "data": {
            "text/plain": [
              "Low Fat    5089\n",
              "Regular    2889\n",
              "LF          316\n",
              "reg         117\n",
              "low fat     112\n",
              "Name: Item_Fat_Content, dtype: int64"
            ]
          },
          "metadata": {},
          "execution_count": 83
        }
      ]
    },
    {
      "cell_type": "code",
      "source": [
        "df['Item_Fat_Content'] = df['Item_Fat_Content'].replace ('LF','Low Fat')\n",
        "df['Item_Fat_Content'] = df['Item_Fat_Content'].replace ('low fat','Low Fat')\n",
        "df['Item_Fat_Content'] = df['Item_Fat_Content'].replace ('reg','Regular')\n",
        "df['Item_Fat_Content'].value_counts()"
      ],
      "metadata": {
        "colab": {
          "base_uri": "https://localhost:8080/"
        },
        "id": "uAhL8kk-vuK1",
        "outputId": "e2f51d3b-9b53-450c-dcf9-d7d7a38ed7d5"
      },
      "execution_count": 84,
      "outputs": [
        {
          "output_type": "execute_result",
          "data": {
            "text/plain": [
              "Low Fat    5517\n",
              "Regular    3006\n",
              "Name: Item_Fat_Content, dtype: int64"
            ]
          },
          "metadata": {},
          "execution_count": 84
        }
      ]
    },
    {
      "cell_type": "code",
      "source": [
        "y=df['Item_Outlet_Sales']\n",
        "X=df.drop(columns='Item_Outlet_Sales')"
      ],
      "metadata": {
        "id": "Vp0e7u1uv-Iu"
      },
      "execution_count": 85,
      "outputs": []
    },
    {
      "cell_type": "code",
      "source": [
        "X_train, X_test, y_train, y_test = train_test_split(X, y, random_state=42)\n",
        "X_train.shape"
      ],
      "metadata": {
        "id": "w_1BHfP0wOfX",
        "colab": {
          "base_uri": "https://localhost:8080/"
        },
        "outputId": "a21f3f93-258e-40d7-8d2e-296221cf5eb1"
      },
      "execution_count": 86,
      "outputs": [
        {
          "output_type": "execute_result",
          "data": {
            "text/plain": [
              "(6392, 11)"
            ]
          },
          "metadata": {},
          "execution_count": 86
        }
      ]
    },
    {
      "cell_type": "code",
      "source": [
        "display(X_train.info())\n",
        "X_train.head()"
      ],
      "metadata": {
        "colab": {
          "base_uri": "https://localhost:8080/",
          "height": 696
        },
        "id": "DaBRVxlaoMFO",
        "outputId": "f94574c6-4f46-45a1-8f48-3b4df8c130a0"
      },
      "execution_count": 87,
      "outputs": [
        {
          "output_type": "stream",
          "name": "stdout",
          "text": [
            "<class 'pandas.core.frame.DataFrame'>\n",
            "Int64Index: 6392 entries, 4776 to 7270\n",
            "Data columns (total 11 columns):\n",
            " #   Column                     Non-Null Count  Dtype  \n",
            "---  ------                     --------------  -----  \n",
            " 0   Item_Identifier            6392 non-null   object \n",
            " 1   Item_Weight                5285 non-null   float64\n",
            " 2   Item_Fat_Content           6392 non-null   object \n",
            " 3   Item_Visibility            6392 non-null   float64\n",
            " 4   Item_Type                  6392 non-null   object \n",
            " 5   Item_MRP                   6392 non-null   float64\n",
            " 6   Outlet_Identifier          6392 non-null   object \n",
            " 7   Outlet_Establishment_Year  6392 non-null   int64  \n",
            " 8   Outlet_Size                4580 non-null   object \n",
            " 9   Outlet_Location_Type       6392 non-null   object \n",
            " 10  Outlet_Type                6392 non-null   object \n",
            "dtypes: float64(3), int64(1), object(7)\n",
            "memory usage: 599.2+ KB\n"
          ]
        },
        {
          "output_type": "display_data",
          "data": {
            "text/plain": [
              "None"
            ]
          },
          "metadata": {}
        },
        {
          "output_type": "execute_result",
          "data": {
            "text/plain": [
              "     Item_Identifier  Item_Weight Item_Fat_Content  Item_Visibility  \\\n",
              "4776           NCG06       16.350          Low Fat         0.029565   \n",
              "7510           FDV57       15.250          Regular         0.000000   \n",
              "5828           FDM27       12.350          Regular         0.158716   \n",
              "5327           FDG24        7.975          Low Fat         0.014628   \n",
              "4810           FDD05       19.350          Low Fat         0.016645   \n",
              "\n",
              "         Item_Type  Item_MRP Outlet_Identifier  Outlet_Establishment_Year  \\\n",
              "4776     Household  256.4646            OUT018                       2009   \n",
              "7510   Snack Foods  179.7660            OUT018                       2009   \n",
              "5828          Meat  157.2946            OUT049                       1999   \n",
              "5327  Baking Goods   82.3250            OUT035                       2004   \n",
              "4810  Frozen Foods  120.9098            OUT045                       2002   \n",
              "\n",
              "     Outlet_Size Outlet_Location_Type        Outlet_Type  \n",
              "4776      Medium               Tier 3  Supermarket Type2  \n",
              "7510      Medium               Tier 3  Supermarket Type2  \n",
              "5828      Medium               Tier 1  Supermarket Type1  \n",
              "5327       Small               Tier 2  Supermarket Type1  \n",
              "4810         NaN               Tier 2  Supermarket Type1  "
            ],
            "text/html": [
              "\n",
              "  <div id=\"df-fe008c32-c7db-4baf-8dec-d33879e16e4b\">\n",
              "    <div class=\"colab-df-container\">\n",
              "      <div>\n",
              "<style scoped>\n",
              "    .dataframe tbody tr th:only-of-type {\n",
              "        vertical-align: middle;\n",
              "    }\n",
              "\n",
              "    .dataframe tbody tr th {\n",
              "        vertical-align: top;\n",
              "    }\n",
              "\n",
              "    .dataframe thead th {\n",
              "        text-align: right;\n",
              "    }\n",
              "</style>\n",
              "<table border=\"1\" class=\"dataframe\">\n",
              "  <thead>\n",
              "    <tr style=\"text-align: right;\">\n",
              "      <th></th>\n",
              "      <th>Item_Identifier</th>\n",
              "      <th>Item_Weight</th>\n",
              "      <th>Item_Fat_Content</th>\n",
              "      <th>Item_Visibility</th>\n",
              "      <th>Item_Type</th>\n",
              "      <th>Item_MRP</th>\n",
              "      <th>Outlet_Identifier</th>\n",
              "      <th>Outlet_Establishment_Year</th>\n",
              "      <th>Outlet_Size</th>\n",
              "      <th>Outlet_Location_Type</th>\n",
              "      <th>Outlet_Type</th>\n",
              "    </tr>\n",
              "  </thead>\n",
              "  <tbody>\n",
              "    <tr>\n",
              "      <th>4776</th>\n",
              "      <td>NCG06</td>\n",
              "      <td>16.350</td>\n",
              "      <td>Low Fat</td>\n",
              "      <td>0.029565</td>\n",
              "      <td>Household</td>\n",
              "      <td>256.4646</td>\n",
              "      <td>OUT018</td>\n",
              "      <td>2009</td>\n",
              "      <td>Medium</td>\n",
              "      <td>Tier 3</td>\n",
              "      <td>Supermarket Type2</td>\n",
              "    </tr>\n",
              "    <tr>\n",
              "      <th>7510</th>\n",
              "      <td>FDV57</td>\n",
              "      <td>15.250</td>\n",
              "      <td>Regular</td>\n",
              "      <td>0.000000</td>\n",
              "      <td>Snack Foods</td>\n",
              "      <td>179.7660</td>\n",
              "      <td>OUT018</td>\n",
              "      <td>2009</td>\n",
              "      <td>Medium</td>\n",
              "      <td>Tier 3</td>\n",
              "      <td>Supermarket Type2</td>\n",
              "    </tr>\n",
              "    <tr>\n",
              "      <th>5828</th>\n",
              "      <td>FDM27</td>\n",
              "      <td>12.350</td>\n",
              "      <td>Regular</td>\n",
              "      <td>0.158716</td>\n",
              "      <td>Meat</td>\n",
              "      <td>157.2946</td>\n",
              "      <td>OUT049</td>\n",
              "      <td>1999</td>\n",
              "      <td>Medium</td>\n",
              "      <td>Tier 1</td>\n",
              "      <td>Supermarket Type1</td>\n",
              "    </tr>\n",
              "    <tr>\n",
              "      <th>5327</th>\n",
              "      <td>FDG24</td>\n",
              "      <td>7.975</td>\n",
              "      <td>Low Fat</td>\n",
              "      <td>0.014628</td>\n",
              "      <td>Baking Goods</td>\n",
              "      <td>82.3250</td>\n",
              "      <td>OUT035</td>\n",
              "      <td>2004</td>\n",
              "      <td>Small</td>\n",
              "      <td>Tier 2</td>\n",
              "      <td>Supermarket Type1</td>\n",
              "    </tr>\n",
              "    <tr>\n",
              "      <th>4810</th>\n",
              "      <td>FDD05</td>\n",
              "      <td>19.350</td>\n",
              "      <td>Low Fat</td>\n",
              "      <td>0.016645</td>\n",
              "      <td>Frozen Foods</td>\n",
              "      <td>120.9098</td>\n",
              "      <td>OUT045</td>\n",
              "      <td>2002</td>\n",
              "      <td>NaN</td>\n",
              "      <td>Tier 2</td>\n",
              "      <td>Supermarket Type1</td>\n",
              "    </tr>\n",
              "  </tbody>\n",
              "</table>\n",
              "</div>\n",
              "      <button class=\"colab-df-convert\" onclick=\"convertToInteractive('df-fe008c32-c7db-4baf-8dec-d33879e16e4b')\"\n",
              "              title=\"Convert this dataframe to an interactive table.\"\n",
              "              style=\"display:none;\">\n",
              "        \n",
              "  <svg xmlns=\"http://www.w3.org/2000/svg\" height=\"24px\"viewBox=\"0 0 24 24\"\n",
              "       width=\"24px\">\n",
              "    <path d=\"M0 0h24v24H0V0z\" fill=\"none\"/>\n",
              "    <path d=\"M18.56 5.44l.94 2.06.94-2.06 2.06-.94-2.06-.94-.94-2.06-.94 2.06-2.06.94zm-11 1L8.5 8.5l.94-2.06 2.06-.94-2.06-.94L8.5 2.5l-.94 2.06-2.06.94zm10 10l.94 2.06.94-2.06 2.06-.94-2.06-.94-.94-2.06-.94 2.06-2.06.94z\"/><path d=\"M17.41 7.96l-1.37-1.37c-.4-.4-.92-.59-1.43-.59-.52 0-1.04.2-1.43.59L10.3 9.45l-7.72 7.72c-.78.78-.78 2.05 0 2.83L4 21.41c.39.39.9.59 1.41.59.51 0 1.02-.2 1.41-.59l7.78-7.78 2.81-2.81c.8-.78.8-2.07 0-2.86zM5.41 20L4 18.59l7.72-7.72 1.47 1.35L5.41 20z\"/>\n",
              "  </svg>\n",
              "      </button>\n",
              "      \n",
              "  <style>\n",
              "    .colab-df-container {\n",
              "      display:flex;\n",
              "      flex-wrap:wrap;\n",
              "      gap: 12px;\n",
              "    }\n",
              "\n",
              "    .colab-df-convert {\n",
              "      background-color: #E8F0FE;\n",
              "      border: none;\n",
              "      border-radius: 50%;\n",
              "      cursor: pointer;\n",
              "      display: none;\n",
              "      fill: #1967D2;\n",
              "      height: 32px;\n",
              "      padding: 0 0 0 0;\n",
              "      width: 32px;\n",
              "    }\n",
              "\n",
              "    .colab-df-convert:hover {\n",
              "      background-color: #E2EBFA;\n",
              "      box-shadow: 0px 1px 2px rgba(60, 64, 67, 0.3), 0px 1px 3px 1px rgba(60, 64, 67, 0.15);\n",
              "      fill: #174EA6;\n",
              "    }\n",
              "\n",
              "    [theme=dark] .colab-df-convert {\n",
              "      background-color: #3B4455;\n",
              "      fill: #D2E3FC;\n",
              "    }\n",
              "\n",
              "    [theme=dark] .colab-df-convert:hover {\n",
              "      background-color: #434B5C;\n",
              "      box-shadow: 0px 1px 3px 1px rgba(0, 0, 0, 0.15);\n",
              "      filter: drop-shadow(0px 1px 2px rgba(0, 0, 0, 0.3));\n",
              "      fill: #FFFFFF;\n",
              "    }\n",
              "  </style>\n",
              "\n",
              "      <script>\n",
              "        const buttonEl =\n",
              "          document.querySelector('#df-fe008c32-c7db-4baf-8dec-d33879e16e4b button.colab-df-convert');\n",
              "        buttonEl.style.display =\n",
              "          google.colab.kernel.accessAllowed ? 'block' : 'none';\n",
              "\n",
              "        async function convertToInteractive(key) {\n",
              "          const element = document.querySelector('#df-fe008c32-c7db-4baf-8dec-d33879e16e4b');\n",
              "          const dataTable =\n",
              "            await google.colab.kernel.invokeFunction('convertToInteractive',\n",
              "                                                     [key], {});\n",
              "          if (!dataTable) return;\n",
              "\n",
              "          const docLinkHtml = 'Like what you see? Visit the ' +\n",
              "            '<a target=\"_blank\" href=https://colab.research.google.com/notebooks/data_table.ipynb>data table notebook</a>'\n",
              "            + ' to learn more about interactive tables.';\n",
              "          element.innerHTML = '';\n",
              "          dataTable['output_type'] = 'display_data';\n",
              "          await google.colab.output.renderOutput(dataTable, element);\n",
              "          const docLink = document.createElement('div');\n",
              "          docLink.innerHTML = docLinkHtml;\n",
              "          element.appendChild(docLink);\n",
              "        }\n",
              "      </script>\n",
              "    </div>\n",
              "  </div>\n",
              "  "
            ]
          },
          "metadata": {},
          "execution_count": 87
        }
      ]
    },
    {
      "cell_type": "code",
      "source": [
        "num_cols = ['Item_Weight','Item_Visibility','Item_MRP','Outlet_Establishment_Year']\n",
        "cat_cols = ['Item_Identifier','Item_Fat_Content','Item_Type','Outlet_Identifier','Outlet_Location_Type','Outlet_Type']"
      ],
      "metadata": {
        "id": "U7FHUTKPqGo9"
      },
      "execution_count": 88,
      "outputs": []
    },
    {
      "cell_type": "code",
      "source": [
        "cat_selector = make_column_selector(dtype_include='object')\n",
        "\n",
        "cat_cols = cat_selector(X_train)\n",
        "cat_cols"
      ],
      "metadata": {
        "colab": {
          "base_uri": "https://localhost:8080/"
        },
        "id": "SE0hVbGGqovG",
        "outputId": "f4279713-48fb-44be-ff71-3042fe3ac3c2"
      },
      "execution_count": 89,
      "outputs": [
        {
          "output_type": "execute_result",
          "data": {
            "text/plain": [
              "['Item_Identifier',\n",
              " 'Item_Fat_Content',\n",
              " 'Item_Type',\n",
              " 'Outlet_Identifier',\n",
              " 'Outlet_Size',\n",
              " 'Outlet_Location_Type',\n",
              " 'Outlet_Type']"
            ]
          },
          "metadata": {},
          "execution_count": 89
        }
      ]
    },
    {
      "cell_type": "code",
      "source": [
        "ohe_encoder = OneHotEncoder(sparse=False, handle_unknown='ignore')\n",
        "\n",
        "X_train_cat = X_train[cat_cols].copy()\n",
        "X_test_cat = X_test[cat_cols].copy()\n",
        "\n",
        "ohe_encoder.fit(X_train_cat)"
      ],
      "metadata": {
        "colab": {
          "base_uri": "https://localhost:8080/",
          "height": 75
        },
        "id": "aRvTuopBqwm7",
        "outputId": "206e2e74-3d11-4a13-ea2e-eca8a7367da2"
      },
      "execution_count": 90,
      "outputs": [
        {
          "output_type": "execute_result",
          "data": {
            "text/plain": [
              "OneHotEncoder(handle_unknown='ignore', sparse=False)"
            ],
            "text/html": [
              "<style>#sk-e092b969-48a8-4e2d-9724-1bb60891d2f7 {color: black;background-color: white;}#sk-e092b969-48a8-4e2d-9724-1bb60891d2f7 pre{padding: 0;}#sk-e092b969-48a8-4e2d-9724-1bb60891d2f7 div.sk-toggleable {background-color: white;}#sk-e092b969-48a8-4e2d-9724-1bb60891d2f7 label.sk-toggleable__label {cursor: pointer;display: block;width: 100%;margin-bottom: 0;padding: 0.3em;box-sizing: border-box;text-align: center;}#sk-e092b969-48a8-4e2d-9724-1bb60891d2f7 label.sk-toggleable__label-arrow:before {content: \"▸\";float: left;margin-right: 0.25em;color: #696969;}#sk-e092b969-48a8-4e2d-9724-1bb60891d2f7 label.sk-toggleable__label-arrow:hover:before {color: black;}#sk-e092b969-48a8-4e2d-9724-1bb60891d2f7 div.sk-estimator:hover label.sk-toggleable__label-arrow:before {color: black;}#sk-e092b969-48a8-4e2d-9724-1bb60891d2f7 div.sk-toggleable__content {max-height: 0;max-width: 0;overflow: hidden;text-align: left;background-color: #f0f8ff;}#sk-e092b969-48a8-4e2d-9724-1bb60891d2f7 div.sk-toggleable__content pre {margin: 0.2em;color: black;border-radius: 0.25em;background-color: #f0f8ff;}#sk-e092b969-48a8-4e2d-9724-1bb60891d2f7 input.sk-toggleable__control:checked~div.sk-toggleable__content {max-height: 200px;max-width: 100%;overflow: auto;}#sk-e092b969-48a8-4e2d-9724-1bb60891d2f7 input.sk-toggleable__control:checked~label.sk-toggleable__label-arrow:before {content: \"▾\";}#sk-e092b969-48a8-4e2d-9724-1bb60891d2f7 div.sk-estimator input.sk-toggleable__control:checked~label.sk-toggleable__label {background-color: #d4ebff;}#sk-e092b969-48a8-4e2d-9724-1bb60891d2f7 div.sk-label input.sk-toggleable__control:checked~label.sk-toggleable__label {background-color: #d4ebff;}#sk-e092b969-48a8-4e2d-9724-1bb60891d2f7 input.sk-hidden--visually {border: 0;clip: rect(1px 1px 1px 1px);clip: rect(1px, 1px, 1px, 1px);height: 1px;margin: -1px;overflow: hidden;padding: 0;position: absolute;width: 1px;}#sk-e092b969-48a8-4e2d-9724-1bb60891d2f7 div.sk-estimator {font-family: monospace;background-color: #f0f8ff;border: 1px dotted black;border-radius: 0.25em;box-sizing: border-box;margin-bottom: 0.5em;}#sk-e092b969-48a8-4e2d-9724-1bb60891d2f7 div.sk-estimator:hover {background-color: #d4ebff;}#sk-e092b969-48a8-4e2d-9724-1bb60891d2f7 div.sk-parallel-item::after {content: \"\";width: 100%;border-bottom: 1px solid gray;flex-grow: 1;}#sk-e092b969-48a8-4e2d-9724-1bb60891d2f7 div.sk-label:hover label.sk-toggleable__label {background-color: #d4ebff;}#sk-e092b969-48a8-4e2d-9724-1bb60891d2f7 div.sk-serial::before {content: \"\";position: absolute;border-left: 1px solid gray;box-sizing: border-box;top: 2em;bottom: 0;left: 50%;}#sk-e092b969-48a8-4e2d-9724-1bb60891d2f7 div.sk-serial {display: flex;flex-direction: column;align-items: center;background-color: white;padding-right: 0.2em;padding-left: 0.2em;}#sk-e092b969-48a8-4e2d-9724-1bb60891d2f7 div.sk-item {z-index: 1;}#sk-e092b969-48a8-4e2d-9724-1bb60891d2f7 div.sk-parallel {display: flex;align-items: stretch;justify-content: center;background-color: white;}#sk-e092b969-48a8-4e2d-9724-1bb60891d2f7 div.sk-parallel::before {content: \"\";position: absolute;border-left: 1px solid gray;box-sizing: border-box;top: 2em;bottom: 0;left: 50%;}#sk-e092b969-48a8-4e2d-9724-1bb60891d2f7 div.sk-parallel-item {display: flex;flex-direction: column;position: relative;background-color: white;}#sk-e092b969-48a8-4e2d-9724-1bb60891d2f7 div.sk-parallel-item:first-child::after {align-self: flex-end;width: 50%;}#sk-e092b969-48a8-4e2d-9724-1bb60891d2f7 div.sk-parallel-item:last-child::after {align-self: flex-start;width: 50%;}#sk-e092b969-48a8-4e2d-9724-1bb60891d2f7 div.sk-parallel-item:only-child::after {width: 0;}#sk-e092b969-48a8-4e2d-9724-1bb60891d2f7 div.sk-dashed-wrapped {border: 1px dashed gray;margin: 0 0.4em 0.5em 0.4em;box-sizing: border-box;padding-bottom: 0.4em;background-color: white;position: relative;}#sk-e092b969-48a8-4e2d-9724-1bb60891d2f7 div.sk-label label {font-family: monospace;font-weight: bold;background-color: white;display: inline-block;line-height: 1.2em;}#sk-e092b969-48a8-4e2d-9724-1bb60891d2f7 div.sk-label-container {position: relative;z-index: 2;text-align: center;}#sk-e092b969-48a8-4e2d-9724-1bb60891d2f7 div.sk-container {/* jupyter's `normalize.less` sets `[hidden] { display: none; }` but bootstrap.min.css set `[hidden] { display: none !important; }` so we also need the `!important` here to be able to override the default hidden behavior on the sphinx rendered scikit-learn.org. See: https://github.com/scikit-learn/scikit-learn/issues/21755 */display: inline-block !important;position: relative;}#sk-e092b969-48a8-4e2d-9724-1bb60891d2f7 div.sk-text-repr-fallback {display: none;}</style><div id=\"sk-e092b969-48a8-4e2d-9724-1bb60891d2f7\" class=\"sk-top-container\"><div class=\"sk-text-repr-fallback\"><pre>OneHotEncoder(handle_unknown=&#x27;ignore&#x27;, sparse=False)</pre><b>Please rerun this cell to show the HTML repr or trust the notebook.</b></div><div class=\"sk-container\" hidden><div class=\"sk-item\"><div class=\"sk-estimator sk-toggleable\"><input class=\"sk-toggleable__control sk-hidden--visually\" id=\"ff4a8114-1adf-4fa9-84ae-861e5042eef1\" type=\"checkbox\" checked><label for=\"ff4a8114-1adf-4fa9-84ae-861e5042eef1\" class=\"sk-toggleable__label sk-toggleable__label-arrow\">OneHotEncoder</label><div class=\"sk-toggleable__content\"><pre>OneHotEncoder(handle_unknown=&#x27;ignore&#x27;, sparse=False)</pre></div></div></div></div></div>"
            ]
          },
          "metadata": {},
          "execution_count": 90
        }
      ]
    },
    {
      "cell_type": "code",
      "source": [
        "X_train_ohe = ohe_encoder.transform(X_train_cat)\n",
        "X_test_ohe = ohe_encoder.transform(X_test_cat)\n",
        "X_train_ohe"
      ],
      "metadata": {
        "colab": {
          "base_uri": "https://localhost:8080/"
        },
        "id": "WeZGk_JbqyX3",
        "outputId": "e102f581-e6c5-46fc-95e4-db65d9cdc2c7"
      },
      "execution_count": 91,
      "outputs": [
        {
          "output_type": "execute_result",
          "data": {
            "text/plain": [
              "array([[0., 0., 0., ..., 0., 1., 0.],\n",
              "       [0., 0., 0., ..., 0., 1., 0.],\n",
              "       [0., 0., 0., ..., 1., 0., 0.],\n",
              "       ...,\n",
              "       [0., 0., 0., ..., 1., 0., 0.],\n",
              "       [0., 0., 0., ..., 1., 0., 0.],\n",
              "       [0., 0., 0., ..., 1., 0., 0.]])"
            ]
          },
          "metadata": {},
          "execution_count": 91
        }
      ]
    },
    {
      "cell_type": "code",
      "source": [
        "ohe_col_names = ohe_encoder.get_feature_names_out(cat_cols)\n",
        "ohe_col_names"
      ],
      "metadata": {
        "colab": {
          "base_uri": "https://localhost:8080/"
        },
        "id": "YWi2cnckq2tY",
        "outputId": "651bc81e-bb4c-4887-8ee4-d611957e9cd2"
      },
      "execution_count": 92,
      "outputs": [
        {
          "output_type": "execute_result",
          "data": {
            "text/plain": [
              "array(['Item_Identifier_DRA12', 'Item_Identifier_DRA24',\n",
              "       'Item_Identifier_DRA59', ..., 'Outlet_Type_Supermarket Type1',\n",
              "       'Outlet_Type_Supermarket Type2', 'Outlet_Type_Supermarket Type3'],\n",
              "      dtype=object)"
            ]
          },
          "metadata": {},
          "execution_count": 92
        }
      ]
    },
    {
      "cell_type": "code",
      "source": [
        "X_train_ohe_df = pd.DataFrame(X_train_ohe, columns = ohe_col_names)\n",
        "X_train_ohe_df.reset_index(drop=True, inplace=True)"
      ],
      "metadata": {
        "id": "zTbDkCOErANm"
      },
      "execution_count": 93,
      "outputs": []
    },
    {
      "cell_type": "code",
      "source": [
        "X_test_ohe_df = pd.DataFrame(X_test_ohe, columns = ohe_col_names)\n",
        "X_test_ohe_df.reset_index(drop=True, inplace=True)\n",
        "\n",
        "X_train_ohe_df"
      ],
      "metadata": {
        "colab": {
          "base_uri": "https://localhost:8080/",
          "height": 505
        },
        "id": "HiHtTjNCq_We",
        "outputId": "7ff2f37c-f492-45ea-c85e-84beb5ee2baa"
      },
      "execution_count": 94,
      "outputs": [
        {
          "output_type": "execute_result",
          "data": {
            "text/plain": [
              "      Item_Identifier_DRA12  Item_Identifier_DRA24  Item_Identifier_DRA59  \\\n",
              "0                       0.0                    0.0                    0.0   \n",
              "1                       0.0                    0.0                    0.0   \n",
              "2                       0.0                    0.0                    0.0   \n",
              "3                       0.0                    0.0                    0.0   \n",
              "4                       0.0                    0.0                    0.0   \n",
              "...                     ...                    ...                    ...   \n",
              "6387                    0.0                    0.0                    0.0   \n",
              "6388                    0.0                    0.0                    0.0   \n",
              "6389                    0.0                    0.0                    0.0   \n",
              "6390                    0.0                    0.0                    0.0   \n",
              "6391                    0.0                    0.0                    0.0   \n",
              "\n",
              "      Item_Identifier_DRB01  Item_Identifier_DRB13  Item_Identifier_DRB24  \\\n",
              "0                       0.0                    0.0                    0.0   \n",
              "1                       0.0                    0.0                    0.0   \n",
              "2                       0.0                    0.0                    0.0   \n",
              "3                       0.0                    0.0                    0.0   \n",
              "4                       0.0                    0.0                    0.0   \n",
              "...                     ...                    ...                    ...   \n",
              "6387                    0.0                    0.0                    0.0   \n",
              "6388                    0.0                    0.0                    0.0   \n",
              "6389                    0.0                    0.0                    0.0   \n",
              "6390                    0.0                    0.0                    0.0   \n",
              "6391                    0.0                    0.0                    0.0   \n",
              "\n",
              "      Item_Identifier_DRB25  Item_Identifier_DRB48  Item_Identifier_DRC01  \\\n",
              "0                       0.0                    0.0                    0.0   \n",
              "1                       0.0                    0.0                    0.0   \n",
              "2                       0.0                    0.0                    0.0   \n",
              "3                       0.0                    0.0                    0.0   \n",
              "4                       0.0                    0.0                    0.0   \n",
              "...                     ...                    ...                    ...   \n",
              "6387                    0.0                    0.0                    0.0   \n",
              "6388                    0.0                    0.0                    0.0   \n",
              "6389                    0.0                    0.0                    0.0   \n",
              "6390                    0.0                    0.0                    0.0   \n",
              "6391                    0.0                    0.0                    0.0   \n",
              "\n",
              "      Item_Identifier_DRC12  ...  Outlet_Size_Medium  Outlet_Size_Small  \\\n",
              "0                       0.0  ...                 1.0                0.0   \n",
              "1                       0.0  ...                 1.0                0.0   \n",
              "2                       0.0  ...                 1.0                0.0   \n",
              "3                       0.0  ...                 0.0                1.0   \n",
              "4                       0.0  ...                 0.0                0.0   \n",
              "...                     ...  ...                 ...                ...   \n",
              "6387                    0.0  ...                 0.0                0.0   \n",
              "6388                    0.0  ...                 0.0                0.0   \n",
              "6389                    0.0  ...                 0.0                0.0   \n",
              "6390                    0.0  ...                 0.0                0.0   \n",
              "6391                    0.0  ...                 0.0                1.0   \n",
              "\n",
              "      Outlet_Size_nan  Outlet_Location_Type_Tier 1  \\\n",
              "0                 0.0                          0.0   \n",
              "1                 0.0                          0.0   \n",
              "2                 0.0                          1.0   \n",
              "3                 0.0                          0.0   \n",
              "4                 1.0                          0.0   \n",
              "...               ...                          ...   \n",
              "6387              1.0                          0.0   \n",
              "6388              1.0                          0.0   \n",
              "6389              1.0                          0.0   \n",
              "6390              1.0                          0.0   \n",
              "6391              0.0                          1.0   \n",
              "\n",
              "      Outlet_Location_Type_Tier 2  Outlet_Location_Type_Tier 3  \\\n",
              "0                             0.0                          1.0   \n",
              "1                             0.0                          1.0   \n",
              "2                             0.0                          0.0   \n",
              "3                             1.0                          0.0   \n",
              "4                             1.0                          0.0   \n",
              "...                           ...                          ...   \n",
              "6387                          0.0                          1.0   \n",
              "6388                          1.0                          0.0   \n",
              "6389                          1.0                          0.0   \n",
              "6390                          1.0                          0.0   \n",
              "6391                          0.0                          0.0   \n",
              "\n",
              "      Outlet_Type_Grocery Store  Outlet_Type_Supermarket Type1  \\\n",
              "0                           0.0                            0.0   \n",
              "1                           0.0                            0.0   \n",
              "2                           0.0                            1.0   \n",
              "3                           0.0                            1.0   \n",
              "4                           0.0                            1.0   \n",
              "...                         ...                            ...   \n",
              "6387                        1.0                            0.0   \n",
              "6388                        0.0                            1.0   \n",
              "6389                        0.0                            1.0   \n",
              "6390                        0.0                            1.0   \n",
              "6391                        0.0                            1.0   \n",
              "\n",
              "      Outlet_Type_Supermarket Type2  Outlet_Type_Supermarket Type3  \n",
              "0                               1.0                            0.0  \n",
              "1                               1.0                            0.0  \n",
              "2                               0.0                            0.0  \n",
              "3                               0.0                            0.0  \n",
              "4                               0.0                            0.0  \n",
              "...                             ...                            ...  \n",
              "6387                            0.0                            0.0  \n",
              "6388                            0.0                            0.0  \n",
              "6389                            0.0                            0.0  \n",
              "6390                            0.0                            0.0  \n",
              "6391                            0.0                            0.0  \n",
              "\n",
              "[6392 rows x 1589 columns]"
            ],
            "text/html": [
              "\n",
              "  <div id=\"df-24f29d9c-1fbe-4cb0-984b-68eccbf1ab0a\">\n",
              "    <div class=\"colab-df-container\">\n",
              "      <div>\n",
              "<style scoped>\n",
              "    .dataframe tbody tr th:only-of-type {\n",
              "        vertical-align: middle;\n",
              "    }\n",
              "\n",
              "    .dataframe tbody tr th {\n",
              "        vertical-align: top;\n",
              "    }\n",
              "\n",
              "    .dataframe thead th {\n",
              "        text-align: right;\n",
              "    }\n",
              "</style>\n",
              "<table border=\"1\" class=\"dataframe\">\n",
              "  <thead>\n",
              "    <tr style=\"text-align: right;\">\n",
              "      <th></th>\n",
              "      <th>Item_Identifier_DRA12</th>\n",
              "      <th>Item_Identifier_DRA24</th>\n",
              "      <th>Item_Identifier_DRA59</th>\n",
              "      <th>Item_Identifier_DRB01</th>\n",
              "      <th>Item_Identifier_DRB13</th>\n",
              "      <th>Item_Identifier_DRB24</th>\n",
              "      <th>Item_Identifier_DRB25</th>\n",
              "      <th>Item_Identifier_DRB48</th>\n",
              "      <th>Item_Identifier_DRC01</th>\n",
              "      <th>Item_Identifier_DRC12</th>\n",
              "      <th>...</th>\n",
              "      <th>Outlet_Size_Medium</th>\n",
              "      <th>Outlet_Size_Small</th>\n",
              "      <th>Outlet_Size_nan</th>\n",
              "      <th>Outlet_Location_Type_Tier 1</th>\n",
              "      <th>Outlet_Location_Type_Tier 2</th>\n",
              "      <th>Outlet_Location_Type_Tier 3</th>\n",
              "      <th>Outlet_Type_Grocery Store</th>\n",
              "      <th>Outlet_Type_Supermarket Type1</th>\n",
              "      <th>Outlet_Type_Supermarket Type2</th>\n",
              "      <th>Outlet_Type_Supermarket Type3</th>\n",
              "    </tr>\n",
              "  </thead>\n",
              "  <tbody>\n",
              "    <tr>\n",
              "      <th>0</th>\n",
              "      <td>0.0</td>\n",
              "      <td>0.0</td>\n",
              "      <td>0.0</td>\n",
              "      <td>0.0</td>\n",
              "      <td>0.0</td>\n",
              "      <td>0.0</td>\n",
              "      <td>0.0</td>\n",
              "      <td>0.0</td>\n",
              "      <td>0.0</td>\n",
              "      <td>0.0</td>\n",
              "      <td>...</td>\n",
              "      <td>1.0</td>\n",
              "      <td>0.0</td>\n",
              "      <td>0.0</td>\n",
              "      <td>0.0</td>\n",
              "      <td>0.0</td>\n",
              "      <td>1.0</td>\n",
              "      <td>0.0</td>\n",
              "      <td>0.0</td>\n",
              "      <td>1.0</td>\n",
              "      <td>0.0</td>\n",
              "    </tr>\n",
              "    <tr>\n",
              "      <th>1</th>\n",
              "      <td>0.0</td>\n",
              "      <td>0.0</td>\n",
              "      <td>0.0</td>\n",
              "      <td>0.0</td>\n",
              "      <td>0.0</td>\n",
              "      <td>0.0</td>\n",
              "      <td>0.0</td>\n",
              "      <td>0.0</td>\n",
              "      <td>0.0</td>\n",
              "      <td>0.0</td>\n",
              "      <td>...</td>\n",
              "      <td>1.0</td>\n",
              "      <td>0.0</td>\n",
              "      <td>0.0</td>\n",
              "      <td>0.0</td>\n",
              "      <td>0.0</td>\n",
              "      <td>1.0</td>\n",
              "      <td>0.0</td>\n",
              "      <td>0.0</td>\n",
              "      <td>1.0</td>\n",
              "      <td>0.0</td>\n",
              "    </tr>\n",
              "    <tr>\n",
              "      <th>2</th>\n",
              "      <td>0.0</td>\n",
              "      <td>0.0</td>\n",
              "      <td>0.0</td>\n",
              "      <td>0.0</td>\n",
              "      <td>0.0</td>\n",
              "      <td>0.0</td>\n",
              "      <td>0.0</td>\n",
              "      <td>0.0</td>\n",
              "      <td>0.0</td>\n",
              "      <td>0.0</td>\n",
              "      <td>...</td>\n",
              "      <td>1.0</td>\n",
              "      <td>0.0</td>\n",
              "      <td>0.0</td>\n",
              "      <td>1.0</td>\n",
              "      <td>0.0</td>\n",
              "      <td>0.0</td>\n",
              "      <td>0.0</td>\n",
              "      <td>1.0</td>\n",
              "      <td>0.0</td>\n",
              "      <td>0.0</td>\n",
              "    </tr>\n",
              "    <tr>\n",
              "      <th>3</th>\n",
              "      <td>0.0</td>\n",
              "      <td>0.0</td>\n",
              "      <td>0.0</td>\n",
              "      <td>0.0</td>\n",
              "      <td>0.0</td>\n",
              "      <td>0.0</td>\n",
              "      <td>0.0</td>\n",
              "      <td>0.0</td>\n",
              "      <td>0.0</td>\n",
              "      <td>0.0</td>\n",
              "      <td>...</td>\n",
              "      <td>0.0</td>\n",
              "      <td>1.0</td>\n",
              "      <td>0.0</td>\n",
              "      <td>0.0</td>\n",
              "      <td>1.0</td>\n",
              "      <td>0.0</td>\n",
              "      <td>0.0</td>\n",
              "      <td>1.0</td>\n",
              "      <td>0.0</td>\n",
              "      <td>0.0</td>\n",
              "    </tr>\n",
              "    <tr>\n",
              "      <th>4</th>\n",
              "      <td>0.0</td>\n",
              "      <td>0.0</td>\n",
              "      <td>0.0</td>\n",
              "      <td>0.0</td>\n",
              "      <td>0.0</td>\n",
              "      <td>0.0</td>\n",
              "      <td>0.0</td>\n",
              "      <td>0.0</td>\n",
              "      <td>0.0</td>\n",
              "      <td>0.0</td>\n",
              "      <td>...</td>\n",
              "      <td>0.0</td>\n",
              "      <td>0.0</td>\n",
              "      <td>1.0</td>\n",
              "      <td>0.0</td>\n",
              "      <td>1.0</td>\n",
              "      <td>0.0</td>\n",
              "      <td>0.0</td>\n",
              "      <td>1.0</td>\n",
              "      <td>0.0</td>\n",
              "      <td>0.0</td>\n",
              "    </tr>\n",
              "    <tr>\n",
              "      <th>...</th>\n",
              "      <td>...</td>\n",
              "      <td>...</td>\n",
              "      <td>...</td>\n",
              "      <td>...</td>\n",
              "      <td>...</td>\n",
              "      <td>...</td>\n",
              "      <td>...</td>\n",
              "      <td>...</td>\n",
              "      <td>...</td>\n",
              "      <td>...</td>\n",
              "      <td>...</td>\n",
              "      <td>...</td>\n",
              "      <td>...</td>\n",
              "      <td>...</td>\n",
              "      <td>...</td>\n",
              "      <td>...</td>\n",
              "      <td>...</td>\n",
              "      <td>...</td>\n",
              "      <td>...</td>\n",
              "      <td>...</td>\n",
              "      <td>...</td>\n",
              "    </tr>\n",
              "    <tr>\n",
              "      <th>6387</th>\n",
              "      <td>0.0</td>\n",
              "      <td>0.0</td>\n",
              "      <td>0.0</td>\n",
              "      <td>0.0</td>\n",
              "      <td>0.0</td>\n",
              "      <td>0.0</td>\n",
              "      <td>0.0</td>\n",
              "      <td>0.0</td>\n",
              "      <td>0.0</td>\n",
              "      <td>0.0</td>\n",
              "      <td>...</td>\n",
              "      <td>0.0</td>\n",
              "      <td>0.0</td>\n",
              "      <td>1.0</td>\n",
              "      <td>0.0</td>\n",
              "      <td>0.0</td>\n",
              "      <td>1.0</td>\n",
              "      <td>1.0</td>\n",
              "      <td>0.0</td>\n",
              "      <td>0.0</td>\n",
              "      <td>0.0</td>\n",
              "    </tr>\n",
              "    <tr>\n",
              "      <th>6388</th>\n",
              "      <td>0.0</td>\n",
              "      <td>0.0</td>\n",
              "      <td>0.0</td>\n",
              "      <td>0.0</td>\n",
              "      <td>0.0</td>\n",
              "      <td>0.0</td>\n",
              "      <td>0.0</td>\n",
              "      <td>0.0</td>\n",
              "      <td>0.0</td>\n",
              "      <td>0.0</td>\n",
              "      <td>...</td>\n",
              "      <td>0.0</td>\n",
              "      <td>0.0</td>\n",
              "      <td>1.0</td>\n",
              "      <td>0.0</td>\n",
              "      <td>1.0</td>\n",
              "      <td>0.0</td>\n",
              "      <td>0.0</td>\n",
              "      <td>1.0</td>\n",
              "      <td>0.0</td>\n",
              "      <td>0.0</td>\n",
              "    </tr>\n",
              "    <tr>\n",
              "      <th>6389</th>\n",
              "      <td>0.0</td>\n",
              "      <td>0.0</td>\n",
              "      <td>0.0</td>\n",
              "      <td>0.0</td>\n",
              "      <td>0.0</td>\n",
              "      <td>0.0</td>\n",
              "      <td>0.0</td>\n",
              "      <td>0.0</td>\n",
              "      <td>0.0</td>\n",
              "      <td>0.0</td>\n",
              "      <td>...</td>\n",
              "      <td>0.0</td>\n",
              "      <td>0.0</td>\n",
              "      <td>1.0</td>\n",
              "      <td>0.0</td>\n",
              "      <td>1.0</td>\n",
              "      <td>0.0</td>\n",
              "      <td>0.0</td>\n",
              "      <td>1.0</td>\n",
              "      <td>0.0</td>\n",
              "      <td>0.0</td>\n",
              "    </tr>\n",
              "    <tr>\n",
              "      <th>6390</th>\n",
              "      <td>0.0</td>\n",
              "      <td>0.0</td>\n",
              "      <td>0.0</td>\n",
              "      <td>0.0</td>\n",
              "      <td>0.0</td>\n",
              "      <td>0.0</td>\n",
              "      <td>0.0</td>\n",
              "      <td>0.0</td>\n",
              "      <td>0.0</td>\n",
              "      <td>0.0</td>\n",
              "      <td>...</td>\n",
              "      <td>0.0</td>\n",
              "      <td>0.0</td>\n",
              "      <td>1.0</td>\n",
              "      <td>0.0</td>\n",
              "      <td>1.0</td>\n",
              "      <td>0.0</td>\n",
              "      <td>0.0</td>\n",
              "      <td>1.0</td>\n",
              "      <td>0.0</td>\n",
              "      <td>0.0</td>\n",
              "    </tr>\n",
              "    <tr>\n",
              "      <th>6391</th>\n",
              "      <td>0.0</td>\n",
              "      <td>0.0</td>\n",
              "      <td>0.0</td>\n",
              "      <td>0.0</td>\n",
              "      <td>0.0</td>\n",
              "      <td>0.0</td>\n",
              "      <td>0.0</td>\n",
              "      <td>0.0</td>\n",
              "      <td>0.0</td>\n",
              "      <td>0.0</td>\n",
              "      <td>...</td>\n",
              "      <td>0.0</td>\n",
              "      <td>1.0</td>\n",
              "      <td>0.0</td>\n",
              "      <td>1.0</td>\n",
              "      <td>0.0</td>\n",
              "      <td>0.0</td>\n",
              "      <td>0.0</td>\n",
              "      <td>1.0</td>\n",
              "      <td>0.0</td>\n",
              "      <td>0.0</td>\n",
              "    </tr>\n",
              "  </tbody>\n",
              "</table>\n",
              "<p>6392 rows × 1589 columns</p>\n",
              "</div>\n",
              "      <button class=\"colab-df-convert\" onclick=\"convertToInteractive('df-24f29d9c-1fbe-4cb0-984b-68eccbf1ab0a')\"\n",
              "              title=\"Convert this dataframe to an interactive table.\"\n",
              "              style=\"display:none;\">\n",
              "        \n",
              "  <svg xmlns=\"http://www.w3.org/2000/svg\" height=\"24px\"viewBox=\"0 0 24 24\"\n",
              "       width=\"24px\">\n",
              "    <path d=\"M0 0h24v24H0V0z\" fill=\"none\"/>\n",
              "    <path d=\"M18.56 5.44l.94 2.06.94-2.06 2.06-.94-2.06-.94-.94-2.06-.94 2.06-2.06.94zm-11 1L8.5 8.5l.94-2.06 2.06-.94-2.06-.94L8.5 2.5l-.94 2.06-2.06.94zm10 10l.94 2.06.94-2.06 2.06-.94-2.06-.94-.94-2.06-.94 2.06-2.06.94z\"/><path d=\"M17.41 7.96l-1.37-1.37c-.4-.4-.92-.59-1.43-.59-.52 0-1.04.2-1.43.59L10.3 9.45l-7.72 7.72c-.78.78-.78 2.05 0 2.83L4 21.41c.39.39.9.59 1.41.59.51 0 1.02-.2 1.41-.59l7.78-7.78 2.81-2.81c.8-.78.8-2.07 0-2.86zM5.41 20L4 18.59l7.72-7.72 1.47 1.35L5.41 20z\"/>\n",
              "  </svg>\n",
              "      </button>\n",
              "      \n",
              "  <style>\n",
              "    .colab-df-container {\n",
              "      display:flex;\n",
              "      flex-wrap:wrap;\n",
              "      gap: 12px;\n",
              "    }\n",
              "\n",
              "    .colab-df-convert {\n",
              "      background-color: #E8F0FE;\n",
              "      border: none;\n",
              "      border-radius: 50%;\n",
              "      cursor: pointer;\n",
              "      display: none;\n",
              "      fill: #1967D2;\n",
              "      height: 32px;\n",
              "      padding: 0 0 0 0;\n",
              "      width: 32px;\n",
              "    }\n",
              "\n",
              "    .colab-df-convert:hover {\n",
              "      background-color: #E2EBFA;\n",
              "      box-shadow: 0px 1px 2px rgba(60, 64, 67, 0.3), 0px 1px 3px 1px rgba(60, 64, 67, 0.15);\n",
              "      fill: #174EA6;\n",
              "    }\n",
              "\n",
              "    [theme=dark] .colab-df-convert {\n",
              "      background-color: #3B4455;\n",
              "      fill: #D2E3FC;\n",
              "    }\n",
              "\n",
              "    [theme=dark] .colab-df-convert:hover {\n",
              "      background-color: #434B5C;\n",
              "      box-shadow: 0px 1px 3px 1px rgba(0, 0, 0, 0.15);\n",
              "      filter: drop-shadow(0px 1px 2px rgba(0, 0, 0, 0.3));\n",
              "      fill: #FFFFFF;\n",
              "    }\n",
              "  </style>\n",
              "\n",
              "      <script>\n",
              "        const buttonEl =\n",
              "          document.querySelector('#df-24f29d9c-1fbe-4cb0-984b-68eccbf1ab0a button.colab-df-convert');\n",
              "        buttonEl.style.display =\n",
              "          google.colab.kernel.accessAllowed ? 'block' : 'none';\n",
              "\n",
              "        async function convertToInteractive(key) {\n",
              "          const element = document.querySelector('#df-24f29d9c-1fbe-4cb0-984b-68eccbf1ab0a');\n",
              "          const dataTable =\n",
              "            await google.colab.kernel.invokeFunction('convertToInteractive',\n",
              "                                                     [key], {});\n",
              "          if (!dataTable) return;\n",
              "\n",
              "          const docLinkHtml = 'Like what you see? Visit the ' +\n",
              "            '<a target=\"_blank\" href=https://colab.research.google.com/notebooks/data_table.ipynb>data table notebook</a>'\n",
              "            + ' to learn more about interactive tables.';\n",
              "          element.innerHTML = '';\n",
              "          dataTable['output_type'] = 'display_data';\n",
              "          await google.colab.output.renderOutput(dataTable, element);\n",
              "          const docLink = document.createElement('div');\n",
              "          docLink.innerHTML = docLinkHtml;\n",
              "          element.appendChild(docLink);\n",
              "        }\n",
              "      </script>\n",
              "    </div>\n",
              "  </div>\n",
              "  "
            ]
          },
          "metadata": {},
          "execution_count": 94
        }
      ]
    },
    {
      "cell_type": "code",
      "source": [
        "num_selector = make_column_selector(dtype_include='number')\n",
        "\n",
        "num_cols = num_selector(X_train)\n",
        "num_cols"
      ],
      "metadata": {
        "colab": {
          "base_uri": "https://localhost:8080/"
        },
        "id": "gsl3AHZ6rLuF",
        "outputId": "96310a21-b33d-4497-bfc6-a146040b47f4"
      },
      "execution_count": 95,
      "outputs": [
        {
          "output_type": "execute_result",
          "data": {
            "text/plain": [
              "['Item_Weight', 'Item_Visibility', 'Item_MRP', 'Outlet_Establishment_Year']"
            ]
          },
          "metadata": {},
          "execution_count": 95
        }
      ]
    },
    {
      "cell_type": "code",
      "source": [
        "scaler = StandardScaler()\n",
        "\n",
        "X_train_num = X_train[num_cols]\n",
        "X_test_num = X_test[num_cols]\n",
        "\n",
        "scaler.fit(X_train_num)"
      ],
      "metadata": {
        "colab": {
          "base_uri": "https://localhost:8080/",
          "height": 75
        },
        "id": "2-JKsMOdrSly",
        "outputId": "20ff6bca-671b-42ed-ec1a-8c3a038ca6d0"
      },
      "execution_count": 96,
      "outputs": [
        {
          "output_type": "execute_result",
          "data": {
            "text/plain": [
              "StandardScaler()"
            ],
            "text/html": [
              "<style>#sk-a619364b-e065-4326-8fb1-e2255e6df5e6 {color: black;background-color: white;}#sk-a619364b-e065-4326-8fb1-e2255e6df5e6 pre{padding: 0;}#sk-a619364b-e065-4326-8fb1-e2255e6df5e6 div.sk-toggleable {background-color: white;}#sk-a619364b-e065-4326-8fb1-e2255e6df5e6 label.sk-toggleable__label {cursor: pointer;display: block;width: 100%;margin-bottom: 0;padding: 0.3em;box-sizing: border-box;text-align: center;}#sk-a619364b-e065-4326-8fb1-e2255e6df5e6 label.sk-toggleable__label-arrow:before {content: \"▸\";float: left;margin-right: 0.25em;color: #696969;}#sk-a619364b-e065-4326-8fb1-e2255e6df5e6 label.sk-toggleable__label-arrow:hover:before {color: black;}#sk-a619364b-e065-4326-8fb1-e2255e6df5e6 div.sk-estimator:hover label.sk-toggleable__label-arrow:before {color: black;}#sk-a619364b-e065-4326-8fb1-e2255e6df5e6 div.sk-toggleable__content {max-height: 0;max-width: 0;overflow: hidden;text-align: left;background-color: #f0f8ff;}#sk-a619364b-e065-4326-8fb1-e2255e6df5e6 div.sk-toggleable__content pre {margin: 0.2em;color: black;border-radius: 0.25em;background-color: #f0f8ff;}#sk-a619364b-e065-4326-8fb1-e2255e6df5e6 input.sk-toggleable__control:checked~div.sk-toggleable__content {max-height: 200px;max-width: 100%;overflow: auto;}#sk-a619364b-e065-4326-8fb1-e2255e6df5e6 input.sk-toggleable__control:checked~label.sk-toggleable__label-arrow:before {content: \"▾\";}#sk-a619364b-e065-4326-8fb1-e2255e6df5e6 div.sk-estimator input.sk-toggleable__control:checked~label.sk-toggleable__label {background-color: #d4ebff;}#sk-a619364b-e065-4326-8fb1-e2255e6df5e6 div.sk-label input.sk-toggleable__control:checked~label.sk-toggleable__label {background-color: #d4ebff;}#sk-a619364b-e065-4326-8fb1-e2255e6df5e6 input.sk-hidden--visually {border: 0;clip: rect(1px 1px 1px 1px);clip: rect(1px, 1px, 1px, 1px);height: 1px;margin: -1px;overflow: hidden;padding: 0;position: absolute;width: 1px;}#sk-a619364b-e065-4326-8fb1-e2255e6df5e6 div.sk-estimator {font-family: monospace;background-color: #f0f8ff;border: 1px dotted black;border-radius: 0.25em;box-sizing: border-box;margin-bottom: 0.5em;}#sk-a619364b-e065-4326-8fb1-e2255e6df5e6 div.sk-estimator:hover {background-color: #d4ebff;}#sk-a619364b-e065-4326-8fb1-e2255e6df5e6 div.sk-parallel-item::after {content: \"\";width: 100%;border-bottom: 1px solid gray;flex-grow: 1;}#sk-a619364b-e065-4326-8fb1-e2255e6df5e6 div.sk-label:hover label.sk-toggleable__label {background-color: #d4ebff;}#sk-a619364b-e065-4326-8fb1-e2255e6df5e6 div.sk-serial::before {content: \"\";position: absolute;border-left: 1px solid gray;box-sizing: border-box;top: 2em;bottom: 0;left: 50%;}#sk-a619364b-e065-4326-8fb1-e2255e6df5e6 div.sk-serial {display: flex;flex-direction: column;align-items: center;background-color: white;padding-right: 0.2em;padding-left: 0.2em;}#sk-a619364b-e065-4326-8fb1-e2255e6df5e6 div.sk-item {z-index: 1;}#sk-a619364b-e065-4326-8fb1-e2255e6df5e6 div.sk-parallel {display: flex;align-items: stretch;justify-content: center;background-color: white;}#sk-a619364b-e065-4326-8fb1-e2255e6df5e6 div.sk-parallel::before {content: \"\";position: absolute;border-left: 1px solid gray;box-sizing: border-box;top: 2em;bottom: 0;left: 50%;}#sk-a619364b-e065-4326-8fb1-e2255e6df5e6 div.sk-parallel-item {display: flex;flex-direction: column;position: relative;background-color: white;}#sk-a619364b-e065-4326-8fb1-e2255e6df5e6 div.sk-parallel-item:first-child::after {align-self: flex-end;width: 50%;}#sk-a619364b-e065-4326-8fb1-e2255e6df5e6 div.sk-parallel-item:last-child::after {align-self: flex-start;width: 50%;}#sk-a619364b-e065-4326-8fb1-e2255e6df5e6 div.sk-parallel-item:only-child::after {width: 0;}#sk-a619364b-e065-4326-8fb1-e2255e6df5e6 div.sk-dashed-wrapped {border: 1px dashed gray;margin: 0 0.4em 0.5em 0.4em;box-sizing: border-box;padding-bottom: 0.4em;background-color: white;position: relative;}#sk-a619364b-e065-4326-8fb1-e2255e6df5e6 div.sk-label label {font-family: monospace;font-weight: bold;background-color: white;display: inline-block;line-height: 1.2em;}#sk-a619364b-e065-4326-8fb1-e2255e6df5e6 div.sk-label-container {position: relative;z-index: 2;text-align: center;}#sk-a619364b-e065-4326-8fb1-e2255e6df5e6 div.sk-container {/* jupyter's `normalize.less` sets `[hidden] { display: none; }` but bootstrap.min.css set `[hidden] { display: none !important; }` so we also need the `!important` here to be able to override the default hidden behavior on the sphinx rendered scikit-learn.org. See: https://github.com/scikit-learn/scikit-learn/issues/21755 */display: inline-block !important;position: relative;}#sk-a619364b-e065-4326-8fb1-e2255e6df5e6 div.sk-text-repr-fallback {display: none;}</style><div id=\"sk-a619364b-e065-4326-8fb1-e2255e6df5e6\" class=\"sk-top-container\"><div class=\"sk-text-repr-fallback\"><pre>StandardScaler()</pre><b>Please rerun this cell to show the HTML repr or trust the notebook.</b></div><div class=\"sk-container\" hidden><div class=\"sk-item\"><div class=\"sk-estimator sk-toggleable\"><input class=\"sk-toggleable__control sk-hidden--visually\" id=\"55388ed1-df69-410f-b4f4-3b6e2aa1f740\" type=\"checkbox\" checked><label for=\"55388ed1-df69-410f-b4f4-3b6e2aa1f740\" class=\"sk-toggleable__label sk-toggleable__label-arrow\">StandardScaler</label><div class=\"sk-toggleable__content\"><pre>StandardScaler()</pre></div></div></div></div></div>"
            ]
          },
          "metadata": {},
          "execution_count": 96
        }
      ]
    },
    {
      "cell_type": "code",
      "source": [
        "num_train_scaled = scaler.transform(X_train_num)\n",
        "num_test_scaled = scaler.transform(X_test_num)\n",
        "\n",
        "num_train_scaled"
      ],
      "metadata": {
        "colab": {
          "base_uri": "https://localhost:8080/"
        },
        "id": "qEVC5xGTrjXS",
        "outputId": "a7170ca8-6e84-4d8c-c8ab-efc67b438025"
      },
      "execution_count": 97,
      "outputs": [
        {
          "output_type": "execute_result",
          "data": {
            "text/plain": [
              "array([[ 0.74311896, -0.71277507,  1.82810922,  1.32784893],\n",
              "       [ 0.50587592, -1.29105225,  0.60336888,  1.32784893],\n",
              "       [-0.11958298,  1.81331864,  0.24454056,  0.13618724],\n",
              "       ...,\n",
              "       [ 1.01271331, -0.92052713,  1.52302674,  0.49368575],\n",
              "       [ 1.60582089, -0.2277552 , -0.38377708,  1.0895166 ],\n",
              "       [ 0.74311896, -0.95867683, -0.73836105, -0.10214509]])"
            ]
          },
          "metadata": {},
          "execution_count": 97
        }
      ]
    },
    {
      "cell_type": "code",
      "source": [
        "num_train_scaled = pd.DataFrame(num_train_scaled, columns=num_cols)\n",
        "num_train_scaled.reset_index(drop=True, inplace=True)\n",
        "\n",
        "num_test_scaled = pd.DataFrame(num_test_scaled, columns=num_cols)\n",
        "num_test_scaled.reset_index(drop=True, inplace=True)"
      ],
      "metadata": {
        "id": "pA5-FjP5rqBT"
      },
      "execution_count": 98,
      "outputs": []
    },
    {
      "cell_type": "code",
      "source": [
        "X_train_df = pd.concat([num_train_scaled, X_train_ohe_df], axis=1)\n",
        "X_train_df"
      ],
      "metadata": {
        "id": "K3JXBNv7ruO_",
        "outputId": "32088f17-8bfb-4964-ddb0-064479cc283a",
        "colab": {
          "base_uri": "https://localhost:8080/",
          "height": 505
        }
      },
      "execution_count": 99,
      "outputs": [
        {
          "output_type": "execute_result",
          "data": {
            "text/plain": [
              "      Item_Weight  Item_Visibility  Item_MRP  Outlet_Establishment_Year  \\\n",
              "0        0.743119        -0.712775  1.828109                   1.327849   \n",
              "1        0.505876        -1.291052  0.603369                   1.327849   \n",
              "2       -0.119583         1.813319  0.244541                   0.136187   \n",
              "3       -1.063163        -1.004931 -0.952591                   0.732018   \n",
              "4        1.390145        -0.965484 -0.336460                   0.493686   \n",
              "...           ...              ...       ...                        ...   \n",
              "6387    -0.756904         4.309657 -0.044657                   0.017021   \n",
              "6388     0.581362         1.008625 -1.058907                   1.089517   \n",
              "6389     1.012713        -0.920527  1.523027                   0.493686   \n",
              "6390     1.605821        -0.227755 -0.383777                   1.089517   \n",
              "6391     0.743119        -0.958677 -0.738361                  -0.102145   \n",
              "\n",
              "      Item_Identifier_DRA12  Item_Identifier_DRA24  Item_Identifier_DRA59  \\\n",
              "0                       0.0                    0.0                    0.0   \n",
              "1                       0.0                    0.0                    0.0   \n",
              "2                       0.0                    0.0                    0.0   \n",
              "3                       0.0                    0.0                    0.0   \n",
              "4                       0.0                    0.0                    0.0   \n",
              "...                     ...                    ...                    ...   \n",
              "6387                    0.0                    0.0                    0.0   \n",
              "6388                    0.0                    0.0                    0.0   \n",
              "6389                    0.0                    0.0                    0.0   \n",
              "6390                    0.0                    0.0                    0.0   \n",
              "6391                    0.0                    0.0                    0.0   \n",
              "\n",
              "      Item_Identifier_DRB01  Item_Identifier_DRB13  Item_Identifier_DRB24  \\\n",
              "0                       0.0                    0.0                    0.0   \n",
              "1                       0.0                    0.0                    0.0   \n",
              "2                       0.0                    0.0                    0.0   \n",
              "3                       0.0                    0.0                    0.0   \n",
              "4                       0.0                    0.0                    0.0   \n",
              "...                     ...                    ...                    ...   \n",
              "6387                    0.0                    0.0                    0.0   \n",
              "6388                    0.0                    0.0                    0.0   \n",
              "6389                    0.0                    0.0                    0.0   \n",
              "6390                    0.0                    0.0                    0.0   \n",
              "6391                    0.0                    0.0                    0.0   \n",
              "\n",
              "      ...  Outlet_Size_Medium  Outlet_Size_Small  Outlet_Size_nan  \\\n",
              "0     ...                 1.0                0.0              0.0   \n",
              "1     ...                 1.0                0.0              0.0   \n",
              "2     ...                 1.0                0.0              0.0   \n",
              "3     ...                 0.0                1.0              0.0   \n",
              "4     ...                 0.0                0.0              1.0   \n",
              "...   ...                 ...                ...              ...   \n",
              "6387  ...                 0.0                0.0              1.0   \n",
              "6388  ...                 0.0                0.0              1.0   \n",
              "6389  ...                 0.0                0.0              1.0   \n",
              "6390  ...                 0.0                0.0              1.0   \n",
              "6391  ...                 0.0                1.0              0.0   \n",
              "\n",
              "      Outlet_Location_Type_Tier 1  Outlet_Location_Type_Tier 2  \\\n",
              "0                             0.0                          0.0   \n",
              "1                             0.0                          0.0   \n",
              "2                             1.0                          0.0   \n",
              "3                             0.0                          1.0   \n",
              "4                             0.0                          1.0   \n",
              "...                           ...                          ...   \n",
              "6387                          0.0                          0.0   \n",
              "6388                          0.0                          1.0   \n",
              "6389                          0.0                          1.0   \n",
              "6390                          0.0                          1.0   \n",
              "6391                          1.0                          0.0   \n",
              "\n",
              "      Outlet_Location_Type_Tier 3  Outlet_Type_Grocery Store  \\\n",
              "0                             1.0                        0.0   \n",
              "1                             1.0                        0.0   \n",
              "2                             0.0                        0.0   \n",
              "3                             0.0                        0.0   \n",
              "4                             0.0                        0.0   \n",
              "...                           ...                        ...   \n",
              "6387                          1.0                        1.0   \n",
              "6388                          0.0                        0.0   \n",
              "6389                          0.0                        0.0   \n",
              "6390                          0.0                        0.0   \n",
              "6391                          0.0                        0.0   \n",
              "\n",
              "      Outlet_Type_Supermarket Type1  Outlet_Type_Supermarket Type2  \\\n",
              "0                               0.0                            1.0   \n",
              "1                               0.0                            1.0   \n",
              "2                               1.0                            0.0   \n",
              "3                               1.0                            0.0   \n",
              "4                               1.0                            0.0   \n",
              "...                             ...                            ...   \n",
              "6387                            0.0                            0.0   \n",
              "6388                            1.0                            0.0   \n",
              "6389                            1.0                            0.0   \n",
              "6390                            1.0                            0.0   \n",
              "6391                            1.0                            0.0   \n",
              "\n",
              "      Outlet_Type_Supermarket Type3  \n",
              "0                               0.0  \n",
              "1                               0.0  \n",
              "2                               0.0  \n",
              "3                               0.0  \n",
              "4                               0.0  \n",
              "...                             ...  \n",
              "6387                            0.0  \n",
              "6388                            0.0  \n",
              "6389                            0.0  \n",
              "6390                            0.0  \n",
              "6391                            0.0  \n",
              "\n",
              "[6392 rows x 1593 columns]"
            ],
            "text/html": [
              "\n",
              "  <div id=\"df-74bc9537-7475-4801-9a57-8e951c4e83e5\">\n",
              "    <div class=\"colab-df-container\">\n",
              "      <div>\n",
              "<style scoped>\n",
              "    .dataframe tbody tr th:only-of-type {\n",
              "        vertical-align: middle;\n",
              "    }\n",
              "\n",
              "    .dataframe tbody tr th {\n",
              "        vertical-align: top;\n",
              "    }\n",
              "\n",
              "    .dataframe thead th {\n",
              "        text-align: right;\n",
              "    }\n",
              "</style>\n",
              "<table border=\"1\" class=\"dataframe\">\n",
              "  <thead>\n",
              "    <tr style=\"text-align: right;\">\n",
              "      <th></th>\n",
              "      <th>Item_Weight</th>\n",
              "      <th>Item_Visibility</th>\n",
              "      <th>Item_MRP</th>\n",
              "      <th>Outlet_Establishment_Year</th>\n",
              "      <th>Item_Identifier_DRA12</th>\n",
              "      <th>Item_Identifier_DRA24</th>\n",
              "      <th>Item_Identifier_DRA59</th>\n",
              "      <th>Item_Identifier_DRB01</th>\n",
              "      <th>Item_Identifier_DRB13</th>\n",
              "      <th>Item_Identifier_DRB24</th>\n",
              "      <th>...</th>\n",
              "      <th>Outlet_Size_Medium</th>\n",
              "      <th>Outlet_Size_Small</th>\n",
              "      <th>Outlet_Size_nan</th>\n",
              "      <th>Outlet_Location_Type_Tier 1</th>\n",
              "      <th>Outlet_Location_Type_Tier 2</th>\n",
              "      <th>Outlet_Location_Type_Tier 3</th>\n",
              "      <th>Outlet_Type_Grocery Store</th>\n",
              "      <th>Outlet_Type_Supermarket Type1</th>\n",
              "      <th>Outlet_Type_Supermarket Type2</th>\n",
              "      <th>Outlet_Type_Supermarket Type3</th>\n",
              "    </tr>\n",
              "  </thead>\n",
              "  <tbody>\n",
              "    <tr>\n",
              "      <th>0</th>\n",
              "      <td>0.743119</td>\n",
              "      <td>-0.712775</td>\n",
              "      <td>1.828109</td>\n",
              "      <td>1.327849</td>\n",
              "      <td>0.0</td>\n",
              "      <td>0.0</td>\n",
              "      <td>0.0</td>\n",
              "      <td>0.0</td>\n",
              "      <td>0.0</td>\n",
              "      <td>0.0</td>\n",
              "      <td>...</td>\n",
              "      <td>1.0</td>\n",
              "      <td>0.0</td>\n",
              "      <td>0.0</td>\n",
              "      <td>0.0</td>\n",
              "      <td>0.0</td>\n",
              "      <td>1.0</td>\n",
              "      <td>0.0</td>\n",
              "      <td>0.0</td>\n",
              "      <td>1.0</td>\n",
              "      <td>0.0</td>\n",
              "    </tr>\n",
              "    <tr>\n",
              "      <th>1</th>\n",
              "      <td>0.505876</td>\n",
              "      <td>-1.291052</td>\n",
              "      <td>0.603369</td>\n",
              "      <td>1.327849</td>\n",
              "      <td>0.0</td>\n",
              "      <td>0.0</td>\n",
              "      <td>0.0</td>\n",
              "      <td>0.0</td>\n",
              "      <td>0.0</td>\n",
              "      <td>0.0</td>\n",
              "      <td>...</td>\n",
              "      <td>1.0</td>\n",
              "      <td>0.0</td>\n",
              "      <td>0.0</td>\n",
              "      <td>0.0</td>\n",
              "      <td>0.0</td>\n",
              "      <td>1.0</td>\n",
              "      <td>0.0</td>\n",
              "      <td>0.0</td>\n",
              "      <td>1.0</td>\n",
              "      <td>0.0</td>\n",
              "    </tr>\n",
              "    <tr>\n",
              "      <th>2</th>\n",
              "      <td>-0.119583</td>\n",
              "      <td>1.813319</td>\n",
              "      <td>0.244541</td>\n",
              "      <td>0.136187</td>\n",
              "      <td>0.0</td>\n",
              "      <td>0.0</td>\n",
              "      <td>0.0</td>\n",
              "      <td>0.0</td>\n",
              "      <td>0.0</td>\n",
              "      <td>0.0</td>\n",
              "      <td>...</td>\n",
              "      <td>1.0</td>\n",
              "      <td>0.0</td>\n",
              "      <td>0.0</td>\n",
              "      <td>1.0</td>\n",
              "      <td>0.0</td>\n",
              "      <td>0.0</td>\n",
              "      <td>0.0</td>\n",
              "      <td>1.0</td>\n",
              "      <td>0.0</td>\n",
              "      <td>0.0</td>\n",
              "    </tr>\n",
              "    <tr>\n",
              "      <th>3</th>\n",
              "      <td>-1.063163</td>\n",
              "      <td>-1.004931</td>\n",
              "      <td>-0.952591</td>\n",
              "      <td>0.732018</td>\n",
              "      <td>0.0</td>\n",
              "      <td>0.0</td>\n",
              "      <td>0.0</td>\n",
              "      <td>0.0</td>\n",
              "      <td>0.0</td>\n",
              "      <td>0.0</td>\n",
              "      <td>...</td>\n",
              "      <td>0.0</td>\n",
              "      <td>1.0</td>\n",
              "      <td>0.0</td>\n",
              "      <td>0.0</td>\n",
              "      <td>1.0</td>\n",
              "      <td>0.0</td>\n",
              "      <td>0.0</td>\n",
              "      <td>1.0</td>\n",
              "      <td>0.0</td>\n",
              "      <td>0.0</td>\n",
              "    </tr>\n",
              "    <tr>\n",
              "      <th>4</th>\n",
              "      <td>1.390145</td>\n",
              "      <td>-0.965484</td>\n",
              "      <td>-0.336460</td>\n",
              "      <td>0.493686</td>\n",
              "      <td>0.0</td>\n",
              "      <td>0.0</td>\n",
              "      <td>0.0</td>\n",
              "      <td>0.0</td>\n",
              "      <td>0.0</td>\n",
              "      <td>0.0</td>\n",
              "      <td>...</td>\n",
              "      <td>0.0</td>\n",
              "      <td>0.0</td>\n",
              "      <td>1.0</td>\n",
              "      <td>0.0</td>\n",
              "      <td>1.0</td>\n",
              "      <td>0.0</td>\n",
              "      <td>0.0</td>\n",
              "      <td>1.0</td>\n",
              "      <td>0.0</td>\n",
              "      <td>0.0</td>\n",
              "    </tr>\n",
              "    <tr>\n",
              "      <th>...</th>\n",
              "      <td>...</td>\n",
              "      <td>...</td>\n",
              "      <td>...</td>\n",
              "      <td>...</td>\n",
              "      <td>...</td>\n",
              "      <td>...</td>\n",
              "      <td>...</td>\n",
              "      <td>...</td>\n",
              "      <td>...</td>\n",
              "      <td>...</td>\n",
              "      <td>...</td>\n",
              "      <td>...</td>\n",
              "      <td>...</td>\n",
              "      <td>...</td>\n",
              "      <td>...</td>\n",
              "      <td>...</td>\n",
              "      <td>...</td>\n",
              "      <td>...</td>\n",
              "      <td>...</td>\n",
              "      <td>...</td>\n",
              "      <td>...</td>\n",
              "    </tr>\n",
              "    <tr>\n",
              "      <th>6387</th>\n",
              "      <td>-0.756904</td>\n",
              "      <td>4.309657</td>\n",
              "      <td>-0.044657</td>\n",
              "      <td>0.017021</td>\n",
              "      <td>0.0</td>\n",
              "      <td>0.0</td>\n",
              "      <td>0.0</td>\n",
              "      <td>0.0</td>\n",
              "      <td>0.0</td>\n",
              "      <td>0.0</td>\n",
              "      <td>...</td>\n",
              "      <td>0.0</td>\n",
              "      <td>0.0</td>\n",
              "      <td>1.0</td>\n",
              "      <td>0.0</td>\n",
              "      <td>0.0</td>\n",
              "      <td>1.0</td>\n",
              "      <td>1.0</td>\n",
              "      <td>0.0</td>\n",
              "      <td>0.0</td>\n",
              "      <td>0.0</td>\n",
              "    </tr>\n",
              "    <tr>\n",
              "      <th>6388</th>\n",
              "      <td>0.581362</td>\n",
              "      <td>1.008625</td>\n",
              "      <td>-1.058907</td>\n",
              "      <td>1.089517</td>\n",
              "      <td>0.0</td>\n",
              "      <td>0.0</td>\n",
              "      <td>0.0</td>\n",
              "      <td>0.0</td>\n",
              "      <td>0.0</td>\n",
              "      <td>0.0</td>\n",
              "      <td>...</td>\n",
              "      <td>0.0</td>\n",
              "      <td>0.0</td>\n",
              "      <td>1.0</td>\n",
              "      <td>0.0</td>\n",
              "      <td>1.0</td>\n",
              "      <td>0.0</td>\n",
              "      <td>0.0</td>\n",
              "      <td>1.0</td>\n",
              "      <td>0.0</td>\n",
              "      <td>0.0</td>\n",
              "    </tr>\n",
              "    <tr>\n",
              "      <th>6389</th>\n",
              "      <td>1.012713</td>\n",
              "      <td>-0.920527</td>\n",
              "      <td>1.523027</td>\n",
              "      <td>0.493686</td>\n",
              "      <td>0.0</td>\n",
              "      <td>0.0</td>\n",
              "      <td>0.0</td>\n",
              "      <td>0.0</td>\n",
              "      <td>0.0</td>\n",
              "      <td>0.0</td>\n",
              "      <td>...</td>\n",
              "      <td>0.0</td>\n",
              "      <td>0.0</td>\n",
              "      <td>1.0</td>\n",
              "      <td>0.0</td>\n",
              "      <td>1.0</td>\n",
              "      <td>0.0</td>\n",
              "      <td>0.0</td>\n",
              "      <td>1.0</td>\n",
              "      <td>0.0</td>\n",
              "      <td>0.0</td>\n",
              "    </tr>\n",
              "    <tr>\n",
              "      <th>6390</th>\n",
              "      <td>1.605821</td>\n",
              "      <td>-0.227755</td>\n",
              "      <td>-0.383777</td>\n",
              "      <td>1.089517</td>\n",
              "      <td>0.0</td>\n",
              "      <td>0.0</td>\n",
              "      <td>0.0</td>\n",
              "      <td>0.0</td>\n",
              "      <td>0.0</td>\n",
              "      <td>0.0</td>\n",
              "      <td>...</td>\n",
              "      <td>0.0</td>\n",
              "      <td>0.0</td>\n",
              "      <td>1.0</td>\n",
              "      <td>0.0</td>\n",
              "      <td>1.0</td>\n",
              "      <td>0.0</td>\n",
              "      <td>0.0</td>\n",
              "      <td>1.0</td>\n",
              "      <td>0.0</td>\n",
              "      <td>0.0</td>\n",
              "    </tr>\n",
              "    <tr>\n",
              "      <th>6391</th>\n",
              "      <td>0.743119</td>\n",
              "      <td>-0.958677</td>\n",
              "      <td>-0.738361</td>\n",
              "      <td>-0.102145</td>\n",
              "      <td>0.0</td>\n",
              "      <td>0.0</td>\n",
              "      <td>0.0</td>\n",
              "      <td>0.0</td>\n",
              "      <td>0.0</td>\n",
              "      <td>0.0</td>\n",
              "      <td>...</td>\n",
              "      <td>0.0</td>\n",
              "      <td>1.0</td>\n",
              "      <td>0.0</td>\n",
              "      <td>1.0</td>\n",
              "      <td>0.0</td>\n",
              "      <td>0.0</td>\n",
              "      <td>0.0</td>\n",
              "      <td>1.0</td>\n",
              "      <td>0.0</td>\n",
              "      <td>0.0</td>\n",
              "    </tr>\n",
              "  </tbody>\n",
              "</table>\n",
              "<p>6392 rows × 1593 columns</p>\n",
              "</div>\n",
              "      <button class=\"colab-df-convert\" onclick=\"convertToInteractive('df-74bc9537-7475-4801-9a57-8e951c4e83e5')\"\n",
              "              title=\"Convert this dataframe to an interactive table.\"\n",
              "              style=\"display:none;\">\n",
              "        \n",
              "  <svg xmlns=\"http://www.w3.org/2000/svg\" height=\"24px\"viewBox=\"0 0 24 24\"\n",
              "       width=\"24px\">\n",
              "    <path d=\"M0 0h24v24H0V0z\" fill=\"none\"/>\n",
              "    <path d=\"M18.56 5.44l.94 2.06.94-2.06 2.06-.94-2.06-.94-.94-2.06-.94 2.06-2.06.94zm-11 1L8.5 8.5l.94-2.06 2.06-.94-2.06-.94L8.5 2.5l-.94 2.06-2.06.94zm10 10l.94 2.06.94-2.06 2.06-.94-2.06-.94-.94-2.06-.94 2.06-2.06.94z\"/><path d=\"M17.41 7.96l-1.37-1.37c-.4-.4-.92-.59-1.43-.59-.52 0-1.04.2-1.43.59L10.3 9.45l-7.72 7.72c-.78.78-.78 2.05 0 2.83L4 21.41c.39.39.9.59 1.41.59.51 0 1.02-.2 1.41-.59l7.78-7.78 2.81-2.81c.8-.78.8-2.07 0-2.86zM5.41 20L4 18.59l7.72-7.72 1.47 1.35L5.41 20z\"/>\n",
              "  </svg>\n",
              "      </button>\n",
              "      \n",
              "  <style>\n",
              "    .colab-df-container {\n",
              "      display:flex;\n",
              "      flex-wrap:wrap;\n",
              "      gap: 12px;\n",
              "    }\n",
              "\n",
              "    .colab-df-convert {\n",
              "      background-color: #E8F0FE;\n",
              "      border: none;\n",
              "      border-radius: 50%;\n",
              "      cursor: pointer;\n",
              "      display: none;\n",
              "      fill: #1967D2;\n",
              "      height: 32px;\n",
              "      padding: 0 0 0 0;\n",
              "      width: 32px;\n",
              "    }\n",
              "\n",
              "    .colab-df-convert:hover {\n",
              "      background-color: #E2EBFA;\n",
              "      box-shadow: 0px 1px 2px rgba(60, 64, 67, 0.3), 0px 1px 3px 1px rgba(60, 64, 67, 0.15);\n",
              "      fill: #174EA6;\n",
              "    }\n",
              "\n",
              "    [theme=dark] .colab-df-convert {\n",
              "      background-color: #3B4455;\n",
              "      fill: #D2E3FC;\n",
              "    }\n",
              "\n",
              "    [theme=dark] .colab-df-convert:hover {\n",
              "      background-color: #434B5C;\n",
              "      box-shadow: 0px 1px 3px 1px rgba(0, 0, 0, 0.15);\n",
              "      filter: drop-shadow(0px 1px 2px rgba(0, 0, 0, 0.3));\n",
              "      fill: #FFFFFF;\n",
              "    }\n",
              "  </style>\n",
              "\n",
              "      <script>\n",
              "        const buttonEl =\n",
              "          document.querySelector('#df-74bc9537-7475-4801-9a57-8e951c4e83e5 button.colab-df-convert');\n",
              "        buttonEl.style.display =\n",
              "          google.colab.kernel.accessAllowed ? 'block' : 'none';\n",
              "\n",
              "        async function convertToInteractive(key) {\n",
              "          const element = document.querySelector('#df-74bc9537-7475-4801-9a57-8e951c4e83e5');\n",
              "          const dataTable =\n",
              "            await google.colab.kernel.invokeFunction('convertToInteractive',\n",
              "                                                     [key], {});\n",
              "          if (!dataTable) return;\n",
              "\n",
              "          const docLinkHtml = 'Like what you see? Visit the ' +\n",
              "            '<a target=\"_blank\" href=https://colab.research.google.com/notebooks/data_table.ipynb>data table notebook</a>'\n",
              "            + ' to learn more about interactive tables.';\n",
              "          element.innerHTML = '';\n",
              "          dataTable['output_type'] = 'display_data';\n",
              "          await google.colab.output.renderOutput(dataTable, element);\n",
              "          const docLink = document.createElement('div');\n",
              "          docLink.innerHTML = docLinkHtml;\n",
              "          element.appendChild(docLink);\n",
              "        }\n",
              "      </script>\n",
              "    </div>\n",
              "  </div>\n",
              "  "
            ]
          },
          "metadata": {},
          "execution_count": 99
        }
      ]
    },
    {
      "cell_type": "code",
      "source": [
        "freq_imputer = SimpleImputer(strategy='most_frequent')\n",
        "mean_imputer = SimpleImputer(strategy= 'mean')"
      ],
      "metadata": {
        "id": "tcTt0qJSvVV_"
      },
      "execution_count": 114,
      "outputs": []
    },
    {
      "cell_type": "code",
      "source": [
        "numeric_pipe = make_pipeline(mean_imputer, scaler)\n",
        "numeric_pipe"
      ],
      "metadata": {
        "colab": {
          "base_uri": "https://localhost:8080/",
          "height": 126
        },
        "id": "aOsBw9lWvYeE",
        "outputId": "98047df0-d888-4c35-c6b1-7dc8edbe9d38"
      },
      "execution_count": 115,
      "outputs": [
        {
          "output_type": "execute_result",
          "data": {
            "text/plain": [
              "Pipeline(steps=[('simpleimputer', SimpleImputer()),\n",
              "                ('standardscaler', StandardScaler())])"
            ],
            "text/html": [
              "<style>#sk-06cd9ea5-5ad8-42cb-b566-8e312958fa86 {color: black;background-color: white;}#sk-06cd9ea5-5ad8-42cb-b566-8e312958fa86 pre{padding: 0;}#sk-06cd9ea5-5ad8-42cb-b566-8e312958fa86 div.sk-toggleable {background-color: white;}#sk-06cd9ea5-5ad8-42cb-b566-8e312958fa86 label.sk-toggleable__label {cursor: pointer;display: block;width: 100%;margin-bottom: 0;padding: 0.3em;box-sizing: border-box;text-align: center;}#sk-06cd9ea5-5ad8-42cb-b566-8e312958fa86 label.sk-toggleable__label-arrow:before {content: \"▸\";float: left;margin-right: 0.25em;color: #696969;}#sk-06cd9ea5-5ad8-42cb-b566-8e312958fa86 label.sk-toggleable__label-arrow:hover:before {color: black;}#sk-06cd9ea5-5ad8-42cb-b566-8e312958fa86 div.sk-estimator:hover label.sk-toggleable__label-arrow:before {color: black;}#sk-06cd9ea5-5ad8-42cb-b566-8e312958fa86 div.sk-toggleable__content {max-height: 0;max-width: 0;overflow: hidden;text-align: left;background-color: #f0f8ff;}#sk-06cd9ea5-5ad8-42cb-b566-8e312958fa86 div.sk-toggleable__content pre {margin: 0.2em;color: black;border-radius: 0.25em;background-color: #f0f8ff;}#sk-06cd9ea5-5ad8-42cb-b566-8e312958fa86 input.sk-toggleable__control:checked~div.sk-toggleable__content {max-height: 200px;max-width: 100%;overflow: auto;}#sk-06cd9ea5-5ad8-42cb-b566-8e312958fa86 input.sk-toggleable__control:checked~label.sk-toggleable__label-arrow:before {content: \"▾\";}#sk-06cd9ea5-5ad8-42cb-b566-8e312958fa86 div.sk-estimator input.sk-toggleable__control:checked~label.sk-toggleable__label {background-color: #d4ebff;}#sk-06cd9ea5-5ad8-42cb-b566-8e312958fa86 div.sk-label input.sk-toggleable__control:checked~label.sk-toggleable__label {background-color: #d4ebff;}#sk-06cd9ea5-5ad8-42cb-b566-8e312958fa86 input.sk-hidden--visually {border: 0;clip: rect(1px 1px 1px 1px);clip: rect(1px, 1px, 1px, 1px);height: 1px;margin: -1px;overflow: hidden;padding: 0;position: absolute;width: 1px;}#sk-06cd9ea5-5ad8-42cb-b566-8e312958fa86 div.sk-estimator {font-family: monospace;background-color: #f0f8ff;border: 1px dotted black;border-radius: 0.25em;box-sizing: border-box;margin-bottom: 0.5em;}#sk-06cd9ea5-5ad8-42cb-b566-8e312958fa86 div.sk-estimator:hover {background-color: #d4ebff;}#sk-06cd9ea5-5ad8-42cb-b566-8e312958fa86 div.sk-parallel-item::after {content: \"\";width: 100%;border-bottom: 1px solid gray;flex-grow: 1;}#sk-06cd9ea5-5ad8-42cb-b566-8e312958fa86 div.sk-label:hover label.sk-toggleable__label {background-color: #d4ebff;}#sk-06cd9ea5-5ad8-42cb-b566-8e312958fa86 div.sk-serial::before {content: \"\";position: absolute;border-left: 1px solid gray;box-sizing: border-box;top: 2em;bottom: 0;left: 50%;}#sk-06cd9ea5-5ad8-42cb-b566-8e312958fa86 div.sk-serial {display: flex;flex-direction: column;align-items: center;background-color: white;padding-right: 0.2em;padding-left: 0.2em;}#sk-06cd9ea5-5ad8-42cb-b566-8e312958fa86 div.sk-item {z-index: 1;}#sk-06cd9ea5-5ad8-42cb-b566-8e312958fa86 div.sk-parallel {display: flex;align-items: stretch;justify-content: center;background-color: white;}#sk-06cd9ea5-5ad8-42cb-b566-8e312958fa86 div.sk-parallel::before {content: \"\";position: absolute;border-left: 1px solid gray;box-sizing: border-box;top: 2em;bottom: 0;left: 50%;}#sk-06cd9ea5-5ad8-42cb-b566-8e312958fa86 div.sk-parallel-item {display: flex;flex-direction: column;position: relative;background-color: white;}#sk-06cd9ea5-5ad8-42cb-b566-8e312958fa86 div.sk-parallel-item:first-child::after {align-self: flex-end;width: 50%;}#sk-06cd9ea5-5ad8-42cb-b566-8e312958fa86 div.sk-parallel-item:last-child::after {align-self: flex-start;width: 50%;}#sk-06cd9ea5-5ad8-42cb-b566-8e312958fa86 div.sk-parallel-item:only-child::after {width: 0;}#sk-06cd9ea5-5ad8-42cb-b566-8e312958fa86 div.sk-dashed-wrapped {border: 1px dashed gray;margin: 0 0.4em 0.5em 0.4em;box-sizing: border-box;padding-bottom: 0.4em;background-color: white;position: relative;}#sk-06cd9ea5-5ad8-42cb-b566-8e312958fa86 div.sk-label label {font-family: monospace;font-weight: bold;background-color: white;display: inline-block;line-height: 1.2em;}#sk-06cd9ea5-5ad8-42cb-b566-8e312958fa86 div.sk-label-container {position: relative;z-index: 2;text-align: center;}#sk-06cd9ea5-5ad8-42cb-b566-8e312958fa86 div.sk-container {/* jupyter's `normalize.less` sets `[hidden] { display: none; }` but bootstrap.min.css set `[hidden] { display: none !important; }` so we also need the `!important` here to be able to override the default hidden behavior on the sphinx rendered scikit-learn.org. See: https://github.com/scikit-learn/scikit-learn/issues/21755 */display: inline-block !important;position: relative;}#sk-06cd9ea5-5ad8-42cb-b566-8e312958fa86 div.sk-text-repr-fallback {display: none;}</style><div id=\"sk-06cd9ea5-5ad8-42cb-b566-8e312958fa86\" class=\"sk-top-container\"><div class=\"sk-text-repr-fallback\"><pre>Pipeline(steps=[(&#x27;simpleimputer&#x27;, SimpleImputer()),\n",
              "                (&#x27;standardscaler&#x27;, StandardScaler())])</pre><b>Please rerun this cell to show the HTML repr or trust the notebook.</b></div><div class=\"sk-container\" hidden><div class=\"sk-item sk-dashed-wrapped\"><div class=\"sk-label-container\"><div class=\"sk-label sk-toggleable\"><input class=\"sk-toggleable__control sk-hidden--visually\" id=\"f0760bb8-1dbc-4a21-8a6f-81b50731b73a\" type=\"checkbox\" ><label for=\"f0760bb8-1dbc-4a21-8a6f-81b50731b73a\" class=\"sk-toggleable__label sk-toggleable__label-arrow\">Pipeline</label><div class=\"sk-toggleable__content\"><pre>Pipeline(steps=[(&#x27;simpleimputer&#x27;, SimpleImputer()),\n",
              "                (&#x27;standardscaler&#x27;, StandardScaler())])</pre></div></div></div><div class=\"sk-serial\"><div class=\"sk-item\"><div class=\"sk-estimator sk-toggleable\"><input class=\"sk-toggleable__control sk-hidden--visually\" id=\"26e5ec0f-1cc5-442b-b212-456284b67dd2\" type=\"checkbox\" ><label for=\"26e5ec0f-1cc5-442b-b212-456284b67dd2\" class=\"sk-toggleable__label sk-toggleable__label-arrow\">SimpleImputer</label><div class=\"sk-toggleable__content\"><pre>SimpleImputer()</pre></div></div></div><div class=\"sk-item\"><div class=\"sk-estimator sk-toggleable\"><input class=\"sk-toggleable__control sk-hidden--visually\" id=\"b97f8fa6-952a-4d48-9ecf-2e8122c94281\" type=\"checkbox\" ><label for=\"b97f8fa6-952a-4d48-9ecf-2e8122c94281\" class=\"sk-toggleable__label sk-toggleable__label-arrow\">StandardScaler</label><div class=\"sk-toggleable__content\"><pre>StandardScaler()</pre></div></div></div></div></div></div></div>"
            ]
          },
          "metadata": {},
          "execution_count": 115
        }
      ]
    },
    {
      "cell_type": "code",
      "source": [
        "categorical_pipe = make_pipeline(freq_imputer, ohe)\n",
        "categorical_pipe"
      ],
      "metadata": {
        "colab": {
          "base_uri": "https://localhost:8080/",
          "height": 126
        },
        "id": "cGwy6POjvbF8",
        "outputId": "b1d01af6-84de-4d51-fa48-f995bb74f1dc"
      },
      "execution_count": 116,
      "outputs": [
        {
          "output_type": "execute_result",
          "data": {
            "text/plain": [
              "Pipeline(steps=[('simpleimputer', SimpleImputer(strategy='most_frequent')),\n",
              "                ('onehotencoder',\n",
              "                 OneHotEncoder(handle_unknown='ignore', sparse=False))])"
            ],
            "text/html": [
              "<style>#sk-d6df48e1-e910-4359-96cb-eb1332a4a20f {color: black;background-color: white;}#sk-d6df48e1-e910-4359-96cb-eb1332a4a20f pre{padding: 0;}#sk-d6df48e1-e910-4359-96cb-eb1332a4a20f div.sk-toggleable {background-color: white;}#sk-d6df48e1-e910-4359-96cb-eb1332a4a20f label.sk-toggleable__label {cursor: pointer;display: block;width: 100%;margin-bottom: 0;padding: 0.3em;box-sizing: border-box;text-align: center;}#sk-d6df48e1-e910-4359-96cb-eb1332a4a20f label.sk-toggleable__label-arrow:before {content: \"▸\";float: left;margin-right: 0.25em;color: #696969;}#sk-d6df48e1-e910-4359-96cb-eb1332a4a20f label.sk-toggleable__label-arrow:hover:before {color: black;}#sk-d6df48e1-e910-4359-96cb-eb1332a4a20f div.sk-estimator:hover label.sk-toggleable__label-arrow:before {color: black;}#sk-d6df48e1-e910-4359-96cb-eb1332a4a20f div.sk-toggleable__content {max-height: 0;max-width: 0;overflow: hidden;text-align: left;background-color: #f0f8ff;}#sk-d6df48e1-e910-4359-96cb-eb1332a4a20f div.sk-toggleable__content pre {margin: 0.2em;color: black;border-radius: 0.25em;background-color: #f0f8ff;}#sk-d6df48e1-e910-4359-96cb-eb1332a4a20f input.sk-toggleable__control:checked~div.sk-toggleable__content {max-height: 200px;max-width: 100%;overflow: auto;}#sk-d6df48e1-e910-4359-96cb-eb1332a4a20f input.sk-toggleable__control:checked~label.sk-toggleable__label-arrow:before {content: \"▾\";}#sk-d6df48e1-e910-4359-96cb-eb1332a4a20f div.sk-estimator input.sk-toggleable__control:checked~label.sk-toggleable__label {background-color: #d4ebff;}#sk-d6df48e1-e910-4359-96cb-eb1332a4a20f div.sk-label input.sk-toggleable__control:checked~label.sk-toggleable__label {background-color: #d4ebff;}#sk-d6df48e1-e910-4359-96cb-eb1332a4a20f input.sk-hidden--visually {border: 0;clip: rect(1px 1px 1px 1px);clip: rect(1px, 1px, 1px, 1px);height: 1px;margin: -1px;overflow: hidden;padding: 0;position: absolute;width: 1px;}#sk-d6df48e1-e910-4359-96cb-eb1332a4a20f div.sk-estimator {font-family: monospace;background-color: #f0f8ff;border: 1px dotted black;border-radius: 0.25em;box-sizing: border-box;margin-bottom: 0.5em;}#sk-d6df48e1-e910-4359-96cb-eb1332a4a20f div.sk-estimator:hover {background-color: #d4ebff;}#sk-d6df48e1-e910-4359-96cb-eb1332a4a20f div.sk-parallel-item::after {content: \"\";width: 100%;border-bottom: 1px solid gray;flex-grow: 1;}#sk-d6df48e1-e910-4359-96cb-eb1332a4a20f div.sk-label:hover label.sk-toggleable__label {background-color: #d4ebff;}#sk-d6df48e1-e910-4359-96cb-eb1332a4a20f div.sk-serial::before {content: \"\";position: absolute;border-left: 1px solid gray;box-sizing: border-box;top: 2em;bottom: 0;left: 50%;}#sk-d6df48e1-e910-4359-96cb-eb1332a4a20f div.sk-serial {display: flex;flex-direction: column;align-items: center;background-color: white;padding-right: 0.2em;padding-left: 0.2em;}#sk-d6df48e1-e910-4359-96cb-eb1332a4a20f div.sk-item {z-index: 1;}#sk-d6df48e1-e910-4359-96cb-eb1332a4a20f div.sk-parallel {display: flex;align-items: stretch;justify-content: center;background-color: white;}#sk-d6df48e1-e910-4359-96cb-eb1332a4a20f div.sk-parallel::before {content: \"\";position: absolute;border-left: 1px solid gray;box-sizing: border-box;top: 2em;bottom: 0;left: 50%;}#sk-d6df48e1-e910-4359-96cb-eb1332a4a20f div.sk-parallel-item {display: flex;flex-direction: column;position: relative;background-color: white;}#sk-d6df48e1-e910-4359-96cb-eb1332a4a20f div.sk-parallel-item:first-child::after {align-self: flex-end;width: 50%;}#sk-d6df48e1-e910-4359-96cb-eb1332a4a20f div.sk-parallel-item:last-child::after {align-self: flex-start;width: 50%;}#sk-d6df48e1-e910-4359-96cb-eb1332a4a20f div.sk-parallel-item:only-child::after {width: 0;}#sk-d6df48e1-e910-4359-96cb-eb1332a4a20f div.sk-dashed-wrapped {border: 1px dashed gray;margin: 0 0.4em 0.5em 0.4em;box-sizing: border-box;padding-bottom: 0.4em;background-color: white;position: relative;}#sk-d6df48e1-e910-4359-96cb-eb1332a4a20f div.sk-label label {font-family: monospace;font-weight: bold;background-color: white;display: inline-block;line-height: 1.2em;}#sk-d6df48e1-e910-4359-96cb-eb1332a4a20f div.sk-label-container {position: relative;z-index: 2;text-align: center;}#sk-d6df48e1-e910-4359-96cb-eb1332a4a20f div.sk-container {/* jupyter's `normalize.less` sets `[hidden] { display: none; }` but bootstrap.min.css set `[hidden] { display: none !important; }` so we also need the `!important` here to be able to override the default hidden behavior on the sphinx rendered scikit-learn.org. See: https://github.com/scikit-learn/scikit-learn/issues/21755 */display: inline-block !important;position: relative;}#sk-d6df48e1-e910-4359-96cb-eb1332a4a20f div.sk-text-repr-fallback {display: none;}</style><div id=\"sk-d6df48e1-e910-4359-96cb-eb1332a4a20f\" class=\"sk-top-container\"><div class=\"sk-text-repr-fallback\"><pre>Pipeline(steps=[(&#x27;simpleimputer&#x27;, SimpleImputer(strategy=&#x27;most_frequent&#x27;)),\n",
              "                (&#x27;onehotencoder&#x27;,\n",
              "                 OneHotEncoder(handle_unknown=&#x27;ignore&#x27;, sparse=False))])</pre><b>Please rerun this cell to show the HTML repr or trust the notebook.</b></div><div class=\"sk-container\" hidden><div class=\"sk-item sk-dashed-wrapped\"><div class=\"sk-label-container\"><div class=\"sk-label sk-toggleable\"><input class=\"sk-toggleable__control sk-hidden--visually\" id=\"95b50a54-ede7-4dd3-802b-df57c7a9906b\" type=\"checkbox\" ><label for=\"95b50a54-ede7-4dd3-802b-df57c7a9906b\" class=\"sk-toggleable__label sk-toggleable__label-arrow\">Pipeline</label><div class=\"sk-toggleable__content\"><pre>Pipeline(steps=[(&#x27;simpleimputer&#x27;, SimpleImputer(strategy=&#x27;most_frequent&#x27;)),\n",
              "                (&#x27;onehotencoder&#x27;,\n",
              "                 OneHotEncoder(handle_unknown=&#x27;ignore&#x27;, sparse=False))])</pre></div></div></div><div class=\"sk-serial\"><div class=\"sk-item\"><div class=\"sk-estimator sk-toggleable\"><input class=\"sk-toggleable__control sk-hidden--visually\" id=\"ba7fb53e-7689-4e65-a4f9-e5aa7b40aee2\" type=\"checkbox\" ><label for=\"ba7fb53e-7689-4e65-a4f9-e5aa7b40aee2\" class=\"sk-toggleable__label sk-toggleable__label-arrow\">SimpleImputer</label><div class=\"sk-toggleable__content\"><pre>SimpleImputer(strategy=&#x27;most_frequent&#x27;)</pre></div></div></div><div class=\"sk-item\"><div class=\"sk-estimator sk-toggleable\"><input class=\"sk-toggleable__control sk-hidden--visually\" id=\"74b27c45-7959-495e-af14-7b37ead21379\" type=\"checkbox\" ><label for=\"74b27c45-7959-495e-af14-7b37ead21379\" class=\"sk-toggleable__label sk-toggleable__label-arrow\">OneHotEncoder</label><div class=\"sk-toggleable__content\"><pre>OneHotEncoder(handle_unknown=&#x27;ignore&#x27;, sparse=False)</pre></div></div></div></div></div></div></div>"
            ]
          },
          "metadata": {},
          "execution_count": 116
        }
      ]
    },
    {
      "cell_type": "code",
      "source": [
        "number_tuple = (numeric_pipe, num_selector)\n",
        "category_tuple = (categorical_pipe, cat_selector)\n",
        "preprocessor = make_column_transformer(number_tuple, category_tuple,remainder= 'passthrough')\n",
        "preprocessor"
      ],
      "metadata": {
        "colab": {
          "base_uri": "https://localhost:8080/",
          "height": 152
        },
        "id": "evRFw3j3vcw9",
        "outputId": "867c6671-d63a-4345-c52e-d686872a08a1"
      },
      "execution_count": 117,
      "outputs": [
        {
          "output_type": "execute_result",
          "data": {
            "text/plain": [
              "ColumnTransformer(remainder='passthrough',\n",
              "                  transformers=[('pipeline-1',\n",
              "                                 Pipeline(steps=[('simpleimputer',\n",
              "                                                  SimpleImputer()),\n",
              "                                                 ('standardscaler',\n",
              "                                                  StandardScaler())]),\n",
              "                                 <sklearn.compose._column_transformer.make_column_selector object at 0x7fb56f78b090>),\n",
              "                                ('pipeline-2',\n",
              "                                 Pipeline(steps=[('simpleimputer',\n",
              "                                                  SimpleImputer(strategy='most_frequent')),\n",
              "                                                 ('onehotencoder',\n",
              "                                                  OneHotEncoder(handle_unknown='ignore',\n",
              "                                                                sparse=False))]),\n",
              "                                 <sklearn.compose._column_transformer.make_column_selector object at 0x7fb56f84a050>)])"
            ],
            "text/html": [
              "<style>#sk-a42e20e0-c3f5-4e8a-96aa-a585714201f7 {color: black;background-color: white;}#sk-a42e20e0-c3f5-4e8a-96aa-a585714201f7 pre{padding: 0;}#sk-a42e20e0-c3f5-4e8a-96aa-a585714201f7 div.sk-toggleable {background-color: white;}#sk-a42e20e0-c3f5-4e8a-96aa-a585714201f7 label.sk-toggleable__label {cursor: pointer;display: block;width: 100%;margin-bottom: 0;padding: 0.3em;box-sizing: border-box;text-align: center;}#sk-a42e20e0-c3f5-4e8a-96aa-a585714201f7 label.sk-toggleable__label-arrow:before {content: \"▸\";float: left;margin-right: 0.25em;color: #696969;}#sk-a42e20e0-c3f5-4e8a-96aa-a585714201f7 label.sk-toggleable__label-arrow:hover:before {color: black;}#sk-a42e20e0-c3f5-4e8a-96aa-a585714201f7 div.sk-estimator:hover label.sk-toggleable__label-arrow:before {color: black;}#sk-a42e20e0-c3f5-4e8a-96aa-a585714201f7 div.sk-toggleable__content {max-height: 0;max-width: 0;overflow: hidden;text-align: left;background-color: #f0f8ff;}#sk-a42e20e0-c3f5-4e8a-96aa-a585714201f7 div.sk-toggleable__content pre {margin: 0.2em;color: black;border-radius: 0.25em;background-color: #f0f8ff;}#sk-a42e20e0-c3f5-4e8a-96aa-a585714201f7 input.sk-toggleable__control:checked~div.sk-toggleable__content {max-height: 200px;max-width: 100%;overflow: auto;}#sk-a42e20e0-c3f5-4e8a-96aa-a585714201f7 input.sk-toggleable__control:checked~label.sk-toggleable__label-arrow:before {content: \"▾\";}#sk-a42e20e0-c3f5-4e8a-96aa-a585714201f7 div.sk-estimator input.sk-toggleable__control:checked~label.sk-toggleable__label {background-color: #d4ebff;}#sk-a42e20e0-c3f5-4e8a-96aa-a585714201f7 div.sk-label input.sk-toggleable__control:checked~label.sk-toggleable__label {background-color: #d4ebff;}#sk-a42e20e0-c3f5-4e8a-96aa-a585714201f7 input.sk-hidden--visually {border: 0;clip: rect(1px 1px 1px 1px);clip: rect(1px, 1px, 1px, 1px);height: 1px;margin: -1px;overflow: hidden;padding: 0;position: absolute;width: 1px;}#sk-a42e20e0-c3f5-4e8a-96aa-a585714201f7 div.sk-estimator {font-family: monospace;background-color: #f0f8ff;border: 1px dotted black;border-radius: 0.25em;box-sizing: border-box;margin-bottom: 0.5em;}#sk-a42e20e0-c3f5-4e8a-96aa-a585714201f7 div.sk-estimator:hover {background-color: #d4ebff;}#sk-a42e20e0-c3f5-4e8a-96aa-a585714201f7 div.sk-parallel-item::after {content: \"\";width: 100%;border-bottom: 1px solid gray;flex-grow: 1;}#sk-a42e20e0-c3f5-4e8a-96aa-a585714201f7 div.sk-label:hover label.sk-toggleable__label {background-color: #d4ebff;}#sk-a42e20e0-c3f5-4e8a-96aa-a585714201f7 div.sk-serial::before {content: \"\";position: absolute;border-left: 1px solid gray;box-sizing: border-box;top: 2em;bottom: 0;left: 50%;}#sk-a42e20e0-c3f5-4e8a-96aa-a585714201f7 div.sk-serial {display: flex;flex-direction: column;align-items: center;background-color: white;padding-right: 0.2em;padding-left: 0.2em;}#sk-a42e20e0-c3f5-4e8a-96aa-a585714201f7 div.sk-item {z-index: 1;}#sk-a42e20e0-c3f5-4e8a-96aa-a585714201f7 div.sk-parallel {display: flex;align-items: stretch;justify-content: center;background-color: white;}#sk-a42e20e0-c3f5-4e8a-96aa-a585714201f7 div.sk-parallel::before {content: \"\";position: absolute;border-left: 1px solid gray;box-sizing: border-box;top: 2em;bottom: 0;left: 50%;}#sk-a42e20e0-c3f5-4e8a-96aa-a585714201f7 div.sk-parallel-item {display: flex;flex-direction: column;position: relative;background-color: white;}#sk-a42e20e0-c3f5-4e8a-96aa-a585714201f7 div.sk-parallel-item:first-child::after {align-self: flex-end;width: 50%;}#sk-a42e20e0-c3f5-4e8a-96aa-a585714201f7 div.sk-parallel-item:last-child::after {align-self: flex-start;width: 50%;}#sk-a42e20e0-c3f5-4e8a-96aa-a585714201f7 div.sk-parallel-item:only-child::after {width: 0;}#sk-a42e20e0-c3f5-4e8a-96aa-a585714201f7 div.sk-dashed-wrapped {border: 1px dashed gray;margin: 0 0.4em 0.5em 0.4em;box-sizing: border-box;padding-bottom: 0.4em;background-color: white;position: relative;}#sk-a42e20e0-c3f5-4e8a-96aa-a585714201f7 div.sk-label label {font-family: monospace;font-weight: bold;background-color: white;display: inline-block;line-height: 1.2em;}#sk-a42e20e0-c3f5-4e8a-96aa-a585714201f7 div.sk-label-container {position: relative;z-index: 2;text-align: center;}#sk-a42e20e0-c3f5-4e8a-96aa-a585714201f7 div.sk-container {/* jupyter's `normalize.less` sets `[hidden] { display: none; }` but bootstrap.min.css set `[hidden] { display: none !important; }` so we also need the `!important` here to be able to override the default hidden behavior on the sphinx rendered scikit-learn.org. See: https://github.com/scikit-learn/scikit-learn/issues/21755 */display: inline-block !important;position: relative;}#sk-a42e20e0-c3f5-4e8a-96aa-a585714201f7 div.sk-text-repr-fallback {display: none;}</style><div id=\"sk-a42e20e0-c3f5-4e8a-96aa-a585714201f7\" class=\"sk-top-container\"><div class=\"sk-text-repr-fallback\"><pre>ColumnTransformer(remainder=&#x27;passthrough&#x27;,\n",
              "                  transformers=[(&#x27;pipeline-1&#x27;,\n",
              "                                 Pipeline(steps=[(&#x27;simpleimputer&#x27;,\n",
              "                                                  SimpleImputer()),\n",
              "                                                 (&#x27;standardscaler&#x27;,\n",
              "                                                  StandardScaler())]),\n",
              "                                 &lt;sklearn.compose._column_transformer.make_column_selector object at 0x7fb56f78b090&gt;),\n",
              "                                (&#x27;pipeline-2&#x27;,\n",
              "                                 Pipeline(steps=[(&#x27;simpleimputer&#x27;,\n",
              "                                                  SimpleImputer(strategy=&#x27;most_frequent&#x27;)),\n",
              "                                                 (&#x27;onehotencoder&#x27;,\n",
              "                                                  OneHotEncoder(handle_unknown=&#x27;ignore&#x27;,\n",
              "                                                                sparse=False))]),\n",
              "                                 &lt;sklearn.compose._column_transformer.make_column_selector object at 0x7fb56f84a050&gt;)])</pre><b>Please rerun this cell to show the HTML repr or trust the notebook.</b></div><div class=\"sk-container\" hidden><div class=\"sk-item sk-dashed-wrapped\"><div class=\"sk-label-container\"><div class=\"sk-label sk-toggleable\"><input class=\"sk-toggleable__control sk-hidden--visually\" id=\"3340cc76-e5d1-41cd-91bd-82ffd811ea6a\" type=\"checkbox\" ><label for=\"3340cc76-e5d1-41cd-91bd-82ffd811ea6a\" class=\"sk-toggleable__label sk-toggleable__label-arrow\">ColumnTransformer</label><div class=\"sk-toggleable__content\"><pre>ColumnTransformer(remainder=&#x27;passthrough&#x27;,\n",
              "                  transformers=[(&#x27;pipeline-1&#x27;,\n",
              "                                 Pipeline(steps=[(&#x27;simpleimputer&#x27;,\n",
              "                                                  SimpleImputer()),\n",
              "                                                 (&#x27;standardscaler&#x27;,\n",
              "                                                  StandardScaler())]),\n",
              "                                 &lt;sklearn.compose._column_transformer.make_column_selector object at 0x7fb56f78b090&gt;),\n",
              "                                (&#x27;pipeline-2&#x27;,\n",
              "                                 Pipeline(steps=[(&#x27;simpleimputer&#x27;,\n",
              "                                                  SimpleImputer(strategy=&#x27;most_frequent&#x27;)),\n",
              "                                                 (&#x27;onehotencoder&#x27;,\n",
              "                                                  OneHotEncoder(handle_unknown=&#x27;ignore&#x27;,\n",
              "                                                                sparse=False))]),\n",
              "                                 &lt;sklearn.compose._column_transformer.make_column_selector object at 0x7fb56f84a050&gt;)])</pre></div></div></div><div class=\"sk-parallel\"><div class=\"sk-parallel-item\"><div class=\"sk-item\"><div class=\"sk-label-container\"><div class=\"sk-label sk-toggleable\"><input class=\"sk-toggleable__control sk-hidden--visually\" id=\"5a8e70b6-ed77-4045-80a2-3217ce0fd9a0\" type=\"checkbox\" ><label for=\"5a8e70b6-ed77-4045-80a2-3217ce0fd9a0\" class=\"sk-toggleable__label sk-toggleable__label-arrow\">pipeline-1</label><div class=\"sk-toggleable__content\"><pre>&lt;sklearn.compose._column_transformer.make_column_selector object at 0x7fb56f78b090&gt;</pre></div></div></div><div class=\"sk-serial\"><div class=\"sk-item\"><div class=\"sk-serial\"><div class=\"sk-item\"><div class=\"sk-estimator sk-toggleable\"><input class=\"sk-toggleable__control sk-hidden--visually\" id=\"abe4f616-9984-43c2-9d63-b503dfae47ce\" type=\"checkbox\" ><label for=\"abe4f616-9984-43c2-9d63-b503dfae47ce\" class=\"sk-toggleable__label sk-toggleable__label-arrow\">SimpleImputer</label><div class=\"sk-toggleable__content\"><pre>SimpleImputer()</pre></div></div></div><div class=\"sk-item\"><div class=\"sk-estimator sk-toggleable\"><input class=\"sk-toggleable__control sk-hidden--visually\" id=\"7d919056-3388-426d-9a02-8ff72973b29d\" type=\"checkbox\" ><label for=\"7d919056-3388-426d-9a02-8ff72973b29d\" class=\"sk-toggleable__label sk-toggleable__label-arrow\">StandardScaler</label><div class=\"sk-toggleable__content\"><pre>StandardScaler()</pre></div></div></div></div></div></div></div></div><div class=\"sk-parallel-item\"><div class=\"sk-item\"><div class=\"sk-label-container\"><div class=\"sk-label sk-toggleable\"><input class=\"sk-toggleable__control sk-hidden--visually\" id=\"e2ca364f-9af8-4abe-8d3c-72ead3bfd25b\" type=\"checkbox\" ><label for=\"e2ca364f-9af8-4abe-8d3c-72ead3bfd25b\" class=\"sk-toggleable__label sk-toggleable__label-arrow\">pipeline-2</label><div class=\"sk-toggleable__content\"><pre>&lt;sklearn.compose._column_transformer.make_column_selector object at 0x7fb56f84a050&gt;</pre></div></div></div><div class=\"sk-serial\"><div class=\"sk-item\"><div class=\"sk-serial\"><div class=\"sk-item\"><div class=\"sk-estimator sk-toggleable\"><input class=\"sk-toggleable__control sk-hidden--visually\" id=\"ad1b5c71-1ca0-40c3-8d08-3227e68e34cc\" type=\"checkbox\" ><label for=\"ad1b5c71-1ca0-40c3-8d08-3227e68e34cc\" class=\"sk-toggleable__label sk-toggleable__label-arrow\">SimpleImputer</label><div class=\"sk-toggleable__content\"><pre>SimpleImputer(strategy=&#x27;most_frequent&#x27;)</pre></div></div></div><div class=\"sk-item\"><div class=\"sk-estimator sk-toggleable\"><input class=\"sk-toggleable__control sk-hidden--visually\" id=\"4b7173ae-af8c-42a4-89dd-9c725f829939\" type=\"checkbox\" ><label for=\"4b7173ae-af8c-42a4-89dd-9c725f829939\" class=\"sk-toggleable__label sk-toggleable__label-arrow\">OneHotEncoder</label><div class=\"sk-toggleable__content\"><pre>OneHotEncoder(handle_unknown=&#x27;ignore&#x27;, sparse=False)</pre></div></div></div></div></div></div></div></div><div class=\"sk-parallel-item\"><div class=\"sk-item\"><div class=\"sk-label-container\"><div class=\"sk-label sk-toggleable\"><input class=\"sk-toggleable__control sk-hidden--visually\" id=\"61ead6ff-1501-4dd8-93b3-57ecbb14b7c9\" type=\"checkbox\" ><label for=\"61ead6ff-1501-4dd8-93b3-57ecbb14b7c9\" class=\"sk-toggleable__label sk-toggleable__label-arrow\">remainder</label><div class=\"sk-toggleable__content\"><pre></pre></div></div></div><div class=\"sk-serial\"><div class=\"sk-item\"><div class=\"sk-estimator sk-toggleable\"><input class=\"sk-toggleable__control sk-hidden--visually\" id=\"77b8840f-4026-497f-b67d-b19b4e88eedb\" type=\"checkbox\" ><label for=\"77b8840f-4026-497f-b67d-b19b4e88eedb\" class=\"sk-toggleable__label sk-toggleable__label-arrow\">passthrough</label><div class=\"sk-toggleable__content\"><pre>passthrough</pre></div></div></div></div></div></div></div></div></div></div>"
            ]
          },
          "metadata": {},
          "execution_count": 117
        }
      ]
    },
    {
      "cell_type": "code",
      "source": [
        "preprocessor.fit(X_train)"
      ],
      "metadata": {
        "colab": {
          "base_uri": "https://localhost:8080/",
          "height": 152
        },
        "id": "uuXemlOvvhEw",
        "outputId": "e6fb8603-f352-4edc-a0e2-d29b6d0effd1"
      },
      "execution_count": 118,
      "outputs": [
        {
          "output_type": "execute_result",
          "data": {
            "text/plain": [
              "ColumnTransformer(remainder='passthrough',\n",
              "                  transformers=[('pipeline-1',\n",
              "                                 Pipeline(steps=[('simpleimputer',\n",
              "                                                  SimpleImputer()),\n",
              "                                                 ('standardscaler',\n",
              "                                                  StandardScaler())]),\n",
              "                                 <sklearn.compose._column_transformer.make_column_selector object at 0x7fb56f78b090>),\n",
              "                                ('pipeline-2',\n",
              "                                 Pipeline(steps=[('simpleimputer',\n",
              "                                                  SimpleImputer(strategy='most_frequent')),\n",
              "                                                 ('onehotencoder',\n",
              "                                                  OneHotEncoder(handle_unknown='ignore',\n",
              "                                                                sparse=False))]),\n",
              "                                 <sklearn.compose._column_transformer.make_column_selector object at 0x7fb56f84a050>)])"
            ],
            "text/html": [
              "<style>#sk-51b77d69-c67f-4c5d-8d71-84d22a3f7819 {color: black;background-color: white;}#sk-51b77d69-c67f-4c5d-8d71-84d22a3f7819 pre{padding: 0;}#sk-51b77d69-c67f-4c5d-8d71-84d22a3f7819 div.sk-toggleable {background-color: white;}#sk-51b77d69-c67f-4c5d-8d71-84d22a3f7819 label.sk-toggleable__label {cursor: pointer;display: block;width: 100%;margin-bottom: 0;padding: 0.3em;box-sizing: border-box;text-align: center;}#sk-51b77d69-c67f-4c5d-8d71-84d22a3f7819 label.sk-toggleable__label-arrow:before {content: \"▸\";float: left;margin-right: 0.25em;color: #696969;}#sk-51b77d69-c67f-4c5d-8d71-84d22a3f7819 label.sk-toggleable__label-arrow:hover:before {color: black;}#sk-51b77d69-c67f-4c5d-8d71-84d22a3f7819 div.sk-estimator:hover label.sk-toggleable__label-arrow:before {color: black;}#sk-51b77d69-c67f-4c5d-8d71-84d22a3f7819 div.sk-toggleable__content {max-height: 0;max-width: 0;overflow: hidden;text-align: left;background-color: #f0f8ff;}#sk-51b77d69-c67f-4c5d-8d71-84d22a3f7819 div.sk-toggleable__content pre {margin: 0.2em;color: black;border-radius: 0.25em;background-color: #f0f8ff;}#sk-51b77d69-c67f-4c5d-8d71-84d22a3f7819 input.sk-toggleable__control:checked~div.sk-toggleable__content {max-height: 200px;max-width: 100%;overflow: auto;}#sk-51b77d69-c67f-4c5d-8d71-84d22a3f7819 input.sk-toggleable__control:checked~label.sk-toggleable__label-arrow:before {content: \"▾\";}#sk-51b77d69-c67f-4c5d-8d71-84d22a3f7819 div.sk-estimator input.sk-toggleable__control:checked~label.sk-toggleable__label {background-color: #d4ebff;}#sk-51b77d69-c67f-4c5d-8d71-84d22a3f7819 div.sk-label input.sk-toggleable__control:checked~label.sk-toggleable__label {background-color: #d4ebff;}#sk-51b77d69-c67f-4c5d-8d71-84d22a3f7819 input.sk-hidden--visually {border: 0;clip: rect(1px 1px 1px 1px);clip: rect(1px, 1px, 1px, 1px);height: 1px;margin: -1px;overflow: hidden;padding: 0;position: absolute;width: 1px;}#sk-51b77d69-c67f-4c5d-8d71-84d22a3f7819 div.sk-estimator {font-family: monospace;background-color: #f0f8ff;border: 1px dotted black;border-radius: 0.25em;box-sizing: border-box;margin-bottom: 0.5em;}#sk-51b77d69-c67f-4c5d-8d71-84d22a3f7819 div.sk-estimator:hover {background-color: #d4ebff;}#sk-51b77d69-c67f-4c5d-8d71-84d22a3f7819 div.sk-parallel-item::after {content: \"\";width: 100%;border-bottom: 1px solid gray;flex-grow: 1;}#sk-51b77d69-c67f-4c5d-8d71-84d22a3f7819 div.sk-label:hover label.sk-toggleable__label {background-color: #d4ebff;}#sk-51b77d69-c67f-4c5d-8d71-84d22a3f7819 div.sk-serial::before {content: \"\";position: absolute;border-left: 1px solid gray;box-sizing: border-box;top: 2em;bottom: 0;left: 50%;}#sk-51b77d69-c67f-4c5d-8d71-84d22a3f7819 div.sk-serial {display: flex;flex-direction: column;align-items: center;background-color: white;padding-right: 0.2em;padding-left: 0.2em;}#sk-51b77d69-c67f-4c5d-8d71-84d22a3f7819 div.sk-item {z-index: 1;}#sk-51b77d69-c67f-4c5d-8d71-84d22a3f7819 div.sk-parallel {display: flex;align-items: stretch;justify-content: center;background-color: white;}#sk-51b77d69-c67f-4c5d-8d71-84d22a3f7819 div.sk-parallel::before {content: \"\";position: absolute;border-left: 1px solid gray;box-sizing: border-box;top: 2em;bottom: 0;left: 50%;}#sk-51b77d69-c67f-4c5d-8d71-84d22a3f7819 div.sk-parallel-item {display: flex;flex-direction: column;position: relative;background-color: white;}#sk-51b77d69-c67f-4c5d-8d71-84d22a3f7819 div.sk-parallel-item:first-child::after {align-self: flex-end;width: 50%;}#sk-51b77d69-c67f-4c5d-8d71-84d22a3f7819 div.sk-parallel-item:last-child::after {align-self: flex-start;width: 50%;}#sk-51b77d69-c67f-4c5d-8d71-84d22a3f7819 div.sk-parallel-item:only-child::after {width: 0;}#sk-51b77d69-c67f-4c5d-8d71-84d22a3f7819 div.sk-dashed-wrapped {border: 1px dashed gray;margin: 0 0.4em 0.5em 0.4em;box-sizing: border-box;padding-bottom: 0.4em;background-color: white;position: relative;}#sk-51b77d69-c67f-4c5d-8d71-84d22a3f7819 div.sk-label label {font-family: monospace;font-weight: bold;background-color: white;display: inline-block;line-height: 1.2em;}#sk-51b77d69-c67f-4c5d-8d71-84d22a3f7819 div.sk-label-container {position: relative;z-index: 2;text-align: center;}#sk-51b77d69-c67f-4c5d-8d71-84d22a3f7819 div.sk-container {/* jupyter's `normalize.less` sets `[hidden] { display: none; }` but bootstrap.min.css set `[hidden] { display: none !important; }` so we also need the `!important` here to be able to override the default hidden behavior on the sphinx rendered scikit-learn.org. See: https://github.com/scikit-learn/scikit-learn/issues/21755 */display: inline-block !important;position: relative;}#sk-51b77d69-c67f-4c5d-8d71-84d22a3f7819 div.sk-text-repr-fallback {display: none;}</style><div id=\"sk-51b77d69-c67f-4c5d-8d71-84d22a3f7819\" class=\"sk-top-container\"><div class=\"sk-text-repr-fallback\"><pre>ColumnTransformer(remainder=&#x27;passthrough&#x27;,\n",
              "                  transformers=[(&#x27;pipeline-1&#x27;,\n",
              "                                 Pipeline(steps=[(&#x27;simpleimputer&#x27;,\n",
              "                                                  SimpleImputer()),\n",
              "                                                 (&#x27;standardscaler&#x27;,\n",
              "                                                  StandardScaler())]),\n",
              "                                 &lt;sklearn.compose._column_transformer.make_column_selector object at 0x7fb56f78b090&gt;),\n",
              "                                (&#x27;pipeline-2&#x27;,\n",
              "                                 Pipeline(steps=[(&#x27;simpleimputer&#x27;,\n",
              "                                                  SimpleImputer(strategy=&#x27;most_frequent&#x27;)),\n",
              "                                                 (&#x27;onehotencoder&#x27;,\n",
              "                                                  OneHotEncoder(handle_unknown=&#x27;ignore&#x27;,\n",
              "                                                                sparse=False))]),\n",
              "                                 &lt;sklearn.compose._column_transformer.make_column_selector object at 0x7fb56f84a050&gt;)])</pre><b>Please rerun this cell to show the HTML repr or trust the notebook.</b></div><div class=\"sk-container\" hidden><div class=\"sk-item sk-dashed-wrapped\"><div class=\"sk-label-container\"><div class=\"sk-label sk-toggleable\"><input class=\"sk-toggleable__control sk-hidden--visually\" id=\"821c334d-bbcf-4793-82ef-24262ff6b45f\" type=\"checkbox\" ><label for=\"821c334d-bbcf-4793-82ef-24262ff6b45f\" class=\"sk-toggleable__label sk-toggleable__label-arrow\">ColumnTransformer</label><div class=\"sk-toggleable__content\"><pre>ColumnTransformer(remainder=&#x27;passthrough&#x27;,\n",
              "                  transformers=[(&#x27;pipeline-1&#x27;,\n",
              "                                 Pipeline(steps=[(&#x27;simpleimputer&#x27;,\n",
              "                                                  SimpleImputer()),\n",
              "                                                 (&#x27;standardscaler&#x27;,\n",
              "                                                  StandardScaler())]),\n",
              "                                 &lt;sklearn.compose._column_transformer.make_column_selector object at 0x7fb56f78b090&gt;),\n",
              "                                (&#x27;pipeline-2&#x27;,\n",
              "                                 Pipeline(steps=[(&#x27;simpleimputer&#x27;,\n",
              "                                                  SimpleImputer(strategy=&#x27;most_frequent&#x27;)),\n",
              "                                                 (&#x27;onehotencoder&#x27;,\n",
              "                                                  OneHotEncoder(handle_unknown=&#x27;ignore&#x27;,\n",
              "                                                                sparse=False))]),\n",
              "                                 &lt;sklearn.compose._column_transformer.make_column_selector object at 0x7fb56f84a050&gt;)])</pre></div></div></div><div class=\"sk-parallel\"><div class=\"sk-parallel-item\"><div class=\"sk-item\"><div class=\"sk-label-container\"><div class=\"sk-label sk-toggleable\"><input class=\"sk-toggleable__control sk-hidden--visually\" id=\"9d739fda-6d66-4339-bf7a-c14d35048a95\" type=\"checkbox\" ><label for=\"9d739fda-6d66-4339-bf7a-c14d35048a95\" class=\"sk-toggleable__label sk-toggleable__label-arrow\">pipeline-1</label><div class=\"sk-toggleable__content\"><pre>&lt;sklearn.compose._column_transformer.make_column_selector object at 0x7fb56f78b090&gt;</pre></div></div></div><div class=\"sk-serial\"><div class=\"sk-item\"><div class=\"sk-serial\"><div class=\"sk-item\"><div class=\"sk-estimator sk-toggleable\"><input class=\"sk-toggleable__control sk-hidden--visually\" id=\"ecda0798-2c54-42d7-9369-f51144dff3d2\" type=\"checkbox\" ><label for=\"ecda0798-2c54-42d7-9369-f51144dff3d2\" class=\"sk-toggleable__label sk-toggleable__label-arrow\">SimpleImputer</label><div class=\"sk-toggleable__content\"><pre>SimpleImputer()</pre></div></div></div><div class=\"sk-item\"><div class=\"sk-estimator sk-toggleable\"><input class=\"sk-toggleable__control sk-hidden--visually\" id=\"67bc8a22-892e-4559-8c5e-2c25fe77703e\" type=\"checkbox\" ><label for=\"67bc8a22-892e-4559-8c5e-2c25fe77703e\" class=\"sk-toggleable__label sk-toggleable__label-arrow\">StandardScaler</label><div class=\"sk-toggleable__content\"><pre>StandardScaler()</pre></div></div></div></div></div></div></div></div><div class=\"sk-parallel-item\"><div class=\"sk-item\"><div class=\"sk-label-container\"><div class=\"sk-label sk-toggleable\"><input class=\"sk-toggleable__control sk-hidden--visually\" id=\"7c01009a-6225-4d7b-ad67-f961f55b2736\" type=\"checkbox\" ><label for=\"7c01009a-6225-4d7b-ad67-f961f55b2736\" class=\"sk-toggleable__label sk-toggleable__label-arrow\">pipeline-2</label><div class=\"sk-toggleable__content\"><pre>&lt;sklearn.compose._column_transformer.make_column_selector object at 0x7fb56f84a050&gt;</pre></div></div></div><div class=\"sk-serial\"><div class=\"sk-item\"><div class=\"sk-serial\"><div class=\"sk-item\"><div class=\"sk-estimator sk-toggleable\"><input class=\"sk-toggleable__control sk-hidden--visually\" id=\"735d7ac2-b75b-461c-83b4-d12a20ea2790\" type=\"checkbox\" ><label for=\"735d7ac2-b75b-461c-83b4-d12a20ea2790\" class=\"sk-toggleable__label sk-toggleable__label-arrow\">SimpleImputer</label><div class=\"sk-toggleable__content\"><pre>SimpleImputer(strategy=&#x27;most_frequent&#x27;)</pre></div></div></div><div class=\"sk-item\"><div class=\"sk-estimator sk-toggleable\"><input class=\"sk-toggleable__control sk-hidden--visually\" id=\"5d975f84-1b28-4d30-ac14-b89e62b29f00\" type=\"checkbox\" ><label for=\"5d975f84-1b28-4d30-ac14-b89e62b29f00\" class=\"sk-toggleable__label sk-toggleable__label-arrow\">OneHotEncoder</label><div class=\"sk-toggleable__content\"><pre>OneHotEncoder(handle_unknown=&#x27;ignore&#x27;, sparse=False)</pre></div></div></div></div></div></div></div></div><div class=\"sk-parallel-item\"><div class=\"sk-item\"><div class=\"sk-label-container\"><div class=\"sk-label sk-toggleable\"><input class=\"sk-toggleable__control sk-hidden--visually\" id=\"9ad9435e-f90c-4a3c-b008-a643ce7e459d\" type=\"checkbox\" ><label for=\"9ad9435e-f90c-4a3c-b008-a643ce7e459d\" class=\"sk-toggleable__label sk-toggleable__label-arrow\">remainder</label><div class=\"sk-toggleable__content\"><pre>[]</pre></div></div></div><div class=\"sk-serial\"><div class=\"sk-item\"><div class=\"sk-estimator sk-toggleable\"><input class=\"sk-toggleable__control sk-hidden--visually\" id=\"379d4af2-c64b-491a-b740-bda8fb213e56\" type=\"checkbox\" ><label for=\"379d4af2-c64b-491a-b740-bda8fb213e56\" class=\"sk-toggleable__label sk-toggleable__label-arrow\">passthrough</label><div class=\"sk-toggleable__content\"><pre>passthrough</pre></div></div></div></div></div></div></div></div></div></div>"
            ]
          },
          "metadata": {},
          "execution_count": 118
        }
      ]
    },
    {
      "cell_type": "code",
      "source": [
        "X_train_processed = preprocessor.transform(X_train)\n",
        "X_test_processed = preprocessor.transform(X_test)"
      ],
      "metadata": {
        "id": "-FsgmFPFvi2_"
      },
      "execution_count": 119,
      "outputs": []
    },
    {
      "cell_type": "code",
      "source": [
        "print(np.isnan(X_train_processed).sum().sum(), 'missing values in training data')\n",
        "print(np.isnan(X_test_processed).sum().sum(), 'missing values in testing data')\n",
        "print('\\n')\n",
        "print('All data in X_train_processed are', X_train_processed.dtype)\n",
        "print('All data in X_test_processed are', X_test_processed.dtype)\n",
        "print('\\n')\n",
        "print('shape of data is', X_train_processed.shape)\n",
        "print('\\n')\n",
        "X_train_processed"
      ],
      "metadata": {
        "colab": {
          "base_uri": "https://localhost:8080/"
        },
        "id": "_ZuvlXhFv0-L",
        "outputId": "f0cb9548-d2b0-48c6-c047-d3f825422e57"
      },
      "execution_count": 120,
      "outputs": [
        {
          "output_type": "stream",
          "name": "stdout",
          "text": [
            "0 missing values in training data\n",
            "0 missing values in testing data\n",
            "\n",
            "\n",
            "All data in X_train_processed are float64\n",
            "All data in X_test_processed are float64\n",
            "\n",
            "\n",
            "shape of data is (6392, 1592)\n",
            "\n",
            "\n"
          ]
        },
        {
          "output_type": "execute_result",
          "data": {
            "text/plain": [
              "array([[ 0.81724868, -0.71277507,  1.82810922, ...,  0.        ,\n",
              "         1.        ,  0.        ],\n",
              "       [ 0.5563395 , -1.29105225,  0.60336888, ...,  0.        ,\n",
              "         1.        ,  0.        ],\n",
              "       [-0.13151196,  1.81331864,  0.24454056, ...,  1.        ,\n",
              "         0.        ,  0.        ],\n",
              "       ...,\n",
              "       [ 1.11373638, -0.92052713,  1.52302674, ...,  1.        ,\n",
              "         0.        ,  0.        ],\n",
              "       [ 1.76600931, -0.2277552 , -0.38377708, ...,  1.        ,\n",
              "         0.        ,  0.        ],\n",
              "       [ 0.81724868, -0.95867683, -0.73836105, ...,  1.        ,\n",
              "         0.        ,  0.        ]])"
            ]
          },
          "metadata": {},
          "execution_count": 120
        }
      ]
    },
    {
      "cell_type": "markdown",
      "source": [
        "**Regression Model**"
      ],
      "metadata": {
        "id": "wjJdG_DiwPxl"
      }
    },
    {
      "cell_type": "code",
      "source": [
        "reg = LinearRegression()"
      ],
      "metadata": {
        "id": "A10xsh83v99D"
      },
      "execution_count": 121,
      "outputs": []
    },
    {
      "cell_type": "code",
      "source": [
        "reg_pipe = make_pipeline(preprocessor, reg)"
      ],
      "metadata": {
        "id": "DCIYemtowBtk"
      },
      "execution_count": 122,
      "outputs": []
    },
    {
      "cell_type": "code",
      "source": [
        "reg_pipe.fit(X_train,y_train)"
      ],
      "metadata": {
        "colab": {
          "base_uri": "https://localhost:8080/",
          "height": 227
        },
        "id": "7II-hWT-wC70",
        "outputId": "ab6aadd6-2690-46aa-cfcc-f0dc5f922bcc"
      },
      "execution_count": 123,
      "outputs": [
        {
          "output_type": "execute_result",
          "data": {
            "text/plain": [
              "Pipeline(steps=[('columntransformer',\n",
              "                 ColumnTransformer(remainder='passthrough',\n",
              "                                   transformers=[('pipeline-1',\n",
              "                                                  Pipeline(steps=[('simpleimputer',\n",
              "                                                                   SimpleImputer()),\n",
              "                                                                  ('standardscaler',\n",
              "                                                                   StandardScaler())]),\n",
              "                                                  <sklearn.compose._column_transformer.make_column_selector object at 0x7fb56f78b090>),\n",
              "                                                 ('pipeline-2',\n",
              "                                                  Pipeline(steps=[('simpleimputer',\n",
              "                                                                   SimpleImputer(strategy='most_frequent')),\n",
              "                                                                  ('onehotencoder',\n",
              "                                                                   OneHotEncoder(handle_unknown='ignore',\n",
              "                                                                                 sparse=False))]),\n",
              "                                                  <sklearn.compose._column_transformer.make_column_selector object at 0x7fb56f84a050>)])),\n",
              "                ('linearregression', LinearRegression())])"
            ],
            "text/html": [
              "<style>#sk-194333f3-0c6b-470f-92a8-d3d8cc1724b7 {color: black;background-color: white;}#sk-194333f3-0c6b-470f-92a8-d3d8cc1724b7 pre{padding: 0;}#sk-194333f3-0c6b-470f-92a8-d3d8cc1724b7 div.sk-toggleable {background-color: white;}#sk-194333f3-0c6b-470f-92a8-d3d8cc1724b7 label.sk-toggleable__label {cursor: pointer;display: block;width: 100%;margin-bottom: 0;padding: 0.3em;box-sizing: border-box;text-align: center;}#sk-194333f3-0c6b-470f-92a8-d3d8cc1724b7 label.sk-toggleable__label-arrow:before {content: \"▸\";float: left;margin-right: 0.25em;color: #696969;}#sk-194333f3-0c6b-470f-92a8-d3d8cc1724b7 label.sk-toggleable__label-arrow:hover:before {color: black;}#sk-194333f3-0c6b-470f-92a8-d3d8cc1724b7 div.sk-estimator:hover label.sk-toggleable__label-arrow:before {color: black;}#sk-194333f3-0c6b-470f-92a8-d3d8cc1724b7 div.sk-toggleable__content {max-height: 0;max-width: 0;overflow: hidden;text-align: left;background-color: #f0f8ff;}#sk-194333f3-0c6b-470f-92a8-d3d8cc1724b7 div.sk-toggleable__content pre {margin: 0.2em;color: black;border-radius: 0.25em;background-color: #f0f8ff;}#sk-194333f3-0c6b-470f-92a8-d3d8cc1724b7 input.sk-toggleable__control:checked~div.sk-toggleable__content {max-height: 200px;max-width: 100%;overflow: auto;}#sk-194333f3-0c6b-470f-92a8-d3d8cc1724b7 input.sk-toggleable__control:checked~label.sk-toggleable__label-arrow:before {content: \"▾\";}#sk-194333f3-0c6b-470f-92a8-d3d8cc1724b7 div.sk-estimator input.sk-toggleable__control:checked~label.sk-toggleable__label {background-color: #d4ebff;}#sk-194333f3-0c6b-470f-92a8-d3d8cc1724b7 div.sk-label input.sk-toggleable__control:checked~label.sk-toggleable__label {background-color: #d4ebff;}#sk-194333f3-0c6b-470f-92a8-d3d8cc1724b7 input.sk-hidden--visually {border: 0;clip: rect(1px 1px 1px 1px);clip: rect(1px, 1px, 1px, 1px);height: 1px;margin: -1px;overflow: hidden;padding: 0;position: absolute;width: 1px;}#sk-194333f3-0c6b-470f-92a8-d3d8cc1724b7 div.sk-estimator {font-family: monospace;background-color: #f0f8ff;border: 1px dotted black;border-radius: 0.25em;box-sizing: border-box;margin-bottom: 0.5em;}#sk-194333f3-0c6b-470f-92a8-d3d8cc1724b7 div.sk-estimator:hover {background-color: #d4ebff;}#sk-194333f3-0c6b-470f-92a8-d3d8cc1724b7 div.sk-parallel-item::after {content: \"\";width: 100%;border-bottom: 1px solid gray;flex-grow: 1;}#sk-194333f3-0c6b-470f-92a8-d3d8cc1724b7 div.sk-label:hover label.sk-toggleable__label {background-color: #d4ebff;}#sk-194333f3-0c6b-470f-92a8-d3d8cc1724b7 div.sk-serial::before {content: \"\";position: absolute;border-left: 1px solid gray;box-sizing: border-box;top: 2em;bottom: 0;left: 50%;}#sk-194333f3-0c6b-470f-92a8-d3d8cc1724b7 div.sk-serial {display: flex;flex-direction: column;align-items: center;background-color: white;padding-right: 0.2em;padding-left: 0.2em;}#sk-194333f3-0c6b-470f-92a8-d3d8cc1724b7 div.sk-item {z-index: 1;}#sk-194333f3-0c6b-470f-92a8-d3d8cc1724b7 div.sk-parallel {display: flex;align-items: stretch;justify-content: center;background-color: white;}#sk-194333f3-0c6b-470f-92a8-d3d8cc1724b7 div.sk-parallel::before {content: \"\";position: absolute;border-left: 1px solid gray;box-sizing: border-box;top: 2em;bottom: 0;left: 50%;}#sk-194333f3-0c6b-470f-92a8-d3d8cc1724b7 div.sk-parallel-item {display: flex;flex-direction: column;position: relative;background-color: white;}#sk-194333f3-0c6b-470f-92a8-d3d8cc1724b7 div.sk-parallel-item:first-child::after {align-self: flex-end;width: 50%;}#sk-194333f3-0c6b-470f-92a8-d3d8cc1724b7 div.sk-parallel-item:last-child::after {align-self: flex-start;width: 50%;}#sk-194333f3-0c6b-470f-92a8-d3d8cc1724b7 div.sk-parallel-item:only-child::after {width: 0;}#sk-194333f3-0c6b-470f-92a8-d3d8cc1724b7 div.sk-dashed-wrapped {border: 1px dashed gray;margin: 0 0.4em 0.5em 0.4em;box-sizing: border-box;padding-bottom: 0.4em;background-color: white;position: relative;}#sk-194333f3-0c6b-470f-92a8-d3d8cc1724b7 div.sk-label label {font-family: monospace;font-weight: bold;background-color: white;display: inline-block;line-height: 1.2em;}#sk-194333f3-0c6b-470f-92a8-d3d8cc1724b7 div.sk-label-container {position: relative;z-index: 2;text-align: center;}#sk-194333f3-0c6b-470f-92a8-d3d8cc1724b7 div.sk-container {/* jupyter's `normalize.less` sets `[hidden] { display: none; }` but bootstrap.min.css set `[hidden] { display: none !important; }` so we also need the `!important` here to be able to override the default hidden behavior on the sphinx rendered scikit-learn.org. See: https://github.com/scikit-learn/scikit-learn/issues/21755 */display: inline-block !important;position: relative;}#sk-194333f3-0c6b-470f-92a8-d3d8cc1724b7 div.sk-text-repr-fallback {display: none;}</style><div id=\"sk-194333f3-0c6b-470f-92a8-d3d8cc1724b7\" class=\"sk-top-container\"><div class=\"sk-text-repr-fallback\"><pre>Pipeline(steps=[(&#x27;columntransformer&#x27;,\n",
              "                 ColumnTransformer(remainder=&#x27;passthrough&#x27;,\n",
              "                                   transformers=[(&#x27;pipeline-1&#x27;,\n",
              "                                                  Pipeline(steps=[(&#x27;simpleimputer&#x27;,\n",
              "                                                                   SimpleImputer()),\n",
              "                                                                  (&#x27;standardscaler&#x27;,\n",
              "                                                                   StandardScaler())]),\n",
              "                                                  &lt;sklearn.compose._column_transformer.make_column_selector object at 0x7fb56f78b090&gt;),\n",
              "                                                 (&#x27;pipeline-2&#x27;,\n",
              "                                                  Pipeline(steps=[(&#x27;simpleimputer&#x27;,\n",
              "                                                                   SimpleImputer(strategy=&#x27;most_frequent&#x27;)),\n",
              "                                                                  (&#x27;onehotencoder&#x27;,\n",
              "                                                                   OneHotEncoder(handle_unknown=&#x27;ignore&#x27;,\n",
              "                                                                                 sparse=False))]),\n",
              "                                                  &lt;sklearn.compose._column_transformer.make_column_selector object at 0x7fb56f84a050&gt;)])),\n",
              "                (&#x27;linearregression&#x27;, LinearRegression())])</pre><b>Please rerun this cell to show the HTML repr or trust the notebook.</b></div><div class=\"sk-container\" hidden><div class=\"sk-item sk-dashed-wrapped\"><div class=\"sk-label-container\"><div class=\"sk-label sk-toggleable\"><input class=\"sk-toggleable__control sk-hidden--visually\" id=\"f9f59867-ad30-4f51-ad83-760830277e14\" type=\"checkbox\" ><label for=\"f9f59867-ad30-4f51-ad83-760830277e14\" class=\"sk-toggleable__label sk-toggleable__label-arrow\">Pipeline</label><div class=\"sk-toggleable__content\"><pre>Pipeline(steps=[(&#x27;columntransformer&#x27;,\n",
              "                 ColumnTransformer(remainder=&#x27;passthrough&#x27;,\n",
              "                                   transformers=[(&#x27;pipeline-1&#x27;,\n",
              "                                                  Pipeline(steps=[(&#x27;simpleimputer&#x27;,\n",
              "                                                                   SimpleImputer()),\n",
              "                                                                  (&#x27;standardscaler&#x27;,\n",
              "                                                                   StandardScaler())]),\n",
              "                                                  &lt;sklearn.compose._column_transformer.make_column_selector object at 0x7fb56f78b090&gt;),\n",
              "                                                 (&#x27;pipeline-2&#x27;,\n",
              "                                                  Pipeline(steps=[(&#x27;simpleimputer&#x27;,\n",
              "                                                                   SimpleImputer(strategy=&#x27;most_frequent&#x27;)),\n",
              "                                                                  (&#x27;onehotencoder&#x27;,\n",
              "                                                                   OneHotEncoder(handle_unknown=&#x27;ignore&#x27;,\n",
              "                                                                                 sparse=False))]),\n",
              "                                                  &lt;sklearn.compose._column_transformer.make_column_selector object at 0x7fb56f84a050&gt;)])),\n",
              "                (&#x27;linearregression&#x27;, LinearRegression())])</pre></div></div></div><div class=\"sk-serial\"><div class=\"sk-item sk-dashed-wrapped\"><div class=\"sk-label-container\"><div class=\"sk-label sk-toggleable\"><input class=\"sk-toggleable__control sk-hidden--visually\" id=\"b1e1f0cd-89a5-46cc-801c-6d5b8aa35c94\" type=\"checkbox\" ><label for=\"b1e1f0cd-89a5-46cc-801c-6d5b8aa35c94\" class=\"sk-toggleable__label sk-toggleable__label-arrow\">columntransformer: ColumnTransformer</label><div class=\"sk-toggleable__content\"><pre>ColumnTransformer(remainder=&#x27;passthrough&#x27;,\n",
              "                  transformers=[(&#x27;pipeline-1&#x27;,\n",
              "                                 Pipeline(steps=[(&#x27;simpleimputer&#x27;,\n",
              "                                                  SimpleImputer()),\n",
              "                                                 (&#x27;standardscaler&#x27;,\n",
              "                                                  StandardScaler())]),\n",
              "                                 &lt;sklearn.compose._column_transformer.make_column_selector object at 0x7fb56f78b090&gt;),\n",
              "                                (&#x27;pipeline-2&#x27;,\n",
              "                                 Pipeline(steps=[(&#x27;simpleimputer&#x27;,\n",
              "                                                  SimpleImputer(strategy=&#x27;most_frequent&#x27;)),\n",
              "                                                 (&#x27;onehotencoder&#x27;,\n",
              "                                                  OneHotEncoder(handle_unknown=&#x27;ignore&#x27;,\n",
              "                                                                sparse=False))]),\n",
              "                                 &lt;sklearn.compose._column_transformer.make_column_selector object at 0x7fb56f84a050&gt;)])</pre></div></div></div><div class=\"sk-parallel\"><div class=\"sk-parallel-item\"><div class=\"sk-item\"><div class=\"sk-label-container\"><div class=\"sk-label sk-toggleable\"><input class=\"sk-toggleable__control sk-hidden--visually\" id=\"8ee75ea0-e0ea-4b32-b548-3427a5edf4d5\" type=\"checkbox\" ><label for=\"8ee75ea0-e0ea-4b32-b548-3427a5edf4d5\" class=\"sk-toggleable__label sk-toggleable__label-arrow\">pipeline-1</label><div class=\"sk-toggleable__content\"><pre>&lt;sklearn.compose._column_transformer.make_column_selector object at 0x7fb56f78b090&gt;</pre></div></div></div><div class=\"sk-serial\"><div class=\"sk-item\"><div class=\"sk-serial\"><div class=\"sk-item\"><div class=\"sk-estimator sk-toggleable\"><input class=\"sk-toggleable__control sk-hidden--visually\" id=\"b3e907e9-0f2d-4392-ac3f-655169065404\" type=\"checkbox\" ><label for=\"b3e907e9-0f2d-4392-ac3f-655169065404\" class=\"sk-toggleable__label sk-toggleable__label-arrow\">SimpleImputer</label><div class=\"sk-toggleable__content\"><pre>SimpleImputer()</pre></div></div></div><div class=\"sk-item\"><div class=\"sk-estimator sk-toggleable\"><input class=\"sk-toggleable__control sk-hidden--visually\" id=\"b3674822-512b-4a9b-a935-aa88fbc7174b\" type=\"checkbox\" ><label for=\"b3674822-512b-4a9b-a935-aa88fbc7174b\" class=\"sk-toggleable__label sk-toggleable__label-arrow\">StandardScaler</label><div class=\"sk-toggleable__content\"><pre>StandardScaler()</pre></div></div></div></div></div></div></div></div><div class=\"sk-parallel-item\"><div class=\"sk-item\"><div class=\"sk-label-container\"><div class=\"sk-label sk-toggleable\"><input class=\"sk-toggleable__control sk-hidden--visually\" id=\"1418a3b1-eb9a-49a2-9acf-118702f3b1aa\" type=\"checkbox\" ><label for=\"1418a3b1-eb9a-49a2-9acf-118702f3b1aa\" class=\"sk-toggleable__label sk-toggleable__label-arrow\">pipeline-2</label><div class=\"sk-toggleable__content\"><pre>&lt;sklearn.compose._column_transformer.make_column_selector object at 0x7fb56f84a050&gt;</pre></div></div></div><div class=\"sk-serial\"><div class=\"sk-item\"><div class=\"sk-serial\"><div class=\"sk-item\"><div class=\"sk-estimator sk-toggleable\"><input class=\"sk-toggleable__control sk-hidden--visually\" id=\"ce215e6c-4c9e-401f-b85d-8d28c5adc93e\" type=\"checkbox\" ><label for=\"ce215e6c-4c9e-401f-b85d-8d28c5adc93e\" class=\"sk-toggleable__label sk-toggleable__label-arrow\">SimpleImputer</label><div class=\"sk-toggleable__content\"><pre>SimpleImputer(strategy=&#x27;most_frequent&#x27;)</pre></div></div></div><div class=\"sk-item\"><div class=\"sk-estimator sk-toggleable\"><input class=\"sk-toggleable__control sk-hidden--visually\" id=\"ca9d7a6b-4c65-4ce4-8ce0-a422daf22e27\" type=\"checkbox\" ><label for=\"ca9d7a6b-4c65-4ce4-8ce0-a422daf22e27\" class=\"sk-toggleable__label sk-toggleable__label-arrow\">OneHotEncoder</label><div class=\"sk-toggleable__content\"><pre>OneHotEncoder(handle_unknown=&#x27;ignore&#x27;, sparse=False)</pre></div></div></div></div></div></div></div></div><div class=\"sk-parallel-item\"><div class=\"sk-item\"><div class=\"sk-label-container\"><div class=\"sk-label sk-toggleable\"><input class=\"sk-toggleable__control sk-hidden--visually\" id=\"7b21026e-396b-41e3-923b-dbc700e5169d\" type=\"checkbox\" ><label for=\"7b21026e-396b-41e3-923b-dbc700e5169d\" class=\"sk-toggleable__label sk-toggleable__label-arrow\">remainder</label><div class=\"sk-toggleable__content\"><pre>[]</pre></div></div></div><div class=\"sk-serial\"><div class=\"sk-item\"><div class=\"sk-estimator sk-toggleable\"><input class=\"sk-toggleable__control sk-hidden--visually\" id=\"0d228c52-02ac-4993-b275-323efb9eedf6\" type=\"checkbox\" ><label for=\"0d228c52-02ac-4993-b275-323efb9eedf6\" class=\"sk-toggleable__label sk-toggleable__label-arrow\">passthrough</label><div class=\"sk-toggleable__content\"><pre>passthrough</pre></div></div></div></div></div></div></div></div><div class=\"sk-item\"><div class=\"sk-estimator sk-toggleable\"><input class=\"sk-toggleable__control sk-hidden--visually\" id=\"c1784215-4e0d-4a62-8d82-60dc41efcc75\" type=\"checkbox\" ><label for=\"c1784215-4e0d-4a62-8d82-60dc41efcc75\" class=\"sk-toggleable__label sk-toggleable__label-arrow\">LinearRegression</label><div class=\"sk-toggleable__content\"><pre>LinearRegression()</pre></div></div></div></div></div></div></div>"
            ]
          },
          "metadata": {},
          "execution_count": 123
        }
      ]
    },
    {
      "cell_type": "code",
      "source": [
        "train_pred = reg_pipe.predict(X_train)\n",
        "test_pred = reg_pipe.predict(X_test)"
      ],
      "metadata": {
        "id": "9MDij2B2wGDP"
      },
      "execution_count": 124,
      "outputs": []
    },
    {
      "cell_type": "code",
      "source": [
        "train_r2 = np.corrcoef(y_train,train_pred)[0][1]**2\n",
        "test_r2 = np.corrcoef(y_test, test_pred)[0][1]**2\n",
        "print(f'Model Training R2: {train_r2}')\n",
        "print(f'Model Testing R2: {test_r2}')"
      ],
      "metadata": {
        "colab": {
          "base_uri": "https://localhost:8080/"
        },
        "id": "hOGS_T-gwIGJ",
        "outputId": "6ca3c98f-bda7-4262-c5c3-de66da7acc3c"
      },
      "execution_count": 125,
      "outputs": [
        {
          "output_type": "stream",
          "name": "stdout",
          "text": [
            "Model Training R2: 0.6714424977432687\n",
            "Model Testing R2: 2.0994337117833997e-05\n"
          ]
        }
      ]
    },
    {
      "cell_type": "code",
      "source": [
        "train_RMSE=np.sqrt(np.mean(np.abs(train_pred-y_train)**2))\n",
        "test_RMSE=np.sqrt(np.mean(test_pred-y_test)**2)\n",
        "print(f'Model Training RMSE:{train_RMSE}')\n",
        "print(f'Model Testing RMSE:{test_RMSE}')"
      ],
      "metadata": {
        "colab": {
          "base_uri": "https://localhost:8080/"
        },
        "id": "K8rtla1jzA6k",
        "outputId": "97ee5566-405a-4e74-cc03-e592715bfa6d"
      },
      "execution_count": 126,
      "outputs": [
        {
          "output_type": "stream",
          "name": "stdout",
          "text": [
            "Model Training RMSE:986.0858114271118\n",
            "Model Testing RMSE:373337037422.5421\n"
          ]
        }
      ]
    },
    {
      "cell_type": "markdown",
      "source": [
        "**Regression Tree Model**"
      ],
      "metadata": {
        "id": "R3MpFGLezejh"
      }
    },
    {
      "cell_type": "code",
      "source": [
        "from sklearn.tree import DecisionTreeRegressor"
      ],
      "metadata": {
        "id": "vkCNin19zTfd"
      },
      "execution_count": 128,
      "outputs": []
    },
    {
      "cell_type": "code",
      "source": [
        "dec_tree = DecisionTreeRegressor(random_state = 42)"
      ],
      "metadata": {
        "id": "rQhUw43DzpY3"
      },
      "execution_count": 129,
      "outputs": []
    },
    {
      "cell_type": "code",
      "source": [
        "dec_tree.fit(X_train_processed, y_train)"
      ],
      "metadata": {
        "colab": {
          "base_uri": "https://localhost:8080/",
          "height": 75
        },
        "id": "HqjHlYF3zqyM",
        "outputId": "601cd7fd-6ed8-4dab-87ba-7772435eef02"
      },
      "execution_count": 131,
      "outputs": [
        {
          "output_type": "execute_result",
          "data": {
            "text/plain": [
              "DecisionTreeRegressor(random_state=42)"
            ],
            "text/html": [
              "<style>#sk-0707ed60-7c65-43b3-8adb-e3b806d6e4b5 {color: black;background-color: white;}#sk-0707ed60-7c65-43b3-8adb-e3b806d6e4b5 pre{padding: 0;}#sk-0707ed60-7c65-43b3-8adb-e3b806d6e4b5 div.sk-toggleable {background-color: white;}#sk-0707ed60-7c65-43b3-8adb-e3b806d6e4b5 label.sk-toggleable__label {cursor: pointer;display: block;width: 100%;margin-bottom: 0;padding: 0.3em;box-sizing: border-box;text-align: center;}#sk-0707ed60-7c65-43b3-8adb-e3b806d6e4b5 label.sk-toggleable__label-arrow:before {content: \"▸\";float: left;margin-right: 0.25em;color: #696969;}#sk-0707ed60-7c65-43b3-8adb-e3b806d6e4b5 label.sk-toggleable__label-arrow:hover:before {color: black;}#sk-0707ed60-7c65-43b3-8adb-e3b806d6e4b5 div.sk-estimator:hover label.sk-toggleable__label-arrow:before {color: black;}#sk-0707ed60-7c65-43b3-8adb-e3b806d6e4b5 div.sk-toggleable__content {max-height: 0;max-width: 0;overflow: hidden;text-align: left;background-color: #f0f8ff;}#sk-0707ed60-7c65-43b3-8adb-e3b806d6e4b5 div.sk-toggleable__content pre {margin: 0.2em;color: black;border-radius: 0.25em;background-color: #f0f8ff;}#sk-0707ed60-7c65-43b3-8adb-e3b806d6e4b5 input.sk-toggleable__control:checked~div.sk-toggleable__content {max-height: 200px;max-width: 100%;overflow: auto;}#sk-0707ed60-7c65-43b3-8adb-e3b806d6e4b5 input.sk-toggleable__control:checked~label.sk-toggleable__label-arrow:before {content: \"▾\";}#sk-0707ed60-7c65-43b3-8adb-e3b806d6e4b5 div.sk-estimator input.sk-toggleable__control:checked~label.sk-toggleable__label {background-color: #d4ebff;}#sk-0707ed60-7c65-43b3-8adb-e3b806d6e4b5 div.sk-label input.sk-toggleable__control:checked~label.sk-toggleable__label {background-color: #d4ebff;}#sk-0707ed60-7c65-43b3-8adb-e3b806d6e4b5 input.sk-hidden--visually {border: 0;clip: rect(1px 1px 1px 1px);clip: rect(1px, 1px, 1px, 1px);height: 1px;margin: -1px;overflow: hidden;padding: 0;position: absolute;width: 1px;}#sk-0707ed60-7c65-43b3-8adb-e3b806d6e4b5 div.sk-estimator {font-family: monospace;background-color: #f0f8ff;border: 1px dotted black;border-radius: 0.25em;box-sizing: border-box;margin-bottom: 0.5em;}#sk-0707ed60-7c65-43b3-8adb-e3b806d6e4b5 div.sk-estimator:hover {background-color: #d4ebff;}#sk-0707ed60-7c65-43b3-8adb-e3b806d6e4b5 div.sk-parallel-item::after {content: \"\";width: 100%;border-bottom: 1px solid gray;flex-grow: 1;}#sk-0707ed60-7c65-43b3-8adb-e3b806d6e4b5 div.sk-label:hover label.sk-toggleable__label {background-color: #d4ebff;}#sk-0707ed60-7c65-43b3-8adb-e3b806d6e4b5 div.sk-serial::before {content: \"\";position: absolute;border-left: 1px solid gray;box-sizing: border-box;top: 2em;bottom: 0;left: 50%;}#sk-0707ed60-7c65-43b3-8adb-e3b806d6e4b5 div.sk-serial {display: flex;flex-direction: column;align-items: center;background-color: white;padding-right: 0.2em;padding-left: 0.2em;}#sk-0707ed60-7c65-43b3-8adb-e3b806d6e4b5 div.sk-item {z-index: 1;}#sk-0707ed60-7c65-43b3-8adb-e3b806d6e4b5 div.sk-parallel {display: flex;align-items: stretch;justify-content: center;background-color: white;}#sk-0707ed60-7c65-43b3-8adb-e3b806d6e4b5 div.sk-parallel::before {content: \"\";position: absolute;border-left: 1px solid gray;box-sizing: border-box;top: 2em;bottom: 0;left: 50%;}#sk-0707ed60-7c65-43b3-8adb-e3b806d6e4b5 div.sk-parallel-item {display: flex;flex-direction: column;position: relative;background-color: white;}#sk-0707ed60-7c65-43b3-8adb-e3b806d6e4b5 div.sk-parallel-item:first-child::after {align-self: flex-end;width: 50%;}#sk-0707ed60-7c65-43b3-8adb-e3b806d6e4b5 div.sk-parallel-item:last-child::after {align-self: flex-start;width: 50%;}#sk-0707ed60-7c65-43b3-8adb-e3b806d6e4b5 div.sk-parallel-item:only-child::after {width: 0;}#sk-0707ed60-7c65-43b3-8adb-e3b806d6e4b5 div.sk-dashed-wrapped {border: 1px dashed gray;margin: 0 0.4em 0.5em 0.4em;box-sizing: border-box;padding-bottom: 0.4em;background-color: white;position: relative;}#sk-0707ed60-7c65-43b3-8adb-e3b806d6e4b5 div.sk-label label {font-family: monospace;font-weight: bold;background-color: white;display: inline-block;line-height: 1.2em;}#sk-0707ed60-7c65-43b3-8adb-e3b806d6e4b5 div.sk-label-container {position: relative;z-index: 2;text-align: center;}#sk-0707ed60-7c65-43b3-8adb-e3b806d6e4b5 div.sk-container {/* jupyter's `normalize.less` sets `[hidden] { display: none; }` but bootstrap.min.css set `[hidden] { display: none !important; }` so we also need the `!important` here to be able to override the default hidden behavior on the sphinx rendered scikit-learn.org. See: https://github.com/scikit-learn/scikit-learn/issues/21755 */display: inline-block !important;position: relative;}#sk-0707ed60-7c65-43b3-8adb-e3b806d6e4b5 div.sk-text-repr-fallback {display: none;}</style><div id=\"sk-0707ed60-7c65-43b3-8adb-e3b806d6e4b5\" class=\"sk-top-container\"><div class=\"sk-text-repr-fallback\"><pre>DecisionTreeRegressor(random_state=42)</pre><b>Please rerun this cell to show the HTML repr or trust the notebook.</b></div><div class=\"sk-container\" hidden><div class=\"sk-item\"><div class=\"sk-estimator sk-toggleable\"><input class=\"sk-toggleable__control sk-hidden--visually\" id=\"4fbbd240-c360-4f70-8d7b-bd8acbb35927\" type=\"checkbox\" checked><label for=\"4fbbd240-c360-4f70-8d7b-bd8acbb35927\" class=\"sk-toggleable__label sk-toggleable__label-arrow\">DecisionTreeRegressor</label><div class=\"sk-toggleable__content\"><pre>DecisionTreeRegressor(random_state=42)</pre></div></div></div></div></div>"
            ]
          },
          "metadata": {},
          "execution_count": 131
        }
      ]
    },
    {
      "cell_type": "code",
      "source": [
        "train_preds = dec_tree.predict(X_train_processed)\n",
        "test_preds = dec_tree.predict(X_test_processed)"
      ],
      "metadata": {
        "id": "SRzKOTjc0FFc"
      },
      "execution_count": 134,
      "outputs": []
    },
    {
      "cell_type": "code",
      "source": [
        "train_score = dec_tree.score(X_train_processed, y_train)\n",
        "test_score = dec_tree.score(X_test_processed, y_test)\n",
        "print(train_score)\n",
        "print(test_score)"
      ],
      "metadata": {
        "colab": {
          "base_uri": "https://localhost:8080/"
        },
        "id": "0dEp-zMi0RxO",
        "outputId": "58a23990-e452-4001-8f8e-03831eca0205"
      },
      "execution_count": 135,
      "outputs": [
        {
          "output_type": "stream",
          "name": "stdout",
          "text": [
            "1.0\n",
            "0.23769742878875222\n"
          ]
        }
      ]
    },
    {
      "cell_type": "code",
      "source": [
        "dec_tree.get_params()"
      ],
      "metadata": {
        "colab": {
          "base_uri": "https://localhost:8080/"
        },
        "id": "rZxgDjCk0njq",
        "outputId": "fd041d49-6ccf-4b1c-9e73-468545b4240d"
      },
      "execution_count": 136,
      "outputs": [
        {
          "output_type": "execute_result",
          "data": {
            "text/plain": [
              "{'ccp_alpha': 0.0,\n",
              " 'criterion': 'squared_error',\n",
              " 'max_depth': None,\n",
              " 'max_features': None,\n",
              " 'max_leaf_nodes': None,\n",
              " 'min_impurity_decrease': 0.0,\n",
              " 'min_samples_leaf': 1,\n",
              " 'min_samples_split': 2,\n",
              " 'min_weight_fraction_leaf': 0.0,\n",
              " 'random_state': 42,\n",
              " 'splitter': 'best'}"
            ]
          },
          "metadata": {},
          "execution_count": 136
        }
      ]
    },
    {
      "cell_type": "code",
      "source": [
        "depths = list(range(2, 36))\n",
        "scores = pd.DataFrame(index = depths, columns=['Test Score','Train Score'])\n",
        "for depth in depths:\n",
        "  dec_tree = DecisionTreeRegressor(max_depth=depth, random_state=42)\n",
        "  dec_tree.fit(X_train_processed,y_train)\n",
        "  train_score = dec_tree.score(X_train_processed,y_train)\n",
        "  test_score = dec_tree.score(X_test_processed,y_test)\n",
        "  scores.loc[depth, 'Train Score']= train_score\n",
        "  scores.loc[depth, 'Test Score']= test_score"
      ],
      "metadata": {
        "id": "ENA4bPRQ0tKx"
      },
      "execution_count": 139,
      "outputs": []
    },
    {
      "cell_type": "code",
      "source": [
        "plt.plot(depths, scores['Test Score'])\n",
        "plt.xlabel('max_depth')\n",
        "plt.ylabel('R2');"
      ],
      "metadata": {
        "colab": {
          "base_uri": "https://localhost:8080/",
          "height": 280
        },
        "id": "clU9pwUl1BNd",
        "outputId": "d2495726-bbdd-4cd9-ac41-ed659491f037"
      },
      "execution_count": 140,
      "outputs": [
        {
          "output_type": "display_data",
          "data": {
            "text/plain": [
              "<Figure size 432x288 with 1 Axes>"
            ],
            "image/png": "[encoded data removed]"
          },
          "metadata": {
            "needs_background": "light"
          }
        }
      ]
    },
    {
      "cell_type": "code",
      "source": [
        "sorted_scores = scores.sort_values(by='Test Score', ascending=False)\n",
        "sorted_scores.head()"
      ],
      "metadata": {
        "colab": {
          "base_uri": "https://localhost:8080/",
          "height": 206
        },
        "id": "NmNAIRG11Etr",
        "outputId": "e998912b-af50-4aa8-902b-ec245878bc8b"
      },
      "execution_count": 141,
      "outputs": [
        {
          "output_type": "execute_result",
          "data": {
            "text/plain": [
              "  Test Score Train Score\n",
              "5   0.596056    0.604207\n",
              "6   0.584616    0.615702\n",
              "4   0.583937    0.582705\n",
              "7   0.577384    0.629269\n",
              "8    0.55714    0.641334"
            ],
            "text/html": [
              "\n",
              "  <div id=\"df-24ba8a1d-3064-450a-969c-dc36280656e7\">\n",
              "    <div class=\"colab-df-container\">\n",
              "      <div>\n",
              "<style scoped>\n",
              "    .dataframe tbody tr th:only-of-type {\n",
              "        vertical-align: middle;\n",
              "    }\n",
              "\n",
              "    .dataframe tbody tr th {\n",
              "        vertical-align: top;\n",
              "    }\n",
              "\n",
              "    .dataframe thead th {\n",
              "        text-align: right;\n",
              "    }\n",
              "</style>\n",
              "<table border=\"1\" class=\"dataframe\">\n",
              "  <thead>\n",
              "    <tr style=\"text-align: right;\">\n",
              "      <th></th>\n",
              "      <th>Test Score</th>\n",
              "      <th>Train Score</th>\n",
              "    </tr>\n",
              "  </thead>\n",
              "  <tbody>\n",
              "    <tr>\n",
              "      <th>5</th>\n",
              "      <td>0.596056</td>\n",
              "      <td>0.604207</td>\n",
              "    </tr>\n",
              "    <tr>\n",
              "      <th>6</th>\n",
              "      <td>0.584616</td>\n",
              "      <td>0.615702</td>\n",
              "    </tr>\n",
              "    <tr>\n",
              "      <th>4</th>\n",
              "      <td>0.583937</td>\n",
              "      <td>0.582705</td>\n",
              "    </tr>\n",
              "    <tr>\n",
              "      <th>7</th>\n",
              "      <td>0.577384</td>\n",
              "      <td>0.629269</td>\n",
              "    </tr>\n",
              "    <tr>\n",
              "      <th>8</th>\n",
              "      <td>0.55714</td>\n",
              "      <td>0.641334</td>\n",
              "    </tr>\n",
              "  </tbody>\n",
              "</table>\n",
              "</div>\n",
              "      <button class=\"colab-df-convert\" onclick=\"convertToInteractive('df-24ba8a1d-3064-450a-969c-dc36280656e7')\"\n",
              "              title=\"Convert this dataframe to an interactive table.\"\n",
              "              style=\"display:none;\">\n",
              "        \n",
              "  <svg xmlns=\"http://www.w3.org/2000/svg\" height=\"24px\"viewBox=\"0 0 24 24\"\n",
              "       width=\"24px\">\n",
              "    <path d=\"M0 0h24v24H0V0z\" fill=\"none\"/>\n",
              "    <path d=\"M18.56 5.44l.94 2.06.94-2.06 2.06-.94-2.06-.94-.94-2.06-.94 2.06-2.06.94zm-11 1L8.5 8.5l.94-2.06 2.06-.94-2.06-.94L8.5 2.5l-.94 2.06-2.06.94zm10 10l.94 2.06.94-2.06 2.06-.94-2.06-.94-.94-2.06-.94 2.06-2.06.94z\"/><path d=\"M17.41 7.96l-1.37-1.37c-.4-.4-.92-.59-1.43-.59-.52 0-1.04.2-1.43.59L10.3 9.45l-7.72 7.72c-.78.78-.78 2.05 0 2.83L4 21.41c.39.39.9.59 1.41.59.51 0 1.02-.2 1.41-.59l7.78-7.78 2.81-2.81c.8-.78.8-2.07 0-2.86zM5.41 20L4 18.59l7.72-7.72 1.47 1.35L5.41 20z\"/>\n",
              "  </svg>\n",
              "      </button>\n",
              "      \n",
              "  <style>\n",
              "    .colab-df-container {\n",
              "      display:flex;\n",
              "      flex-wrap:wrap;\n",
              "      gap: 12px;\n",
              "    }\n",
              "\n",
              "    .colab-df-convert {\n",
              "      background-color: #E8F0FE;\n",
              "      border: none;\n",
              "      border-radius: 50%;\n",
              "      cursor: pointer;\n",
              "      display: none;\n",
              "      fill: #1967D2;\n",
              "      height: 32px;\n",
              "      padding: 0 0 0 0;\n",
              "      width: 32px;\n",
              "    }\n",
              "\n",
              "    .colab-df-convert:hover {\n",
              "      background-color: #E2EBFA;\n",
              "      box-shadow: 0px 1px 2px rgba(60, 64, 67, 0.3), 0px 1px 3px 1px rgba(60, 64, 67, 0.15);\n",
              "      fill: #174EA6;\n",
              "    }\n",
              "\n",
              "    [theme=dark] .colab-df-convert {\n",
              "      background-color: #3B4455;\n",
              "      fill: #D2E3FC;\n",
              "    }\n",
              "\n",
              "    [theme=dark] .colab-df-convert:hover {\n",
              "      background-color: #434B5C;\n",
              "      box-shadow: 0px 1px 3px 1px rgba(0, 0, 0, 0.15);\n",
              "      filter: drop-shadow(0px 1px 2px rgba(0, 0, 0, 0.3));\n",
              "      fill: #FFFFFF;\n",
              "    }\n",
              "  </style>\n",
              "\n",
              "      <script>\n",
              "        const buttonEl =\n",
              "          document.querySelector('#df-24ba8a1d-3064-450a-969c-dc36280656e7 button.colab-df-convert');\n",
              "        buttonEl.style.display =\n",
              "          google.colab.kernel.accessAllowed ? 'block' : 'none';\n",
              "\n",
              "        async function convertToInteractive(key) {\n",
              "          const element = document.querySelector('#df-24ba8a1d-3064-450a-969c-dc36280656e7');\n",
              "          const dataTable =\n",
              "            await google.colab.kernel.invokeFunction('convertToInteractive',\n",
              "                                                     [key], {});\n",
              "          if (!dataTable) return;\n",
              "\n",
              "          const docLinkHtml = 'Like what you see? Visit the ' +\n",
              "            '<a target=\"_blank\" href=https://colab.research.google.com/notebooks/data_table.ipynb>data table notebook</a>'\n",
              "            + ' to learn more about interactive tables.';\n",
              "          element.innerHTML = '';\n",
              "          dataTable['output_type'] = 'display_data';\n",
              "          await google.colab.output.renderOutput(dataTable, element);\n",
              "          const docLink = document.createElement('div');\n",
              "          docLink.innerHTML = docLinkHtml;\n",
              "          element.appendChild(docLink);\n",
              "        }\n",
              "      </script>\n",
              "    </div>\n",
              "  </div>\n",
              "  "
            ]
          },
          "metadata": {},
          "execution_count": 141
        }
      ]
    },
    {
      "cell_type": "code",
      "source": [
        "def eval_regression(true, pred):\n",
        "  \"\"\"Takes true and predicted values (arrays) and prints MAE, MSE, RMSE and R2\"\"\"\n",
        "  mae = mean_absolute_error(true, pred)\n",
        "  mse = mean_squared_error(true, pred)\n",
        "  rmse = np.sqrt(mse)\n",
        "  r2 = r2_score(true, pred)\n",
        "\n",
        "  print(f'MAE {mae},\\n MSE {mse},\\n RMSE: {rmse},\\n R^2: {r2} ')"
      ],
      "metadata": {
        "id": "VLFOd80H6jzU"
      },
      "execution_count": 154,
      "outputs": []
    },
    {
      "cell_type": "code",
      "source": [
        "eval_regression(y_train, train_pred)"
      ],
      "metadata": {
        "colab": {
          "base_uri": "https://localhost:8080/"
        },
        "id": "E3iTCOe47MKq",
        "outputId": "f4588cf0-fa26-48c1-d35c-81f5054d28f4"
      },
      "execution_count": 155,
      "outputs": [
        {
          "output_type": "stream",
          "name": "stdout",
          "text": [
            "MAE 736.1576217146434,\n",
            " MSE 972365.2274978656,\n",
            " RMSE: 986.0858114271118,\n",
            " R^2: 0.6714378167544087 \n"
          ]
        }
      ]
    },
    {
      "cell_type": "code",
      "source": [
        "eval_regression(y_test, test_pred)"
      ],
      "metadata": {
        "colab": {
          "base_uri": "https://localhost:8080/"
        },
        "id": "iKVgAbDt7OYS",
        "outputId": "0c08db31-8e39-4e27-bc41-30de5987f4a2"
      },
      "execution_count": 156,
      "outputs": [
        {
          "output_type": "stream",
          "name": "stdout",
          "text": [
            "MAE 558742259972.5935,\n",
            " MSE 4.5732477819291586e+25,\n",
            " RMSE: 6762579228318.999,\n",
            " R^2: -1.6575880497968222e+19 \n"
          ]
        }
      ]
    },
    {
      "cell_type": "markdown",
      "source": [
        "I recommend using the regression tree because the R2 in the decision tree is negative and we should not get a negative on that value."
      ],
      "metadata": {
        "id": "LOFkAsEI7Sim"
      }
    }
  ]
}
