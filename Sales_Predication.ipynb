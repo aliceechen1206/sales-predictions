{
  "nbformat": 4,
  "nbformat_minor": 0,
  "metadata": {
    "colab": {
      "provenance": [],
      "mount_file_id": "19QT3oNF5HxPTMEptKwFRoC7pfeykyme_",
      "authorship_tag": "ABX9TyOPohwH9daLEBtc4ycK1SMX",
      "include_colab_link": true
    },
    "kernelspec": {
      "name": "python3",
      "display_name": "Python 3"
    },
    "language_info": {
      "name": "python"
    }
  },
  "cells": [
    {
      "cell_type": "markdown",
      "metadata": {
        "id": "view-in-github",
        "colab_type": "text"
      },
      "source": [
        "<a href=\"https://colab.research.google.com/github/aliceechen1206/sales-predictions/blob/main/Sales_Predication.ipynb\" target=\"_parent\"><img src=\"https://colab.research.google.com/assets/colab-badge.svg\" alt=\"Open In Colab\"/></a>"
      ]
    },
    {
      "cell_type": "markdown",
      "source": [
        " # **Sales Predication**\n",
        "\n",
        "By: *Alice Chen*\n"
      ],
      "metadata": {
        "id": "IEycnJGuYSDH"
      }
    },
    {
      "cell_type": "code",
      "execution_count": null,
      "metadata": {
        "id": "u6-nL5zWYBK4"
      },
      "outputs": [],
      "source": [
        "#Import Library \n",
        "import matplotlib.pyplot as plt\n",
        "import seaborn as sns\n",
        "import pandas as pd\n",
        "import numpy as np\n",
        "from sklearn.model_selection import train_test_split\n",
        "from sklearn.compose import make_column_selector, make_column_transformer\n",
        "from sklearn.impute import SimpleImputer\n",
        "from sklearn.preprocessing import OneHotEncoder, StandardScaler\n",
        "from sklearn.linear_model import LinearRegression\n",
        "from sklearn.pipeline import make_pipeline\n",
        "from sklearn import set_config\n",
        "import matplotlib.pyplot as plt\n",
        "from sklearn.metrics import mean_absolute_error, mean_squared_error, r2_score\n",
        "set_config(display='diagram')"
      ]
    },
    {
      "cell_type": "code",
      "source": [
        "#Load Data\n",
        "df = pd.read_csv('/content/drive/MyDrive/Coding Dojo/sales_predictions.csv')\n",
        "df.head()"
      ],
      "metadata": {
        "colab": {
          "base_uri": "https://localhost:8080/",
          "height": 357
        },
        "id": "xZhkxv2iYzPA",
        "outputId": "02f69ed9-398e-43ae-960b-fa854ff94346"
      },
      "execution_count": null,
      "outputs": [
        {
          "output_type": "execute_result",
          "data": {
            "text/plain": [
              "  Item_Identifier  Item_Weight Item_Fat_Content  Item_Visibility  \\\n",
              "0           FDA15         9.30          Low Fat         0.016047   \n",
              "1           DRC01         5.92          Regular         0.019278   \n",
              "2           FDN15        17.50          Low Fat         0.016760   \n",
              "3           FDX07        19.20          Regular         0.000000   \n",
              "4           NCD19         8.93          Low Fat         0.000000   \n",
              "\n",
              "               Item_Type  Item_MRP Outlet_Identifier  \\\n",
              "0                  Dairy  249.8092            OUT049   \n",
              "1            Soft Drinks   48.2692            OUT018   \n",
              "2                   Meat  141.6180            OUT049   \n",
              "3  Fruits and Vegetables  182.0950            OUT010   \n",
              "4              Household   53.8614            OUT013   \n",
              "\n",
              "   Outlet_Establishment_Year Outlet_Size Outlet_Location_Type  \\\n",
              "0                       1999      Medium               Tier 1   \n",
              "1                       2009      Medium               Tier 3   \n",
              "2                       1999      Medium               Tier 1   \n",
              "3                       1998         NaN               Tier 3   \n",
              "4                       1987        High               Tier 3   \n",
              "\n",
              "         Outlet_Type  Item_Outlet_Sales  \n",
              "0  Supermarket Type1          3735.1380  \n",
              "1  Supermarket Type2           443.4228  \n",
              "2  Supermarket Type1          2097.2700  \n",
              "3      Grocery Store           732.3800  \n",
              "4  Supermarket Type1           994.7052  "
            ],
            "text/html": [
              "\n",
              "  <div id=\"df-2dd7345a-77a6-4b8e-b915-588e7f074791\">\n",
              "    <div class=\"colab-df-container\">\n",
              "      <div>\n",
              "<style scoped>\n",
              "    .dataframe tbody tr th:only-of-type {\n",
              "        vertical-align: middle;\n",
              "    }\n",
              "\n",
              "    .dataframe tbody tr th {\n",
              "        vertical-align: top;\n",
              "    }\n",
              "\n",
              "    .dataframe thead th {\n",
              "        text-align: right;\n",
              "    }\n",
              "</style>\n",
              "<table border=\"1\" class=\"dataframe\">\n",
              "  <thead>\n",
              "    <tr style=\"text-align: right;\">\n",
              "      <th></th>\n",
              "      <th>Item_Identifier</th>\n",
              "      <th>Item_Weight</th>\n",
              "      <th>Item_Fat_Content</th>\n",
              "      <th>Item_Visibility</th>\n",
              "      <th>Item_Type</th>\n",
              "      <th>Item_MRP</th>\n",
              "      <th>Outlet_Identifier</th>\n",
              "      <th>Outlet_Establishment_Year</th>\n",
              "      <th>Outlet_Size</th>\n",
              "      <th>Outlet_Location_Type</th>\n",
              "      <th>Outlet_Type</th>\n",
              "      <th>Item_Outlet_Sales</th>\n",
              "    </tr>\n",
              "  </thead>\n",
              "  <tbody>\n",
              "    <tr>\n",
              "      <th>0</th>\n",
              "      <td>FDA15</td>\n",
              "      <td>9.30</td>\n",
              "      <td>Low Fat</td>\n",
              "      <td>0.016047</td>\n",
              "      <td>Dairy</td>\n",
              "      <td>249.8092</td>\n",
              "      <td>OUT049</td>\n",
              "      <td>1999</td>\n",
              "      <td>Medium</td>\n",
              "      <td>Tier 1</td>\n",
              "      <td>Supermarket Type1</td>\n",
              "      <td>3735.1380</td>\n",
              "    </tr>\n",
              "    <tr>\n",
              "      <th>1</th>\n",
              "      <td>DRC01</td>\n",
              "      <td>5.92</td>\n",
              "      <td>Regular</td>\n",
              "      <td>0.019278</td>\n",
              "      <td>Soft Drinks</td>\n",
              "      <td>48.2692</td>\n",
              "      <td>OUT018</td>\n",
              "      <td>2009</td>\n",
              "      <td>Medium</td>\n",
              "      <td>Tier 3</td>\n",
              "      <td>Supermarket Type2</td>\n",
              "      <td>443.4228</td>\n",
              "    </tr>\n",
              "    <tr>\n",
              "      <th>2</th>\n",
              "      <td>FDN15</td>\n",
              "      <td>17.50</td>\n",
              "      <td>Low Fat</td>\n",
              "      <td>0.016760</td>\n",
              "      <td>Meat</td>\n",
              "      <td>141.6180</td>\n",
              "      <td>OUT049</td>\n",
              "      <td>1999</td>\n",
              "      <td>Medium</td>\n",
              "      <td>Tier 1</td>\n",
              "      <td>Supermarket Type1</td>\n",
              "      <td>2097.2700</td>\n",
              "    </tr>\n",
              "    <tr>\n",
              "      <th>3</th>\n",
              "      <td>FDX07</td>\n",
              "      <td>19.20</td>\n",
              "      <td>Regular</td>\n",
              "      <td>0.000000</td>\n",
              "      <td>Fruits and Vegetables</td>\n",
              "      <td>182.0950</td>\n",
              "      <td>OUT010</td>\n",
              "      <td>1998</td>\n",
              "      <td>NaN</td>\n",
              "      <td>Tier 3</td>\n",
              "      <td>Grocery Store</td>\n",
              "      <td>732.3800</td>\n",
              "    </tr>\n",
              "    <tr>\n",
              "      <th>4</th>\n",
              "      <td>NCD19</td>\n",
              "      <td>8.93</td>\n",
              "      <td>Low Fat</td>\n",
              "      <td>0.000000</td>\n",
              "      <td>Household</td>\n",
              "      <td>53.8614</td>\n",
              "      <td>OUT013</td>\n",
              "      <td>1987</td>\n",
              "      <td>High</td>\n",
              "      <td>Tier 3</td>\n",
              "      <td>Supermarket Type1</td>\n",
              "      <td>994.7052</td>\n",
              "    </tr>\n",
              "  </tbody>\n",
              "</table>\n",
              "</div>\n",
              "      <button class=\"colab-df-convert\" onclick=\"convertToInteractive('df-2dd7345a-77a6-4b8e-b915-588e7f074791')\"\n",
              "              title=\"Convert this dataframe to an interactive table.\"\n",
              "              style=\"display:none;\">\n",
              "        \n",
              "  <svg xmlns=\"http://www.w3.org/2000/svg\" height=\"24px\"viewBox=\"0 0 24 24\"\n",
              "       width=\"24px\">\n",
              "    <path d=\"M0 0h24v24H0V0z\" fill=\"none\"/>\n",
              "    <path d=\"M18.56 5.44l.94 2.06.94-2.06 2.06-.94-2.06-.94-.94-2.06-.94 2.06-2.06.94zm-11 1L8.5 8.5l.94-2.06 2.06-.94-2.06-.94L8.5 2.5l-.94 2.06-2.06.94zm10 10l.94 2.06.94-2.06 2.06-.94-2.06-.94-.94-2.06-.94 2.06-2.06.94z\"/><path d=\"M17.41 7.96l-1.37-1.37c-.4-.4-.92-.59-1.43-.59-.52 0-1.04.2-1.43.59L10.3 9.45l-7.72 7.72c-.78.78-.78 2.05 0 2.83L4 21.41c.39.39.9.59 1.41.59.51 0 1.02-.2 1.41-.59l7.78-7.78 2.81-2.81c.8-.78.8-2.07 0-2.86zM5.41 20L4 18.59l7.72-7.72 1.47 1.35L5.41 20z\"/>\n",
              "  </svg>\n",
              "      </button>\n",
              "      \n",
              "  <style>\n",
              "    .colab-df-container {\n",
              "      display:flex;\n",
              "      flex-wrap:wrap;\n",
              "      gap: 12px;\n",
              "    }\n",
              "\n",
              "    .colab-df-convert {\n",
              "      background-color: #E8F0FE;\n",
              "      border: none;\n",
              "      border-radius: 50%;\n",
              "      cursor: pointer;\n",
              "      display: none;\n",
              "      fill: #1967D2;\n",
              "      height: 32px;\n",
              "      padding: 0 0 0 0;\n",
              "      width: 32px;\n",
              "    }\n",
              "\n",
              "    .colab-df-convert:hover {\n",
              "      background-color: #E2EBFA;\n",
              "      box-shadow: 0px 1px 2px rgba(60, 64, 67, 0.3), 0px 1px 3px 1px rgba(60, 64, 67, 0.15);\n",
              "      fill: #174EA6;\n",
              "    }\n",
              "\n",
              "    [theme=dark] .colab-df-convert {\n",
              "      background-color: #3B4455;\n",
              "      fill: #D2E3FC;\n",
              "    }\n",
              "\n",
              "    [theme=dark] .colab-df-convert:hover {\n",
              "      background-color: #434B5C;\n",
              "      box-shadow: 0px 1px 3px 1px rgba(0, 0, 0, 0.15);\n",
              "      filter: drop-shadow(0px 1px 2px rgba(0, 0, 0, 0.3));\n",
              "      fill: #FFFFFF;\n",
              "    }\n",
              "  </style>\n",
              "\n",
              "      <script>\n",
              "        const buttonEl =\n",
              "          document.querySelector('#df-2dd7345a-77a6-4b8e-b915-588e7f074791 button.colab-df-convert');\n",
              "        buttonEl.style.display =\n",
              "          google.colab.kernel.accessAllowed ? 'block' : 'none';\n",
              "\n",
              "        async function convertToInteractive(key) {\n",
              "          const element = document.querySelector('#df-2dd7345a-77a6-4b8e-b915-588e7f074791');\n",
              "          const dataTable =\n",
              "            await google.colab.kernel.invokeFunction('convertToInteractive',\n",
              "                                                     [key], {});\n",
              "          if (!dataTable) return;\n",
              "\n",
              "          const docLinkHtml = 'Like what you see? Visit the ' +\n",
              "            '<a target=\"_blank\" href=https://colab.research.google.com/notebooks/data_table.ipynb>data table notebook</a>'\n",
              "            + ' to learn more about interactive tables.';\n",
              "          element.innerHTML = '';\n",
              "          dataTable['output_type'] = 'display_data';\n",
              "          await google.colab.output.renderOutput(dataTable, element);\n",
              "          const docLink = document.createElement('div');\n",
              "          docLink.innerHTML = docLinkHtml;\n",
              "          element.appendChild(docLink);\n",
              "        }\n",
              "      </script>\n",
              "    </div>\n",
              "  </div>\n",
              "  "
            ]
          },
          "metadata": {},
          "execution_count": 2
        }
      ]
    },
    {
      "cell_type": "markdown",
      "source": [
        "# **Cleaning Data**"
      ],
      "metadata": {
        "id": "5LVIdzosZerz"
      }
    },
    {
      "cell_type": "code",
      "source": [
        "df.dtypes"
      ],
      "metadata": {
        "colab": {
          "base_uri": "https://localhost:8080/"
        },
        "id": "qASy0qCDZC2Z",
        "outputId": "8355afd0-e21a-4f33-df81-27e1d6b90050"
      },
      "execution_count": null,
      "outputs": [
        {
          "output_type": "execute_result",
          "data": {
            "text/plain": [
              "Item_Identifier               object\n",
              "Item_Weight                  float64\n",
              "Item_Fat_Content              object\n",
              "Item_Visibility              float64\n",
              "Item_Type                     object\n",
              "Item_MRP                     float64\n",
              "Outlet_Identifier             object\n",
              "Outlet_Establishment_Year      int64\n",
              "Outlet_Size                   object\n",
              "Outlet_Location_Type          object\n",
              "Outlet_Type                   object\n",
              "Item_Outlet_Sales            float64\n",
              "dtype: object"
            ]
          },
          "metadata": {},
          "execution_count": 3
        }
      ]
    },
    {
      "cell_type": "code",
      "source": [
        "#Check for Duplicates\n",
        "df.duplicated().sum()"
      ],
      "metadata": {
        "colab": {
          "base_uri": "https://localhost:8080/"
        },
        "id": "pCvfNjlwZ_Vj",
        "outputId": "99f29bb9-5c96-4205-eb7d-ed166289cccf"
      },
      "execution_count": null,
      "outputs": [
        {
          "output_type": "execute_result",
          "data": {
            "text/plain": [
              "0"
            ]
          },
          "metadata": {},
          "execution_count": 4
        }
      ]
    },
    {
      "cell_type": "code",
      "source": [
        "#Check for Missing Value\n",
        "df.isna().sum()"
      ],
      "metadata": {
        "colab": {
          "base_uri": "https://localhost:8080/"
        },
        "id": "pvRdjX2rZ_x5",
        "outputId": "adfed684-f38f-44e5-af1f-29024f39e1fb"
      },
      "execution_count": null,
      "outputs": [
        {
          "output_type": "execute_result",
          "data": {
            "text/plain": [
              "Item_Identifier                 0\n",
              "Item_Weight                  1463\n",
              "Item_Fat_Content                0\n",
              "Item_Visibility                 0\n",
              "Item_Type                       0\n",
              "Item_MRP                        0\n",
              "Outlet_Identifier               0\n",
              "Outlet_Establishment_Year       0\n",
              "Outlet_Size                  2410\n",
              "Outlet_Location_Type            0\n",
              "Outlet_Type                     0\n",
              "Item_Outlet_Sales               0\n",
              "dtype: int64"
            ]
          },
          "metadata": {},
          "execution_count": 5
        }
      ]
    },
    {
      "cell_type": "markdown",
      "source": [
        "There are missing value for Item Weight and Outlet Size. To address the missing value I will using mean average for the floats in Item Weight."
      ],
      "metadata": {
        "id": "mknlZ06rakjz"
      }
    },
    {
      "cell_type": "code",
      "source": [
        "weight_mean = df['Item_Weight'].mean()\n",
        "df['Item_Weight'].fillna(weight_mean, inplace=True)\n",
        "df.isna().sum()"
      ],
      "metadata": {
        "colab": {
          "base_uri": "https://localhost:8080/"
        },
        "id": "9aRqZZC6dpnD",
        "outputId": "bc2ecfb2-adbd-4aa9-cb50-02dba3c51c98"
      },
      "execution_count": null,
      "outputs": [
        {
          "output_type": "execute_result",
          "data": {
            "text/plain": [
              "Item_Identifier                 0\n",
              "Item_Weight                     0\n",
              "Item_Fat_Content                0\n",
              "Item_Visibility                 0\n",
              "Item_Type                       0\n",
              "Item_MRP                        0\n",
              "Outlet_Identifier               0\n",
              "Outlet_Establishment_Year       0\n",
              "Outlet_Size                  2410\n",
              "Outlet_Location_Type            0\n",
              "Outlet_Type                     0\n",
              "Item_Outlet_Sales               0\n",
              "dtype: int64"
            ]
          },
          "metadata": {},
          "execution_count": 6
        }
      ]
    },
    {
      "cell_type": "markdown",
      "source": [
        "For the missing value in Outlet Size, I will first check how the category is spread out and how many stores are missing their Outlet Size and fill it with small"
      ],
      "metadata": {
        "id": "uYx06XBreeLU"
      }
    },
    {
      "cell_type": "code",
      "source": [
        "df.groupby(['Outlet_Type', 'Outlet_Size'])['Item_Identifier'].count()"
      ],
      "metadata": {
        "colab": {
          "base_uri": "https://localhost:8080/"
        },
        "id": "wZkM1M2DedxB",
        "outputId": "705baee7-4d2d-4b1c-ff1c-eac2f357ff30"
      },
      "execution_count": null,
      "outputs": [
        {
          "output_type": "execute_result",
          "data": {
            "text/plain": [
              "Outlet_Type        Outlet_Size\n",
              "Grocery Store      Small           528\n",
              "Supermarket Type1  High            932\n",
              "                   Medium          930\n",
              "                   Small          1860\n",
              "Supermarket Type2  Medium          928\n",
              "Supermarket Type3  Medium          935\n",
              "Name: Item_Identifier, dtype: int64"
            ]
          },
          "metadata": {},
          "execution_count": 7
        }
      ]
    },
    {
      "cell_type": "code",
      "source": [
        "missing_mask = df['Outlet_Size'].isna()\n",
        "mapping_dict = dict({'Grocery Store': 'Small', 'Supermarket Type2' : 'Medium', 'Supermarket Type3' : 'Medium'})\n",
        "df.loc[missing_mask, 'Outlet_Size'] = df.loc[missing_mask, 'Outlet_Type'].map(mapping_dict)\n",
        "df['Outlet_Size'] = df['Outlet_Size'].fillna('Medium')"
      ],
      "metadata": {
        "id": "RlT3BZHIgwkq"
      },
      "execution_count": null,
      "outputs": []
    },
    {
      "cell_type": "code",
      "source": [
        "df.isna().sum()"
      ],
      "metadata": {
        "colab": {
          "base_uri": "https://localhost:8080/"
        },
        "id": "e6r9rc7woVaR",
        "outputId": "a97357ff-52d0-4151-c6a6-0f6fb04f7713"
      },
      "execution_count": null,
      "outputs": [
        {
          "output_type": "execute_result",
          "data": {
            "text/plain": [
              "Item_Identifier              0\n",
              "Item_Weight                  0\n",
              "Item_Fat_Content             0\n",
              "Item_Visibility              0\n",
              "Item_Type                    0\n",
              "Item_MRP                     0\n",
              "Outlet_Identifier            0\n",
              "Outlet_Establishment_Year    0\n",
              "Outlet_Size                  0\n",
              "Outlet_Location_Type         0\n",
              "Outlet_Type                  0\n",
              "Item_Outlet_Sales            0\n",
              "dtype: int64"
            ]
          },
          "metadata": {},
          "execution_count": 21
        }
      ]
    },
    {
      "cell_type": "code",
      "source": [
        "#Fix any inconsistent categories\n",
        "df.nunique()"
      ],
      "metadata": {
        "colab": {
          "base_uri": "https://localhost:8080/"
        },
        "id": "fRzd0R3ShFFU",
        "outputId": "3f8f5c4b-f9d8-462f-9a5e-e42a3317981f"
      },
      "execution_count": null,
      "outputs": [
        {
          "output_type": "execute_result",
          "data": {
            "text/plain": [
              "Item_Identifier              1559\n",
              "Item_Weight                   416\n",
              "Item_Fat_Content                5\n",
              "Item_Visibility              7880\n",
              "Item_Type                      16\n",
              "Item_MRP                     5938\n",
              "Outlet_Identifier              10\n",
              "Outlet_Establishment_Year       9\n",
              "Outlet_Size                     3\n",
              "Outlet_Location_Type            3\n",
              "Outlet_Type                     4\n",
              "Item_Outlet_Sales            3493\n",
              "dtype: int64"
            ]
          },
          "metadata": {},
          "execution_count": 9
        }
      ]
    },
    {
      "cell_type": "code",
      "source": [
        "df['Item_Fat_Content'].value_counts()"
      ],
      "metadata": {
        "colab": {
          "base_uri": "https://localhost:8080/"
        },
        "id": "mTWF4lkRheR6",
        "outputId": "93279fc6-4705-4011-bb7a-fbe93426bc6f"
      },
      "execution_count": null,
      "outputs": [
        {
          "output_type": "execute_result",
          "data": {
            "text/plain": [
              "Low Fat    5089\n",
              "Regular    2889\n",
              "LF          316\n",
              "reg         117\n",
              "low fat     112\n",
              "Name: Item_Fat_Content, dtype: int64"
            ]
          },
          "metadata": {},
          "execution_count": 10
        }
      ]
    },
    {
      "cell_type": "code",
      "source": [
        "df['Item_Fat_Content'] = df['Item_Fat_Content'].replace ('LF','Low Fat')\n",
        "df['Item_Fat_Content'] = df['Item_Fat_Content'].replace ('low fat','Low Fat')\n",
        "df['Item_Fat_Content'] = df['Item_Fat_Content'].replace ('reg','Regular')\n",
        "df['Item_Fat_Content'].value_counts()"
      ],
      "metadata": {
        "colab": {
          "base_uri": "https://localhost:8080/"
        },
        "id": "sX2_KFc_hxV7",
        "outputId": "79b40163-c467-4643-85a6-13f4136f64af"
      },
      "execution_count": null,
      "outputs": [
        {
          "output_type": "execute_result",
          "data": {
            "text/plain": [
              "Low Fat    5517\n",
              "Regular    3006\n",
              "Name: Item_Fat_Content, dtype: int64"
            ]
          },
          "metadata": {},
          "execution_count": 11
        }
      ]
    },
    {
      "cell_type": "code",
      "source": [
        "#Obtain summary statistics of any numerical columns\n",
        "df[['Item_Weight','Item_Visibility','Item_MRP','Outlet_Establishment_Year','Item_Outlet_Sales']].describe()"
      ],
      "metadata": {
        "colab": {
          "base_uri": "https://localhost:8080/",
          "height": 300
        },
        "id": "YjLzmfFmiBMv",
        "outputId": "f0f36d54-2a23-46a0-e193-2fcddf0f55fe"
      },
      "execution_count": null,
      "outputs": [
        {
          "output_type": "execute_result",
          "data": {
            "text/plain": [
              "       Item_Weight  Item_Visibility     Item_MRP  Outlet_Establishment_Year  \\\n",
              "count  8523.000000      8523.000000  8523.000000                8523.000000   \n",
              "mean     12.857645         0.066132   140.992782                1997.831867   \n",
              "std       4.226124         0.051598    62.275067                   8.371760   \n",
              "min       4.555000         0.000000    31.290000                1985.000000   \n",
              "25%       9.310000         0.026989    93.826500                1987.000000   \n",
              "50%      12.857645         0.053931   143.012800                1999.000000   \n",
              "75%      16.000000         0.094585   185.643700                2004.000000   \n",
              "max      21.350000         0.328391   266.888400                2009.000000   \n",
              "\n",
              "       Item_Outlet_Sales  \n",
              "count        8523.000000  \n",
              "mean         2181.288914  \n",
              "std          1706.499616  \n",
              "min            33.290000  \n",
              "25%           834.247400  \n",
              "50%          1794.331000  \n",
              "75%          3101.296400  \n",
              "max         13086.964800  "
            ],
            "text/html": [
              "\n",
              "  <div id=\"df-77a4bbf2-baff-4700-95e8-32e2abadb89a\">\n",
              "    <div class=\"colab-df-container\">\n",
              "      <div>\n",
              "<style scoped>\n",
              "    .dataframe tbody tr th:only-of-type {\n",
              "        vertical-align: middle;\n",
              "    }\n",
              "\n",
              "    .dataframe tbody tr th {\n",
              "        vertical-align: top;\n",
              "    }\n",
              "\n",
              "    .dataframe thead th {\n",
              "        text-align: right;\n",
              "    }\n",
              "</style>\n",
              "<table border=\"1\" class=\"dataframe\">\n",
              "  <thead>\n",
              "    <tr style=\"text-align: right;\">\n",
              "      <th></th>\n",
              "      <th>Item_Weight</th>\n",
              "      <th>Item_Visibility</th>\n",
              "      <th>Item_MRP</th>\n",
              "      <th>Outlet_Establishment_Year</th>\n",
              "      <th>Item_Outlet_Sales</th>\n",
              "    </tr>\n",
              "  </thead>\n",
              "  <tbody>\n",
              "    <tr>\n",
              "      <th>count</th>\n",
              "      <td>8523.000000</td>\n",
              "      <td>8523.000000</td>\n",
              "      <td>8523.000000</td>\n",
              "      <td>8523.000000</td>\n",
              "      <td>8523.000000</td>\n",
              "    </tr>\n",
              "    <tr>\n",
              "      <th>mean</th>\n",
              "      <td>12.857645</td>\n",
              "      <td>0.066132</td>\n",
              "      <td>140.992782</td>\n",
              "      <td>1997.831867</td>\n",
              "      <td>2181.288914</td>\n",
              "    </tr>\n",
              "    <tr>\n",
              "      <th>std</th>\n",
              "      <td>4.226124</td>\n",
              "      <td>0.051598</td>\n",
              "      <td>62.275067</td>\n",
              "      <td>8.371760</td>\n",
              "      <td>1706.499616</td>\n",
              "    </tr>\n",
              "    <tr>\n",
              "      <th>min</th>\n",
              "      <td>4.555000</td>\n",
              "      <td>0.000000</td>\n",
              "      <td>31.290000</td>\n",
              "      <td>1985.000000</td>\n",
              "      <td>33.290000</td>\n",
              "    </tr>\n",
              "    <tr>\n",
              "      <th>25%</th>\n",
              "      <td>9.310000</td>\n",
              "      <td>0.026989</td>\n",
              "      <td>93.826500</td>\n",
              "      <td>1987.000000</td>\n",
              "      <td>834.247400</td>\n",
              "    </tr>\n",
              "    <tr>\n",
              "      <th>50%</th>\n",
              "      <td>12.857645</td>\n",
              "      <td>0.053931</td>\n",
              "      <td>143.012800</td>\n",
              "      <td>1999.000000</td>\n",
              "      <td>1794.331000</td>\n",
              "    </tr>\n",
              "    <tr>\n",
              "      <th>75%</th>\n",
              "      <td>16.000000</td>\n",
              "      <td>0.094585</td>\n",
              "      <td>185.643700</td>\n",
              "      <td>2004.000000</td>\n",
              "      <td>3101.296400</td>\n",
              "    </tr>\n",
              "    <tr>\n",
              "      <th>max</th>\n",
              "      <td>21.350000</td>\n",
              "      <td>0.328391</td>\n",
              "      <td>266.888400</td>\n",
              "      <td>2009.000000</td>\n",
              "      <td>13086.964800</td>\n",
              "    </tr>\n",
              "  </tbody>\n",
              "</table>\n",
              "</div>\n",
              "      <button class=\"colab-df-convert\" onclick=\"convertToInteractive('df-77a4bbf2-baff-4700-95e8-32e2abadb89a')\"\n",
              "              title=\"Convert this dataframe to an interactive table.\"\n",
              "              style=\"display:none;\">\n",
              "        \n",
              "  <svg xmlns=\"http://www.w3.org/2000/svg\" height=\"24px\"viewBox=\"0 0 24 24\"\n",
              "       width=\"24px\">\n",
              "    <path d=\"M0 0h24v24H0V0z\" fill=\"none\"/>\n",
              "    <path d=\"M18.56 5.44l.94 2.06.94-2.06 2.06-.94-2.06-.94-.94-2.06-.94 2.06-2.06.94zm-11 1L8.5 8.5l.94-2.06 2.06-.94-2.06-.94L8.5 2.5l-.94 2.06-2.06.94zm10 10l.94 2.06.94-2.06 2.06-.94-2.06-.94-.94-2.06-.94 2.06-2.06.94z\"/><path d=\"M17.41 7.96l-1.37-1.37c-.4-.4-.92-.59-1.43-.59-.52 0-1.04.2-1.43.59L10.3 9.45l-7.72 7.72c-.78.78-.78 2.05 0 2.83L4 21.41c.39.39.9.59 1.41.59.51 0 1.02-.2 1.41-.59l7.78-7.78 2.81-2.81c.8-.78.8-2.07 0-2.86zM5.41 20L4 18.59l7.72-7.72 1.47 1.35L5.41 20z\"/>\n",
              "  </svg>\n",
              "      </button>\n",
              "      \n",
              "  <style>\n",
              "    .colab-df-container {\n",
              "      display:flex;\n",
              "      flex-wrap:wrap;\n",
              "      gap: 12px;\n",
              "    }\n",
              "\n",
              "    .colab-df-convert {\n",
              "      background-color: #E8F0FE;\n",
              "      border: none;\n",
              "      border-radius: 50%;\n",
              "      cursor: pointer;\n",
              "      display: none;\n",
              "      fill: #1967D2;\n",
              "      height: 32px;\n",
              "      padding: 0 0 0 0;\n",
              "      width: 32px;\n",
              "    }\n",
              "\n",
              "    .colab-df-convert:hover {\n",
              "      background-color: #E2EBFA;\n",
              "      box-shadow: 0px 1px 2px rgba(60, 64, 67, 0.3), 0px 1px 3px 1px rgba(60, 64, 67, 0.15);\n",
              "      fill: #174EA6;\n",
              "    }\n",
              "\n",
              "    [theme=dark] .colab-df-convert {\n",
              "      background-color: #3B4455;\n",
              "      fill: #D2E3FC;\n",
              "    }\n",
              "\n",
              "    [theme=dark] .colab-df-convert:hover {\n",
              "      background-color: #434B5C;\n",
              "      box-shadow: 0px 1px 3px 1px rgba(0, 0, 0, 0.15);\n",
              "      filter: drop-shadow(0px 1px 2px rgba(0, 0, 0, 0.3));\n",
              "      fill: #FFFFFF;\n",
              "    }\n",
              "  </style>\n",
              "\n",
              "      <script>\n",
              "        const buttonEl =\n",
              "          document.querySelector('#df-77a4bbf2-baff-4700-95e8-32e2abadb89a button.colab-df-convert');\n",
              "        buttonEl.style.display =\n",
              "          google.colab.kernel.accessAllowed ? 'block' : 'none';\n",
              "\n",
              "        async function convertToInteractive(key) {\n",
              "          const element = document.querySelector('#df-77a4bbf2-baff-4700-95e8-32e2abadb89a');\n",
              "          const dataTable =\n",
              "            await google.colab.kernel.invokeFunction('convertToInteractive',\n",
              "                                                     [key], {});\n",
              "          if (!dataTable) return;\n",
              "\n",
              "          const docLinkHtml = 'Like what you see? Visit the ' +\n",
              "            '<a target=\"_blank\" href=https://colab.research.google.com/notebooks/data_table.ipynb>data table notebook</a>'\n",
              "            + ' to learn more about interactive tables.';\n",
              "          element.innerHTML = '';\n",
              "          dataTable['output_type'] = 'display_data';\n",
              "          await google.colab.output.renderOutput(dataTable, element);\n",
              "          const docLink = document.createElement('div');\n",
              "          docLink.innerHTML = docLinkHtml;\n",
              "          element.appendChild(docLink);\n",
              "        }\n",
              "      </script>\n",
              "    </div>\n",
              "  </div>\n",
              "  "
            ]
          },
          "metadata": {},
          "execution_count": 12
        }
      ]
    },
    {
      "cell_type": "markdown",
      "source": [
        "# **Vizualization**"
      ],
      "metadata": {
        "id": "o058nV7gixW9"
      }
    },
    {
      "cell_type": "code",
      "source": [
        "corr = df.corr()\n",
        "sns.heatmap(corr, cmap = 'Greens', annot = True)"
      ],
      "metadata": {
        "colab": {
          "base_uri": "https://localhost:8080/",
          "height": 409
        },
        "id": "axwu85cEjPsP",
        "outputId": "03cba030-24b4-456b-c2ef-d3e3eaa35260"
      },
      "execution_count": null,
      "outputs": [
        {
          "output_type": "execute_result",
          "data": {
            "text/plain": [
              "<matplotlib.axes._subplots.AxesSubplot at 0x7f49ab6a2400>"
            ]
          },
          "metadata": {},
          "execution_count": 18
        },
        {
          "output_type": "display_data",
          "data": {
            "text/plain": [
              "<Figure size 432x288 with 2 Axes>"
            ],
            "image/png": "[encoded data removed]"
          },
          "metadata": {
            "needs_background": "light"
          }
        }
      ]
    },
    {
      "cell_type": "code",
      "source": [
        "fig, ax = plt.subplots(figsize=(10,5))\n",
        "sns.histplot(data=df, x='Item_MRP', ax=ax)\n",
        "ax.set(title='Distribution of Item MRP')\n",
        "ax.set_xlabel(\"Item MRP\",\n",
        "            fontsize='large');\n",
        "\n",
        "mean_MRP = df['Item_MRP'].mean()\n",
        "ax.axvline(mean_MRP,color='k', ls=':', \n",
        "           label=f\"Mean MRP= ${round(mean_MRP,2)}\");\n",
        "\n",
        "med_MRP = df['Item_MRP'].median()\n",
        "ax.axvline(med_MRP,color='k', ls=':', \n",
        "           label=f\"Median MRP= ${round(med_MRP,2)}\");\n",
        "\n",
        "ax.legend();"
      ],
      "metadata": {
        "colab": {
          "base_uri": "https://localhost:8080/",
          "height": 353
        },
        "id": "GdcPz5-MjVEH",
        "outputId": "9cd4bf70-235d-4706-a2cb-4c7f37cf656e"
      },
      "execution_count": null,
      "outputs": [
        {
          "output_type": "display_data",
          "data": {
            "text/plain": [
              "<Figure size 720x360 with 1 Axes>"
            ],
            "image/png": "[encoded data removed]"
          },
          "metadata": {
            "needs_background": "light"
          }
        }
      ]
    },
    {
      "cell_type": "code",
      "source": [
        "# Boxplot of Item_Fat_Content vs Item_Sales\n",
        "fig,axes = plt.subplots(figsize = (16,8))\n",
        "plt.title('Distribution of Item Type Sales', fontsize = 40)\n",
        "plt.xticks(rotation = 90, fontsize = 16) # Rotate x axis label 90 degrees\n",
        "plt.yticks(fontsize = 16) \n",
        "\n",
        "\n",
        "\n",
        "sns.set_theme(style = 'whitegrid', palette = 'deep')\n",
        "sns.boxplot(x = 'Item_Type',\n",
        "            y = 'Item_Outlet_Sales',\n",
        "            notch = True,\n",
        "            showfliers = True, # Ignore Outliers ?\n",
        "            data = df,\n",
        "            medianprops = {'color':'yellow'})\n",
        "\n",
        "plt.xlabel('', fontsize = 12); # Modify x axis label\n",
        "plt.ylabel('Sales', fontsize = 20)"
      ],
      "metadata": {
        "colab": {
          "base_uri": "https://localhost:8080/",
          "height": 703
        },
        "id": "GumpMYCQpGgJ",
        "outputId": "74151637-1392-426b-b687-e2e052cdbe01"
      },
      "execution_count": null,
      "outputs": [
        {
          "output_type": "execute_result",
          "data": {
            "text/plain": [
              "Text(0, 0.5, 'Sales')"
            ]
          },
          "metadata": {},
          "execution_count": 23
        },
        {
          "output_type": "display_data",
          "data": {
            "text/plain": [
              "<Figure size 1152x576 with 1 Axes>"
            ],
            "image/png": "[encoded data removed]"
          },
          "metadata": {}
        }
      ]
    },
    {
      "cell_type": "markdown",
      "source": [
        "# **Prep for ML**"
      ],
      "metadata": {
        "id": "thqPtNQhj1wc"
      }
    },
    {
      "cell_type": "code",
      "source": [
        "#copy for ML\n",
        "df_ml = df.copy()\n",
        "df_ml.info()"
      ],
      "metadata": {
        "id": "oyGNfKutj66p",
        "colab": {
          "base_uri": "https://localhost:8080/"
        },
        "outputId": "1ea58e38-f29b-43a8-ac97-ffa7a87eb419"
      },
      "execution_count": null,
      "outputs": [
        {
          "output_type": "stream",
          "name": "stdout",
          "text": [
            "<class 'pandas.core.frame.DataFrame'>\n",
            "RangeIndex: 8523 entries, 0 to 8522\n",
            "Data columns (total 12 columns):\n",
            " #   Column                     Non-Null Count  Dtype  \n",
            "---  ------                     --------------  -----  \n",
            " 0   Item_Identifier            8523 non-null   object \n",
            " 1   Item_Weight                8523 non-null   float64\n",
            " 2   Item_Fat_Content           8523 non-null   object \n",
            " 3   Item_Visibility            8523 non-null   float64\n",
            " 4   Item_Type                  8523 non-null   object \n",
            " 5   Item_MRP                   8523 non-null   float64\n",
            " 6   Outlet_Identifier          8523 non-null   object \n",
            " 7   Outlet_Establishment_Year  8523 non-null   int64  \n",
            " 8   Outlet_Size                8523 non-null   object \n",
            " 9   Outlet_Location_Type       8523 non-null   object \n",
            " 10  Outlet_Type                8523 non-null   object \n",
            " 11  Item_Outlet_Sales          8523 non-null   float64\n",
            "dtypes: float64(4), int64(1), object(7)\n",
            "memory usage: 799.2+ KB\n"
          ]
        }
      ]
    },
    {
      "cell_type": "code",
      "source": [
        "y=df_ml['Item_Outlet_Sales']\n",
        "X=df_ml.drop(columns='Item_Outlet_Sales')"
      ],
      "metadata": {
        "id": "Qc-P69dYrpIf"
      },
      "execution_count": null,
      "outputs": []
    },
    {
      "cell_type": "code",
      "source": [
        "X_train, X_test, y_train, y_test = train_test_split(X, y, random_state=42)\n",
        "X_train.shape"
      ],
      "metadata": {
        "colab": {
          "base_uri": "https://localhost:8080/"
        },
        "id": "xRTPh5hDsj0d",
        "outputId": "ace52dc5-eab1-4818-b7bd-dbbf3d826b1a"
      },
      "execution_count": null,
      "outputs": [
        {
          "output_type": "execute_result",
          "data": {
            "text/plain": [
              "(6392, 11)"
            ]
          },
          "metadata": {},
          "execution_count": 30
        }
      ]
    },
    {
      "cell_type": "code",
      "source": [
        "display(X_train.info())\n",
        "X_train.head()"
      ],
      "metadata": {
        "colab": {
          "base_uri": "https://localhost:8080/",
          "height": 687
        },
        "id": "RmzwimGDswwc",
        "outputId": "07ee2a68-9df9-4573-c9c6-c5fd3688d21f"
      },
      "execution_count": null,
      "outputs": [
        {
          "output_type": "stream",
          "name": "stdout",
          "text": [
            "<class 'pandas.core.frame.DataFrame'>\n",
            "Int64Index: 6392 entries, 4776 to 7270\n",
            "Data columns (total 11 columns):\n",
            " #   Column                     Non-Null Count  Dtype  \n",
            "---  ------                     --------------  -----  \n",
            " 0   Item_Identifier            6392 non-null   object \n",
            " 1   Item_Weight                6392 non-null   float64\n",
            " 2   Item_Fat_Content           6392 non-null   object \n",
            " 3   Item_Visibility            6392 non-null   float64\n",
            " 4   Item_Type                  6392 non-null   object \n",
            " 5   Item_MRP                   6392 non-null   float64\n",
            " 6   Outlet_Identifier          6392 non-null   object \n",
            " 7   Outlet_Establishment_Year  6392 non-null   int64  \n",
            " 8   Outlet_Size                6392 non-null   object \n",
            " 9   Outlet_Location_Type       6392 non-null   object \n",
            " 10  Outlet_Type                6392 non-null   object \n",
            "dtypes: float64(3), int64(1), object(7)\n",
            "memory usage: 599.2+ KB\n"
          ]
        },
        {
          "output_type": "display_data",
          "data": {
            "text/plain": [
              "None"
            ]
          },
          "metadata": {}
        },
        {
          "output_type": "execute_result",
          "data": {
            "text/plain": [
              "     Item_Identifier  Item_Weight Item_Fat_Content  Item_Visibility  \\\n",
              "4776           NCG06       16.350          Low Fat         0.029565   \n",
              "7510           FDV57       15.250          Regular         0.000000   \n",
              "5828           FDM27       12.350          Regular         0.158716   \n",
              "5327           FDG24        7.975          Low Fat         0.014628   \n",
              "4810           FDD05       19.350          Low Fat         0.016645   \n",
              "\n",
              "         Item_Type  Item_MRP Outlet_Identifier  Outlet_Establishment_Year  \\\n",
              "4776     Household  256.4646            OUT018                       2009   \n",
              "7510   Snack Foods  179.7660            OUT018                       2009   \n",
              "5828          Meat  157.2946            OUT049                       1999   \n",
              "5327  Baking Goods   82.3250            OUT035                       2004   \n",
              "4810  Frozen Foods  120.9098            OUT045                       2002   \n",
              "\n",
              "     Outlet_Size Outlet_Location_Type        Outlet_Type  \n",
              "4776      Medium               Tier 3  Supermarket Type2  \n",
              "7510      Medium               Tier 3  Supermarket Type2  \n",
              "5828      Medium               Tier 1  Supermarket Type1  \n",
              "5327       Small               Tier 2  Supermarket Type1  \n",
              "4810      Medium               Tier 2  Supermarket Type1  "
            ],
            "text/html": [
              "\n",
              "  <div id=\"df-a1a86eb4-b269-4a85-be38-07b90ea3aa2b\">\n",
              "    <div class=\"colab-df-container\">\n",
              "      <div>\n",
              "<style scoped>\n",
              "    .dataframe tbody tr th:only-of-type {\n",
              "        vertical-align: middle;\n",
              "    }\n",
              "\n",
              "    .dataframe tbody tr th {\n",
              "        vertical-align: top;\n",
              "    }\n",
              "\n",
              "    .dataframe thead th {\n",
              "        text-align: right;\n",
              "    }\n",
              "</style>\n",
              "<table border=\"1\" class=\"dataframe\">\n",
              "  <thead>\n",
              "    <tr style=\"text-align: right;\">\n",
              "      <th></th>\n",
              "      <th>Item_Identifier</th>\n",
              "      <th>Item_Weight</th>\n",
              "      <th>Item_Fat_Content</th>\n",
              "      <th>Item_Visibility</th>\n",
              "      <th>Item_Type</th>\n",
              "      <th>Item_MRP</th>\n",
              "      <th>Outlet_Identifier</th>\n",
              "      <th>Outlet_Establishment_Year</th>\n",
              "      <th>Outlet_Size</th>\n",
              "      <th>Outlet_Location_Type</th>\n",
              "      <th>Outlet_Type</th>\n",
              "    </tr>\n",
              "  </thead>\n",
              "  <tbody>\n",
              "    <tr>\n",
              "      <th>4776</th>\n",
              "      <td>NCG06</td>\n",
              "      <td>16.350</td>\n",
              "      <td>Low Fat</td>\n",
              "      <td>0.029565</td>\n",
              "      <td>Household</td>\n",
              "      <td>256.4646</td>\n",
              "      <td>OUT018</td>\n",
              "      <td>2009</td>\n",
              "      <td>Medium</td>\n",
              "      <td>Tier 3</td>\n",
              "      <td>Supermarket Type2</td>\n",
              "    </tr>\n",
              "    <tr>\n",
              "      <th>7510</th>\n",
              "      <td>FDV57</td>\n",
              "      <td>15.250</td>\n",
              "      <td>Regular</td>\n",
              "      <td>0.000000</td>\n",
              "      <td>Snack Foods</td>\n",
              "      <td>179.7660</td>\n",
              "      <td>OUT018</td>\n",
              "      <td>2009</td>\n",
              "      <td>Medium</td>\n",
              "      <td>Tier 3</td>\n",
              "      <td>Supermarket Type2</td>\n",
              "    </tr>\n",
              "    <tr>\n",
              "      <th>5828</th>\n",
              "      <td>FDM27</td>\n",
              "      <td>12.350</td>\n",
              "      <td>Regular</td>\n",
              "      <td>0.158716</td>\n",
              "      <td>Meat</td>\n",
              "      <td>157.2946</td>\n",
              "      <td>OUT049</td>\n",
              "      <td>1999</td>\n",
              "      <td>Medium</td>\n",
              "      <td>Tier 1</td>\n",
              "      <td>Supermarket Type1</td>\n",
              "    </tr>\n",
              "    <tr>\n",
              "      <th>5327</th>\n",
              "      <td>FDG24</td>\n",
              "      <td>7.975</td>\n",
              "      <td>Low Fat</td>\n",
              "      <td>0.014628</td>\n",
              "      <td>Baking Goods</td>\n",
              "      <td>82.3250</td>\n",
              "      <td>OUT035</td>\n",
              "      <td>2004</td>\n",
              "      <td>Small</td>\n",
              "      <td>Tier 2</td>\n",
              "      <td>Supermarket Type1</td>\n",
              "    </tr>\n",
              "    <tr>\n",
              "      <th>4810</th>\n",
              "      <td>FDD05</td>\n",
              "      <td>19.350</td>\n",
              "      <td>Low Fat</td>\n",
              "      <td>0.016645</td>\n",
              "      <td>Frozen Foods</td>\n",
              "      <td>120.9098</td>\n",
              "      <td>OUT045</td>\n",
              "      <td>2002</td>\n",
              "      <td>Medium</td>\n",
              "      <td>Tier 2</td>\n",
              "      <td>Supermarket Type1</td>\n",
              "    </tr>\n",
              "  </tbody>\n",
              "</table>\n",
              "</div>\n",
              "      <button class=\"colab-df-convert\" onclick=\"convertToInteractive('df-a1a86eb4-b269-4a85-be38-07b90ea3aa2b')\"\n",
              "              title=\"Convert this dataframe to an interactive table.\"\n",
              "              style=\"display:none;\">\n",
              "        \n",
              "  <svg xmlns=\"http://www.w3.org/2000/svg\" height=\"24px\"viewBox=\"0 0 24 24\"\n",
              "       width=\"24px\">\n",
              "    <path d=\"M0 0h24v24H0V0z\" fill=\"none\"/>\n",
              "    <path d=\"M18.56 5.44l.94 2.06.94-2.06 2.06-.94-2.06-.94-.94-2.06-.94 2.06-2.06.94zm-11 1L8.5 8.5l.94-2.06 2.06-.94-2.06-.94L8.5 2.5l-.94 2.06-2.06.94zm10 10l.94 2.06.94-2.06 2.06-.94-2.06-.94-.94-2.06-.94 2.06-2.06.94z\"/><path d=\"M17.41 7.96l-1.37-1.37c-.4-.4-.92-.59-1.43-.59-.52 0-1.04.2-1.43.59L10.3 9.45l-7.72 7.72c-.78.78-.78 2.05 0 2.83L4 21.41c.39.39.9.59 1.41.59.51 0 1.02-.2 1.41-.59l7.78-7.78 2.81-2.81c.8-.78.8-2.07 0-2.86zM5.41 20L4 18.59l7.72-7.72 1.47 1.35L5.41 20z\"/>\n",
              "  </svg>\n",
              "      </button>\n",
              "      \n",
              "  <style>\n",
              "    .colab-df-container {\n",
              "      display:flex;\n",
              "      flex-wrap:wrap;\n",
              "      gap: 12px;\n",
              "    }\n",
              "\n",
              "    .colab-df-convert {\n",
              "      background-color: #E8F0FE;\n",
              "      border: none;\n",
              "      border-radius: 50%;\n",
              "      cursor: pointer;\n",
              "      display: none;\n",
              "      fill: #1967D2;\n",
              "      height: 32px;\n",
              "      padding: 0 0 0 0;\n",
              "      width: 32px;\n",
              "    }\n",
              "\n",
              "    .colab-df-convert:hover {\n",
              "      background-color: #E2EBFA;\n",
              "      box-shadow: 0px 1px 2px rgba(60, 64, 67, 0.3), 0px 1px 3px 1px rgba(60, 64, 67, 0.15);\n",
              "      fill: #174EA6;\n",
              "    }\n",
              "\n",
              "    [theme=dark] .colab-df-convert {\n",
              "      background-color: #3B4455;\n",
              "      fill: #D2E3FC;\n",
              "    }\n",
              "\n",
              "    [theme=dark] .colab-df-convert:hover {\n",
              "      background-color: #434B5C;\n",
              "      box-shadow: 0px 1px 3px 1px rgba(0, 0, 0, 0.15);\n",
              "      filter: drop-shadow(0px 1px 2px rgba(0, 0, 0, 0.3));\n",
              "      fill: #FFFFFF;\n",
              "    }\n",
              "  </style>\n",
              "\n",
              "      <script>\n",
              "        const buttonEl =\n",
              "          document.querySelector('#df-a1a86eb4-b269-4a85-be38-07b90ea3aa2b button.colab-df-convert');\n",
              "        buttonEl.style.display =\n",
              "          google.colab.kernel.accessAllowed ? 'block' : 'none';\n",
              "\n",
              "        async function convertToInteractive(key) {\n",
              "          const element = document.querySelector('#df-a1a86eb4-b269-4a85-be38-07b90ea3aa2b');\n",
              "          const dataTable =\n",
              "            await google.colab.kernel.invokeFunction('convertToInteractive',\n",
              "                                                     [key], {});\n",
              "          if (!dataTable) return;\n",
              "\n",
              "          const docLinkHtml = 'Like what you see? Visit the ' +\n",
              "            '<a target=\"_blank\" href=https://colab.research.google.com/notebooks/data_table.ipynb>data table notebook</a>'\n",
              "            + ' to learn more about interactive tables.';\n",
              "          element.innerHTML = '';\n",
              "          dataTable['output_type'] = 'display_data';\n",
              "          await google.colab.output.renderOutput(dataTable, element);\n",
              "          const docLink = document.createElement('div');\n",
              "          docLink.innerHTML = docLinkHtml;\n",
              "          element.appendChild(docLink);\n",
              "        }\n",
              "      </script>\n",
              "    </div>\n",
              "  </div>\n",
              "  "
            ]
          },
          "metadata": {},
          "execution_count": 31
        }
      ]
    },
    {
      "cell_type": "code",
      "source": [
        "num_cols = ['Item_Weight','Item_Visibility','Item_MRP','Outlet_Establishment_Year']\n",
        "cat_cols = ['Item_Identifier','Item_Fat_Content','Item_Type','Outlet_Identifier','Outlet_Location_Type','Outlet_Type']"
      ],
      "metadata": {
        "id": "M66Yx1hEszIQ"
      },
      "execution_count": null,
      "outputs": []
    },
    {
      "cell_type": "code",
      "source": [
        "cat_selector = make_column_selector(dtype_include='object')\n",
        "\n",
        "cat_cols = cat_selector(X_train)\n",
        "cat_cols"
      ],
      "metadata": {
        "colab": {
          "base_uri": "https://localhost:8080/"
        },
        "id": "sLPhYkR9s3c7",
        "outputId": "63407619-9d66-40ac-d790-d1e15a39441c"
      },
      "execution_count": null,
      "outputs": [
        {
          "output_type": "execute_result",
          "data": {
            "text/plain": [
              "['Item_Identifier',\n",
              " 'Item_Fat_Content',\n",
              " 'Item_Type',\n",
              " 'Outlet_Identifier',\n",
              " 'Outlet_Size',\n",
              " 'Outlet_Location_Type',\n",
              " 'Outlet_Type']"
            ]
          },
          "metadata": {},
          "execution_count": 33
        }
      ]
    },
    {
      "cell_type": "code",
      "source": [
        "ohe_encoder = OneHotEncoder(sparse=False, handle_unknown='ignore')\n",
        "\n",
        "X_train_cat = X_train[cat_cols].copy()\n",
        "X_test_cat = X_test[cat_cols].copy()\n",
        "\n",
        "ohe_encoder.fit(X_train_cat)"
      ],
      "metadata": {
        "colab": {
          "base_uri": "https://localhost:8080/",
          "height": 75
        },
        "id": "k1W1NI2cuDlk",
        "outputId": "0379dd03-e586-43dc-b10f-cf982a79c884"
      },
      "execution_count": null,
      "outputs": [
        {
          "output_type": "execute_result",
          "data": {
            "text/plain": [
              "OneHotEncoder(handle_unknown='ignore', sparse=False)"
            ],
            "text/html": [
              "<style>#sk-8319ae9d-4efd-47de-88fc-bebc2fc7b408 {color: black;background-color: white;}#sk-8319ae9d-4efd-47de-88fc-bebc2fc7b408 pre{padding: 0;}#sk-8319ae9d-4efd-47de-88fc-bebc2fc7b408 div.sk-toggleable {background-color: white;}#sk-8319ae9d-4efd-47de-88fc-bebc2fc7b408 label.sk-toggleable__label {cursor: pointer;display: block;width: 100%;margin-bottom: 0;padding: 0.3em;box-sizing: border-box;text-align: center;}#sk-8319ae9d-4efd-47de-88fc-bebc2fc7b408 label.sk-toggleable__label-arrow:before {content: \"▸\";float: left;margin-right: 0.25em;color: #696969;}#sk-8319ae9d-4efd-47de-88fc-bebc2fc7b408 label.sk-toggleable__label-arrow:hover:before {color: black;}#sk-8319ae9d-4efd-47de-88fc-bebc2fc7b408 div.sk-estimator:hover label.sk-toggleable__label-arrow:before {color: black;}#sk-8319ae9d-4efd-47de-88fc-bebc2fc7b408 div.sk-toggleable__content {max-height: 0;max-width: 0;overflow: hidden;text-align: left;background-color: #f0f8ff;}#sk-8319ae9d-4efd-47de-88fc-bebc2fc7b408 div.sk-toggleable__content pre {margin: 0.2em;color: black;border-radius: 0.25em;background-color: #f0f8ff;}#sk-8319ae9d-4efd-47de-88fc-bebc2fc7b408 input.sk-toggleable__control:checked~div.sk-toggleable__content {max-height: 200px;max-width: 100%;overflow: auto;}#sk-8319ae9d-4efd-47de-88fc-bebc2fc7b408 input.sk-toggleable__control:checked~label.sk-toggleable__label-arrow:before {content: \"▾\";}#sk-8319ae9d-4efd-47de-88fc-bebc2fc7b408 div.sk-estimator input.sk-toggleable__control:checked~label.sk-toggleable__label {background-color: #d4ebff;}#sk-8319ae9d-4efd-47de-88fc-bebc2fc7b408 div.sk-label input.sk-toggleable__control:checked~label.sk-toggleable__label {background-color: #d4ebff;}#sk-8319ae9d-4efd-47de-88fc-bebc2fc7b408 input.sk-hidden--visually {border: 0;clip: rect(1px 1px 1px 1px);clip: rect(1px, 1px, 1px, 1px);height: 1px;margin: -1px;overflow: hidden;padding: 0;position: absolute;width: 1px;}#sk-8319ae9d-4efd-47de-88fc-bebc2fc7b408 div.sk-estimator {font-family: monospace;background-color: #f0f8ff;border: 1px dotted black;border-radius: 0.25em;box-sizing: border-box;margin-bottom: 0.5em;}#sk-8319ae9d-4efd-47de-88fc-bebc2fc7b408 div.sk-estimator:hover {background-color: #d4ebff;}#sk-8319ae9d-4efd-47de-88fc-bebc2fc7b408 div.sk-parallel-item::after {content: \"\";width: 100%;border-bottom: 1px solid gray;flex-grow: 1;}#sk-8319ae9d-4efd-47de-88fc-bebc2fc7b408 div.sk-label:hover label.sk-toggleable__label {background-color: #d4ebff;}#sk-8319ae9d-4efd-47de-88fc-bebc2fc7b408 div.sk-serial::before {content: \"\";position: absolute;border-left: 1px solid gray;box-sizing: border-box;top: 2em;bottom: 0;left: 50%;}#sk-8319ae9d-4efd-47de-88fc-bebc2fc7b408 div.sk-serial {display: flex;flex-direction: column;align-items: center;background-color: white;padding-right: 0.2em;padding-left: 0.2em;}#sk-8319ae9d-4efd-47de-88fc-bebc2fc7b408 div.sk-item {z-index: 1;}#sk-8319ae9d-4efd-47de-88fc-bebc2fc7b408 div.sk-parallel {display: flex;align-items: stretch;justify-content: center;background-color: white;}#sk-8319ae9d-4efd-47de-88fc-bebc2fc7b408 div.sk-parallel::before {content: \"\";position: absolute;border-left: 1px solid gray;box-sizing: border-box;top: 2em;bottom: 0;left: 50%;}#sk-8319ae9d-4efd-47de-88fc-bebc2fc7b408 div.sk-parallel-item {display: flex;flex-direction: column;position: relative;background-color: white;}#sk-8319ae9d-4efd-47de-88fc-bebc2fc7b408 div.sk-parallel-item:first-child::after {align-self: flex-end;width: 50%;}#sk-8319ae9d-4efd-47de-88fc-bebc2fc7b408 div.sk-parallel-item:last-child::after {align-self: flex-start;width: 50%;}#sk-8319ae9d-4efd-47de-88fc-bebc2fc7b408 div.sk-parallel-item:only-child::after {width: 0;}#sk-8319ae9d-4efd-47de-88fc-bebc2fc7b408 div.sk-dashed-wrapped {border: 1px dashed gray;margin: 0 0.4em 0.5em 0.4em;box-sizing: border-box;padding-bottom: 0.4em;background-color: white;position: relative;}#sk-8319ae9d-4efd-47de-88fc-bebc2fc7b408 div.sk-label label {font-family: monospace;font-weight: bold;background-color: white;display: inline-block;line-height: 1.2em;}#sk-8319ae9d-4efd-47de-88fc-bebc2fc7b408 div.sk-label-container {position: relative;z-index: 2;text-align: center;}#sk-8319ae9d-4efd-47de-88fc-bebc2fc7b408 div.sk-container {/* jupyter's `normalize.less` sets `[hidden] { display: none; }` but bootstrap.min.css set `[hidden] { display: none !important; }` so we also need the `!important` here to be able to override the default hidden behavior on the sphinx rendered scikit-learn.org. See: https://github.com/scikit-learn/scikit-learn/issues/21755 */display: inline-block !important;position: relative;}#sk-8319ae9d-4efd-47de-88fc-bebc2fc7b408 div.sk-text-repr-fallback {display: none;}</style><div id=\"sk-8319ae9d-4efd-47de-88fc-bebc2fc7b408\" class=\"sk-top-container\"><div class=\"sk-text-repr-fallback\"><pre>OneHotEncoder(handle_unknown=&#x27;ignore&#x27;, sparse=False)</pre><b>Please rerun this cell to show the HTML repr or trust the notebook.</b></div><div class=\"sk-container\" hidden><div class=\"sk-item\"><div class=\"sk-estimator sk-toggleable\"><input class=\"sk-toggleable__control sk-hidden--visually\" id=\"efbfbe49-e705-4e53-9e5a-a4535143ae76\" type=\"checkbox\" checked><label for=\"efbfbe49-e705-4e53-9e5a-a4535143ae76\" class=\"sk-toggleable__label sk-toggleable__label-arrow\">OneHotEncoder</label><div class=\"sk-toggleable__content\"><pre>OneHotEncoder(handle_unknown=&#x27;ignore&#x27;, sparse=False)</pre></div></div></div></div></div>"
            ]
          },
          "metadata": {},
          "execution_count": 34
        }
      ]
    },
    {
      "cell_type": "code",
      "source": [
        "X_train_ohe = ohe_encoder.transform(X_train_cat)\n",
        "X_test_ohe = ohe_encoder.transform(X_test_cat)\n",
        "X_train_ohe"
      ],
      "metadata": {
        "colab": {
          "base_uri": "https://localhost:8080/"
        },
        "id": "Uen-DoCluHtA",
        "outputId": "f0ea77f1-9831-4e2c-9851-a1c908438120"
      },
      "execution_count": null,
      "outputs": [
        {
          "output_type": "execute_result",
          "data": {
            "text/plain": [
              "array([[0., 0., 0., ..., 0., 1., 0.],\n",
              "       [0., 0., 0., ..., 0., 1., 0.],\n",
              "       [0., 0., 0., ..., 1., 0., 0.],\n",
              "       ...,\n",
              "       [0., 0., 0., ..., 1., 0., 0.],\n",
              "       [0., 0., 0., ..., 1., 0., 0.],\n",
              "       [0., 0., 0., ..., 1., 0., 0.]])"
            ]
          },
          "metadata": {},
          "execution_count": 35
        }
      ]
    },
    {
      "cell_type": "code",
      "source": [
        "ohe_col_names = ohe_encoder.get_feature_names_out(cat_cols)\n",
        "ohe_col_names"
      ],
      "metadata": {
        "colab": {
          "base_uri": "https://localhost:8080/"
        },
        "id": "64NstIyuuIu_",
        "outputId": "b00c61ed-6919-439a-839b-42748e52b8e1"
      },
      "execution_count": null,
      "outputs": [
        {
          "output_type": "execute_result",
          "data": {
            "text/plain": [
              "array(['Item_Identifier_DRA12', 'Item_Identifier_DRA24',\n",
              "       'Item_Identifier_DRA59', ..., 'Outlet_Type_Supermarket Type1',\n",
              "       'Outlet_Type_Supermarket Type2', 'Outlet_Type_Supermarket Type3'],\n",
              "      dtype=object)"
            ]
          },
          "metadata": {},
          "execution_count": 36
        }
      ]
    },
    {
      "cell_type": "code",
      "source": [
        "X_train_ohe_df = pd.DataFrame(X_train_ohe, columns = ohe_col_names)\n",
        "X_train_ohe_df.reset_index(drop=True, inplace=True)"
      ],
      "metadata": {
        "id": "L-rE1KVtuLOz"
      },
      "execution_count": null,
      "outputs": []
    },
    {
      "cell_type": "code",
      "source": [
        "X_test_ohe_df = pd.DataFrame(X_test_ohe, columns = ohe_col_names)\n",
        "X_test_ohe_df.reset_index(drop=True, inplace=True)\n",
        "\n",
        "X_train_ohe_df"
      ],
      "metadata": {
        "colab": {
          "base_uri": "https://localhost:8080/",
          "height": 505
        },
        "id": "ImWO-FIkumEZ",
        "outputId": "40849249-8945-4a35-f422-362cb96f80f5"
      },
      "execution_count": null,
      "outputs": [
        {
          "output_type": "execute_result",
          "data": {
            "text/plain": [
              "      Item_Identifier_DRA12  Item_Identifier_DRA24  Item_Identifier_DRA59  \\\n",
              "0                       0.0                    0.0                    0.0   \n",
              "1                       0.0                    0.0                    0.0   \n",
              "2                       0.0                    0.0                    0.0   \n",
              "3                       0.0                    0.0                    0.0   \n",
              "4                       0.0                    0.0                    0.0   \n",
              "...                     ...                    ...                    ...   \n",
              "6387                    0.0                    0.0                    0.0   \n",
              "6388                    0.0                    0.0                    0.0   \n",
              "6389                    0.0                    0.0                    0.0   \n",
              "6390                    0.0                    0.0                    0.0   \n",
              "6391                    0.0                    0.0                    0.0   \n",
              "\n",
              "      Item_Identifier_DRB01  Item_Identifier_DRB13  Item_Identifier_DRB24  \\\n",
              "0                       0.0                    0.0                    0.0   \n",
              "1                       0.0                    0.0                    0.0   \n",
              "2                       0.0                    0.0                    0.0   \n",
              "3                       0.0                    0.0                    0.0   \n",
              "4                       0.0                    0.0                    0.0   \n",
              "...                     ...                    ...                    ...   \n",
              "6387                    0.0                    0.0                    0.0   \n",
              "6388                    0.0                    0.0                    0.0   \n",
              "6389                    0.0                    0.0                    0.0   \n",
              "6390                    0.0                    0.0                    0.0   \n",
              "6391                    0.0                    0.0                    0.0   \n",
              "\n",
              "      Item_Identifier_DRB25  Item_Identifier_DRB48  Item_Identifier_DRC01  \\\n",
              "0                       0.0                    0.0                    0.0   \n",
              "1                       0.0                    0.0                    0.0   \n",
              "2                       0.0                    0.0                    0.0   \n",
              "3                       0.0                    0.0                    0.0   \n",
              "4                       0.0                    0.0                    0.0   \n",
              "...                     ...                    ...                    ...   \n",
              "6387                    0.0                    0.0                    0.0   \n",
              "6388                    0.0                    0.0                    0.0   \n",
              "6389                    0.0                    0.0                    0.0   \n",
              "6390                    0.0                    0.0                    0.0   \n",
              "6391                    0.0                    0.0                    0.0   \n",
              "\n",
              "      Item_Identifier_DRC12  ...  Outlet_Size_High  Outlet_Size_Medium  \\\n",
              "0                       0.0  ...               0.0                 1.0   \n",
              "1                       0.0  ...               0.0                 1.0   \n",
              "2                       0.0  ...               0.0                 1.0   \n",
              "3                       0.0  ...               0.0                 0.0   \n",
              "4                       0.0  ...               0.0                 1.0   \n",
              "...                     ...  ...               ...                 ...   \n",
              "6387                    0.0  ...               0.0                 0.0   \n",
              "6388                    0.0  ...               0.0                 1.0   \n",
              "6389                    0.0  ...               0.0                 1.0   \n",
              "6390                    0.0  ...               0.0                 1.0   \n",
              "6391                    0.0  ...               0.0                 0.0   \n",
              "\n",
              "      Outlet_Size_Small  Outlet_Location_Type_Tier 1  \\\n",
              "0                   0.0                          0.0   \n",
              "1                   0.0                          0.0   \n",
              "2                   0.0                          1.0   \n",
              "3                   1.0                          0.0   \n",
              "4                   0.0                          0.0   \n",
              "...                 ...                          ...   \n",
              "6387                1.0                          0.0   \n",
              "6388                0.0                          0.0   \n",
              "6389                0.0                          0.0   \n",
              "6390                0.0                          0.0   \n",
              "6391                1.0                          1.0   \n",
              "\n",
              "      Outlet_Location_Type_Tier 2  Outlet_Location_Type_Tier 3  \\\n",
              "0                             0.0                          1.0   \n",
              "1                             0.0                          1.0   \n",
              "2                             0.0                          0.0   \n",
              "3                             1.0                          0.0   \n",
              "4                             1.0                          0.0   \n",
              "...                           ...                          ...   \n",
              "6387                          0.0                          1.0   \n",
              "6388                          1.0                          0.0   \n",
              "6389                          1.0                          0.0   \n",
              "6390                          1.0                          0.0   \n",
              "6391                          0.0                          0.0   \n",
              "\n",
              "      Outlet_Type_Grocery Store  Outlet_Type_Supermarket Type1  \\\n",
              "0                           0.0                            0.0   \n",
              "1                           0.0                            0.0   \n",
              "2                           0.0                            1.0   \n",
              "3                           0.0                            1.0   \n",
              "4                           0.0                            1.0   \n",
              "...                         ...                            ...   \n",
              "6387                        1.0                            0.0   \n",
              "6388                        0.0                            1.0   \n",
              "6389                        0.0                            1.0   \n",
              "6390                        0.0                            1.0   \n",
              "6391                        0.0                            1.0   \n",
              "\n",
              "      Outlet_Type_Supermarket Type2  Outlet_Type_Supermarket Type3  \n",
              "0                               1.0                            0.0  \n",
              "1                               1.0                            0.0  \n",
              "2                               0.0                            0.0  \n",
              "3                               0.0                            0.0  \n",
              "4                               0.0                            0.0  \n",
              "...                             ...                            ...  \n",
              "6387                            0.0                            0.0  \n",
              "6388                            0.0                            0.0  \n",
              "6389                            0.0                            0.0  \n",
              "6390                            0.0                            0.0  \n",
              "6391                            0.0                            0.0  \n",
              "\n",
              "[6392 rows x 1588 columns]"
            ],
            "text/html": [
              "\n",
              "  <div id=\"df-b3e20d41-d9a5-4b47-9f7b-799d0aa62f02\">\n",
              "    <div class=\"colab-df-container\">\n",
              "      <div>\n",
              "<style scoped>\n",
              "    .dataframe tbody tr th:only-of-type {\n",
              "        vertical-align: middle;\n",
              "    }\n",
              "\n",
              "    .dataframe tbody tr th {\n",
              "        vertical-align: top;\n",
              "    }\n",
              "\n",
              "    .dataframe thead th {\n",
              "        text-align: right;\n",
              "    }\n",
              "</style>\n",
              "<table border=\"1\" class=\"dataframe\">\n",
              "  <thead>\n",
              "    <tr style=\"text-align: right;\">\n",
              "      <th></th>\n",
              "      <th>Item_Identifier_DRA12</th>\n",
              "      <th>Item_Identifier_DRA24</th>\n",
              "      <th>Item_Identifier_DRA59</th>\n",
              "      <th>Item_Identifier_DRB01</th>\n",
              "      <th>Item_Identifier_DRB13</th>\n",
              "      <th>Item_Identifier_DRB24</th>\n",
              "      <th>Item_Identifier_DRB25</th>\n",
              "      <th>Item_Identifier_DRB48</th>\n",
              "      <th>Item_Identifier_DRC01</th>\n",
              "      <th>Item_Identifier_DRC12</th>\n",
              "      <th>...</th>\n",
              "      <th>Outlet_Size_High</th>\n",
              "      <th>Outlet_Size_Medium</th>\n",
              "      <th>Outlet_Size_Small</th>\n",
              "      <th>Outlet_Location_Type_Tier 1</th>\n",
              "      <th>Outlet_Location_Type_Tier 2</th>\n",
              "      <th>Outlet_Location_Type_Tier 3</th>\n",
              "      <th>Outlet_Type_Grocery Store</th>\n",
              "      <th>Outlet_Type_Supermarket Type1</th>\n",
              "      <th>Outlet_Type_Supermarket Type2</th>\n",
              "      <th>Outlet_Type_Supermarket Type3</th>\n",
              "    </tr>\n",
              "  </thead>\n",
              "  <tbody>\n",
              "    <tr>\n",
              "      <th>0</th>\n",
              "      <td>0.0</td>\n",
              "      <td>0.0</td>\n",
              "      <td>0.0</td>\n",
              "      <td>0.0</td>\n",
              "      <td>0.0</td>\n",
              "      <td>0.0</td>\n",
              "      <td>0.0</td>\n",
              "      <td>0.0</td>\n",
              "      <td>0.0</td>\n",
              "      <td>0.0</td>\n",
              "      <td>...</td>\n",
              "      <td>0.0</td>\n",
              "      <td>1.0</td>\n",
              "      <td>0.0</td>\n",
              "      <td>0.0</td>\n",
              "      <td>0.0</td>\n",
              "      <td>1.0</td>\n",
              "      <td>0.0</td>\n",
              "      <td>0.0</td>\n",
              "      <td>1.0</td>\n",
              "      <td>0.0</td>\n",
              "    </tr>\n",
              "    <tr>\n",
              "      <th>1</th>\n",
              "      <td>0.0</td>\n",
              "      <td>0.0</td>\n",
              "      <td>0.0</td>\n",
              "      <td>0.0</td>\n",
              "      <td>0.0</td>\n",
              "      <td>0.0</td>\n",
              "      <td>0.0</td>\n",
              "      <td>0.0</td>\n",
              "      <td>0.0</td>\n",
              "      <td>0.0</td>\n",
              "      <td>...</td>\n",
              "      <td>0.0</td>\n",
              "      <td>1.0</td>\n",
              "      <td>0.0</td>\n",
              "      <td>0.0</td>\n",
              "      <td>0.0</td>\n",
              "      <td>1.0</td>\n",
              "      <td>0.0</td>\n",
              "      <td>0.0</td>\n",
              "      <td>1.0</td>\n",
              "      <td>0.0</td>\n",
              "    </tr>\n",
              "    <tr>\n",
              "      <th>2</th>\n",
              "      <td>0.0</td>\n",
              "      <td>0.0</td>\n",
              "      <td>0.0</td>\n",
              "      <td>0.0</td>\n",
              "      <td>0.0</td>\n",
              "      <td>0.0</td>\n",
              "      <td>0.0</td>\n",
              "      <td>0.0</td>\n",
              "      <td>0.0</td>\n",
              "      <td>0.0</td>\n",
              "      <td>...</td>\n",
              "      <td>0.0</td>\n",
              "      <td>1.0</td>\n",
              "      <td>0.0</td>\n",
              "      <td>1.0</td>\n",
              "      <td>0.0</td>\n",
              "      <td>0.0</td>\n",
              "      <td>0.0</td>\n",
              "      <td>1.0</td>\n",
              "      <td>0.0</td>\n",
              "      <td>0.0</td>\n",
              "    </tr>\n",
              "    <tr>\n",
              "      <th>3</th>\n",
              "      <td>0.0</td>\n",
              "      <td>0.0</td>\n",
              "      <td>0.0</td>\n",
              "      <td>0.0</td>\n",
              "      <td>0.0</td>\n",
              "      <td>0.0</td>\n",
              "      <td>0.0</td>\n",
              "      <td>0.0</td>\n",
              "      <td>0.0</td>\n",
              "      <td>0.0</td>\n",
              "      <td>...</td>\n",
              "      <td>0.0</td>\n",
              "      <td>0.0</td>\n",
              "      <td>1.0</td>\n",
              "      <td>0.0</td>\n",
              "      <td>1.0</td>\n",
              "      <td>0.0</td>\n",
              "      <td>0.0</td>\n",
              "      <td>1.0</td>\n",
              "      <td>0.0</td>\n",
              "      <td>0.0</td>\n",
              "    </tr>\n",
              "    <tr>\n",
              "      <th>4</th>\n",
              "      <td>0.0</td>\n",
              "      <td>0.0</td>\n",
              "      <td>0.0</td>\n",
              "      <td>0.0</td>\n",
              "      <td>0.0</td>\n",
              "      <td>0.0</td>\n",
              "      <td>0.0</td>\n",
              "      <td>0.0</td>\n",
              "      <td>0.0</td>\n",
              "      <td>0.0</td>\n",
              "      <td>...</td>\n",
              "      <td>0.0</td>\n",
              "      <td>1.0</td>\n",
              "      <td>0.0</td>\n",
              "      <td>0.0</td>\n",
              "      <td>1.0</td>\n",
              "      <td>0.0</td>\n",
              "      <td>0.0</td>\n",
              "      <td>1.0</td>\n",
              "      <td>0.0</td>\n",
              "      <td>0.0</td>\n",
              "    </tr>\n",
              "    <tr>\n",
              "      <th>...</th>\n",
              "      <td>...</td>\n",
              "      <td>...</td>\n",
              "      <td>...</td>\n",
              "      <td>...</td>\n",
              "      <td>...</td>\n",
              "      <td>...</td>\n",
              "      <td>...</td>\n",
              "      <td>...</td>\n",
              "      <td>...</td>\n",
              "      <td>...</td>\n",
              "      <td>...</td>\n",
              "      <td>...</td>\n",
              "      <td>...</td>\n",
              "      <td>...</td>\n",
              "      <td>...</td>\n",
              "      <td>...</td>\n",
              "      <td>...</td>\n",
              "      <td>...</td>\n",
              "      <td>...</td>\n",
              "      <td>...</td>\n",
              "      <td>...</td>\n",
              "    </tr>\n",
              "    <tr>\n",
              "      <th>6387</th>\n",
              "      <td>0.0</td>\n",
              "      <td>0.0</td>\n",
              "      <td>0.0</td>\n",
              "      <td>0.0</td>\n",
              "      <td>0.0</td>\n",
              "      <td>0.0</td>\n",
              "      <td>0.0</td>\n",
              "      <td>0.0</td>\n",
              "      <td>0.0</td>\n",
              "      <td>0.0</td>\n",
              "      <td>...</td>\n",
              "      <td>0.0</td>\n",
              "      <td>0.0</td>\n",
              "      <td>1.0</td>\n",
              "      <td>0.0</td>\n",
              "      <td>0.0</td>\n",
              "      <td>1.0</td>\n",
              "      <td>1.0</td>\n",
              "      <td>0.0</td>\n",
              "      <td>0.0</td>\n",
              "      <td>0.0</td>\n",
              "    </tr>\n",
              "    <tr>\n",
              "      <th>6388</th>\n",
              "      <td>0.0</td>\n",
              "      <td>0.0</td>\n",
              "      <td>0.0</td>\n",
              "      <td>0.0</td>\n",
              "      <td>0.0</td>\n",
              "      <td>0.0</td>\n",
              "      <td>0.0</td>\n",
              "      <td>0.0</td>\n",
              "      <td>0.0</td>\n",
              "      <td>0.0</td>\n",
              "      <td>...</td>\n",
              "      <td>0.0</td>\n",
              "      <td>1.0</td>\n",
              "      <td>0.0</td>\n",
              "      <td>0.0</td>\n",
              "      <td>1.0</td>\n",
              "      <td>0.0</td>\n",
              "      <td>0.0</td>\n",
              "      <td>1.0</td>\n",
              "      <td>0.0</td>\n",
              "      <td>0.0</td>\n",
              "    </tr>\n",
              "    <tr>\n",
              "      <th>6389</th>\n",
              "      <td>0.0</td>\n",
              "      <td>0.0</td>\n",
              "      <td>0.0</td>\n",
              "      <td>0.0</td>\n",
              "      <td>0.0</td>\n",
              "      <td>0.0</td>\n",
              "      <td>0.0</td>\n",
              "      <td>0.0</td>\n",
              "      <td>0.0</td>\n",
              "      <td>0.0</td>\n",
              "      <td>...</td>\n",
              "      <td>0.0</td>\n",
              "      <td>1.0</td>\n",
              "      <td>0.0</td>\n",
              "      <td>0.0</td>\n",
              "      <td>1.0</td>\n",
              "      <td>0.0</td>\n",
              "      <td>0.0</td>\n",
              "      <td>1.0</td>\n",
              "      <td>0.0</td>\n",
              "      <td>0.0</td>\n",
              "    </tr>\n",
              "    <tr>\n",
              "      <th>6390</th>\n",
              "      <td>0.0</td>\n",
              "      <td>0.0</td>\n",
              "      <td>0.0</td>\n",
              "      <td>0.0</td>\n",
              "      <td>0.0</td>\n",
              "      <td>0.0</td>\n",
              "      <td>0.0</td>\n",
              "      <td>0.0</td>\n",
              "      <td>0.0</td>\n",
              "      <td>0.0</td>\n",
              "      <td>...</td>\n",
              "      <td>0.0</td>\n",
              "      <td>1.0</td>\n",
              "      <td>0.0</td>\n",
              "      <td>0.0</td>\n",
              "      <td>1.0</td>\n",
              "      <td>0.0</td>\n",
              "      <td>0.0</td>\n",
              "      <td>1.0</td>\n",
              "      <td>0.0</td>\n",
              "      <td>0.0</td>\n",
              "    </tr>\n",
              "    <tr>\n",
              "      <th>6391</th>\n",
              "      <td>0.0</td>\n",
              "      <td>0.0</td>\n",
              "      <td>0.0</td>\n",
              "      <td>0.0</td>\n",
              "      <td>0.0</td>\n",
              "      <td>0.0</td>\n",
              "      <td>0.0</td>\n",
              "      <td>0.0</td>\n",
              "      <td>0.0</td>\n",
              "      <td>0.0</td>\n",
              "      <td>...</td>\n",
              "      <td>0.0</td>\n",
              "      <td>0.0</td>\n",
              "      <td>1.0</td>\n",
              "      <td>1.0</td>\n",
              "      <td>0.0</td>\n",
              "      <td>0.0</td>\n",
              "      <td>0.0</td>\n",
              "      <td>1.0</td>\n",
              "      <td>0.0</td>\n",
              "      <td>0.0</td>\n",
              "    </tr>\n",
              "  </tbody>\n",
              "</table>\n",
              "<p>6392 rows × 1588 columns</p>\n",
              "</div>\n",
              "      <button class=\"colab-df-convert\" onclick=\"convertToInteractive('df-b3e20d41-d9a5-4b47-9f7b-799d0aa62f02')\"\n",
              "              title=\"Convert this dataframe to an interactive table.\"\n",
              "              style=\"display:none;\">\n",
              "        \n",
              "  <svg xmlns=\"http://www.w3.org/2000/svg\" height=\"24px\"viewBox=\"0 0 24 24\"\n",
              "       width=\"24px\">\n",
              "    <path d=\"M0 0h24v24H0V0z\" fill=\"none\"/>\n",
              "    <path d=\"M18.56 5.44l.94 2.06.94-2.06 2.06-.94-2.06-.94-.94-2.06-.94 2.06-2.06.94zm-11 1L8.5 8.5l.94-2.06 2.06-.94-2.06-.94L8.5 2.5l-.94 2.06-2.06.94zm10 10l.94 2.06.94-2.06 2.06-.94-2.06-.94-.94-2.06-.94 2.06-2.06.94z\"/><path d=\"M17.41 7.96l-1.37-1.37c-.4-.4-.92-.59-1.43-.59-.52 0-1.04.2-1.43.59L10.3 9.45l-7.72 7.72c-.78.78-.78 2.05 0 2.83L4 21.41c.39.39.9.59 1.41.59.51 0 1.02-.2 1.41-.59l7.78-7.78 2.81-2.81c.8-.78.8-2.07 0-2.86zM5.41 20L4 18.59l7.72-7.72 1.47 1.35L5.41 20z\"/>\n",
              "  </svg>\n",
              "      </button>\n",
              "      \n",
              "  <style>\n",
              "    .colab-df-container {\n",
              "      display:flex;\n",
              "      flex-wrap:wrap;\n",
              "      gap: 12px;\n",
              "    }\n",
              "\n",
              "    .colab-df-convert {\n",
              "      background-color: #E8F0FE;\n",
              "      border: none;\n",
              "      border-radius: 50%;\n",
              "      cursor: pointer;\n",
              "      display: none;\n",
              "      fill: #1967D2;\n",
              "      height: 32px;\n",
              "      padding: 0 0 0 0;\n",
              "      width: 32px;\n",
              "    }\n",
              "\n",
              "    .colab-df-convert:hover {\n",
              "      background-color: #E2EBFA;\n",
              "      box-shadow: 0px 1px 2px rgba(60, 64, 67, 0.3), 0px 1px 3px 1px rgba(60, 64, 67, 0.15);\n",
              "      fill: #174EA6;\n",
              "    }\n",
              "\n",
              "    [theme=dark] .colab-df-convert {\n",
              "      background-color: #3B4455;\n",
              "      fill: #D2E3FC;\n",
              "    }\n",
              "\n",
              "    [theme=dark] .colab-df-convert:hover {\n",
              "      background-color: #434B5C;\n",
              "      box-shadow: 0px 1px 3px 1px rgba(0, 0, 0, 0.15);\n",
              "      filter: drop-shadow(0px 1px 2px rgba(0, 0, 0, 0.3));\n",
              "      fill: #FFFFFF;\n",
              "    }\n",
              "  </style>\n",
              "\n",
              "      <script>\n",
              "        const buttonEl =\n",
              "          document.querySelector('#df-b3e20d41-d9a5-4b47-9f7b-799d0aa62f02 button.colab-df-convert');\n",
              "        buttonEl.style.display =\n",
              "          google.colab.kernel.accessAllowed ? 'block' : 'none';\n",
              "\n",
              "        async function convertToInteractive(key) {\n",
              "          const element = document.querySelector('#df-b3e20d41-d9a5-4b47-9f7b-799d0aa62f02');\n",
              "          const dataTable =\n",
              "            await google.colab.kernel.invokeFunction('convertToInteractive',\n",
              "                                                     [key], {});\n",
              "          if (!dataTable) return;\n",
              "\n",
              "          const docLinkHtml = 'Like what you see? Visit the ' +\n",
              "            '<a target=\"_blank\" href=https://colab.research.google.com/notebooks/data_table.ipynb>data table notebook</a>'\n",
              "            + ' to learn more about interactive tables.';\n",
              "          element.innerHTML = '';\n",
              "          dataTable['output_type'] = 'display_data';\n",
              "          await google.colab.output.renderOutput(dataTable, element);\n",
              "          const docLink = document.createElement('div');\n",
              "          docLink.innerHTML = docLinkHtml;\n",
              "          element.appendChild(docLink);\n",
              "        }\n",
              "      </script>\n",
              "    </div>\n",
              "  </div>\n",
              "  "
            ]
          },
          "metadata": {},
          "execution_count": 38
        }
      ]
    },
    {
      "cell_type": "code",
      "source": [
        "num_selector = make_column_selector(dtype_include='number')\n",
        "\n",
        "num_cols = num_selector(X_train)\n",
        "num_cols"
      ],
      "metadata": {
        "colab": {
          "base_uri": "https://localhost:8080/"
        },
        "id": "HhgMZapdur2a",
        "outputId": "b134568b-cff6-4bd0-cbd3-7169c8648384"
      },
      "execution_count": null,
      "outputs": [
        {
          "output_type": "execute_result",
          "data": {
            "text/plain": [
              "['Item_Weight', 'Item_Visibility', 'Item_MRP', 'Outlet_Establishment_Year']"
            ]
          },
          "metadata": {},
          "execution_count": 39
        }
      ]
    },
    {
      "cell_type": "code",
      "source": [
        "scaler = StandardScaler()\n",
        "\n",
        "X_train_num = X_train[num_cols]\n",
        "X_test_num = X_test[num_cols]\n",
        "\n",
        "scaler.fit(X_train_num)"
      ],
      "metadata": {
        "colab": {
          "base_uri": "https://localhost:8080/",
          "height": 75
        },
        "id": "thUai1teuuU-",
        "outputId": "b8d9250a-2cad-4912-b998-85eca2396124"
      },
      "execution_count": null,
      "outputs": [
        {
          "output_type": "execute_result",
          "data": {
            "text/plain": [
              "StandardScaler()"
            ],
            "text/html": [
              "<style>#sk-0d6eee8d-7eb9-4bae-8e25-ae923ef62748 {color: black;background-color: white;}#sk-0d6eee8d-7eb9-4bae-8e25-ae923ef62748 pre{padding: 0;}#sk-0d6eee8d-7eb9-4bae-8e25-ae923ef62748 div.sk-toggleable {background-color: white;}#sk-0d6eee8d-7eb9-4bae-8e25-ae923ef62748 label.sk-toggleable__label {cursor: pointer;display: block;width: 100%;margin-bottom: 0;padding: 0.3em;box-sizing: border-box;text-align: center;}#sk-0d6eee8d-7eb9-4bae-8e25-ae923ef62748 label.sk-toggleable__label-arrow:before {content: \"▸\";float: left;margin-right: 0.25em;color: #696969;}#sk-0d6eee8d-7eb9-4bae-8e25-ae923ef62748 label.sk-toggleable__label-arrow:hover:before {color: black;}#sk-0d6eee8d-7eb9-4bae-8e25-ae923ef62748 div.sk-estimator:hover label.sk-toggleable__label-arrow:before {color: black;}#sk-0d6eee8d-7eb9-4bae-8e25-ae923ef62748 div.sk-toggleable__content {max-height: 0;max-width: 0;overflow: hidden;text-align: left;background-color: #f0f8ff;}#sk-0d6eee8d-7eb9-4bae-8e25-ae923ef62748 div.sk-toggleable__content pre {margin: 0.2em;color: black;border-radius: 0.25em;background-color: #f0f8ff;}#sk-0d6eee8d-7eb9-4bae-8e25-ae923ef62748 input.sk-toggleable__control:checked~div.sk-toggleable__content {max-height: 200px;max-width: 100%;overflow: auto;}#sk-0d6eee8d-7eb9-4bae-8e25-ae923ef62748 input.sk-toggleable__control:checked~label.sk-toggleable__label-arrow:before {content: \"▾\";}#sk-0d6eee8d-7eb9-4bae-8e25-ae923ef62748 div.sk-estimator input.sk-toggleable__control:checked~label.sk-toggleable__label {background-color: #d4ebff;}#sk-0d6eee8d-7eb9-4bae-8e25-ae923ef62748 div.sk-label input.sk-toggleable__control:checked~label.sk-toggleable__label {background-color: #d4ebff;}#sk-0d6eee8d-7eb9-4bae-8e25-ae923ef62748 input.sk-hidden--visually {border: 0;clip: rect(1px 1px 1px 1px);clip: rect(1px, 1px, 1px, 1px);height: 1px;margin: -1px;overflow: hidden;padding: 0;position: absolute;width: 1px;}#sk-0d6eee8d-7eb9-4bae-8e25-ae923ef62748 div.sk-estimator {font-family: monospace;background-color: #f0f8ff;border: 1px dotted black;border-radius: 0.25em;box-sizing: border-box;margin-bottom: 0.5em;}#sk-0d6eee8d-7eb9-4bae-8e25-ae923ef62748 div.sk-estimator:hover {background-color: #d4ebff;}#sk-0d6eee8d-7eb9-4bae-8e25-ae923ef62748 div.sk-parallel-item::after {content: \"\";width: 100%;border-bottom: 1px solid gray;flex-grow: 1;}#sk-0d6eee8d-7eb9-4bae-8e25-ae923ef62748 div.sk-label:hover label.sk-toggleable__label {background-color: #d4ebff;}#sk-0d6eee8d-7eb9-4bae-8e25-ae923ef62748 div.sk-serial::before {content: \"\";position: absolute;border-left: 1px solid gray;box-sizing: border-box;top: 2em;bottom: 0;left: 50%;}#sk-0d6eee8d-7eb9-4bae-8e25-ae923ef62748 div.sk-serial {display: flex;flex-direction: column;align-items: center;background-color: white;padding-right: 0.2em;padding-left: 0.2em;}#sk-0d6eee8d-7eb9-4bae-8e25-ae923ef62748 div.sk-item {z-index: 1;}#sk-0d6eee8d-7eb9-4bae-8e25-ae923ef62748 div.sk-parallel {display: flex;align-items: stretch;justify-content: center;background-color: white;}#sk-0d6eee8d-7eb9-4bae-8e25-ae923ef62748 div.sk-parallel::before {content: \"\";position: absolute;border-left: 1px solid gray;box-sizing: border-box;top: 2em;bottom: 0;left: 50%;}#sk-0d6eee8d-7eb9-4bae-8e25-ae923ef62748 div.sk-parallel-item {display: flex;flex-direction: column;position: relative;background-color: white;}#sk-0d6eee8d-7eb9-4bae-8e25-ae923ef62748 div.sk-parallel-item:first-child::after {align-self: flex-end;width: 50%;}#sk-0d6eee8d-7eb9-4bae-8e25-ae923ef62748 div.sk-parallel-item:last-child::after {align-self: flex-start;width: 50%;}#sk-0d6eee8d-7eb9-4bae-8e25-ae923ef62748 div.sk-parallel-item:only-child::after {width: 0;}#sk-0d6eee8d-7eb9-4bae-8e25-ae923ef62748 div.sk-dashed-wrapped {border: 1px dashed gray;margin: 0 0.4em 0.5em 0.4em;box-sizing: border-box;padding-bottom: 0.4em;background-color: white;position: relative;}#sk-0d6eee8d-7eb9-4bae-8e25-ae923ef62748 div.sk-label label {font-family: monospace;font-weight: bold;background-color: white;display: inline-block;line-height: 1.2em;}#sk-0d6eee8d-7eb9-4bae-8e25-ae923ef62748 div.sk-label-container {position: relative;z-index: 2;text-align: center;}#sk-0d6eee8d-7eb9-4bae-8e25-ae923ef62748 div.sk-container {/* jupyter's `normalize.less` sets `[hidden] { display: none; }` but bootstrap.min.css set `[hidden] { display: none !important; }` so we also need the `!important` here to be able to override the default hidden behavior on the sphinx rendered scikit-learn.org. See: https://github.com/scikit-learn/scikit-learn/issues/21755 */display: inline-block !important;position: relative;}#sk-0d6eee8d-7eb9-4bae-8e25-ae923ef62748 div.sk-text-repr-fallback {display: none;}</style><div id=\"sk-0d6eee8d-7eb9-4bae-8e25-ae923ef62748\" class=\"sk-top-container\"><div class=\"sk-text-repr-fallback\"><pre>StandardScaler()</pre><b>Please rerun this cell to show the HTML repr or trust the notebook.</b></div><div class=\"sk-container\" hidden><div class=\"sk-item\"><div class=\"sk-estimator sk-toggleable\"><input class=\"sk-toggleable__control sk-hidden--visually\" id=\"eb673592-4754-4ece-a127-b41bf9e1c5f7\" type=\"checkbox\" checked><label for=\"eb673592-4754-4ece-a127-b41bf9e1c5f7\" class=\"sk-toggleable__label sk-toggleable__label-arrow\">StandardScaler</label><div class=\"sk-toggleable__content\"><pre>StandardScaler()</pre></div></div></div></div></div>"
            ]
          },
          "metadata": {},
          "execution_count": 40
        }
      ]
    },
    {
      "cell_type": "code",
      "source": [
        "num_train_scaled = scaler.transform(X_train_num)\n",
        "num_test_scaled = scaler.transform(X_test_num)\n",
        "\n",
        "num_train_scaled"
      ],
      "metadata": {
        "colab": {
          "base_uri": "https://localhost:8080/"
        },
        "id": "NKmgnT6Yuw13",
        "outputId": "acf1c092-a50c-4e2d-9908-7eebcdec2b22"
      },
      "execution_count": null,
      "outputs": [
        {
          "output_type": "execute_result",
          "data": {
            "text/plain": [
              "array([[ 0.81916441, -0.71277507,  1.82810922,  1.32784893],\n",
              "       [ 0.55825754, -1.29105225,  0.60336888,  1.32784893],\n",
              "       [-0.12958785,  1.81331864,  0.24454056,  0.13618724],\n",
              "       ...,\n",
              "       [ 1.11564949, -0.92052713,  1.52302674,  0.49368575],\n",
              "       [ 1.76791667, -0.2277552 , -0.38377708,  1.0895166 ],\n",
              "       [ 0.81916441, -0.95867683, -0.73836105, -0.10214509]])"
            ]
          },
          "metadata": {},
          "execution_count": 41
        }
      ]
    },
    {
      "cell_type": "code",
      "source": [
        "num_train_scaled = pd.DataFrame(num_train_scaled, columns=num_cols)\n",
        "num_train_scaled.reset_index(drop=True, inplace=True)\n",
        "\n",
        "num_test_scaled = pd.DataFrame(num_test_scaled, columns=num_cols)\n",
        "num_test_scaled.reset_index(drop=True, inplace=True)"
      ],
      "metadata": {
        "id": "q_mJEKTYu1i6"
      },
      "execution_count": null,
      "outputs": []
    },
    {
      "cell_type": "code",
      "source": [
        "X_train_df = pd.concat([num_train_scaled, X_train_ohe_df], axis=1)\n",
        "X_train_df"
      ],
      "metadata": {
        "colab": {
          "base_uri": "https://localhost:8080/",
          "height": 505
        },
        "id": "xjIS4W5Qu32U",
        "outputId": "f5256734-a9c8-4c64-e5bd-193df2879bee"
      },
      "execution_count": null,
      "outputs": [
        {
          "output_type": "execute_result",
          "data": {
            "text/plain": [
              "      Item_Weight  Item_Visibility  Item_MRP  Outlet_Establishment_Year  \\\n",
              "0        0.819164        -0.712775  1.828109                   1.327849   \n",
              "1        0.558258        -1.291052  0.603369                   1.327849   \n",
              "2       -0.129588         1.813319  0.244541                   0.136187   \n",
              "3       -1.167286        -1.004931 -0.952591                   0.732018   \n",
              "4        1.530729        -0.965484 -0.336460                   0.493686   \n",
              "...           ...              ...       ...                        ...   \n",
              "6387    -0.830479         4.309657 -0.044657                   0.017021   \n",
              "6388     0.641273         1.008625 -1.058907                   1.089517   \n",
              "6389     1.115649        -0.920527  1.523027                   0.493686   \n",
              "6390     1.767917        -0.227755 -0.383777                   1.089517   \n",
              "6391     0.819164        -0.958677 -0.738361                  -0.102145   \n",
              "\n",
              "      Item_Identifier_DRA12  Item_Identifier_DRA24  Item_Identifier_DRA59  \\\n",
              "0                       0.0                    0.0                    0.0   \n",
              "1                       0.0                    0.0                    0.0   \n",
              "2                       0.0                    0.0                    0.0   \n",
              "3                       0.0                    0.0                    0.0   \n",
              "4                       0.0                    0.0                    0.0   \n",
              "...                     ...                    ...                    ...   \n",
              "6387                    0.0                    0.0                    0.0   \n",
              "6388                    0.0                    0.0                    0.0   \n",
              "6389                    0.0                    0.0                    0.0   \n",
              "6390                    0.0                    0.0                    0.0   \n",
              "6391                    0.0                    0.0                    0.0   \n",
              "\n",
              "      Item_Identifier_DRB01  Item_Identifier_DRB13  Item_Identifier_DRB24  \\\n",
              "0                       0.0                    0.0                    0.0   \n",
              "1                       0.0                    0.0                    0.0   \n",
              "2                       0.0                    0.0                    0.0   \n",
              "3                       0.0                    0.0                    0.0   \n",
              "4                       0.0                    0.0                    0.0   \n",
              "...                     ...                    ...                    ...   \n",
              "6387                    0.0                    0.0                    0.0   \n",
              "6388                    0.0                    0.0                    0.0   \n",
              "6389                    0.0                    0.0                    0.0   \n",
              "6390                    0.0                    0.0                    0.0   \n",
              "6391                    0.0                    0.0                    0.0   \n",
              "\n",
              "      ...  Outlet_Size_High  Outlet_Size_Medium  Outlet_Size_Small  \\\n",
              "0     ...               0.0                 1.0                0.0   \n",
              "1     ...               0.0                 1.0                0.0   \n",
              "2     ...               0.0                 1.0                0.0   \n",
              "3     ...               0.0                 0.0                1.0   \n",
              "4     ...               0.0                 1.0                0.0   \n",
              "...   ...               ...                 ...                ...   \n",
              "6387  ...               0.0                 0.0                1.0   \n",
              "6388  ...               0.0                 1.0                0.0   \n",
              "6389  ...               0.0                 1.0                0.0   \n",
              "6390  ...               0.0                 1.0                0.0   \n",
              "6391  ...               0.0                 0.0                1.0   \n",
              "\n",
              "      Outlet_Location_Type_Tier 1  Outlet_Location_Type_Tier 2  \\\n",
              "0                             0.0                          0.0   \n",
              "1                             0.0                          0.0   \n",
              "2                             1.0                          0.0   \n",
              "3                             0.0                          1.0   \n",
              "4                             0.0                          1.0   \n",
              "...                           ...                          ...   \n",
              "6387                          0.0                          0.0   \n",
              "6388                          0.0                          1.0   \n",
              "6389                          0.0                          1.0   \n",
              "6390                          0.0                          1.0   \n",
              "6391                          1.0                          0.0   \n",
              "\n",
              "      Outlet_Location_Type_Tier 3  Outlet_Type_Grocery Store  \\\n",
              "0                             1.0                        0.0   \n",
              "1                             1.0                        0.0   \n",
              "2                             0.0                        0.0   \n",
              "3                             0.0                        0.0   \n",
              "4                             0.0                        0.0   \n",
              "...                           ...                        ...   \n",
              "6387                          1.0                        1.0   \n",
              "6388                          0.0                        0.0   \n",
              "6389                          0.0                        0.0   \n",
              "6390                          0.0                        0.0   \n",
              "6391                          0.0                        0.0   \n",
              "\n",
              "      Outlet_Type_Supermarket Type1  Outlet_Type_Supermarket Type2  \\\n",
              "0                               0.0                            1.0   \n",
              "1                               0.0                            1.0   \n",
              "2                               1.0                            0.0   \n",
              "3                               1.0                            0.0   \n",
              "4                               1.0                            0.0   \n",
              "...                             ...                            ...   \n",
              "6387                            0.0                            0.0   \n",
              "6388                            1.0                            0.0   \n",
              "6389                            1.0                            0.0   \n",
              "6390                            1.0                            0.0   \n",
              "6391                            1.0                            0.0   \n",
              "\n",
              "      Outlet_Type_Supermarket Type3  \n",
              "0                               0.0  \n",
              "1                               0.0  \n",
              "2                               0.0  \n",
              "3                               0.0  \n",
              "4                               0.0  \n",
              "...                             ...  \n",
              "6387                            0.0  \n",
              "6388                            0.0  \n",
              "6389                            0.0  \n",
              "6390                            0.0  \n",
              "6391                            0.0  \n",
              "\n",
              "[6392 rows x 1592 columns]"
            ],
            "text/html": [
              "\n",
              "  <div id=\"df-c4fa11b9-ec07-453b-bb22-fe56aa32e1a1\">\n",
              "    <div class=\"colab-df-container\">\n",
              "      <div>\n",
              "<style scoped>\n",
              "    .dataframe tbody tr th:only-of-type {\n",
              "        vertical-align: middle;\n",
              "    }\n",
              "\n",
              "    .dataframe tbody tr th {\n",
              "        vertical-align: top;\n",
              "    }\n",
              "\n",
              "    .dataframe thead th {\n",
              "        text-align: right;\n",
              "    }\n",
              "</style>\n",
              "<table border=\"1\" class=\"dataframe\">\n",
              "  <thead>\n",
              "    <tr style=\"text-align: right;\">\n",
              "      <th></th>\n",
              "      <th>Item_Weight</th>\n",
              "      <th>Item_Visibility</th>\n",
              "      <th>Item_MRP</th>\n",
              "      <th>Outlet_Establishment_Year</th>\n",
              "      <th>Item_Identifier_DRA12</th>\n",
              "      <th>Item_Identifier_DRA24</th>\n",
              "      <th>Item_Identifier_DRA59</th>\n",
              "      <th>Item_Identifier_DRB01</th>\n",
              "      <th>Item_Identifier_DRB13</th>\n",
              "      <th>Item_Identifier_DRB24</th>\n",
              "      <th>...</th>\n",
              "      <th>Outlet_Size_High</th>\n",
              "      <th>Outlet_Size_Medium</th>\n",
              "      <th>Outlet_Size_Small</th>\n",
              "      <th>Outlet_Location_Type_Tier 1</th>\n",
              "      <th>Outlet_Location_Type_Tier 2</th>\n",
              "      <th>Outlet_Location_Type_Tier 3</th>\n",
              "      <th>Outlet_Type_Grocery Store</th>\n",
              "      <th>Outlet_Type_Supermarket Type1</th>\n",
              "      <th>Outlet_Type_Supermarket Type2</th>\n",
              "      <th>Outlet_Type_Supermarket Type3</th>\n",
              "    </tr>\n",
              "  </thead>\n",
              "  <tbody>\n",
              "    <tr>\n",
              "      <th>0</th>\n",
              "      <td>0.819164</td>\n",
              "      <td>-0.712775</td>\n",
              "      <td>1.828109</td>\n",
              "      <td>1.327849</td>\n",
              "      <td>0.0</td>\n",
              "      <td>0.0</td>\n",
              "      <td>0.0</td>\n",
              "      <td>0.0</td>\n",
              "      <td>0.0</td>\n",
              "      <td>0.0</td>\n",
              "      <td>...</td>\n",
              "      <td>0.0</td>\n",
              "      <td>1.0</td>\n",
              "      <td>0.0</td>\n",
              "      <td>0.0</td>\n",
              "      <td>0.0</td>\n",
              "      <td>1.0</td>\n",
              "      <td>0.0</td>\n",
              "      <td>0.0</td>\n",
              "      <td>1.0</td>\n",
              "      <td>0.0</td>\n",
              "    </tr>\n",
              "    <tr>\n",
              "      <th>1</th>\n",
              "      <td>0.558258</td>\n",
              "      <td>-1.291052</td>\n",
              "      <td>0.603369</td>\n",
              "      <td>1.327849</td>\n",
              "      <td>0.0</td>\n",
              "      <td>0.0</td>\n",
              "      <td>0.0</td>\n",
              "      <td>0.0</td>\n",
              "      <td>0.0</td>\n",
              "      <td>0.0</td>\n",
              "      <td>...</td>\n",
              "      <td>0.0</td>\n",
              "      <td>1.0</td>\n",
              "      <td>0.0</td>\n",
              "      <td>0.0</td>\n",
              "      <td>0.0</td>\n",
              "      <td>1.0</td>\n",
              "      <td>0.0</td>\n",
              "      <td>0.0</td>\n",
              "      <td>1.0</td>\n",
              "      <td>0.0</td>\n",
              "    </tr>\n",
              "    <tr>\n",
              "      <th>2</th>\n",
              "      <td>-0.129588</td>\n",
              "      <td>1.813319</td>\n",
              "      <td>0.244541</td>\n",
              "      <td>0.136187</td>\n",
              "      <td>0.0</td>\n",
              "      <td>0.0</td>\n",
              "      <td>0.0</td>\n",
              "      <td>0.0</td>\n",
              "      <td>0.0</td>\n",
              "      <td>0.0</td>\n",
              "      <td>...</td>\n",
              "      <td>0.0</td>\n",
              "      <td>1.0</td>\n",
              "      <td>0.0</td>\n",
              "      <td>1.0</td>\n",
              "      <td>0.0</td>\n",
              "      <td>0.0</td>\n",
              "      <td>0.0</td>\n",
              "      <td>1.0</td>\n",
              "      <td>0.0</td>\n",
              "      <td>0.0</td>\n",
              "    </tr>\n",
              "    <tr>\n",
              "      <th>3</th>\n",
              "      <td>-1.167286</td>\n",
              "      <td>-1.004931</td>\n",
              "      <td>-0.952591</td>\n",
              "      <td>0.732018</td>\n",
              "      <td>0.0</td>\n",
              "      <td>0.0</td>\n",
              "      <td>0.0</td>\n",
              "      <td>0.0</td>\n",
              "      <td>0.0</td>\n",
              "      <td>0.0</td>\n",
              "      <td>...</td>\n",
              "      <td>0.0</td>\n",
              "      <td>0.0</td>\n",
              "      <td>1.0</td>\n",
              "      <td>0.0</td>\n",
              "      <td>1.0</td>\n",
              "      <td>0.0</td>\n",
              "      <td>0.0</td>\n",
              "      <td>1.0</td>\n",
              "      <td>0.0</td>\n",
              "      <td>0.0</td>\n",
              "    </tr>\n",
              "    <tr>\n",
              "      <th>4</th>\n",
              "      <td>1.530729</td>\n",
              "      <td>-0.965484</td>\n",
              "      <td>-0.336460</td>\n",
              "      <td>0.493686</td>\n",
              "      <td>0.0</td>\n",
              "      <td>0.0</td>\n",
              "      <td>0.0</td>\n",
              "      <td>0.0</td>\n",
              "      <td>0.0</td>\n",
              "      <td>0.0</td>\n",
              "      <td>...</td>\n",
              "      <td>0.0</td>\n",
              "      <td>1.0</td>\n",
              "      <td>0.0</td>\n",
              "      <td>0.0</td>\n",
              "      <td>1.0</td>\n",
              "      <td>0.0</td>\n",
              "      <td>0.0</td>\n",
              "      <td>1.0</td>\n",
              "      <td>0.0</td>\n",
              "      <td>0.0</td>\n",
              "    </tr>\n",
              "    <tr>\n",
              "      <th>...</th>\n",
              "      <td>...</td>\n",
              "      <td>...</td>\n",
              "      <td>...</td>\n",
              "      <td>...</td>\n",
              "      <td>...</td>\n",
              "      <td>...</td>\n",
              "      <td>...</td>\n",
              "      <td>...</td>\n",
              "      <td>...</td>\n",
              "      <td>...</td>\n",
              "      <td>...</td>\n",
              "      <td>...</td>\n",
              "      <td>...</td>\n",
              "      <td>...</td>\n",
              "      <td>...</td>\n",
              "      <td>...</td>\n",
              "      <td>...</td>\n",
              "      <td>...</td>\n",
              "      <td>...</td>\n",
              "      <td>...</td>\n",
              "      <td>...</td>\n",
              "    </tr>\n",
              "    <tr>\n",
              "      <th>6387</th>\n",
              "      <td>-0.830479</td>\n",
              "      <td>4.309657</td>\n",
              "      <td>-0.044657</td>\n",
              "      <td>0.017021</td>\n",
              "      <td>0.0</td>\n",
              "      <td>0.0</td>\n",
              "      <td>0.0</td>\n",
              "      <td>0.0</td>\n",
              "      <td>0.0</td>\n",
              "      <td>0.0</td>\n",
              "      <td>...</td>\n",
              "      <td>0.0</td>\n",
              "      <td>0.0</td>\n",
              "      <td>1.0</td>\n",
              "      <td>0.0</td>\n",
              "      <td>0.0</td>\n",
              "      <td>1.0</td>\n",
              "      <td>1.0</td>\n",
              "      <td>0.0</td>\n",
              "      <td>0.0</td>\n",
              "      <td>0.0</td>\n",
              "    </tr>\n",
              "    <tr>\n",
              "      <th>6388</th>\n",
              "      <td>0.641273</td>\n",
              "      <td>1.008625</td>\n",
              "      <td>-1.058907</td>\n",
              "      <td>1.089517</td>\n",
              "      <td>0.0</td>\n",
              "      <td>0.0</td>\n",
              "      <td>0.0</td>\n",
              "      <td>0.0</td>\n",
              "      <td>0.0</td>\n",
              "      <td>0.0</td>\n",
              "      <td>...</td>\n",
              "      <td>0.0</td>\n",
              "      <td>1.0</td>\n",
              "      <td>0.0</td>\n",
              "      <td>0.0</td>\n",
              "      <td>1.0</td>\n",
              "      <td>0.0</td>\n",
              "      <td>0.0</td>\n",
              "      <td>1.0</td>\n",
              "      <td>0.0</td>\n",
              "      <td>0.0</td>\n",
              "    </tr>\n",
              "    <tr>\n",
              "      <th>6389</th>\n",
              "      <td>1.115649</td>\n",
              "      <td>-0.920527</td>\n",
              "      <td>1.523027</td>\n",
              "      <td>0.493686</td>\n",
              "      <td>0.0</td>\n",
              "      <td>0.0</td>\n",
              "      <td>0.0</td>\n",
              "      <td>0.0</td>\n",
              "      <td>0.0</td>\n",
              "      <td>0.0</td>\n",
              "      <td>...</td>\n",
              "      <td>0.0</td>\n",
              "      <td>1.0</td>\n",
              "      <td>0.0</td>\n",
              "      <td>0.0</td>\n",
              "      <td>1.0</td>\n",
              "      <td>0.0</td>\n",
              "      <td>0.0</td>\n",
              "      <td>1.0</td>\n",
              "      <td>0.0</td>\n",
              "      <td>0.0</td>\n",
              "    </tr>\n",
              "    <tr>\n",
              "      <th>6390</th>\n",
              "      <td>1.767917</td>\n",
              "      <td>-0.227755</td>\n",
              "      <td>-0.383777</td>\n",
              "      <td>1.089517</td>\n",
              "      <td>0.0</td>\n",
              "      <td>0.0</td>\n",
              "      <td>0.0</td>\n",
              "      <td>0.0</td>\n",
              "      <td>0.0</td>\n",
              "      <td>0.0</td>\n",
              "      <td>...</td>\n",
              "      <td>0.0</td>\n",
              "      <td>1.0</td>\n",
              "      <td>0.0</td>\n",
              "      <td>0.0</td>\n",
              "      <td>1.0</td>\n",
              "      <td>0.0</td>\n",
              "      <td>0.0</td>\n",
              "      <td>1.0</td>\n",
              "      <td>0.0</td>\n",
              "      <td>0.0</td>\n",
              "    </tr>\n",
              "    <tr>\n",
              "      <th>6391</th>\n",
              "      <td>0.819164</td>\n",
              "      <td>-0.958677</td>\n",
              "      <td>-0.738361</td>\n",
              "      <td>-0.102145</td>\n",
              "      <td>0.0</td>\n",
              "      <td>0.0</td>\n",
              "      <td>0.0</td>\n",
              "      <td>0.0</td>\n",
              "      <td>0.0</td>\n",
              "      <td>0.0</td>\n",
              "      <td>...</td>\n",
              "      <td>0.0</td>\n",
              "      <td>0.0</td>\n",
              "      <td>1.0</td>\n",
              "      <td>1.0</td>\n",
              "      <td>0.0</td>\n",
              "      <td>0.0</td>\n",
              "      <td>0.0</td>\n",
              "      <td>1.0</td>\n",
              "      <td>0.0</td>\n",
              "      <td>0.0</td>\n",
              "    </tr>\n",
              "  </tbody>\n",
              "</table>\n",
              "<p>6392 rows × 1592 columns</p>\n",
              "</div>\n",
              "      <button class=\"colab-df-convert\" onclick=\"convertToInteractive('df-c4fa11b9-ec07-453b-bb22-fe56aa32e1a1')\"\n",
              "              title=\"Convert this dataframe to an interactive table.\"\n",
              "              style=\"display:none;\">\n",
              "        \n",
              "  <svg xmlns=\"http://www.w3.org/2000/svg\" height=\"24px\"viewBox=\"0 0 24 24\"\n",
              "       width=\"24px\">\n",
              "    <path d=\"M0 0h24v24H0V0z\" fill=\"none\"/>\n",
              "    <path d=\"M18.56 5.44l.94 2.06.94-2.06 2.06-.94-2.06-.94-.94-2.06-.94 2.06-2.06.94zm-11 1L8.5 8.5l.94-2.06 2.06-.94-2.06-.94L8.5 2.5l-.94 2.06-2.06.94zm10 10l.94 2.06.94-2.06 2.06-.94-2.06-.94-.94-2.06-.94 2.06-2.06.94z\"/><path d=\"M17.41 7.96l-1.37-1.37c-.4-.4-.92-.59-1.43-.59-.52 0-1.04.2-1.43.59L10.3 9.45l-7.72 7.72c-.78.78-.78 2.05 0 2.83L4 21.41c.39.39.9.59 1.41.59.51 0 1.02-.2 1.41-.59l7.78-7.78 2.81-2.81c.8-.78.8-2.07 0-2.86zM5.41 20L4 18.59l7.72-7.72 1.47 1.35L5.41 20z\"/>\n",
              "  </svg>\n",
              "      </button>\n",
              "      \n",
              "  <style>\n",
              "    .colab-df-container {\n",
              "      display:flex;\n",
              "      flex-wrap:wrap;\n",
              "      gap: 12px;\n",
              "    }\n",
              "\n",
              "    .colab-df-convert {\n",
              "      background-color: #E8F0FE;\n",
              "      border: none;\n",
              "      border-radius: 50%;\n",
              "      cursor: pointer;\n",
              "      display: none;\n",
              "      fill: #1967D2;\n",
              "      height: 32px;\n",
              "      padding: 0 0 0 0;\n",
              "      width: 32px;\n",
              "    }\n",
              "\n",
              "    .colab-df-convert:hover {\n",
              "      background-color: #E2EBFA;\n",
              "      box-shadow: 0px 1px 2px rgba(60, 64, 67, 0.3), 0px 1px 3px 1px rgba(60, 64, 67, 0.15);\n",
              "      fill: #174EA6;\n",
              "    }\n",
              "\n",
              "    [theme=dark] .colab-df-convert {\n",
              "      background-color: #3B4455;\n",
              "      fill: #D2E3FC;\n",
              "    }\n",
              "\n",
              "    [theme=dark] .colab-df-convert:hover {\n",
              "      background-color: #434B5C;\n",
              "      box-shadow: 0px 1px 3px 1px rgba(0, 0, 0, 0.15);\n",
              "      filter: drop-shadow(0px 1px 2px rgba(0, 0, 0, 0.3));\n",
              "      fill: #FFFFFF;\n",
              "    }\n",
              "  </style>\n",
              "\n",
              "      <script>\n",
              "        const buttonEl =\n",
              "          document.querySelector('#df-c4fa11b9-ec07-453b-bb22-fe56aa32e1a1 button.colab-df-convert');\n",
              "        buttonEl.style.display =\n",
              "          google.colab.kernel.accessAllowed ? 'block' : 'none';\n",
              "\n",
              "        async function convertToInteractive(key) {\n",
              "          const element = document.querySelector('#df-c4fa11b9-ec07-453b-bb22-fe56aa32e1a1');\n",
              "          const dataTable =\n",
              "            await google.colab.kernel.invokeFunction('convertToInteractive',\n",
              "                                                     [key], {});\n",
              "          if (!dataTable) return;\n",
              "\n",
              "          const docLinkHtml = 'Like what you see? Visit the ' +\n",
              "            '<a target=\"_blank\" href=https://colab.research.google.com/notebooks/data_table.ipynb>data table notebook</a>'\n",
              "            + ' to learn more about interactive tables.';\n",
              "          element.innerHTML = '';\n",
              "          dataTable['output_type'] = 'display_data';\n",
              "          await google.colab.output.renderOutput(dataTable, element);\n",
              "          const docLink = document.createElement('div');\n",
              "          docLink.innerHTML = docLinkHtml;\n",
              "          element.appendChild(docLink);\n",
              "        }\n",
              "      </script>\n",
              "    </div>\n",
              "  </div>\n",
              "  "
            ]
          },
          "metadata": {},
          "execution_count": 43
        }
      ]
    },
    {
      "cell_type": "code",
      "source": [
        "freq_imputer = SimpleImputer(strategy='most_frequent')\n",
        "mean_imputer = SimpleImputer(strategy= 'mean')\n",
        "scaler = StandardScaler()\n",
        "ohe = OneHotEncoder(sparse=False, handle_unknown='ignore')"
      ],
      "metadata": {
        "id": "l6EiKO7Eu5ak"
      },
      "execution_count": null,
      "outputs": []
    },
    {
      "cell_type": "code",
      "source": [
        "numeric_pipe = make_pipeline(mean_imputer, scaler)\n",
        "numeric_pipe"
      ],
      "metadata": {
        "colab": {
          "base_uri": "https://localhost:8080/",
          "height": 126
        },
        "id": "p2hGelhMwD-r",
        "outputId": "7f99b776-c256-488a-d36f-5c8869d2b987"
      },
      "execution_count": null,
      "outputs": [
        {
          "output_type": "execute_result",
          "data": {
            "text/plain": [
              "Pipeline(steps=[('simpleimputer', SimpleImputer()),\n",
              "                ('standardscaler', StandardScaler())])"
            ],
            "text/html": [
              "<style>#sk-1da35c8f-f1a0-4a91-ac29-ed8f72389dcd {color: black;background-color: white;}#sk-1da35c8f-f1a0-4a91-ac29-ed8f72389dcd pre{padding: 0;}#sk-1da35c8f-f1a0-4a91-ac29-ed8f72389dcd div.sk-toggleable {background-color: white;}#sk-1da35c8f-f1a0-4a91-ac29-ed8f72389dcd label.sk-toggleable__label {cursor: pointer;display: block;width: 100%;margin-bottom: 0;padding: 0.3em;box-sizing: border-box;text-align: center;}#sk-1da35c8f-f1a0-4a91-ac29-ed8f72389dcd label.sk-toggleable__label-arrow:before {content: \"▸\";float: left;margin-right: 0.25em;color: #696969;}#sk-1da35c8f-f1a0-4a91-ac29-ed8f72389dcd label.sk-toggleable__label-arrow:hover:before {color: black;}#sk-1da35c8f-f1a0-4a91-ac29-ed8f72389dcd div.sk-estimator:hover label.sk-toggleable__label-arrow:before {color: black;}#sk-1da35c8f-f1a0-4a91-ac29-ed8f72389dcd div.sk-toggleable__content {max-height: 0;max-width: 0;overflow: hidden;text-align: left;background-color: #f0f8ff;}#sk-1da35c8f-f1a0-4a91-ac29-ed8f72389dcd div.sk-toggleable__content pre {margin: 0.2em;color: black;border-radius: 0.25em;background-color: #f0f8ff;}#sk-1da35c8f-f1a0-4a91-ac29-ed8f72389dcd input.sk-toggleable__control:checked~div.sk-toggleable__content {max-height: 200px;max-width: 100%;overflow: auto;}#sk-1da35c8f-f1a0-4a91-ac29-ed8f72389dcd input.sk-toggleable__control:checked~label.sk-toggleable__label-arrow:before {content: \"▾\";}#sk-1da35c8f-f1a0-4a91-ac29-ed8f72389dcd div.sk-estimator input.sk-toggleable__control:checked~label.sk-toggleable__label {background-color: #d4ebff;}#sk-1da35c8f-f1a0-4a91-ac29-ed8f72389dcd div.sk-label input.sk-toggleable__control:checked~label.sk-toggleable__label {background-color: #d4ebff;}#sk-1da35c8f-f1a0-4a91-ac29-ed8f72389dcd input.sk-hidden--visually {border: 0;clip: rect(1px 1px 1px 1px);clip: rect(1px, 1px, 1px, 1px);height: 1px;margin: -1px;overflow: hidden;padding: 0;position: absolute;width: 1px;}#sk-1da35c8f-f1a0-4a91-ac29-ed8f72389dcd div.sk-estimator {font-family: monospace;background-color: #f0f8ff;border: 1px dotted black;border-radius: 0.25em;box-sizing: border-box;margin-bottom: 0.5em;}#sk-1da35c8f-f1a0-4a91-ac29-ed8f72389dcd div.sk-estimator:hover {background-color: #d4ebff;}#sk-1da35c8f-f1a0-4a91-ac29-ed8f72389dcd div.sk-parallel-item::after {content: \"\";width: 100%;border-bottom: 1px solid gray;flex-grow: 1;}#sk-1da35c8f-f1a0-4a91-ac29-ed8f72389dcd div.sk-label:hover label.sk-toggleable__label {background-color: #d4ebff;}#sk-1da35c8f-f1a0-4a91-ac29-ed8f72389dcd div.sk-serial::before {content: \"\";position: absolute;border-left: 1px solid gray;box-sizing: border-box;top: 2em;bottom: 0;left: 50%;}#sk-1da35c8f-f1a0-4a91-ac29-ed8f72389dcd div.sk-serial {display: flex;flex-direction: column;align-items: center;background-color: white;padding-right: 0.2em;padding-left: 0.2em;}#sk-1da35c8f-f1a0-4a91-ac29-ed8f72389dcd div.sk-item {z-index: 1;}#sk-1da35c8f-f1a0-4a91-ac29-ed8f72389dcd div.sk-parallel {display: flex;align-items: stretch;justify-content: center;background-color: white;}#sk-1da35c8f-f1a0-4a91-ac29-ed8f72389dcd div.sk-parallel::before {content: \"\";position: absolute;border-left: 1px solid gray;box-sizing: border-box;top: 2em;bottom: 0;left: 50%;}#sk-1da35c8f-f1a0-4a91-ac29-ed8f72389dcd div.sk-parallel-item {display: flex;flex-direction: column;position: relative;background-color: white;}#sk-1da35c8f-f1a0-4a91-ac29-ed8f72389dcd div.sk-parallel-item:first-child::after {align-self: flex-end;width: 50%;}#sk-1da35c8f-f1a0-4a91-ac29-ed8f72389dcd div.sk-parallel-item:last-child::after {align-self: flex-start;width: 50%;}#sk-1da35c8f-f1a0-4a91-ac29-ed8f72389dcd div.sk-parallel-item:only-child::after {width: 0;}#sk-1da35c8f-f1a0-4a91-ac29-ed8f72389dcd div.sk-dashed-wrapped {border: 1px dashed gray;margin: 0 0.4em 0.5em 0.4em;box-sizing: border-box;padding-bottom: 0.4em;background-color: white;position: relative;}#sk-1da35c8f-f1a0-4a91-ac29-ed8f72389dcd div.sk-label label {font-family: monospace;font-weight: bold;background-color: white;display: inline-block;line-height: 1.2em;}#sk-1da35c8f-f1a0-4a91-ac29-ed8f72389dcd div.sk-label-container {position: relative;z-index: 2;text-align: center;}#sk-1da35c8f-f1a0-4a91-ac29-ed8f72389dcd div.sk-container {/* jupyter's `normalize.less` sets `[hidden] { display: none; }` but bootstrap.min.css set `[hidden] { display: none !important; }` so we also need the `!important` here to be able to override the default hidden behavior on the sphinx rendered scikit-learn.org. See: https://github.com/scikit-learn/scikit-learn/issues/21755 */display: inline-block !important;position: relative;}#sk-1da35c8f-f1a0-4a91-ac29-ed8f72389dcd div.sk-text-repr-fallback {display: none;}</style><div id=\"sk-1da35c8f-f1a0-4a91-ac29-ed8f72389dcd\" class=\"sk-top-container\"><div class=\"sk-text-repr-fallback\"><pre>Pipeline(steps=[(&#x27;simpleimputer&#x27;, SimpleImputer()),\n",
              "                (&#x27;standardscaler&#x27;, StandardScaler())])</pre><b>Please rerun this cell to show the HTML repr or trust the notebook.</b></div><div class=\"sk-container\" hidden><div class=\"sk-item sk-dashed-wrapped\"><div class=\"sk-label-container\"><div class=\"sk-label sk-toggleable\"><input class=\"sk-toggleable__control sk-hidden--visually\" id=\"b31e468c-27e2-43a9-86bd-2f8de2b40b61\" type=\"checkbox\" ><label for=\"b31e468c-27e2-43a9-86bd-2f8de2b40b61\" class=\"sk-toggleable__label sk-toggleable__label-arrow\">Pipeline</label><div class=\"sk-toggleable__content\"><pre>Pipeline(steps=[(&#x27;simpleimputer&#x27;, SimpleImputer()),\n",
              "                (&#x27;standardscaler&#x27;, StandardScaler())])</pre></div></div></div><div class=\"sk-serial\"><div class=\"sk-item\"><div class=\"sk-estimator sk-toggleable\"><input class=\"sk-toggleable__control sk-hidden--visually\" id=\"7bd46dee-5b7f-4da3-b8c9-e8f7e75307bd\" type=\"checkbox\" ><label for=\"7bd46dee-5b7f-4da3-b8c9-e8f7e75307bd\" class=\"sk-toggleable__label sk-toggleable__label-arrow\">SimpleImputer</label><div class=\"sk-toggleable__content\"><pre>SimpleImputer()</pre></div></div></div><div class=\"sk-item\"><div class=\"sk-estimator sk-toggleable\"><input class=\"sk-toggleable__control sk-hidden--visually\" id=\"1e716a77-77cc-4ab4-852e-f0764e9a5f75\" type=\"checkbox\" ><label for=\"1e716a77-77cc-4ab4-852e-f0764e9a5f75\" class=\"sk-toggleable__label sk-toggleable__label-arrow\">StandardScaler</label><div class=\"sk-toggleable__content\"><pre>StandardScaler()</pre></div></div></div></div></div></div></div>"
            ]
          },
          "metadata": {},
          "execution_count": 45
        }
      ]
    },
    {
      "cell_type": "code",
      "source": [
        "categorical_pipe = make_pipeline(freq_imputer, ohe)\n",
        "categorical_pipe"
      ],
      "metadata": {
        "colab": {
          "base_uri": "https://localhost:8080/",
          "height": 126
        },
        "id": "9HIZLtvNwG1L",
        "outputId": "eadb152f-8592-4de0-9e57-95fbbce38da1"
      },
      "execution_count": null,
      "outputs": [
        {
          "output_type": "execute_result",
          "data": {
            "text/plain": [
              "Pipeline(steps=[('simpleimputer', SimpleImputer(strategy='most_frequent')),\n",
              "                ('onehotencoder',\n",
              "                 OneHotEncoder(handle_unknown='ignore', sparse=False))])"
            ],
            "text/html": [
              "<style>#sk-57b8c44f-af4a-4020-a4b3-f9809b8fe60d {color: black;background-color: white;}#sk-57b8c44f-af4a-4020-a4b3-f9809b8fe60d pre{padding: 0;}#sk-57b8c44f-af4a-4020-a4b3-f9809b8fe60d div.sk-toggleable {background-color: white;}#sk-57b8c44f-af4a-4020-a4b3-f9809b8fe60d label.sk-toggleable__label {cursor: pointer;display: block;width: 100%;margin-bottom: 0;padding: 0.3em;box-sizing: border-box;text-align: center;}#sk-57b8c44f-af4a-4020-a4b3-f9809b8fe60d label.sk-toggleable__label-arrow:before {content: \"▸\";float: left;margin-right: 0.25em;color: #696969;}#sk-57b8c44f-af4a-4020-a4b3-f9809b8fe60d label.sk-toggleable__label-arrow:hover:before {color: black;}#sk-57b8c44f-af4a-4020-a4b3-f9809b8fe60d div.sk-estimator:hover label.sk-toggleable__label-arrow:before {color: black;}#sk-57b8c44f-af4a-4020-a4b3-f9809b8fe60d div.sk-toggleable__content {max-height: 0;max-width: 0;overflow: hidden;text-align: left;background-color: #f0f8ff;}#sk-57b8c44f-af4a-4020-a4b3-f9809b8fe60d div.sk-toggleable__content pre {margin: 0.2em;color: black;border-radius: 0.25em;background-color: #f0f8ff;}#sk-57b8c44f-af4a-4020-a4b3-f9809b8fe60d input.sk-toggleable__control:checked~div.sk-toggleable__content {max-height: 200px;max-width: 100%;overflow: auto;}#sk-57b8c44f-af4a-4020-a4b3-f9809b8fe60d input.sk-toggleable__control:checked~label.sk-toggleable__label-arrow:before {content: \"▾\";}#sk-57b8c44f-af4a-4020-a4b3-f9809b8fe60d div.sk-estimator input.sk-toggleable__control:checked~label.sk-toggleable__label {background-color: #d4ebff;}#sk-57b8c44f-af4a-4020-a4b3-f9809b8fe60d div.sk-label input.sk-toggleable__control:checked~label.sk-toggleable__label {background-color: #d4ebff;}#sk-57b8c44f-af4a-4020-a4b3-f9809b8fe60d input.sk-hidden--visually {border: 0;clip: rect(1px 1px 1px 1px);clip: rect(1px, 1px, 1px, 1px);height: 1px;margin: -1px;overflow: hidden;padding: 0;position: absolute;width: 1px;}#sk-57b8c44f-af4a-4020-a4b3-f9809b8fe60d div.sk-estimator {font-family: monospace;background-color: #f0f8ff;border: 1px dotted black;border-radius: 0.25em;box-sizing: border-box;margin-bottom: 0.5em;}#sk-57b8c44f-af4a-4020-a4b3-f9809b8fe60d div.sk-estimator:hover {background-color: #d4ebff;}#sk-57b8c44f-af4a-4020-a4b3-f9809b8fe60d div.sk-parallel-item::after {content: \"\";width: 100%;border-bottom: 1px solid gray;flex-grow: 1;}#sk-57b8c44f-af4a-4020-a4b3-f9809b8fe60d div.sk-label:hover label.sk-toggleable__label {background-color: #d4ebff;}#sk-57b8c44f-af4a-4020-a4b3-f9809b8fe60d div.sk-serial::before {content: \"\";position: absolute;border-left: 1px solid gray;box-sizing: border-box;top: 2em;bottom: 0;left: 50%;}#sk-57b8c44f-af4a-4020-a4b3-f9809b8fe60d div.sk-serial {display: flex;flex-direction: column;align-items: center;background-color: white;padding-right: 0.2em;padding-left: 0.2em;}#sk-57b8c44f-af4a-4020-a4b3-f9809b8fe60d div.sk-item {z-index: 1;}#sk-57b8c44f-af4a-4020-a4b3-f9809b8fe60d div.sk-parallel {display: flex;align-items: stretch;justify-content: center;background-color: white;}#sk-57b8c44f-af4a-4020-a4b3-f9809b8fe60d div.sk-parallel::before {content: \"\";position: absolute;border-left: 1px solid gray;box-sizing: border-box;top: 2em;bottom: 0;left: 50%;}#sk-57b8c44f-af4a-4020-a4b3-f9809b8fe60d div.sk-parallel-item {display: flex;flex-direction: column;position: relative;background-color: white;}#sk-57b8c44f-af4a-4020-a4b3-f9809b8fe60d div.sk-parallel-item:first-child::after {align-self: flex-end;width: 50%;}#sk-57b8c44f-af4a-4020-a4b3-f9809b8fe60d div.sk-parallel-item:last-child::after {align-self: flex-start;width: 50%;}#sk-57b8c44f-af4a-4020-a4b3-f9809b8fe60d div.sk-parallel-item:only-child::after {width: 0;}#sk-57b8c44f-af4a-4020-a4b3-f9809b8fe60d div.sk-dashed-wrapped {border: 1px dashed gray;margin: 0 0.4em 0.5em 0.4em;box-sizing: border-box;padding-bottom: 0.4em;background-color: white;position: relative;}#sk-57b8c44f-af4a-4020-a4b3-f9809b8fe60d div.sk-label label {font-family: monospace;font-weight: bold;background-color: white;display: inline-block;line-height: 1.2em;}#sk-57b8c44f-af4a-4020-a4b3-f9809b8fe60d div.sk-label-container {position: relative;z-index: 2;text-align: center;}#sk-57b8c44f-af4a-4020-a4b3-f9809b8fe60d div.sk-container {/* jupyter's `normalize.less` sets `[hidden] { display: none; }` but bootstrap.min.css set `[hidden] { display: none !important; }` so we also need the `!important` here to be able to override the default hidden behavior on the sphinx rendered scikit-learn.org. See: https://github.com/scikit-learn/scikit-learn/issues/21755 */display: inline-block !important;position: relative;}#sk-57b8c44f-af4a-4020-a4b3-f9809b8fe60d div.sk-text-repr-fallback {display: none;}</style><div id=\"sk-57b8c44f-af4a-4020-a4b3-f9809b8fe60d\" class=\"sk-top-container\"><div class=\"sk-text-repr-fallback\"><pre>Pipeline(steps=[(&#x27;simpleimputer&#x27;, SimpleImputer(strategy=&#x27;most_frequent&#x27;)),\n",
              "                (&#x27;onehotencoder&#x27;,\n",
              "                 OneHotEncoder(handle_unknown=&#x27;ignore&#x27;, sparse=False))])</pre><b>Please rerun this cell to show the HTML repr or trust the notebook.</b></div><div class=\"sk-container\" hidden><div class=\"sk-item sk-dashed-wrapped\"><div class=\"sk-label-container\"><div class=\"sk-label sk-toggleable\"><input class=\"sk-toggleable__control sk-hidden--visually\" id=\"bf4be9de-7d07-416c-8bb7-83e90ab51539\" type=\"checkbox\" ><label for=\"bf4be9de-7d07-416c-8bb7-83e90ab51539\" class=\"sk-toggleable__label sk-toggleable__label-arrow\">Pipeline</label><div class=\"sk-toggleable__content\"><pre>Pipeline(steps=[(&#x27;simpleimputer&#x27;, SimpleImputer(strategy=&#x27;most_frequent&#x27;)),\n",
              "                (&#x27;onehotencoder&#x27;,\n",
              "                 OneHotEncoder(handle_unknown=&#x27;ignore&#x27;, sparse=False))])</pre></div></div></div><div class=\"sk-serial\"><div class=\"sk-item\"><div class=\"sk-estimator sk-toggleable\"><input class=\"sk-toggleable__control sk-hidden--visually\" id=\"e66034f4-f839-4927-9ba7-ffb279265f61\" type=\"checkbox\" ><label for=\"e66034f4-f839-4927-9ba7-ffb279265f61\" class=\"sk-toggleable__label sk-toggleable__label-arrow\">SimpleImputer</label><div class=\"sk-toggleable__content\"><pre>SimpleImputer(strategy=&#x27;most_frequent&#x27;)</pre></div></div></div><div class=\"sk-item\"><div class=\"sk-estimator sk-toggleable\"><input class=\"sk-toggleable__control sk-hidden--visually\" id=\"cdfe5033-d7a7-44ec-b802-21bcfc5bb44d\" type=\"checkbox\" ><label for=\"cdfe5033-d7a7-44ec-b802-21bcfc5bb44d\" class=\"sk-toggleable__label sk-toggleable__label-arrow\">OneHotEncoder</label><div class=\"sk-toggleable__content\"><pre>OneHotEncoder(handle_unknown=&#x27;ignore&#x27;, sparse=False)</pre></div></div></div></div></div></div></div>"
            ]
          },
          "metadata": {},
          "execution_count": 48
        }
      ]
    },
    {
      "cell_type": "code",
      "source": [
        "number_tuple = (numeric_pipe, num_selector)\n",
        "category_tuple = (categorical_pipe, cat_selector)\n",
        "preprocessor = make_column_transformer(number_tuple, category_tuple,remainder= 'passthrough')\n",
        "preprocessor"
      ],
      "metadata": {
        "colab": {
          "base_uri": "https://localhost:8080/",
          "height": 152
        },
        "id": "NS-m2AHCwiMJ",
        "outputId": "2539ccda-375c-419c-df75-aa8d609f3250"
      },
      "execution_count": null,
      "outputs": [
        {
          "output_type": "execute_result",
          "data": {
            "text/plain": [
              "ColumnTransformer(remainder='passthrough',\n",
              "                  transformers=[('pipeline-1',\n",
              "                                 Pipeline(steps=[('simpleimputer',\n",
              "                                                  SimpleImputer()),\n",
              "                                                 ('standardscaler',\n",
              "                                                  StandardScaler())]),\n",
              "                                 <sklearn.compose._column_transformer.make_column_selector object at 0x7f49a54bd2b0>),\n",
              "                                ('pipeline-2',\n",
              "                                 Pipeline(steps=[('simpleimputer',\n",
              "                                                  SimpleImputer(strategy='most_frequent')),\n",
              "                                                 ('onehotencoder',\n",
              "                                                  OneHotEncoder(handle_unknown='ignore',\n",
              "                                                                sparse=False))]),\n",
              "                                 <sklearn.compose._column_transformer.make_column_selector object at 0x7f49a54bd190>)])"
            ],
            "text/html": [
              "<style>#sk-4c3a85a5-e162-4376-8cac-dffa4820638f {color: black;background-color: white;}#sk-4c3a85a5-e162-4376-8cac-dffa4820638f pre{padding: 0;}#sk-4c3a85a5-e162-4376-8cac-dffa4820638f div.sk-toggleable {background-color: white;}#sk-4c3a85a5-e162-4376-8cac-dffa4820638f label.sk-toggleable__label {cursor: pointer;display: block;width: 100%;margin-bottom: 0;padding: 0.3em;box-sizing: border-box;text-align: center;}#sk-4c3a85a5-e162-4376-8cac-dffa4820638f label.sk-toggleable__label-arrow:before {content: \"▸\";float: left;margin-right: 0.25em;color: #696969;}#sk-4c3a85a5-e162-4376-8cac-dffa4820638f label.sk-toggleable__label-arrow:hover:before {color: black;}#sk-4c3a85a5-e162-4376-8cac-dffa4820638f div.sk-estimator:hover label.sk-toggleable__label-arrow:before {color: black;}#sk-4c3a85a5-e162-4376-8cac-dffa4820638f div.sk-toggleable__content {max-height: 0;max-width: 0;overflow: hidden;text-align: left;background-color: #f0f8ff;}#sk-4c3a85a5-e162-4376-8cac-dffa4820638f div.sk-toggleable__content pre {margin: 0.2em;color: black;border-radius: 0.25em;background-color: #f0f8ff;}#sk-4c3a85a5-e162-4376-8cac-dffa4820638f input.sk-toggleable__control:checked~div.sk-toggleable__content {max-height: 200px;max-width: 100%;overflow: auto;}#sk-4c3a85a5-e162-4376-8cac-dffa4820638f input.sk-toggleable__control:checked~label.sk-toggleable__label-arrow:before {content: \"▾\";}#sk-4c3a85a5-e162-4376-8cac-dffa4820638f div.sk-estimator input.sk-toggleable__control:checked~label.sk-toggleable__label {background-color: #d4ebff;}#sk-4c3a85a5-e162-4376-8cac-dffa4820638f div.sk-label input.sk-toggleable__control:checked~label.sk-toggleable__label {background-color: #d4ebff;}#sk-4c3a85a5-e162-4376-8cac-dffa4820638f input.sk-hidden--visually {border: 0;clip: rect(1px 1px 1px 1px);clip: rect(1px, 1px, 1px, 1px);height: 1px;margin: -1px;overflow: hidden;padding: 0;position: absolute;width: 1px;}#sk-4c3a85a5-e162-4376-8cac-dffa4820638f div.sk-estimator {font-family: monospace;background-color: #f0f8ff;border: 1px dotted black;border-radius: 0.25em;box-sizing: border-box;margin-bottom: 0.5em;}#sk-4c3a85a5-e162-4376-8cac-dffa4820638f div.sk-estimator:hover {background-color: #d4ebff;}#sk-4c3a85a5-e162-4376-8cac-dffa4820638f div.sk-parallel-item::after {content: \"\";width: 100%;border-bottom: 1px solid gray;flex-grow: 1;}#sk-4c3a85a5-e162-4376-8cac-dffa4820638f div.sk-label:hover label.sk-toggleable__label {background-color: #d4ebff;}#sk-4c3a85a5-e162-4376-8cac-dffa4820638f div.sk-serial::before {content: \"\";position: absolute;border-left: 1px solid gray;box-sizing: border-box;top: 2em;bottom: 0;left: 50%;}#sk-4c3a85a5-e162-4376-8cac-dffa4820638f div.sk-serial {display: flex;flex-direction: column;align-items: center;background-color: white;padding-right: 0.2em;padding-left: 0.2em;}#sk-4c3a85a5-e162-4376-8cac-dffa4820638f div.sk-item {z-index: 1;}#sk-4c3a85a5-e162-4376-8cac-dffa4820638f div.sk-parallel {display: flex;align-items: stretch;justify-content: center;background-color: white;}#sk-4c3a85a5-e162-4376-8cac-dffa4820638f div.sk-parallel::before {content: \"\";position: absolute;border-left: 1px solid gray;box-sizing: border-box;top: 2em;bottom: 0;left: 50%;}#sk-4c3a85a5-e162-4376-8cac-dffa4820638f div.sk-parallel-item {display: flex;flex-direction: column;position: relative;background-color: white;}#sk-4c3a85a5-e162-4376-8cac-dffa4820638f div.sk-parallel-item:first-child::after {align-self: flex-end;width: 50%;}#sk-4c3a85a5-e162-4376-8cac-dffa4820638f div.sk-parallel-item:last-child::after {align-self: flex-start;width: 50%;}#sk-4c3a85a5-e162-4376-8cac-dffa4820638f div.sk-parallel-item:only-child::after {width: 0;}#sk-4c3a85a5-e162-4376-8cac-dffa4820638f div.sk-dashed-wrapped {border: 1px dashed gray;margin: 0 0.4em 0.5em 0.4em;box-sizing: border-box;padding-bottom: 0.4em;background-color: white;position: relative;}#sk-4c3a85a5-e162-4376-8cac-dffa4820638f div.sk-label label {font-family: monospace;font-weight: bold;background-color: white;display: inline-block;line-height: 1.2em;}#sk-4c3a85a5-e162-4376-8cac-dffa4820638f div.sk-label-container {position: relative;z-index: 2;text-align: center;}#sk-4c3a85a5-e162-4376-8cac-dffa4820638f div.sk-container {/* jupyter's `normalize.less` sets `[hidden] { display: none; }` but bootstrap.min.css set `[hidden] { display: none !important; }` so we also need the `!important` here to be able to override the default hidden behavior on the sphinx rendered scikit-learn.org. See: https://github.com/scikit-learn/scikit-learn/issues/21755 */display: inline-block !important;position: relative;}#sk-4c3a85a5-e162-4376-8cac-dffa4820638f div.sk-text-repr-fallback {display: none;}</style><div id=\"sk-4c3a85a5-e162-4376-8cac-dffa4820638f\" class=\"sk-top-container\"><div class=\"sk-text-repr-fallback\"><pre>ColumnTransformer(remainder=&#x27;passthrough&#x27;,\n",
              "                  transformers=[(&#x27;pipeline-1&#x27;,\n",
              "                                 Pipeline(steps=[(&#x27;simpleimputer&#x27;,\n",
              "                                                  SimpleImputer()),\n",
              "                                                 (&#x27;standardscaler&#x27;,\n",
              "                                                  StandardScaler())]),\n",
              "                                 &lt;sklearn.compose._column_transformer.make_column_selector object at 0x7f49a54bd2b0&gt;),\n",
              "                                (&#x27;pipeline-2&#x27;,\n",
              "                                 Pipeline(steps=[(&#x27;simpleimputer&#x27;,\n",
              "                                                  SimpleImputer(strategy=&#x27;most_frequent&#x27;)),\n",
              "                                                 (&#x27;onehotencoder&#x27;,\n",
              "                                                  OneHotEncoder(handle_unknown=&#x27;ignore&#x27;,\n",
              "                                                                sparse=False))]),\n",
              "                                 &lt;sklearn.compose._column_transformer.make_column_selector object at 0x7f49a54bd190&gt;)])</pre><b>Please rerun this cell to show the HTML repr or trust the notebook.</b></div><div class=\"sk-container\" hidden><div class=\"sk-item sk-dashed-wrapped\"><div class=\"sk-label-container\"><div class=\"sk-label sk-toggleable\"><input class=\"sk-toggleable__control sk-hidden--visually\" id=\"90e05b37-f3ed-42ca-a6e9-850d68667513\" type=\"checkbox\" ><label for=\"90e05b37-f3ed-42ca-a6e9-850d68667513\" class=\"sk-toggleable__label sk-toggleable__label-arrow\">ColumnTransformer</label><div class=\"sk-toggleable__content\"><pre>ColumnTransformer(remainder=&#x27;passthrough&#x27;,\n",
              "                  transformers=[(&#x27;pipeline-1&#x27;,\n",
              "                                 Pipeline(steps=[(&#x27;simpleimputer&#x27;,\n",
              "                                                  SimpleImputer()),\n",
              "                                                 (&#x27;standardscaler&#x27;,\n",
              "                                                  StandardScaler())]),\n",
              "                                 &lt;sklearn.compose._column_transformer.make_column_selector object at 0x7f49a54bd2b0&gt;),\n",
              "                                (&#x27;pipeline-2&#x27;,\n",
              "                                 Pipeline(steps=[(&#x27;simpleimputer&#x27;,\n",
              "                                                  SimpleImputer(strategy=&#x27;most_frequent&#x27;)),\n",
              "                                                 (&#x27;onehotencoder&#x27;,\n",
              "                                                  OneHotEncoder(handle_unknown=&#x27;ignore&#x27;,\n",
              "                                                                sparse=False))]),\n",
              "                                 &lt;sklearn.compose._column_transformer.make_column_selector object at 0x7f49a54bd190&gt;)])</pre></div></div></div><div class=\"sk-parallel\"><div class=\"sk-parallel-item\"><div class=\"sk-item\"><div class=\"sk-label-container\"><div class=\"sk-label sk-toggleable\"><input class=\"sk-toggleable__control sk-hidden--visually\" id=\"fb87e66a-3a17-48df-b8cb-d0c08770da26\" type=\"checkbox\" ><label for=\"fb87e66a-3a17-48df-b8cb-d0c08770da26\" class=\"sk-toggleable__label sk-toggleable__label-arrow\">pipeline-1</label><div class=\"sk-toggleable__content\"><pre>&lt;sklearn.compose._column_transformer.make_column_selector object at 0x7f49a54bd2b0&gt;</pre></div></div></div><div class=\"sk-serial\"><div class=\"sk-item\"><div class=\"sk-serial\"><div class=\"sk-item\"><div class=\"sk-estimator sk-toggleable\"><input class=\"sk-toggleable__control sk-hidden--visually\" id=\"c0c1e2fe-e057-45fa-8e34-ee35b8be71ed\" type=\"checkbox\" ><label for=\"c0c1e2fe-e057-45fa-8e34-ee35b8be71ed\" class=\"sk-toggleable__label sk-toggleable__label-arrow\">SimpleImputer</label><div class=\"sk-toggleable__content\"><pre>SimpleImputer()</pre></div></div></div><div class=\"sk-item\"><div class=\"sk-estimator sk-toggleable\"><input class=\"sk-toggleable__control sk-hidden--visually\" id=\"fe8e92d7-48df-41c4-a6b2-7b5836d7d7a0\" type=\"checkbox\" ><label for=\"fe8e92d7-48df-41c4-a6b2-7b5836d7d7a0\" class=\"sk-toggleable__label sk-toggleable__label-arrow\">StandardScaler</label><div class=\"sk-toggleable__content\"><pre>StandardScaler()</pre></div></div></div></div></div></div></div></div><div class=\"sk-parallel-item\"><div class=\"sk-item\"><div class=\"sk-label-container\"><div class=\"sk-label sk-toggleable\"><input class=\"sk-toggleable__control sk-hidden--visually\" id=\"79c085a8-dd8d-4e21-b884-f76d3f41e573\" type=\"checkbox\" ><label for=\"79c085a8-dd8d-4e21-b884-f76d3f41e573\" class=\"sk-toggleable__label sk-toggleable__label-arrow\">pipeline-2</label><div class=\"sk-toggleable__content\"><pre>&lt;sklearn.compose._column_transformer.make_column_selector object at 0x7f49a54bd190&gt;</pre></div></div></div><div class=\"sk-serial\"><div class=\"sk-item\"><div class=\"sk-serial\"><div class=\"sk-item\"><div class=\"sk-estimator sk-toggleable\"><input class=\"sk-toggleable__control sk-hidden--visually\" id=\"567ef5db-0c6e-4e86-ac99-f6b6cf10177d\" type=\"checkbox\" ><label for=\"567ef5db-0c6e-4e86-ac99-f6b6cf10177d\" class=\"sk-toggleable__label sk-toggleable__label-arrow\">SimpleImputer</label><div class=\"sk-toggleable__content\"><pre>SimpleImputer(strategy=&#x27;most_frequent&#x27;)</pre></div></div></div><div class=\"sk-item\"><div class=\"sk-estimator sk-toggleable\"><input class=\"sk-toggleable__control sk-hidden--visually\" id=\"b8078e41-a951-4021-90bc-7f012f1abed9\" type=\"checkbox\" ><label for=\"b8078e41-a951-4021-90bc-7f012f1abed9\" class=\"sk-toggleable__label sk-toggleable__label-arrow\">OneHotEncoder</label><div class=\"sk-toggleable__content\"><pre>OneHotEncoder(handle_unknown=&#x27;ignore&#x27;, sparse=False)</pre></div></div></div></div></div></div></div></div><div class=\"sk-parallel-item\"><div class=\"sk-item\"><div class=\"sk-label-container\"><div class=\"sk-label sk-toggleable\"><input class=\"sk-toggleable__control sk-hidden--visually\" id=\"c9799e12-a8a0-469b-8837-e4e62d29638b\" type=\"checkbox\" ><label for=\"c9799e12-a8a0-469b-8837-e4e62d29638b\" class=\"sk-toggleable__label sk-toggleable__label-arrow\">remainder</label><div class=\"sk-toggleable__content\"><pre></pre></div></div></div><div class=\"sk-serial\"><div class=\"sk-item\"><div class=\"sk-estimator sk-toggleable\"><input class=\"sk-toggleable__control sk-hidden--visually\" id=\"29d06ca1-009b-442b-88c0-a85ac5f0e80f\" type=\"checkbox\" ><label for=\"29d06ca1-009b-442b-88c0-a85ac5f0e80f\" class=\"sk-toggleable__label sk-toggleable__label-arrow\">passthrough</label><div class=\"sk-toggleable__content\"><pre>passthrough</pre></div></div></div></div></div></div></div></div></div></div>"
            ]
          },
          "metadata": {},
          "execution_count": 49
        }
      ]
    },
    {
      "cell_type": "code",
      "source": [
        "preprocessor.fit(X_train)"
      ],
      "metadata": {
        "colab": {
          "base_uri": "https://localhost:8080/",
          "height": 152
        },
        "id": "QI7poH2Jwkd6",
        "outputId": "62be770b-fa70-45b9-c23a-6f081c63aa9a"
      },
      "execution_count": null,
      "outputs": [
        {
          "output_type": "execute_result",
          "data": {
            "text/plain": [
              "ColumnTransformer(remainder='passthrough',\n",
              "                  transformers=[('pipeline-1',\n",
              "                                 Pipeline(steps=[('simpleimputer',\n",
              "                                                  SimpleImputer()),\n",
              "                                                 ('standardscaler',\n",
              "                                                  StandardScaler())]),\n",
              "                                 <sklearn.compose._column_transformer.make_column_selector object at 0x7f49a54bd2b0>),\n",
              "                                ('pipeline-2',\n",
              "                                 Pipeline(steps=[('simpleimputer',\n",
              "                                                  SimpleImputer(strategy='most_frequent')),\n",
              "                                                 ('onehotencoder',\n",
              "                                                  OneHotEncoder(handle_unknown='ignore',\n",
              "                                                                sparse=False))]),\n",
              "                                 <sklearn.compose._column_transformer.make_column_selector object at 0x7f49a54bd190>)])"
            ],
            "text/html": [
              "<style>#sk-6560b6b5-477e-4499-adee-3108afa1acf8 {color: black;background-color: white;}#sk-6560b6b5-477e-4499-adee-3108afa1acf8 pre{padding: 0;}#sk-6560b6b5-477e-4499-adee-3108afa1acf8 div.sk-toggleable {background-color: white;}#sk-6560b6b5-477e-4499-adee-3108afa1acf8 label.sk-toggleable__label {cursor: pointer;display: block;width: 100%;margin-bottom: 0;padding: 0.3em;box-sizing: border-box;text-align: center;}#sk-6560b6b5-477e-4499-adee-3108afa1acf8 label.sk-toggleable__label-arrow:before {content: \"▸\";float: left;margin-right: 0.25em;color: #696969;}#sk-6560b6b5-477e-4499-adee-3108afa1acf8 label.sk-toggleable__label-arrow:hover:before {color: black;}#sk-6560b6b5-477e-4499-adee-3108afa1acf8 div.sk-estimator:hover label.sk-toggleable__label-arrow:before {color: black;}#sk-6560b6b5-477e-4499-adee-3108afa1acf8 div.sk-toggleable__content {max-height: 0;max-width: 0;overflow: hidden;text-align: left;background-color: #f0f8ff;}#sk-6560b6b5-477e-4499-adee-3108afa1acf8 div.sk-toggleable__content pre {margin: 0.2em;color: black;border-radius: 0.25em;background-color: #f0f8ff;}#sk-6560b6b5-477e-4499-adee-3108afa1acf8 input.sk-toggleable__control:checked~div.sk-toggleable__content {max-height: 200px;max-width: 100%;overflow: auto;}#sk-6560b6b5-477e-4499-adee-3108afa1acf8 input.sk-toggleable__control:checked~label.sk-toggleable__label-arrow:before {content: \"▾\";}#sk-6560b6b5-477e-4499-adee-3108afa1acf8 div.sk-estimator input.sk-toggleable__control:checked~label.sk-toggleable__label {background-color: #d4ebff;}#sk-6560b6b5-477e-4499-adee-3108afa1acf8 div.sk-label input.sk-toggleable__control:checked~label.sk-toggleable__label {background-color: #d4ebff;}#sk-6560b6b5-477e-4499-adee-3108afa1acf8 input.sk-hidden--visually {border: 0;clip: rect(1px 1px 1px 1px);clip: rect(1px, 1px, 1px, 1px);height: 1px;margin: -1px;overflow: hidden;padding: 0;position: absolute;width: 1px;}#sk-6560b6b5-477e-4499-adee-3108afa1acf8 div.sk-estimator {font-family: monospace;background-color: #f0f8ff;border: 1px dotted black;border-radius: 0.25em;box-sizing: border-box;margin-bottom: 0.5em;}#sk-6560b6b5-477e-4499-adee-3108afa1acf8 div.sk-estimator:hover {background-color: #d4ebff;}#sk-6560b6b5-477e-4499-adee-3108afa1acf8 div.sk-parallel-item::after {content: \"\";width: 100%;border-bottom: 1px solid gray;flex-grow: 1;}#sk-6560b6b5-477e-4499-adee-3108afa1acf8 div.sk-label:hover label.sk-toggleable__label {background-color: #d4ebff;}#sk-6560b6b5-477e-4499-adee-3108afa1acf8 div.sk-serial::before {content: \"\";position: absolute;border-left: 1px solid gray;box-sizing: border-box;top: 2em;bottom: 0;left: 50%;}#sk-6560b6b5-477e-4499-adee-3108afa1acf8 div.sk-serial {display: flex;flex-direction: column;align-items: center;background-color: white;padding-right: 0.2em;padding-left: 0.2em;}#sk-6560b6b5-477e-4499-adee-3108afa1acf8 div.sk-item {z-index: 1;}#sk-6560b6b5-477e-4499-adee-3108afa1acf8 div.sk-parallel {display: flex;align-items: stretch;justify-content: center;background-color: white;}#sk-6560b6b5-477e-4499-adee-3108afa1acf8 div.sk-parallel::before {content: \"\";position: absolute;border-left: 1px solid gray;box-sizing: border-box;top: 2em;bottom: 0;left: 50%;}#sk-6560b6b5-477e-4499-adee-3108afa1acf8 div.sk-parallel-item {display: flex;flex-direction: column;position: relative;background-color: white;}#sk-6560b6b5-477e-4499-adee-3108afa1acf8 div.sk-parallel-item:first-child::after {align-self: flex-end;width: 50%;}#sk-6560b6b5-477e-4499-adee-3108afa1acf8 div.sk-parallel-item:last-child::after {align-self: flex-start;width: 50%;}#sk-6560b6b5-477e-4499-adee-3108afa1acf8 div.sk-parallel-item:only-child::after {width: 0;}#sk-6560b6b5-477e-4499-adee-3108afa1acf8 div.sk-dashed-wrapped {border: 1px dashed gray;margin: 0 0.4em 0.5em 0.4em;box-sizing: border-box;padding-bottom: 0.4em;background-color: white;position: relative;}#sk-6560b6b5-477e-4499-adee-3108afa1acf8 div.sk-label label {font-family: monospace;font-weight: bold;background-color: white;display: inline-block;line-height: 1.2em;}#sk-6560b6b5-477e-4499-adee-3108afa1acf8 div.sk-label-container {position: relative;z-index: 2;text-align: center;}#sk-6560b6b5-477e-4499-adee-3108afa1acf8 div.sk-container {/* jupyter's `normalize.less` sets `[hidden] { display: none; }` but bootstrap.min.css set `[hidden] { display: none !important; }` so we also need the `!important` here to be able to override the default hidden behavior on the sphinx rendered scikit-learn.org. See: https://github.com/scikit-learn/scikit-learn/issues/21755 */display: inline-block !important;position: relative;}#sk-6560b6b5-477e-4499-adee-3108afa1acf8 div.sk-text-repr-fallback {display: none;}</style><div id=\"sk-6560b6b5-477e-4499-adee-3108afa1acf8\" class=\"sk-top-container\"><div class=\"sk-text-repr-fallback\"><pre>ColumnTransformer(remainder=&#x27;passthrough&#x27;,\n",
              "                  transformers=[(&#x27;pipeline-1&#x27;,\n",
              "                                 Pipeline(steps=[(&#x27;simpleimputer&#x27;,\n",
              "                                                  SimpleImputer()),\n",
              "                                                 (&#x27;standardscaler&#x27;,\n",
              "                                                  StandardScaler())]),\n",
              "                                 &lt;sklearn.compose._column_transformer.make_column_selector object at 0x7f49a54bd2b0&gt;),\n",
              "                                (&#x27;pipeline-2&#x27;,\n",
              "                                 Pipeline(steps=[(&#x27;simpleimputer&#x27;,\n",
              "                                                  SimpleImputer(strategy=&#x27;most_frequent&#x27;)),\n",
              "                                                 (&#x27;onehotencoder&#x27;,\n",
              "                                                  OneHotEncoder(handle_unknown=&#x27;ignore&#x27;,\n",
              "                                                                sparse=False))]),\n",
              "                                 &lt;sklearn.compose._column_transformer.make_column_selector object at 0x7f49a54bd190&gt;)])</pre><b>Please rerun this cell to show the HTML repr or trust the notebook.</b></div><div class=\"sk-container\" hidden><div class=\"sk-item sk-dashed-wrapped\"><div class=\"sk-label-container\"><div class=\"sk-label sk-toggleable\"><input class=\"sk-toggleable__control sk-hidden--visually\" id=\"f4c4cdfa-9471-434e-9590-8105a1696e34\" type=\"checkbox\" ><label for=\"f4c4cdfa-9471-434e-9590-8105a1696e34\" class=\"sk-toggleable__label sk-toggleable__label-arrow\">ColumnTransformer</label><div class=\"sk-toggleable__content\"><pre>ColumnTransformer(remainder=&#x27;passthrough&#x27;,\n",
              "                  transformers=[(&#x27;pipeline-1&#x27;,\n",
              "                                 Pipeline(steps=[(&#x27;simpleimputer&#x27;,\n",
              "                                                  SimpleImputer()),\n",
              "                                                 (&#x27;standardscaler&#x27;,\n",
              "                                                  StandardScaler())]),\n",
              "                                 &lt;sklearn.compose._column_transformer.make_column_selector object at 0x7f49a54bd2b0&gt;),\n",
              "                                (&#x27;pipeline-2&#x27;,\n",
              "                                 Pipeline(steps=[(&#x27;simpleimputer&#x27;,\n",
              "                                                  SimpleImputer(strategy=&#x27;most_frequent&#x27;)),\n",
              "                                                 (&#x27;onehotencoder&#x27;,\n",
              "                                                  OneHotEncoder(handle_unknown=&#x27;ignore&#x27;,\n",
              "                                                                sparse=False))]),\n",
              "                                 &lt;sklearn.compose._column_transformer.make_column_selector object at 0x7f49a54bd190&gt;)])</pre></div></div></div><div class=\"sk-parallel\"><div class=\"sk-parallel-item\"><div class=\"sk-item\"><div class=\"sk-label-container\"><div class=\"sk-label sk-toggleable\"><input class=\"sk-toggleable__control sk-hidden--visually\" id=\"1125c1e1-9cbc-4f81-841a-526eb51bcb84\" type=\"checkbox\" ><label for=\"1125c1e1-9cbc-4f81-841a-526eb51bcb84\" class=\"sk-toggleable__label sk-toggleable__label-arrow\">pipeline-1</label><div class=\"sk-toggleable__content\"><pre>&lt;sklearn.compose._column_transformer.make_column_selector object at 0x7f49a54bd2b0&gt;</pre></div></div></div><div class=\"sk-serial\"><div class=\"sk-item\"><div class=\"sk-serial\"><div class=\"sk-item\"><div class=\"sk-estimator sk-toggleable\"><input class=\"sk-toggleable__control sk-hidden--visually\" id=\"74f88081-bd7c-4b81-8ac8-ce0354f50ae2\" type=\"checkbox\" ><label for=\"74f88081-bd7c-4b81-8ac8-ce0354f50ae2\" class=\"sk-toggleable__label sk-toggleable__label-arrow\">SimpleImputer</label><div class=\"sk-toggleable__content\"><pre>SimpleImputer()</pre></div></div></div><div class=\"sk-item\"><div class=\"sk-estimator sk-toggleable\"><input class=\"sk-toggleable__control sk-hidden--visually\" id=\"0cb2f30c-f2e3-454d-a90d-00ea5b4a361f\" type=\"checkbox\" ><label for=\"0cb2f30c-f2e3-454d-a90d-00ea5b4a361f\" class=\"sk-toggleable__label sk-toggleable__label-arrow\">StandardScaler</label><div class=\"sk-toggleable__content\"><pre>StandardScaler()</pre></div></div></div></div></div></div></div></div><div class=\"sk-parallel-item\"><div class=\"sk-item\"><div class=\"sk-label-container\"><div class=\"sk-label sk-toggleable\"><input class=\"sk-toggleable__control sk-hidden--visually\" id=\"37645992-6e6a-4d85-972b-7e761c1f61b8\" type=\"checkbox\" ><label for=\"37645992-6e6a-4d85-972b-7e761c1f61b8\" class=\"sk-toggleable__label sk-toggleable__label-arrow\">pipeline-2</label><div class=\"sk-toggleable__content\"><pre>&lt;sklearn.compose._column_transformer.make_column_selector object at 0x7f49a54bd190&gt;</pre></div></div></div><div class=\"sk-serial\"><div class=\"sk-item\"><div class=\"sk-serial\"><div class=\"sk-item\"><div class=\"sk-estimator sk-toggleable\"><input class=\"sk-toggleable__control sk-hidden--visually\" id=\"9ba0e8cc-b789-4ce0-bed2-00f6fb524c79\" type=\"checkbox\" ><label for=\"9ba0e8cc-b789-4ce0-bed2-00f6fb524c79\" class=\"sk-toggleable__label sk-toggleable__label-arrow\">SimpleImputer</label><div class=\"sk-toggleable__content\"><pre>SimpleImputer(strategy=&#x27;most_frequent&#x27;)</pre></div></div></div><div class=\"sk-item\"><div class=\"sk-estimator sk-toggleable\"><input class=\"sk-toggleable__control sk-hidden--visually\" id=\"9f6488e4-a110-433d-9523-41ed1fd64ce4\" type=\"checkbox\" ><label for=\"9f6488e4-a110-433d-9523-41ed1fd64ce4\" class=\"sk-toggleable__label sk-toggleable__label-arrow\">OneHotEncoder</label><div class=\"sk-toggleable__content\"><pre>OneHotEncoder(handle_unknown=&#x27;ignore&#x27;, sparse=False)</pre></div></div></div></div></div></div></div></div><div class=\"sk-parallel-item\"><div class=\"sk-item\"><div class=\"sk-label-container\"><div class=\"sk-label sk-toggleable\"><input class=\"sk-toggleable__control sk-hidden--visually\" id=\"c360979a-bde7-4ffe-8fa0-da6803cdcdb6\" type=\"checkbox\" ><label for=\"c360979a-bde7-4ffe-8fa0-da6803cdcdb6\" class=\"sk-toggleable__label sk-toggleable__label-arrow\">remainder</label><div class=\"sk-toggleable__content\"><pre>[]</pre></div></div></div><div class=\"sk-serial\"><div class=\"sk-item\"><div class=\"sk-estimator sk-toggleable\"><input class=\"sk-toggleable__control sk-hidden--visually\" id=\"691f0eea-1af6-4b80-b54c-6da9bcb0b9ca\" type=\"checkbox\" ><label for=\"691f0eea-1af6-4b80-b54c-6da9bcb0b9ca\" class=\"sk-toggleable__label sk-toggleable__label-arrow\">passthrough</label><div class=\"sk-toggleable__content\"><pre>passthrough</pre></div></div></div></div></div></div></div></div></div></div>"
            ]
          },
          "metadata": {},
          "execution_count": 50
        }
      ]
    },
    {
      "cell_type": "code",
      "source": [
        "X_train_processed = preprocessor.transform(X_train)\n",
        "X_test_processed = preprocessor.transform(X_test)"
      ],
      "metadata": {
        "id": "cG8esgn-wmO3"
      },
      "execution_count": null,
      "outputs": []
    },
    {
      "cell_type": "code",
      "source": [
        "print(np.isnan(X_train_processed).sum().sum(), 'missing values in training data')\n",
        "print(np.isnan(X_test_processed).sum().sum(), 'missing values in testing data')\n",
        "print('\\n')\n",
        "print('All data in X_train_processed are', X_train_processed.dtype)\n",
        "print('All data in X_test_processed are', X_test_processed.dtype)\n",
        "print('\\n')\n",
        "print('shape of data is', X_train_processed.shape)\n",
        "print('\\n')\n",
        "X_train_processed"
      ],
      "metadata": {
        "colab": {
          "base_uri": "https://localhost:8080/"
        },
        "id": "5RDJAzATwpyb",
        "outputId": "c0b83fb6-c1b0-456d-ff4d-30074ed3bfd4"
      },
      "execution_count": null,
      "outputs": [
        {
          "output_type": "stream",
          "name": "stdout",
          "text": [
            "0 missing values in training data\n",
            "0 missing values in testing data\n",
            "\n",
            "\n",
            "All data in X_train_processed are float64\n",
            "All data in X_test_processed are float64\n",
            "\n",
            "\n",
            "shape of data is (6392, 1592)\n",
            "\n",
            "\n"
          ]
        },
        {
          "output_type": "execute_result",
          "data": {
            "text/plain": [
              "array([[ 0.81916441, -0.71277507,  1.82810922, ...,  0.        ,\n",
              "         1.        ,  0.        ],\n",
              "       [ 0.55825754, -1.29105225,  0.60336888, ...,  0.        ,\n",
              "         1.        ,  0.        ],\n",
              "       [-0.12958785,  1.81331864,  0.24454056, ...,  1.        ,\n",
              "         0.        ,  0.        ],\n",
              "       ...,\n",
              "       [ 1.11564949, -0.92052713,  1.52302674, ...,  1.        ,\n",
              "         0.        ,  0.        ],\n",
              "       [ 1.76791667, -0.2277552 , -0.38377708, ...,  1.        ,\n",
              "         0.        ,  0.        ],\n",
              "       [ 0.81916441, -0.95867683, -0.73836105, ...,  1.        ,\n",
              "         0.        ,  0.        ]])"
            ]
          },
          "metadata": {},
          "execution_count": 54
        }
      ]
    },
    {
      "cell_type": "markdown",
      "source": [
        "**Linear Regression Model**"
      ],
      "metadata": {
        "id": "B7VsBl48xF2D"
      }
    },
    {
      "cell_type": "code",
      "source": [
        "reg = LinearRegression()"
      ],
      "metadata": {
        "id": "z4TcsSKIw_DQ"
      },
      "execution_count": null,
      "outputs": []
    },
    {
      "cell_type": "code",
      "source": [
        "reg_pipe = make_pipeline(preprocessor, reg)"
      ],
      "metadata": {
        "id": "EcEn9mq-xX4g"
      },
      "execution_count": null,
      "outputs": []
    },
    {
      "cell_type": "code",
      "source": [
        "reg_pipe.fit(X_train,y_train)"
      ],
      "metadata": {
        "colab": {
          "base_uri": "https://localhost:8080/",
          "height": 227
        },
        "id": "q3fEbExPxaDk",
        "outputId": "99b7cf11-93ca-48a2-f81f-2085e35e0743"
      },
      "execution_count": null,
      "outputs": [
        {
          "output_type": "execute_result",
          "data": {
            "text/plain": [
              "Pipeline(steps=[('columntransformer',\n",
              "                 ColumnTransformer(remainder='passthrough',\n",
              "                                   transformers=[('pipeline-1',\n",
              "                                                  Pipeline(steps=[('simpleimputer',\n",
              "                                                                   SimpleImputer()),\n",
              "                                                                  ('standardscaler',\n",
              "                                                                   StandardScaler())]),\n",
              "                                                  <sklearn.compose._column_transformer.make_column_selector object at 0x7f49a54bd2b0>),\n",
              "                                                 ('pipeline-2',\n",
              "                                                  Pipeline(steps=[('simpleimputer',\n",
              "                                                                   SimpleImputer(strategy='most_frequent')),\n",
              "                                                                  ('onehotencoder',\n",
              "                                                                   OneHotEncoder(handle_unknown='ignore',\n",
              "                                                                                 sparse=False))]),\n",
              "                                                  <sklearn.compose._column_transformer.make_column_selector object at 0x7f49a54bd190>)])),\n",
              "                ('linearregression', LinearRegression())])"
            ],
            "text/html": [
              "<style>#sk-c1349966-c9d3-4b10-8abe-7e2ac254b14e {color: black;background-color: white;}#sk-c1349966-c9d3-4b10-8abe-7e2ac254b14e pre{padding: 0;}#sk-c1349966-c9d3-4b10-8abe-7e2ac254b14e div.sk-toggleable {background-color: white;}#sk-c1349966-c9d3-4b10-8abe-7e2ac254b14e label.sk-toggleable__label {cursor: pointer;display: block;width: 100%;margin-bottom: 0;padding: 0.3em;box-sizing: border-box;text-align: center;}#sk-c1349966-c9d3-4b10-8abe-7e2ac254b14e label.sk-toggleable__label-arrow:before {content: \"▸\";float: left;margin-right: 0.25em;color: #696969;}#sk-c1349966-c9d3-4b10-8abe-7e2ac254b14e label.sk-toggleable__label-arrow:hover:before {color: black;}#sk-c1349966-c9d3-4b10-8abe-7e2ac254b14e div.sk-estimator:hover label.sk-toggleable__label-arrow:before {color: black;}#sk-c1349966-c9d3-4b10-8abe-7e2ac254b14e div.sk-toggleable__content {max-height: 0;max-width: 0;overflow: hidden;text-align: left;background-color: #f0f8ff;}#sk-c1349966-c9d3-4b10-8abe-7e2ac254b14e div.sk-toggleable__content pre {margin: 0.2em;color: black;border-radius: 0.25em;background-color: #f0f8ff;}#sk-c1349966-c9d3-4b10-8abe-7e2ac254b14e input.sk-toggleable__control:checked~div.sk-toggleable__content {max-height: 200px;max-width: 100%;overflow: auto;}#sk-c1349966-c9d3-4b10-8abe-7e2ac254b14e input.sk-toggleable__control:checked~label.sk-toggleable__label-arrow:before {content: \"▾\";}#sk-c1349966-c9d3-4b10-8abe-7e2ac254b14e div.sk-estimator input.sk-toggleable__control:checked~label.sk-toggleable__label {background-color: #d4ebff;}#sk-c1349966-c9d3-4b10-8abe-7e2ac254b14e div.sk-label input.sk-toggleable__control:checked~label.sk-toggleable__label {background-color: #d4ebff;}#sk-c1349966-c9d3-4b10-8abe-7e2ac254b14e input.sk-hidden--visually {border: 0;clip: rect(1px 1px 1px 1px);clip: rect(1px, 1px, 1px, 1px);height: 1px;margin: -1px;overflow: hidden;padding: 0;position: absolute;width: 1px;}#sk-c1349966-c9d3-4b10-8abe-7e2ac254b14e div.sk-estimator {font-family: monospace;background-color: #f0f8ff;border: 1px dotted black;border-radius: 0.25em;box-sizing: border-box;margin-bottom: 0.5em;}#sk-c1349966-c9d3-4b10-8abe-7e2ac254b14e div.sk-estimator:hover {background-color: #d4ebff;}#sk-c1349966-c9d3-4b10-8abe-7e2ac254b14e div.sk-parallel-item::after {content: \"\";width: 100%;border-bottom: 1px solid gray;flex-grow: 1;}#sk-c1349966-c9d3-4b10-8abe-7e2ac254b14e div.sk-label:hover label.sk-toggleable__label {background-color: #d4ebff;}#sk-c1349966-c9d3-4b10-8abe-7e2ac254b14e div.sk-serial::before {content: \"\";position: absolute;border-left: 1px solid gray;box-sizing: border-box;top: 2em;bottom: 0;left: 50%;}#sk-c1349966-c9d3-4b10-8abe-7e2ac254b14e div.sk-serial {display: flex;flex-direction: column;align-items: center;background-color: white;padding-right: 0.2em;padding-left: 0.2em;}#sk-c1349966-c9d3-4b10-8abe-7e2ac254b14e div.sk-item {z-index: 1;}#sk-c1349966-c9d3-4b10-8abe-7e2ac254b14e div.sk-parallel {display: flex;align-items: stretch;justify-content: center;background-color: white;}#sk-c1349966-c9d3-4b10-8abe-7e2ac254b14e div.sk-parallel::before {content: \"\";position: absolute;border-left: 1px solid gray;box-sizing: border-box;top: 2em;bottom: 0;left: 50%;}#sk-c1349966-c9d3-4b10-8abe-7e2ac254b14e div.sk-parallel-item {display: flex;flex-direction: column;position: relative;background-color: white;}#sk-c1349966-c9d3-4b10-8abe-7e2ac254b14e div.sk-parallel-item:first-child::after {align-self: flex-end;width: 50%;}#sk-c1349966-c9d3-4b10-8abe-7e2ac254b14e div.sk-parallel-item:last-child::after {align-self: flex-start;width: 50%;}#sk-c1349966-c9d3-4b10-8abe-7e2ac254b14e div.sk-parallel-item:only-child::after {width: 0;}#sk-c1349966-c9d3-4b10-8abe-7e2ac254b14e div.sk-dashed-wrapped {border: 1px dashed gray;margin: 0 0.4em 0.5em 0.4em;box-sizing: border-box;padding-bottom: 0.4em;background-color: white;position: relative;}#sk-c1349966-c9d3-4b10-8abe-7e2ac254b14e div.sk-label label {font-family: monospace;font-weight: bold;background-color: white;display: inline-block;line-height: 1.2em;}#sk-c1349966-c9d3-4b10-8abe-7e2ac254b14e div.sk-label-container {position: relative;z-index: 2;text-align: center;}#sk-c1349966-c9d3-4b10-8abe-7e2ac254b14e div.sk-container {/* jupyter's `normalize.less` sets `[hidden] { display: none; }` but bootstrap.min.css set `[hidden] { display: none !important; }` so we also need the `!important` here to be able to override the default hidden behavior on the sphinx rendered scikit-learn.org. See: https://github.com/scikit-learn/scikit-learn/issues/21755 */display: inline-block !important;position: relative;}#sk-c1349966-c9d3-4b10-8abe-7e2ac254b14e div.sk-text-repr-fallback {display: none;}</style><div id=\"sk-c1349966-c9d3-4b10-8abe-7e2ac254b14e\" class=\"sk-top-container\"><div class=\"sk-text-repr-fallback\"><pre>Pipeline(steps=[(&#x27;columntransformer&#x27;,\n",
              "                 ColumnTransformer(remainder=&#x27;passthrough&#x27;,\n",
              "                                   transformers=[(&#x27;pipeline-1&#x27;,\n",
              "                                                  Pipeline(steps=[(&#x27;simpleimputer&#x27;,\n",
              "                                                                   SimpleImputer()),\n",
              "                                                                  (&#x27;standardscaler&#x27;,\n",
              "                                                                   StandardScaler())]),\n",
              "                                                  &lt;sklearn.compose._column_transformer.make_column_selector object at 0x7f49a54bd2b0&gt;),\n",
              "                                                 (&#x27;pipeline-2&#x27;,\n",
              "                                                  Pipeline(steps=[(&#x27;simpleimputer&#x27;,\n",
              "                                                                   SimpleImputer(strategy=&#x27;most_frequent&#x27;)),\n",
              "                                                                  (&#x27;onehotencoder&#x27;,\n",
              "                                                                   OneHotEncoder(handle_unknown=&#x27;ignore&#x27;,\n",
              "                                                                                 sparse=False))]),\n",
              "                                                  &lt;sklearn.compose._column_transformer.make_column_selector object at 0x7f49a54bd190&gt;)])),\n",
              "                (&#x27;linearregression&#x27;, LinearRegression())])</pre><b>Please rerun this cell to show the HTML repr or trust the notebook.</b></div><div class=\"sk-container\" hidden><div class=\"sk-item sk-dashed-wrapped\"><div class=\"sk-label-container\"><div class=\"sk-label sk-toggleable\"><input class=\"sk-toggleable__control sk-hidden--visually\" id=\"d19b62e8-2505-4280-a941-2daa3c6e6a32\" type=\"checkbox\" ><label for=\"d19b62e8-2505-4280-a941-2daa3c6e6a32\" class=\"sk-toggleable__label sk-toggleable__label-arrow\">Pipeline</label><div class=\"sk-toggleable__content\"><pre>Pipeline(steps=[(&#x27;columntransformer&#x27;,\n",
              "                 ColumnTransformer(remainder=&#x27;passthrough&#x27;,\n",
              "                                   transformers=[(&#x27;pipeline-1&#x27;,\n",
              "                                                  Pipeline(steps=[(&#x27;simpleimputer&#x27;,\n",
              "                                                                   SimpleImputer()),\n",
              "                                                                  (&#x27;standardscaler&#x27;,\n",
              "                                                                   StandardScaler())]),\n",
              "                                                  &lt;sklearn.compose._column_transformer.make_column_selector object at 0x7f49a54bd2b0&gt;),\n",
              "                                                 (&#x27;pipeline-2&#x27;,\n",
              "                                                  Pipeline(steps=[(&#x27;simpleimputer&#x27;,\n",
              "                                                                   SimpleImputer(strategy=&#x27;most_frequent&#x27;)),\n",
              "                                                                  (&#x27;onehotencoder&#x27;,\n",
              "                                                                   OneHotEncoder(handle_unknown=&#x27;ignore&#x27;,\n",
              "                                                                                 sparse=False))]),\n",
              "                                                  &lt;sklearn.compose._column_transformer.make_column_selector object at 0x7f49a54bd190&gt;)])),\n",
              "                (&#x27;linearregression&#x27;, LinearRegression())])</pre></div></div></div><div class=\"sk-serial\"><div class=\"sk-item sk-dashed-wrapped\"><div class=\"sk-label-container\"><div class=\"sk-label sk-toggleable\"><input class=\"sk-toggleable__control sk-hidden--visually\" id=\"4bfdcdc2-9978-4bc4-9e56-49ff979f31ae\" type=\"checkbox\" ><label for=\"4bfdcdc2-9978-4bc4-9e56-49ff979f31ae\" class=\"sk-toggleable__label sk-toggleable__label-arrow\">columntransformer: ColumnTransformer</label><div class=\"sk-toggleable__content\"><pre>ColumnTransformer(remainder=&#x27;passthrough&#x27;,\n",
              "                  transformers=[(&#x27;pipeline-1&#x27;,\n",
              "                                 Pipeline(steps=[(&#x27;simpleimputer&#x27;,\n",
              "                                                  SimpleImputer()),\n",
              "                                                 (&#x27;standardscaler&#x27;,\n",
              "                                                  StandardScaler())]),\n",
              "                                 &lt;sklearn.compose._column_transformer.make_column_selector object at 0x7f49a54bd2b0&gt;),\n",
              "                                (&#x27;pipeline-2&#x27;,\n",
              "                                 Pipeline(steps=[(&#x27;simpleimputer&#x27;,\n",
              "                                                  SimpleImputer(strategy=&#x27;most_frequent&#x27;)),\n",
              "                                                 (&#x27;onehotencoder&#x27;,\n",
              "                                                  OneHotEncoder(handle_unknown=&#x27;ignore&#x27;,\n",
              "                                                                sparse=False))]),\n",
              "                                 &lt;sklearn.compose._column_transformer.make_column_selector object at 0x7f49a54bd190&gt;)])</pre></div></div></div><div class=\"sk-parallel\"><div class=\"sk-parallel-item\"><div class=\"sk-item\"><div class=\"sk-label-container\"><div class=\"sk-label sk-toggleable\"><input class=\"sk-toggleable__control sk-hidden--visually\" id=\"098a0276-e980-46df-81dc-2122e2c9be0f\" type=\"checkbox\" ><label for=\"098a0276-e980-46df-81dc-2122e2c9be0f\" class=\"sk-toggleable__label sk-toggleable__label-arrow\">pipeline-1</label><div class=\"sk-toggleable__content\"><pre>&lt;sklearn.compose._column_transformer.make_column_selector object at 0x7f49a54bd2b0&gt;</pre></div></div></div><div class=\"sk-serial\"><div class=\"sk-item\"><div class=\"sk-serial\"><div class=\"sk-item\"><div class=\"sk-estimator sk-toggleable\"><input class=\"sk-toggleable__control sk-hidden--visually\" id=\"b8b7dbea-e4fa-41d9-96d9-0775da0be163\" type=\"checkbox\" ><label for=\"b8b7dbea-e4fa-41d9-96d9-0775da0be163\" class=\"sk-toggleable__label sk-toggleable__label-arrow\">SimpleImputer</label><div class=\"sk-toggleable__content\"><pre>SimpleImputer()</pre></div></div></div><div class=\"sk-item\"><div class=\"sk-estimator sk-toggleable\"><input class=\"sk-toggleable__control sk-hidden--visually\" id=\"48a2a660-00b4-4a94-881a-9f14f3f21b44\" type=\"checkbox\" ><label for=\"48a2a660-00b4-4a94-881a-9f14f3f21b44\" class=\"sk-toggleable__label sk-toggleable__label-arrow\">StandardScaler</label><div class=\"sk-toggleable__content\"><pre>StandardScaler()</pre></div></div></div></div></div></div></div></div><div class=\"sk-parallel-item\"><div class=\"sk-item\"><div class=\"sk-label-container\"><div class=\"sk-label sk-toggleable\"><input class=\"sk-toggleable__control sk-hidden--visually\" id=\"e8a0d432-d0ea-44be-bfe6-fc3cb9dc1d2f\" type=\"checkbox\" ><label for=\"e8a0d432-d0ea-44be-bfe6-fc3cb9dc1d2f\" class=\"sk-toggleable__label sk-toggleable__label-arrow\">pipeline-2</label><div class=\"sk-toggleable__content\"><pre>&lt;sklearn.compose._column_transformer.make_column_selector object at 0x7f49a54bd190&gt;</pre></div></div></div><div class=\"sk-serial\"><div class=\"sk-item\"><div class=\"sk-serial\"><div class=\"sk-item\"><div class=\"sk-estimator sk-toggleable\"><input class=\"sk-toggleable__control sk-hidden--visually\" id=\"3a709794-ac48-4cc3-b056-db80e1e7a343\" type=\"checkbox\" ><label for=\"3a709794-ac48-4cc3-b056-db80e1e7a343\" class=\"sk-toggleable__label sk-toggleable__label-arrow\">SimpleImputer</label><div class=\"sk-toggleable__content\"><pre>SimpleImputer(strategy=&#x27;most_frequent&#x27;)</pre></div></div></div><div class=\"sk-item\"><div class=\"sk-estimator sk-toggleable\"><input class=\"sk-toggleable__control sk-hidden--visually\" id=\"0044f643-be4f-45df-ba95-977d9dba115f\" type=\"checkbox\" ><label for=\"0044f643-be4f-45df-ba95-977d9dba115f\" class=\"sk-toggleable__label sk-toggleable__label-arrow\">OneHotEncoder</label><div class=\"sk-toggleable__content\"><pre>OneHotEncoder(handle_unknown=&#x27;ignore&#x27;, sparse=False)</pre></div></div></div></div></div></div></div></div><div class=\"sk-parallel-item\"><div class=\"sk-item\"><div class=\"sk-label-container\"><div class=\"sk-label sk-toggleable\"><input class=\"sk-toggleable__control sk-hidden--visually\" id=\"4917f10a-f868-4f04-94d1-c0f4193349ba\" type=\"checkbox\" ><label for=\"4917f10a-f868-4f04-94d1-c0f4193349ba\" class=\"sk-toggleable__label sk-toggleable__label-arrow\">remainder</label><div class=\"sk-toggleable__content\"><pre>[]</pre></div></div></div><div class=\"sk-serial\"><div class=\"sk-item\"><div class=\"sk-estimator sk-toggleable\"><input class=\"sk-toggleable__control sk-hidden--visually\" id=\"a1de9eee-3136-4448-8e93-0e70871a8cc9\" type=\"checkbox\" ><label for=\"a1de9eee-3136-4448-8e93-0e70871a8cc9\" class=\"sk-toggleable__label sk-toggleable__label-arrow\">passthrough</label><div class=\"sk-toggleable__content\"><pre>passthrough</pre></div></div></div></div></div></div></div></div><div class=\"sk-item\"><div class=\"sk-estimator sk-toggleable\"><input class=\"sk-toggleable__control sk-hidden--visually\" id=\"3107f60b-39b1-4379-8de4-59892c96b3bd\" type=\"checkbox\" ><label for=\"3107f60b-39b1-4379-8de4-59892c96b3bd\" class=\"sk-toggleable__label sk-toggleable__label-arrow\">LinearRegression</label><div class=\"sk-toggleable__content\"><pre>LinearRegression()</pre></div></div></div></div></div></div></div>"
            ]
          },
          "metadata": {},
          "execution_count": 57
        }
      ]
    },
    {
      "cell_type": "code",
      "source": [
        "train_pred = reg_pipe.predict(X_train)\n",
        "test_pred = reg_pipe.predict(X_test)"
      ],
      "metadata": {
        "id": "jOshluX2xdgR"
      },
      "execution_count": null,
      "outputs": []
    },
    {
      "cell_type": "code",
      "source": [
        "#Evaluating R2 Score\n",
        "train_r2 = np.corrcoef(y_train,train_pred)[0][1]**2\n",
        "test_r2 = np.corrcoef(y_test, test_pred)[0][1]**2\n",
        "print(f'Model Training R2: {train_r2}')\n",
        "print(f'Model Testing R2: {test_r2}')"
      ],
      "metadata": {
        "colab": {
          "base_uri": "https://localhost:8080/"
        },
        "id": "MjF6mKe6xhZe",
        "outputId": "4391ad25-6a56-43dd-9ced-7c66929d00e1"
      },
      "execution_count": null,
      "outputs": [
        {
          "output_type": "stream",
          "name": "stdout",
          "text": [
            "Model Training R2: 0.6715939060285185\n",
            "Model Testing R2: 3.3670670528059e-06\n"
          ]
        }
      ]
    },
    {
      "cell_type": "code",
      "source": [
        "#Evaluating RMSE\n",
        "train_RMSE=np.sqrt(np.mean(np.abs(train_pred-y_train)**2))\n",
        "test_RMSE=np.sqrt(np.mean(test_pred-y_test)**2)\n",
        "print(f'Model Training RMSE:{train_RMSE}')\n",
        "print(f'Model Testing RMSE:{test_RMSE}')"
      ],
      "metadata": {
        "colab": {
          "base_uri": "https://localhost:8080/"
        },
        "id": "i3QsRYD4xnQe",
        "outputId": "7e9a667b-8708-4262-c579-5bd263fc78aa"
      },
      "execution_count": null,
      "outputs": [
        {
          "output_type": "stream",
          "name": "stdout",
          "text": [
            "Model Training RMSE:985.8522013513891\n",
            "Model Testing RMSE:138913693735.8824\n"
          ]
        }
      ]
    },
    {
      "cell_type": "markdown",
      "source": [
        "**Regression Tree Model**"
      ],
      "metadata": {
        "id": "u57FZyS-x1fE"
      }
    },
    {
      "cell_type": "code",
      "source": [
        "from sklearn.tree import DecisionTreeRegressor"
      ],
      "metadata": {
        "id": "fFIvu0Cmx48n"
      },
      "execution_count": null,
      "outputs": []
    },
    {
      "cell_type": "code",
      "source": [
        "dec_tree = DecisionTreeRegressor(random_state = 42)\n",
        "dec_tree.fit(X_train_processed, y_train)"
      ],
      "metadata": {
        "colab": {
          "base_uri": "https://localhost:8080/",
          "height": 75
        },
        "id": "VixNN_kOx8h2",
        "outputId": "2b2053fd-4b54-4fdf-b5b8-cd1ed45a2e6c"
      },
      "execution_count": null,
      "outputs": [
        {
          "output_type": "execute_result",
          "data": {
            "text/plain": [
              "DecisionTreeRegressor(random_state=42)"
            ],
            "text/html": [
              "<style>#sk-0dd8b45a-402c-415b-991c-17702b725b84 {color: black;background-color: white;}#sk-0dd8b45a-402c-415b-991c-17702b725b84 pre{padding: 0;}#sk-0dd8b45a-402c-415b-991c-17702b725b84 div.sk-toggleable {background-color: white;}#sk-0dd8b45a-402c-415b-991c-17702b725b84 label.sk-toggleable__label {cursor: pointer;display: block;width: 100%;margin-bottom: 0;padding: 0.3em;box-sizing: border-box;text-align: center;}#sk-0dd8b45a-402c-415b-991c-17702b725b84 label.sk-toggleable__label-arrow:before {content: \"▸\";float: left;margin-right: 0.25em;color: #696969;}#sk-0dd8b45a-402c-415b-991c-17702b725b84 label.sk-toggleable__label-arrow:hover:before {color: black;}#sk-0dd8b45a-402c-415b-991c-17702b725b84 div.sk-estimator:hover label.sk-toggleable__label-arrow:before {color: black;}#sk-0dd8b45a-402c-415b-991c-17702b725b84 div.sk-toggleable__content {max-height: 0;max-width: 0;overflow: hidden;text-align: left;background-color: #f0f8ff;}#sk-0dd8b45a-402c-415b-991c-17702b725b84 div.sk-toggleable__content pre {margin: 0.2em;color: black;border-radius: 0.25em;background-color: #f0f8ff;}#sk-0dd8b45a-402c-415b-991c-17702b725b84 input.sk-toggleable__control:checked~div.sk-toggleable__content {max-height: 200px;max-width: 100%;overflow: auto;}#sk-0dd8b45a-402c-415b-991c-17702b725b84 input.sk-toggleable__control:checked~label.sk-toggleable__label-arrow:before {content: \"▾\";}#sk-0dd8b45a-402c-415b-991c-17702b725b84 div.sk-estimator input.sk-toggleable__control:checked~label.sk-toggleable__label {background-color: #d4ebff;}#sk-0dd8b45a-402c-415b-991c-17702b725b84 div.sk-label input.sk-toggleable__control:checked~label.sk-toggleable__label {background-color: #d4ebff;}#sk-0dd8b45a-402c-415b-991c-17702b725b84 input.sk-hidden--visually {border: 0;clip: rect(1px 1px 1px 1px);clip: rect(1px, 1px, 1px, 1px);height: 1px;margin: -1px;overflow: hidden;padding: 0;position: absolute;width: 1px;}#sk-0dd8b45a-402c-415b-991c-17702b725b84 div.sk-estimator {font-family: monospace;background-color: #f0f8ff;border: 1px dotted black;border-radius: 0.25em;box-sizing: border-box;margin-bottom: 0.5em;}#sk-0dd8b45a-402c-415b-991c-17702b725b84 div.sk-estimator:hover {background-color: #d4ebff;}#sk-0dd8b45a-402c-415b-991c-17702b725b84 div.sk-parallel-item::after {content: \"\";width: 100%;border-bottom: 1px solid gray;flex-grow: 1;}#sk-0dd8b45a-402c-415b-991c-17702b725b84 div.sk-label:hover label.sk-toggleable__label {background-color: #d4ebff;}#sk-0dd8b45a-402c-415b-991c-17702b725b84 div.sk-serial::before {content: \"\";position: absolute;border-left: 1px solid gray;box-sizing: border-box;top: 2em;bottom: 0;left: 50%;}#sk-0dd8b45a-402c-415b-991c-17702b725b84 div.sk-serial {display: flex;flex-direction: column;align-items: center;background-color: white;padding-right: 0.2em;padding-left: 0.2em;}#sk-0dd8b45a-402c-415b-991c-17702b725b84 div.sk-item {z-index: 1;}#sk-0dd8b45a-402c-415b-991c-17702b725b84 div.sk-parallel {display: flex;align-items: stretch;justify-content: center;background-color: white;}#sk-0dd8b45a-402c-415b-991c-17702b725b84 div.sk-parallel::before {content: \"\";position: absolute;border-left: 1px solid gray;box-sizing: border-box;top: 2em;bottom: 0;left: 50%;}#sk-0dd8b45a-402c-415b-991c-17702b725b84 div.sk-parallel-item {display: flex;flex-direction: column;position: relative;background-color: white;}#sk-0dd8b45a-402c-415b-991c-17702b725b84 div.sk-parallel-item:first-child::after {align-self: flex-end;width: 50%;}#sk-0dd8b45a-402c-415b-991c-17702b725b84 div.sk-parallel-item:last-child::after {align-self: flex-start;width: 50%;}#sk-0dd8b45a-402c-415b-991c-17702b725b84 div.sk-parallel-item:only-child::after {width: 0;}#sk-0dd8b45a-402c-415b-991c-17702b725b84 div.sk-dashed-wrapped {border: 1px dashed gray;margin: 0 0.4em 0.5em 0.4em;box-sizing: border-box;padding-bottom: 0.4em;background-color: white;position: relative;}#sk-0dd8b45a-402c-415b-991c-17702b725b84 div.sk-label label {font-family: monospace;font-weight: bold;background-color: white;display: inline-block;line-height: 1.2em;}#sk-0dd8b45a-402c-415b-991c-17702b725b84 div.sk-label-container {position: relative;z-index: 2;text-align: center;}#sk-0dd8b45a-402c-415b-991c-17702b725b84 div.sk-container {/* jupyter's `normalize.less` sets `[hidden] { display: none; }` but bootstrap.min.css set `[hidden] { display: none !important; }` so we also need the `!important` here to be able to override the default hidden behavior on the sphinx rendered scikit-learn.org. See: https://github.com/scikit-learn/scikit-learn/issues/21755 */display: inline-block !important;position: relative;}#sk-0dd8b45a-402c-415b-991c-17702b725b84 div.sk-text-repr-fallback {display: none;}</style><div id=\"sk-0dd8b45a-402c-415b-991c-17702b725b84\" class=\"sk-top-container\"><div class=\"sk-text-repr-fallback\"><pre>DecisionTreeRegressor(random_state=42)</pre><b>Please rerun this cell to show the HTML repr or trust the notebook.</b></div><div class=\"sk-container\" hidden><div class=\"sk-item\"><div class=\"sk-estimator sk-toggleable\"><input class=\"sk-toggleable__control sk-hidden--visually\" id=\"dedf1129-0f89-4326-8cc3-17ecabef5962\" type=\"checkbox\" checked><label for=\"dedf1129-0f89-4326-8cc3-17ecabef5962\" class=\"sk-toggleable__label sk-toggleable__label-arrow\">DecisionTreeRegressor</label><div class=\"sk-toggleable__content\"><pre>DecisionTreeRegressor(random_state=42)</pre></div></div></div></div></div>"
            ]
          },
          "metadata": {},
          "execution_count": 63
        }
      ]
    },
    {
      "cell_type": "code",
      "source": [
        "train_preds = dec_tree.predict(X_train_processed)\n",
        "test_preds = dec_tree.predict(X_test_processed)"
      ],
      "metadata": {
        "id": "6lnN6Si_yELN"
      },
      "execution_count": null,
      "outputs": []
    },
    {
      "cell_type": "code",
      "source": [
        "#Evaluate R2 Socore and RMSE\n",
        "train_score = dec_tree.score(X_train_processed, y_train)\n",
        "test_score = dec_tree.score(X_test_processed, y_test)\n",
        "print(train_score)\n",
        "print(test_score)"
      ],
      "metadata": {
        "colab": {
          "base_uri": "https://localhost:8080/"
        },
        "id": "Ix4RvvSFyFHP",
        "outputId": "d5f0c86d-1fb6-43bc-ee93-5e69d95cbbae"
      },
      "execution_count": null,
      "outputs": [
        {
          "output_type": "stream",
          "name": "stdout",
          "text": [
            "1.0\n",
            "0.22416476054175138\n"
          ]
        }
      ]
    },
    {
      "cell_type": "code",
      "source": [
        "depths = list(range(2, 36))\n",
        "scores = pd.DataFrame(index = depths, columns=['Test Score','Train Score'])\n",
        "for depth in depths:\n",
        "  dec_tree = DecisionTreeRegressor(max_depth=depth, random_state=42)\n",
        "  dec_tree.fit(X_train_processed,y_train)\n",
        "  train_score = dec_tree.score(X_train_processed,y_train)\n",
        "  test_score = dec_tree.score(X_test_processed,y_test)\n",
        "  scores.loc[depth, 'Train Score']= train_score\n",
        "  scores.loc[depth, 'Test Score']= test_score"
      ],
      "metadata": {
        "id": "F9gmixzGyvv5"
      },
      "execution_count": null,
      "outputs": []
    },
    {
      "cell_type": "code",
      "source": [
        "sorted_scores = scores.sort_values(by='Test Score', ascending=False)\n",
        "sorted_scores.head()"
      ],
      "metadata": {
        "colab": {
          "base_uri": "https://localhost:8080/",
          "height": 206
        },
        "id": "zUQR1l3yy_kG",
        "outputId": "316a41a7-fef4-434c-9329-6d9c15d0ecd4"
      },
      "execution_count": null,
      "outputs": [
        {
          "output_type": "execute_result",
          "data": {
            "text/plain": [
              "  Test Score Train Score\n",
              "5   0.596056    0.604207\n",
              "6   0.584668    0.615702\n",
              "4   0.583937    0.582705\n",
              "7   0.577712    0.629269\n",
              "8   0.561577    0.641334"
            ],
            "text/html": [
              "\n",
              "  <div id=\"df-db2b620c-76f6-4853-8c70-fbfb105998f3\">\n",
              "    <div class=\"colab-df-container\">\n",
              "      <div>\n",
              "<style scoped>\n",
              "    .dataframe tbody tr th:only-of-type {\n",
              "        vertical-align: middle;\n",
              "    }\n",
              "\n",
              "    .dataframe tbody tr th {\n",
              "        vertical-align: top;\n",
              "    }\n",
              "\n",
              "    .dataframe thead th {\n",
              "        text-align: right;\n",
              "    }\n",
              "</style>\n",
              "<table border=\"1\" class=\"dataframe\">\n",
              "  <thead>\n",
              "    <tr style=\"text-align: right;\">\n",
              "      <th></th>\n",
              "      <th>Test Score</th>\n",
              "      <th>Train Score</th>\n",
              "    </tr>\n",
              "  </thead>\n",
              "  <tbody>\n",
              "    <tr>\n",
              "      <th>5</th>\n",
              "      <td>0.596056</td>\n",
              "      <td>0.604207</td>\n",
              "    </tr>\n",
              "    <tr>\n",
              "      <th>6</th>\n",
              "      <td>0.584668</td>\n",
              "      <td>0.615702</td>\n",
              "    </tr>\n",
              "    <tr>\n",
              "      <th>4</th>\n",
              "      <td>0.583937</td>\n",
              "      <td>0.582705</td>\n",
              "    </tr>\n",
              "    <tr>\n",
              "      <th>7</th>\n",
              "      <td>0.577712</td>\n",
              "      <td>0.629269</td>\n",
              "    </tr>\n",
              "    <tr>\n",
              "      <th>8</th>\n",
              "      <td>0.561577</td>\n",
              "      <td>0.641334</td>\n",
              "    </tr>\n",
              "  </tbody>\n",
              "</table>\n",
              "</div>\n",
              "      <button class=\"colab-df-convert\" onclick=\"convertToInteractive('df-db2b620c-76f6-4853-8c70-fbfb105998f3')\"\n",
              "              title=\"Convert this dataframe to an interactive table.\"\n",
              "              style=\"display:none;\">\n",
              "        \n",
              "  <svg xmlns=\"http://www.w3.org/2000/svg\" height=\"24px\"viewBox=\"0 0 24 24\"\n",
              "       width=\"24px\">\n",
              "    <path d=\"M0 0h24v24H0V0z\" fill=\"none\"/>\n",
              "    <path d=\"M18.56 5.44l.94 2.06.94-2.06 2.06-.94-2.06-.94-.94-2.06-.94 2.06-2.06.94zm-11 1L8.5 8.5l.94-2.06 2.06-.94-2.06-.94L8.5 2.5l-.94 2.06-2.06.94zm10 10l.94 2.06.94-2.06 2.06-.94-2.06-.94-.94-2.06-.94 2.06-2.06.94z\"/><path d=\"M17.41 7.96l-1.37-1.37c-.4-.4-.92-.59-1.43-.59-.52 0-1.04.2-1.43.59L10.3 9.45l-7.72 7.72c-.78.78-.78 2.05 0 2.83L4 21.41c.39.39.9.59 1.41.59.51 0 1.02-.2 1.41-.59l7.78-7.78 2.81-2.81c.8-.78.8-2.07 0-2.86zM5.41 20L4 18.59l7.72-7.72 1.47 1.35L5.41 20z\"/>\n",
              "  </svg>\n",
              "      </button>\n",
              "      \n",
              "  <style>\n",
              "    .colab-df-container {\n",
              "      display:flex;\n",
              "      flex-wrap:wrap;\n",
              "      gap: 12px;\n",
              "    }\n",
              "\n",
              "    .colab-df-convert {\n",
              "      background-color: #E8F0FE;\n",
              "      border: none;\n",
              "      border-radius: 50%;\n",
              "      cursor: pointer;\n",
              "      display: none;\n",
              "      fill: #1967D2;\n",
              "      height: 32px;\n",
              "      padding: 0 0 0 0;\n",
              "      width: 32px;\n",
              "    }\n",
              "\n",
              "    .colab-df-convert:hover {\n",
              "      background-color: #E2EBFA;\n",
              "      box-shadow: 0px 1px 2px rgba(60, 64, 67, 0.3), 0px 1px 3px 1px rgba(60, 64, 67, 0.15);\n",
              "      fill: #174EA6;\n",
              "    }\n",
              "\n",
              "    [theme=dark] .colab-df-convert {\n",
              "      background-color: #3B4455;\n",
              "      fill: #D2E3FC;\n",
              "    }\n",
              "\n",
              "    [theme=dark] .colab-df-convert:hover {\n",
              "      background-color: #434B5C;\n",
              "      box-shadow: 0px 1px 3px 1px rgba(0, 0, 0, 0.15);\n",
              "      filter: drop-shadow(0px 1px 2px rgba(0, 0, 0, 0.3));\n",
              "      fill: #FFFFFF;\n",
              "    }\n",
              "  </style>\n",
              "\n",
              "      <script>\n",
              "        const buttonEl =\n",
              "          document.querySelector('#df-db2b620c-76f6-4853-8c70-fbfb105998f3 button.colab-df-convert');\n",
              "        buttonEl.style.display =\n",
              "          google.colab.kernel.accessAllowed ? 'block' : 'none';\n",
              "\n",
              "        async function convertToInteractive(key) {\n",
              "          const element = document.querySelector('#df-db2b620c-76f6-4853-8c70-fbfb105998f3');\n",
              "          const dataTable =\n",
              "            await google.colab.kernel.invokeFunction('convertToInteractive',\n",
              "                                                     [key], {});\n",
              "          if (!dataTable) return;\n",
              "\n",
              "          const docLinkHtml = 'Like what you see? Visit the ' +\n",
              "            '<a target=\"_blank\" href=https://colab.research.google.com/notebooks/data_table.ipynb>data table notebook</a>'\n",
              "            + ' to learn more about interactive tables.';\n",
              "          element.innerHTML = '';\n",
              "          dataTable['output_type'] = 'display_data';\n",
              "          await google.colab.output.renderOutput(dataTable, element);\n",
              "          const docLink = document.createElement('div');\n",
              "          docLink.innerHTML = docLinkHtml;\n",
              "          element.appendChild(docLink);\n",
              "        }\n",
              "      </script>\n",
              "    </div>\n",
              "  </div>\n",
              "  "
            ]
          },
          "metadata": {},
          "execution_count": 68
        }
      ]
    },
    {
      "cell_type": "code",
      "source": [
        "def eval_regression(true, pred):\n",
        "  \"\"\"Takes true and predicted values (arrays) and prints MAE, MSE, RMSE and R2\"\"\"\n",
        "  mae = mean_absolute_error(true, pred)\n",
        "  mse = mean_squared_error(true, pred)\n",
        "  rmse = np.sqrt(mse)\n",
        "  r2 = r2_score(true, pred)\n",
        "\n",
        "  print(f'MAE {mae},\\n MSE {mse},\\n RMSE: {rmse},\\n R^2: {r2} ')"
      ],
      "metadata": {
        "id": "afoJhTPMzQrB"
      },
      "execution_count": null,
      "outputs": []
    },
    {
      "cell_type": "code",
      "source": [
        "eval_regression(y_train, train_pred)"
      ],
      "metadata": {
        "colab": {
          "base_uri": "https://localhost:8080/"
        },
        "id": "0SgsG3-czRM2",
        "outputId": "e17a3136-2752-42dd-de07-6c2c1e492658"
      },
      "execution_count": null,
      "outputs": [
        {
          "output_type": "stream",
          "name": "stdout",
          "text": [
            "MAE 736.1796195244054,\n",
            " MSE 971904.56290938,\n",
            " RMSE: 985.8522013513891,\n",
            " R^2: 0.6715934753060069 \n"
          ]
        }
      ]
    },
    {
      "cell_type": "code",
      "source": [
        "eval_regression(y_test, test_pred)"
      ],
      "metadata": {
        "colab": {
          "base_uri": "https://localhost:8080/"
        },
        "id": "HzpMONbIzTCg",
        "outputId": "9b20f88f-8e7e-4288-bfc2-10a9fd72dad0"
      },
      "execution_count": null,
      "outputs": [
        {
          "output_type": "stream",
          "name": "stdout",
          "text": [
            "MAE 197494876674.18417,\n",
            " MSE 9.16474108577151e+24,\n",
            " RMSE: 3027332338176.8823,\n",
            " R^2: -3.32178924642665e+18 \n"
          ]
        }
      ]
    },
    {
      "cell_type": "markdown",
      "source": [
        "# **Conclusion**\n",
        "\n",
        "With a negative R2 score, you can safely assume that the model is a very poor fit to the data and a super large RMSE will only confirm that."
      ],
      "metadata": {
        "id": "gkunGT_cKsSM"
      }
    }
  ]
}